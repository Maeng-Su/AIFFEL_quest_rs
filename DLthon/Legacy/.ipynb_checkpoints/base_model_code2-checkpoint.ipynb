{
 "cells": [
  {
   "cell_type": "code",
   "execution_count": 1,
   "metadata": {},
   "outputs": [],
   "source": [
    "import pandas as pd\n",
    "import numpy as np\n",
    "import tensorflow as tf\n",
    "import re\n",
    "import tensorflow_datasets as tfds"
   ]
  },
  {
   "cell_type": "markdown",
   "metadata": {},
   "source": [
    "# 데이터 불러오기"
   ]
  },
  {
   "cell_type": "code",
   "execution_count": 43,
   "metadata": {},
   "outputs": [],
   "source": [
    "# train, test 데이터 불러오기\n",
    "\n",
    "train_path = './data/train.csv' # 필요에 따라 변경하세요.\n",
    "test_path = './data/test.csv' # 필요에 따라 변경하세요.\n",
    "train_normal_data_path = './data/일반대화 합성데이터(GPT-4o, AIhub 참고).csv'\n",
    "\n",
    "def load_data(file_path):\n",
    "    df = pd.read_csv(file_path)\n",
    "    \n",
    "    return df\n",
    "\n",
    "train_df = load_data(train_path)\n",
    "test_df = load_data(test_path)\n",
    "normal_df = load_data(train_normal_data_path)"
   ]
  },
  {
   "cell_type": "code",
   "execution_count": 44,
   "metadata": {},
   "outputs": [
    {
     "data": {
      "text/plain": [
       "((3950, 3), (500, 2), (1000, 3))"
      ]
     },
     "execution_count": 44,
     "metadata": {},
     "output_type": "execute_result"
    }
   ],
   "source": [
    "# 데이터 확인\n",
    "train_df.shape, test_df.shape, normal_df.shape"
   ]
  },
  {
   "cell_type": "code",
   "execution_count": 45,
   "metadata": {},
   "outputs": [
    {
     "data": {
      "text/html": [
       "<div>\n",
       "<style scoped>\n",
       "    .dataframe tbody tr th:only-of-type {\n",
       "        vertical-align: middle;\n",
       "    }\n",
       "\n",
       "    .dataframe tbody tr th {\n",
       "        vertical-align: top;\n",
       "    }\n",
       "\n",
       "    .dataframe thead th {\n",
       "        text-align: right;\n",
       "    }\n",
       "</style>\n",
       "<table border=\"1\" class=\"dataframe\">\n",
       "  <thead>\n",
       "    <tr style=\"text-align: right;\">\n",
       "      <th></th>\n",
       "      <th>index</th>\n",
       "      <th>class</th>\n",
       "      <th>conversation</th>\n",
       "    </tr>\n",
       "  </thead>\n",
       "  <tbody>\n",
       "    <tr>\n",
       "      <th>0</th>\n",
       "      <td>0</td>\n",
       "      <td>협박 대화</td>\n",
       "      <td>지금 너 스스로를 죽여달라고 애원하는 것인가?\\n 아닙니다. 죄송합니다.\\n 죽을 ...</td>\n",
       "    </tr>\n",
       "    <tr>\n",
       "      <th>1</th>\n",
       "      <td>1</td>\n",
       "      <td>협박 대화</td>\n",
       "      <td>길동경찰서입니다.\\n9시 40분 마트에 폭발물을 설치할거다.\\n네?\\n똑바로 들어 ...</td>\n",
       "    </tr>\n",
       "    <tr>\n",
       "      <th>2</th>\n",
       "      <td>2</td>\n",
       "      <td>기타 괴롭힘 대화</td>\n",
       "      <td>너 되게 귀여운거 알지? 나보다 작은 남자는 첨봤어.\\n그만해. 니들 놀리는거 재미...</td>\n",
       "    </tr>\n",
       "    <tr>\n",
       "      <th>3</th>\n",
       "      <td>3</td>\n",
       "      <td>갈취 대화</td>\n",
       "      <td>어이 거기\\n예??\\n너 말이야 너. 이리 오라고\\n무슨 일.\\n너 옷 좋아보인다?...</td>\n",
       "    </tr>\n",
       "    <tr>\n",
       "      <th>4</th>\n",
       "      <td>4</td>\n",
       "      <td>갈취 대화</td>\n",
       "      <td>저기요 혹시 날이 너무 뜨겁잖아요? 저희 회사에서 이 선크림 파는데 한 번 손등에 ...</td>\n",
       "    </tr>\n",
       "  </tbody>\n",
       "</table>\n",
       "</div>"
      ],
      "text/plain": [
       "   index      class                                       conversation\n",
       "0      0      협박 대화  지금 너 스스로를 죽여달라고 애원하는 것인가?\\n 아닙니다. 죄송합니다.\\n 죽을 ...\n",
       "1      1      협박 대화  길동경찰서입니다.\\n9시 40분 마트에 폭발물을 설치할거다.\\n네?\\n똑바로 들어 ...\n",
       "2      2  기타 괴롭힘 대화  너 되게 귀여운거 알지? 나보다 작은 남자는 첨봤어.\\n그만해. 니들 놀리는거 재미...\n",
       "3      3      갈취 대화  어이 거기\\n예??\\n너 말이야 너. 이리 오라고\\n무슨 일.\\n너 옷 좋아보인다?...\n",
       "4      4      갈취 대화  저기요 혹시 날이 너무 뜨겁잖아요? 저희 회사에서 이 선크림 파는데 한 번 손등에 ..."
      ]
     },
     "execution_count": 45,
     "metadata": {},
     "output_type": "execute_result"
    }
   ],
   "source": [
    "# train data 와 normal 데이터 합치기\n",
    "def concat_train_normal(train_df, normal_df):\n",
    "    train_df = pd.concat([train_df, normal_df], ignore_index=True)\n",
    "    train_df.drop(['idx'], axis=1, inplace=True)\n",
    "    train_df.reset_index(inplace=True)\n",
    "\n",
    "    return train_df\n",
    "\n",
    "train_df = concat_train_normal(train_df, normal_df)\n",
    "train_df.head()"
   ]
  },
  {
   "cell_type": "code",
   "execution_count": 46,
   "metadata": {},
   "outputs": [
    {
     "data": {
      "text/html": [
       "<div>\n",
       "<style scoped>\n",
       "    .dataframe tbody tr th:only-of-type {\n",
       "        vertical-align: middle;\n",
       "    }\n",
       "\n",
       "    .dataframe tbody tr th {\n",
       "        vertical-align: top;\n",
       "    }\n",
       "\n",
       "    .dataframe thead th {\n",
       "        text-align: right;\n",
       "    }\n",
       "</style>\n",
       "<table border=\"1\" class=\"dataframe\">\n",
       "  <thead>\n",
       "    <tr style=\"text-align: right;\">\n",
       "      <th></th>\n",
       "      <th>index</th>\n",
       "      <th>class</th>\n",
       "      <th>conversation</th>\n",
       "      <th>class_encoded</th>\n",
       "    </tr>\n",
       "  </thead>\n",
       "  <tbody>\n",
       "    <tr>\n",
       "      <th>0</th>\n",
       "      <td>0</td>\n",
       "      <td>협박 대화</td>\n",
       "      <td>지금 너 스스로를 죽여달라고 애원하는 것인가?\\n 아닙니다. 죄송합니다.\\n 죽을 ...</td>\n",
       "      <td>0</td>\n",
       "    </tr>\n",
       "    <tr>\n",
       "      <th>1</th>\n",
       "      <td>1</td>\n",
       "      <td>협박 대화</td>\n",
       "      <td>길동경찰서입니다.\\n9시 40분 마트에 폭발물을 설치할거다.\\n네?\\n똑바로 들어 ...</td>\n",
       "      <td>0</td>\n",
       "    </tr>\n",
       "    <tr>\n",
       "      <th>2</th>\n",
       "      <td>2</td>\n",
       "      <td>기타 괴롭힘 대화</td>\n",
       "      <td>너 되게 귀여운거 알지? 나보다 작은 남자는 첨봤어.\\n그만해. 니들 놀리는거 재미...</td>\n",
       "      <td>3</td>\n",
       "    </tr>\n",
       "    <tr>\n",
       "      <th>3</th>\n",
       "      <td>3</td>\n",
       "      <td>갈취 대화</td>\n",
       "      <td>어이 거기\\n예??\\n너 말이야 너. 이리 오라고\\n무슨 일.\\n너 옷 좋아보인다?...</td>\n",
       "      <td>1</td>\n",
       "    </tr>\n",
       "    <tr>\n",
       "      <th>4</th>\n",
       "      <td>4</td>\n",
       "      <td>갈취 대화</td>\n",
       "      <td>저기요 혹시 날이 너무 뜨겁잖아요? 저희 회사에서 이 선크림 파는데 한 번 손등에 ...</td>\n",
       "      <td>1</td>\n",
       "    </tr>\n",
       "  </tbody>\n",
       "</table>\n",
       "</div>"
      ],
      "text/plain": [
       "   index      class                                       conversation  \\\n",
       "0      0      협박 대화  지금 너 스스로를 죽여달라고 애원하는 것인가?\\n 아닙니다. 죄송합니다.\\n 죽을 ...   \n",
       "1      1      협박 대화  길동경찰서입니다.\\n9시 40분 마트에 폭발물을 설치할거다.\\n네?\\n똑바로 들어 ...   \n",
       "2      2  기타 괴롭힘 대화  너 되게 귀여운거 알지? 나보다 작은 남자는 첨봤어.\\n그만해. 니들 놀리는거 재미...   \n",
       "3      3      갈취 대화  어이 거기\\n예??\\n너 말이야 너. 이리 오라고\\n무슨 일.\\n너 옷 좋아보인다?...   \n",
       "4      4      갈취 대화  저기요 혹시 날이 너무 뜨겁잖아요? 저희 회사에서 이 선크림 파는데 한 번 손등에 ...   \n",
       "\n",
       "   class_encoded  \n",
       "0              0  \n",
       "1              0  \n",
       "2              3  \n",
       "3              1  \n",
       "4              1  "
      ]
     },
     "execution_count": 46,
     "metadata": {},
     "output_type": "execute_result"
    }
   ],
   "source": [
    "# 클래스 숫자로 변환\n",
    "def class_encoding(train_df, class_mapping):\n",
    "    train_df['class_encoded'] = train_df['class'].replace(class_mapping)\n",
    "    \n",
    "    return train_df\n",
    "\n",
    "# 클래스 매핑 딕셔너리 정의\n",
    "class_mapping = {\n",
    "    \"협박 대화\": 0,\n",
    "    \"갈취 대화\": 1,\n",
    "    \"직장 내 괴롭힘 대화\": 2,\n",
    "    \"기타 괴롭힘 대화\": 3,\n",
    "    \"일반 대화\": 4\n",
    "}\n",
    "\n",
    "train_df = class_encoding(train_df, class_mapping)\n",
    "\n",
    "# 변환된 데이터 확인\n",
    "train_df.head()\n"
   ]
  },
  {
   "cell_type": "code",
   "execution_count": 47,
   "metadata": {},
   "outputs": [
    {
     "data": {
      "text/html": [
       "<div>\n",
       "<style scoped>\n",
       "    .dataframe tbody tr th:only-of-type {\n",
       "        vertical-align: middle;\n",
       "    }\n",
       "\n",
       "    .dataframe tbody tr th {\n",
       "        vertical-align: top;\n",
       "    }\n",
       "\n",
       "    .dataframe thead th {\n",
       "        text-align: right;\n",
       "    }\n",
       "</style>\n",
       "<table border=\"1\" class=\"dataframe\">\n",
       "  <thead>\n",
       "    <tr style=\"text-align: right;\">\n",
       "      <th></th>\n",
       "      <th>index</th>\n",
       "      <th>class</th>\n",
       "      <th>conversation</th>\n",
       "      <th>class_encoded</th>\n",
       "    </tr>\n",
       "  </thead>\n",
       "  <tbody>\n",
       "    <tr>\n",
       "      <th>4945</th>\n",
       "      <td>4945</td>\n",
       "      <td>일반 대화</td>\n",
       "      <td>요즘 나는 축구 배워보고 싶다 키키\\n축구? 축구 룰에 대해서는 알아?\\n오오 알지...</td>\n",
       "      <td>4</td>\n",
       "    </tr>\n",
       "    <tr>\n",
       "      <th>4946</th>\n",
       "      <td>4946</td>\n",
       "      <td>일반 대화</td>\n",
       "      <td>프로게이머들은 좋아하는 거 하고 돈 버니까 좋겠다 키키\\n부럽. 임요한 진짜 돈 많...</td>\n",
       "      <td>4</td>\n",
       "    </tr>\n",
       "    <tr>\n",
       "      <th>4947</th>\n",
       "      <td>4947</td>\n",
       "      <td>일반 대화</td>\n",
       "      <td>너는 해외여행 자주 다니는 편이야? 키키\\n아니. 비행기 타는 걸 안 좋아해서 해외...</td>\n",
       "      <td>4</td>\n",
       "    </tr>\n",
       "    <tr>\n",
       "      <th>4948</th>\n",
       "      <td>4948</td>\n",
       "      <td>일반 대화</td>\n",
       "      <td>겨울에 눈이 제발 적게 오면 좋겠다\\n나도 키키 어릴 땐 눈 오는 게 되게 좋아했었...</td>\n",
       "      <td>4</td>\n",
       "    </tr>\n",
       "    <tr>\n",
       "      <th>4949</th>\n",
       "      <td>4949</td>\n",
       "      <td>일반 대화</td>\n",
       "      <td>요즘은 비나 태풍이 한번 와도 피해가 큰 듯\\n어 ㅠㅠ 나는 아직 태풍 매미를 잊지...</td>\n",
       "      <td>4</td>\n",
       "    </tr>\n",
       "  </tbody>\n",
       "</table>\n",
       "</div>"
      ],
      "text/plain": [
       "      index  class                                       conversation  \\\n",
       "4945   4945  일반 대화  요즘 나는 축구 배워보고 싶다 키키\\n축구? 축구 룰에 대해서는 알아?\\n오오 알지...   \n",
       "4946   4946  일반 대화  프로게이머들은 좋아하는 거 하고 돈 버니까 좋겠다 키키\\n부럽. 임요한 진짜 돈 많...   \n",
       "4947   4947  일반 대화  너는 해외여행 자주 다니는 편이야? 키키\\n아니. 비행기 타는 걸 안 좋아해서 해외...   \n",
       "4948   4948  일반 대화  겨울에 눈이 제발 적게 오면 좋겠다\\n나도 키키 어릴 땐 눈 오는 게 되게 좋아했었...   \n",
       "4949   4949  일반 대화  요즘은 비나 태풍이 한번 와도 피해가 큰 듯\\n어 ㅠㅠ 나는 아직 태풍 매미를 잊지...   \n",
       "\n",
       "      class_encoded  \n",
       "4945              4  \n",
       "4946              4  \n",
       "4947              4  \n",
       "4948              4  \n",
       "4949              4  "
      ]
     },
     "execution_count": 47,
     "metadata": {},
     "output_type": "execute_result"
    }
   ],
   "source": [
    "train_df.tail()"
   ]
  },
  {
   "cell_type": "code",
   "execution_count": 48,
   "metadata": {},
   "outputs": [
    {
     "data": {
      "text/html": [
       "<div>\n",
       "<style scoped>\n",
       "    .dataframe tbody tr th:only-of-type {\n",
       "        vertical-align: middle;\n",
       "    }\n",
       "\n",
       "    .dataframe tbody tr th {\n",
       "        vertical-align: top;\n",
       "    }\n",
       "\n",
       "    .dataframe thead th {\n",
       "        text-align: right;\n",
       "    }\n",
       "</style>\n",
       "<table border=\"1\" class=\"dataframe\">\n",
       "  <thead>\n",
       "    <tr style=\"text-align: right;\">\n",
       "      <th></th>\n",
       "      <th>index</th>\n",
       "      <th>class</th>\n",
       "      <th>conversation</th>\n",
       "      <th>class_encoded</th>\n",
       "    </tr>\n",
       "  </thead>\n",
       "  <tbody>\n",
       "    <tr>\n",
       "      <th>4945</th>\n",
       "      <td>3761</td>\n",
       "      <td>기타 괴롭힘 대화</td>\n",
       "      <td>진용아 내 내 가방 돌려줘\\n아하하 진용아? 가방 돌려줄까?\\n노 놀리지마\\n노 놀...</td>\n",
       "      <td>3</td>\n",
       "    </tr>\n",
       "    <tr>\n",
       "      <th>4946</th>\n",
       "      <td>262</td>\n",
       "      <td>기타 괴롭힘 대화</td>\n",
       "      <td>저기요. 잠깐만요\\n매일 왜이러세요. 전 할말 없어요\\n그 쪽이 좋아서요\\n전 관심...</td>\n",
       "      <td>3</td>\n",
       "    </tr>\n",
       "    <tr>\n",
       "      <th>4947</th>\n",
       "      <td>4320</td>\n",
       "      <td>일반 대화</td>\n",
       "      <td>니는 군대 생활 막 했다 그랬제? 키키\\n어 군대 생각하기도 싫타\\n키키 군대는 상...</td>\n",
       "      <td>4</td>\n",
       "    </tr>\n",
       "    <tr>\n",
       "      <th>4948</th>\n",
       "      <td>897</td>\n",
       "      <td>직장 내 괴롭힘 대화</td>\n",
       "      <td>개발 2팀 이미나 대리 알아? 글쎄 이미나 대리가 지난달에 이혼했대.\\n진짜? 왜 ...</td>\n",
       "      <td>2</td>\n",
       "    </tr>\n",
       "    <tr>\n",
       "      <th>4949</th>\n",
       "      <td>4936</td>\n",
       "      <td>일반 대화</td>\n",
       "      <td>니는 디저트 무슨 종류 좋아해? 키키\\n나는 팥빙수나 빵을 좋아해.\\n너는 뭘 좋아...</td>\n",
       "      <td>4</td>\n",
       "    </tr>\n",
       "  </tbody>\n",
       "</table>\n",
       "</div>"
      ],
      "text/plain": [
       "      index        class                                       conversation  \\\n",
       "4945   3761    기타 괴롭힘 대화  진용아 내 내 가방 돌려줘\\n아하하 진용아? 가방 돌려줄까?\\n노 놀리지마\\n노 놀...   \n",
       "4946    262    기타 괴롭힘 대화  저기요. 잠깐만요\\n매일 왜이러세요. 전 할말 없어요\\n그 쪽이 좋아서요\\n전 관심...   \n",
       "4947   4320        일반 대화  니는 군대 생활 막 했다 그랬제? 키키\\n어 군대 생각하기도 싫타\\n키키 군대는 상...   \n",
       "4948    897  직장 내 괴롭힘 대화  개발 2팀 이미나 대리 알아? 글쎄 이미나 대리가 지난달에 이혼했대.\\n진짜? 왜 ...   \n",
       "4949   4936        일반 대화  니는 디저트 무슨 종류 좋아해? 키키\\n나는 팥빙수나 빵을 좋아해.\\n너는 뭘 좋아...   \n",
       "\n",
       "      class_encoded  \n",
       "4945              3  \n",
       "4946              3  \n",
       "4947              4  \n",
       "4948              2  \n",
       "4949              4  "
      ]
     },
     "execution_count": 48,
     "metadata": {},
     "output_type": "execute_result"
    }
   ],
   "source": [
    "# 추가 실험\n",
    "\n",
    "# train_df를 랜덤으로 섞기 (기존 인덱스 무시)\n",
    "train_df = train_df.sample(frac=1, random_state=1998).reset_index(drop=True)\n",
    "\n",
    "# 확인\n",
    "train_df.tail()\n"
   ]
  },
  {
   "cell_type": "markdown",
   "metadata": {},
   "source": [
    "# 전처리"
   ]
  },
  {
   "cell_type": "code",
   "execution_count": 49,
   "metadata": {},
   "outputs": [],
   "source": [
    "# 전처리 함수\n",
    "def preprocess_sentence(sentence):\n",
    "  # 입력받은 sentence를 소문자로 변경하고 양쪽 공백을 제거\n",
    "  sentence = sentence.lower().strip()\n",
    "\n",
    "  # 개행 문자(\"\\n\")를 공백으로 변환\n",
    "  sentence = re.sub(r\"\\n\", \" \", sentence)\n",
    "    \n",
    "  # 단어와 구두점(punctuation) 사이의 거리를 만듭니다.\n",
    "  # 예를 들어서 \"I am a student.\" => \"I am a student .\"와 같이\n",
    "  # student와 온점 사이에 거리를 만듭니다.\n",
    "  sentence = re.sub(r\"([?.!,])\", r\" \\1 \", sentence) # ?.!, 앞뒤로 공백 추가\n",
    "  sentence = re.sub(r'[\" \"]+', \" \", sentence) # 연속된 공백 한개의 공백으로\n",
    "\n",
    "  # (a-z, A-Z, \".\", \"?\", \"!\", \",\")를 제외한 모든 문자를 공백인 ' '로 대체합니다.\n",
    "  sentence = re.sub(r\"[^a-zA-Z\\u1100-\\u11FF\\uAC00-\\uD7AF.,?!]\", \" \", sentence)\n",
    "  sentence = sentence.strip()\n",
    "  return sentence"
   ]
  },
  {
   "cell_type": "code",
   "execution_count": 50,
   "metadata": {},
   "outputs": [
    {
     "data": {
      "text/plain": [
       "0       생긴 것 봐라 . 니네 부모님은 무슨 잘못을 하셔서 이런 자식을 낳으셨냐 뭐라는거야...\n",
       "1       의사선생님 네 저번에 다녀갔는데 대체 왜 아직도 안 낫죠 ? 예 원래  주정도 가거...\n",
       "2       저기요 ! 아줌마 애기 좀 신경쓰시죠 ? 뭐요 ? 때와 장소를 가려서 뛰도록 교육해...\n",
       "3       곧 그날이 다가오는 거 알지 준비가 다 되어있어야 할 거야 안 그러면 네 주변 사람...\n",
       "4       야 네 ? 돈 있는거 다 내놔봐 누구세여 그건 알꺼없고 저 돈 없어요 뒤져서 나오면...\n",
       "                              ...                        \n",
       "4945    진용아 내 내 가방 돌려줘 아하하 진용아 ? 가방 돌려줄까 ? 노 놀리지마 노 놀리...\n",
       "4946    저기요 . 잠깐만요 매일 왜이러세요 . 전 할말 없어요 그 쪽이 좋아서요 전 관심 ...\n",
       "4947    니는 군대 생활 막 했다 그랬제 ? 키키 어 군대 생각하기도 싫타 키키 군대는 상상...\n",
       "4948    개발  팀 이미나 대리 알아 ? 글쎄 이미나 대리가 지난달에 이혼했대 . 진짜 ? ...\n",
       "4949    니는 디저트 무슨 종류 좋아해 ? 키키 나는 팥빙수나 빵을 좋아해 . 너는 뭘 좋아...\n",
       "Name: conversation, Length: 4950, dtype: object"
      ]
     },
     "execution_count": 50,
     "metadata": {},
     "output_type": "execute_result"
    }
   ],
   "source": [
    "conversation = train_df['conversation'].apply(preprocess_sentence)\n",
    "conversation"
   ]
  },
  {
   "cell_type": "code",
   "execution_count": 51,
   "metadata": {},
   "outputs": [],
   "source": [
    "# 질문과 답변 데이터셋에 대해서 Vocabulary 생성\n",
    "tokenizer = tfds.deprecated.text.SubwordTextEncoder.build_from_corpus(conversation, target_vocab_size=2**13)"
   ]
  },
  {
   "cell_type": "code",
   "execution_count": 52,
   "metadata": {},
   "outputs": [
    {
     "name": "stdout",
     "output_type": "stream",
     "text": [
      "8215\n"
     ]
    }
   ],
   "source": [
    "# 시작 토큰과 종료 토큰을 고려하여 +2를 하여 단어장의 크기를 산정합니다.\n",
    "VOCAB_SIZE = tokenizer.vocab_size + 2\n",
    "print(VOCAB_SIZE)"
   ]
  },
  {
   "cell_type": "code",
   "execution_count": 53,
   "metadata": {},
   "outputs": [
    {
     "name": "stdout",
     "output_type": "stream",
     "text": [
      "정수 인코딩 후의 1998번째 질문 샘플: [9, 503, 16, 2529, 106, 2142, 2, 8, 7097, 7989, 8194, 8099, 8097, 4443, 5399, 356, 258, 324, 3636, 121, 295, 921, 3980, 422, 2364, 37, 2, 3, 71, 490, 295, 921, 3980, 2, 3659, 39, 18, 969, 1, 142, 490, 385, 47, 1188, 4438, 432, 5105, 7989, 923, 64, 1549, 307, 1184, 242, 1326, 350, 3079, 175, 2549, 3, 142, 71, 490, 2044, 76, 2565, 81, 1563, 4, 491, 385, 945, 102, 1, 8, 114, 491, 385, 2041, 225, 142, 491, 385, 145, 4111, 97, 5931, 26, 491, 580, 491, 6, 3920, 190, 5137, 11, 142, 3636, 21, 4352, 288, 156, 4788, 7989, 5106, 33, 876, 2525, 345, 4951, 1618, 104, 4907, 18, 109, 4769, 7989, 16, 2576, 256, 958, 3204, 18, 413, 63, 29, 2874, 434, 167, 29, 455, 1027, 122, 1612, 930, 34, 1402, 11, 55, 427, 1799, 29, 2816, 1173, 7326, 26, 2581, 19, 8, 333, 3322, 1339, 1972, 3469, 7989, 82, 116, 7054, 1, 147, 53, 114, 318, 1204, 32, 1769, 20, 1993, 440, 116, 1226, 75, 34, 3, 142, 49, 18, 23, 85, 2445, 2, 224, 2633, 109, 1937, 23, 385, 47, 408, 26, 3065, 97, 266, 601, 1051, 1113, 202, 580, 408, 26, 2435, 7989, 3134, 554, 1339, 8191, 8146, 8121, 8, 80, 409, 4923, 7989, 2011, 2, 277, 142, 2689, 2435, 7989, 73, 80, 13, 3331, 181, 29, 517, 50, 54, 13, 3331, 339]\n"
     ]
    }
   ],
   "source": [
    "# 1998번째 샘플에 대해서 정수 인코딩 작업을 수행.\n",
    "# 각 토큰을 고유한 정수로 변환\n",
    "print('정수 인코딩 후의 1998번째 질문 샘플: {}'.format(tokenizer.encode(conversation[1998])))"
   ]
  },
  {
   "cell_type": "code",
   "execution_count": 54,
   "metadata": {},
   "outputs": [
    {
     "data": {
      "text/plain": [
       "['야',\n",
       " '요새',\n",
       " '좀',\n",
       " '재밌는',\n",
       " '일',\n",
       " '없냐',\n",
       " '?',\n",
       " '나',\n",
       " '속눈썹',\n",
       " '펌하러',\n",
       " '갔을',\n",
       " '때',\n",
       " ',',\n",
       " '거기',\n",
       " '이모랑',\n",
       " '입시',\n",
       " '상담함',\n",
       " '갑자기요',\n",
       " '?',\n",
       " '키키',\n",
       " '뭐',\n",
       " '어떤',\n",
       " '입시',\n",
       " '상담',\n",
       " '?',\n",
       " '아들이',\n",
       " '지금',\n",
       " '고',\n",
       " '이래',\n",
       " '.',\n",
       " '그래서',\n",
       " '어떤',\n",
       " '과를',\n",
       " '가야',\n",
       " '할지',\n",
       " '혼자',\n",
       " '고민이',\n",
       " '많은',\n",
       " '것',\n",
       " '같다면서',\n",
       " '그랬음',\n",
       " '친화력',\n",
       " '보소',\n",
       " '키키',\n",
       " '그래서',\n",
       " '뭐',\n",
       " '어떤',\n",
       " '이야기해',\n",
       " '드렸어',\n",
       " '아들도',\n",
       " '문과라는',\n",
       " '거야',\n",
       " '.',\n",
       " '나',\n",
       " '또',\n",
       " '문과잖냐',\n",
       " '그래서',\n",
       " '문과의',\n",
       " '입장에서',\n",
       " '말씀드렸지',\n",
       " '문과',\n",
       " '문이',\n",
       " '좁긴',\n",
       " '하니까',\n",
       " '.',\n",
       " '.',\n",
       " '.',\n",
       " '그래서',\n",
       " '이모가',\n",
       " '뭐래',\n",
       " '실제',\n",
       " '대학생',\n",
       " '경험한',\n",
       " '사람들이',\n",
       " '주변에',\n",
       " '없어서',\n",
       " '아쉬웠는데',\n",
       " '이야기하고',\n",
       " '해서',\n",
       " '맘이',\n",
       " '좀',\n",
       " '낫다고',\n",
       " '하시더라구',\n",
       " '고',\n",
       " '이랑',\n",
       " '고',\n",
       " '부모님들이',\n",
       " '진짜',\n",
       " '년',\n",
       " '동안',\n",
       " '같이',\n",
       " '고생하지',\n",
       " '그러니까',\n",
       " '.',\n",
       " '.',\n",
       " '.',\n",
       " '나도',\n",
       " '그때',\n",
       " '어떻게',\n",
       " '년이',\n",
       " '지나갔는지',\n",
       " '기억이',\n",
       " '안',\n",
       " '나',\n",
       " '참',\n",
       " '그땐',\n",
       " '공부',\n",
       " '못하면',\n",
       " '큰일',\n",
       " '나는',\n",
       " '줄',\n",
       " '알았지',\n",
       " '.',\n",
       " '맞아',\n",
       " '난',\n",
       " '또',\n",
       " '회사',\n",
       " '들어가면',\n",
       " '모든',\n",
       " '게',\n",
       " '해결되는',\n",
       " '줄',\n",
       " '알았다',\n",
       " '키키',\n",
       " '그래서',\n",
       " '그',\n",
       " '고',\n",
       " '은',\n",
       " '어떻게',\n",
       " '한대',\n",
       " '?',\n",
       " '인',\n",
       " '서울',\n",
       " '해서',\n",
       " '낮은',\n",
       " '과를',\n",
       " '갈지',\n",
       " '부산에서',\n",
       " '장학금',\n",
       " '받고',\n",
       " '좋은',\n",
       " '과',\n",
       " '갈지',\n",
       " '고민',\n",
       " '중이래',\n",
       " '공부',\n",
       " '꽤나',\n",
       " '하는',\n",
       " '애였나',\n",
       " '보네',\n",
       " '?',\n",
       " '응응',\n",
       " '그래서',\n",
       " '오히려',\n",
       " '고민',\n",
       " '많이',\n",
       " '하는',\n",
       " '거',\n",
       " '같더라구',\n",
       " '알아서',\n",
       " '잘',\n",
       " '할',\n",
       " '거',\n",
       " '같더라',\n",
       " '!']"
      ]
     },
     "execution_count": 54,
     "metadata": {},
     "output_type": "execute_result"
    }
   ],
   "source": [
    "# 원본 확인\n",
    "conversation[1998].split()"
   ]
  },
  {
   "cell_type": "code",
   "execution_count": 55,
   "metadata": {},
   "outputs": [
    {
     "data": {
      "text/plain": [
       "[69, 49, 64, 78, 33]"
      ]
     },
     "execution_count": 55,
     "metadata": {},
     "output_type": "execute_result"
    }
   ],
   "source": [
    "# 각 데이터의 토큰 개수 세기\n",
    "temp = list(map(lambda x : len(x.split()), conversation))\n",
    "temp[:5]"
   ]
  },
  {
   "cell_type": "code",
   "execution_count": 56,
   "metadata": {},
   "outputs": [
    {
     "data": {
      "image/png": "[encoded data removed]",
      "text/plain": [
       "<Figure size 432x288 with 1 Axes>"
      ]
     },
     "metadata": {
      "needs_background": "light"
     },
     "output_type": "display_data"
    }
   ],
   "source": [
    "# 각 데이터의 토큰 개수 시각화 - histplot\n",
    "import matplotlib.pyplot as plt\n",
    "\n",
    "plt.hist(temp)\n",
    "plt.show()"
   ]
  },
  {
   "cell_type": "code",
   "execution_count": 57,
   "metadata": {},
   "outputs": [
    {
     "name": "stdout",
     "output_type": "stream",
     "text": [
      "MAX_LENGTH = 200 일때: 95.90 %\n",
      "MAX_LENGTH = 100 일때: 71.13 %\n",
      "MAX_LENGTH = 50 일때: 24.38 %\n"
     ]
    }
   ],
   "source": [
    "print(f'MAX_LENGTH = 200 일때: {np.array([True if x <= 200 else False for x in temp]).sum() / len(conversation) * 100:.2f} %')\n",
    "print(f'MAX_LENGTH = 100 일때: {np.array([True if x <= 100 else False for x in temp]).sum() / len(conversation) * 100:.2f} %')\n",
    "print(f'MAX_LENGTH = 50 일때: {np.array([True if x <= 50 else False for x in temp]).sum() / len(conversation) * 100:.2f} %')"
   ]
  },
  {
   "cell_type": "code",
   "execution_count": 58,
   "metadata": {},
   "outputs": [
    {
     "name": "stdout",
     "output_type": "stream",
     "text": [
      "100\n"
     ]
    }
   ],
   "source": [
    "# 샘플의 최대 허용 길이 또는 패딩 후의 최종 길이\n",
    "MAX_LENGTH = 100\n",
    "print(MAX_LENGTH)"
   ]
  },
  {
   "cell_type": "code",
   "execution_count": 59,
   "metadata": {},
   "outputs": [],
   "source": [
    "# 최대 길이를 초과하는 샘플은 데이터 자르기, 패딩\n",
    "def tokenize_and_filter(inputs):\n",
    "  tokenized_inputs = list()\n",
    "  \n",
    "  for sentence in inputs:\n",
    "    # 정수 인코딩 과정에서 시작 토큰과 종료 토큰을 추가\n",
    "    sentence = tokenizer.encode(sentence)\n",
    "\n",
    "    # 최대 길이 200 까지만 데이터셋으로 사용\n",
    "    if len(sentence) <= MAX_LENGTH:\n",
    "      tokenized_inputs.append(sentence)\n",
    "    \n",
    "    else:\n",
    "      tokenized_inputs.append(sentence[:MAX_LENGTH])\n",
    "  \n",
    "  # 최대 길이 200으로 모든 데이터셋을 패딩\n",
    "  tokenized_inputs = tf.keras.preprocessing.sequence.pad_sequences(\n",
    "      tokenized_inputs, maxlen=MAX_LENGTH, padding='post')\n",
    "  \n",
    "  return tokenized_inputs"
   ]
  },
  {
   "cell_type": "code",
   "execution_count": 60,
   "metadata": {},
   "outputs": [
    {
     "name": "stdout",
     "output_type": "stream",
     "text": [
      "단어장의 크기 : 8215\n",
      "필터링 후의 대화 샘플 개수: 4950\n"
     ]
    }
   ],
   "source": [
    "conversation = tokenize_and_filter(conversation)\n",
    "print('단어장의 크기 :',(VOCAB_SIZE))\n",
    "print('필터링 후의 대화 샘플 개수: {}'.format(len(conversation)))"
   ]
  },
  {
   "cell_type": "markdown",
   "metadata": {},
   "source": [
    "# 모델링 - transformer 인코딩 모델 밑바닥부터 구현하기"
   ]
  },
  {
   "cell_type": "code",
   "execution_count": 61,
   "metadata": {},
   "outputs": [],
   "source": [
    "class PositionalEncoding(tf.keras.layers.Layer):\n",
    "\n",
    "  def __init__(self, position, d_model):\n",
    "    super(PositionalEncoding, self).__init__()\n",
    "    self.pos_encoding = self.positional_encoding(position, d_model)\n",
    "\n",
    "  def get_angles(self, position, i, d_model):\n",
    "    angles = 1 / tf.pow(10000, (2 * (i // 2)) / tf.cast(d_model, tf.float32))\n",
    "    return position * angles\n",
    "\n",
    "  def positional_encoding(self, position, d_model):\n",
    "    # 각도 배열 생성\n",
    "    angle_rads = self.get_angles(\n",
    "        position=tf.range(position, dtype=tf.float32)[:, tf.newaxis],\n",
    "        i=tf.range(d_model, dtype=tf.float32)[tf.newaxis, :],\n",
    "        d_model=d_model)\n",
    "\n",
    "    # 배열의 짝수 인덱스에는 sin 함수 적용\n",
    "    sines = tf.math.sin(angle_rads[:, 0::2])\n",
    "    # 배열의 홀수 인덱스에는 cosine 함수 적용\n",
    "    cosines = tf.math.cos(angle_rads[:, 1::2])\n",
    "\n",
    "    # sin과 cosine이 교차되도록 재배열\n",
    "    pos_encoding = tf.stack([sines, cosines], axis=0)\n",
    "    pos_encoding = tf.transpose(pos_encoding,[1, 2, 0]) \n",
    "    pos_encoding = tf.reshape(pos_encoding, [position, d_model])\n",
    "\n",
    "    pos_encoding = pos_encoding[tf.newaxis, ...]\n",
    "    return tf.cast(pos_encoding, tf.float32)\n",
    "\n",
    "  def call(self, inputs):\n",
    "    return inputs + self.pos_encoding[:, :tf.shape(inputs)[1], :]\n",
    "\n",
    "# 스케일드 닷 프로덕트 어텐션 함수\n",
    "def scaled_dot_product_attention(query, key, value, mask):\n",
    "  # 어텐션 가중치는 Q와 K의 닷 프로덕트\n",
    "  matmul_qk = tf.matmul(query, key, transpose_b=True)\n",
    "\n",
    "  # 가중치를 정규화\n",
    "  depth = tf.cast(tf.shape(key)[-1], tf.float32)\n",
    "  logits = matmul_qk / tf.math.sqrt(depth)\n",
    "\n",
    "  # 패딩에 마스크 추가\n",
    "  if mask is not None:\n",
    "    logits += (mask * -1e9)\n",
    "\n",
    "  # softmax적용\n",
    "  attention_weights = tf.nn.softmax(logits, axis=-1)\n",
    "\n",
    "  # 최종 어텐션은 가중치와 V의 닷 프로덕트\n",
    "  output = tf.matmul(attention_weights, value)\n",
    "  return output\n",
    "\n",
    "# 멀티 헤드 어텐션 구현하기\n",
    "class MultiHeadAttention(tf.keras.layers.Layer):\n",
    "\n",
    "  def __init__(self, d_model, num_heads, name=\"multi_head_attention\"):\n",
    "    super(MultiHeadAttention, self).__init__(name=name)\n",
    "    self.num_heads = num_heads\n",
    "    self.d_model = d_model\n",
    "\n",
    "    assert d_model % self.num_heads == 0\n",
    "\n",
    "    self.depth = d_model // self.num_heads\n",
    "\n",
    "    self.query_dense = tf.keras.layers.Dense(units=d_model)\n",
    "    self.key_dense = tf.keras.layers.Dense(units=d_model)\n",
    "    self.value_dense = tf.keras.layers.Dense(units=d_model)\n",
    "\n",
    "    self.dense = tf.keras.layers.Dense(units=d_model)\n",
    "\n",
    "  def split_heads(self, inputs, batch_size):\n",
    "    inputs = tf.reshape(\n",
    "        inputs, shape=(batch_size, -1, self.num_heads, self.depth))\n",
    "    return tf.transpose(inputs, perm=[0, 2, 1, 3])\n",
    "\n",
    "  def call(self, inputs):\n",
    "    query, key, value, mask = inputs['query'], inputs['key'], inputs[\n",
    "        'value'], inputs['mask']\n",
    "    batch_size = tf.shape(query)[0]\n",
    "\n",
    "    # Q, K, V에 각각 Dense를 적용합니다\n",
    "    query = self.query_dense(query)\n",
    "    key = self.key_dense(key)\n",
    "    value = self.value_dense(value)\n",
    "\n",
    "    # 병렬 연산을 위한 머리를 여러 개 만듭니다\n",
    "    query = self.split_heads(query, batch_size)\n",
    "    key = self.split_heads(key, batch_size)\n",
    "    value = self.split_heads(value, batch_size)\n",
    "\n",
    "    # 스케일드 닷 프로덕트 어텐션 함수\n",
    "    scaled_attention = scaled_dot_product_attention(query, key, value, mask)\n",
    "\n",
    "    scaled_attention = tf.transpose(scaled_attention, perm=[0, 2, 1, 3])\n",
    "\n",
    "    # 어텐션 연산 후에 각 결과를 다시 연결(concatenate)합니다\n",
    "    concat_attention = tf.reshape(scaled_attention,\n",
    "                                  (batch_size, -1, self.d_model))\n",
    "\n",
    "    # 최종 결과에도 Dense를 한 번 더 적용합니다\n",
    "    outputs = self.dense(concat_attention)\n",
    "\n",
    "    return outputs\n",
    "\n",
    "# 패딩 마스크 구현 함수\n",
    "def create_padding_mask(x):\n",
    "  mask = tf.cast(tf.math.equal(x, 0), tf.float32)\n",
    "  # (batch_size, 1, 1, sequence length)\n",
    "  return mask[:, tf.newaxis, tf.newaxis, :]\n",
    "\n",
    "# 인코더 하나의 레이어를 함수로 구현.\n",
    "# 이 하나의 레이어 안에는 두 개의 서브 레이어가 존재합니다.\n",
    "def encoder_layer(units, d_model, num_heads, dropout, name=\"encoder_layer\"):\n",
    "  inputs = tf.keras.Input(shape=(None, d_model), name=\"inputs\")\n",
    "\n",
    "  # 패딩 마스크 사용\n",
    "  padding_mask = tf.keras.Input(shape=(1, 1, None), name=\"padding_mask\")\n",
    "\n",
    "  # 첫 번째 서브 레이어 : 멀티 헤드 어텐션 수행 (셀프 어텐션)\n",
    "  attention = MultiHeadAttention(\n",
    "      d_model, num_heads, name=\"attention\")({\n",
    "          'query': inputs,\n",
    "          'key': inputs,\n",
    "          'value': inputs,\n",
    "          'mask': padding_mask\n",
    "      })\n",
    "\n",
    "  # 어텐션의 결과는 Dropout과 Layer Normalization이라는 훈련을 돕는 테크닉을 수행\n",
    "  attention = tf.keras.layers.Dropout(rate=dropout)(attention)\n",
    "  attention = tf.keras.layers.LayerNormalization(\n",
    "      epsilon=1e-6)(inputs + attention)\n",
    "\n",
    "  # 두 번째 서브 레이어 : 2개의 완전연결층\n",
    "  outputs = tf.keras.layers.Dense(units=units, activation='relu')(attention)\n",
    "  outputs = tf.keras.layers.Dense(units=d_model)(outputs)\n",
    "\n",
    "  # 완전연결층의 결과는 Dropout과 LayerNormalization이라는 훈련을 돕는 테크닉을 수행\n",
    "  outputs = tf.keras.layers.Dropout(rate=dropout)(outputs)\n",
    "  outputs = tf.keras.layers.LayerNormalization(\n",
    "      epsilon=1e-6)(attention + outputs)\n",
    "\n",
    "  return tf.keras.Model(\n",
    "      inputs=[inputs, padding_mask], outputs=outputs, name=name)\n",
    "\n",
    "# 인코더 생성하기\n",
    "def encoder(vocab_size,\n",
    "            num_layers,\n",
    "            units,\n",
    "            d_model,\n",
    "            num_heads,\n",
    "            dropout,\n",
    "            name=\"encoder\"):\n",
    "  inputs = tf.keras.Input(shape=(None,), name=\"inputs\")\n",
    "\n",
    "  # 패딩 마스크 사용\n",
    "  padding_mask = tf.keras.Input(shape=(1, 1, None), name=\"padding_mask\")\n",
    "\n",
    "  # 임베딩 레이어\n",
    "  embeddings = tf.keras.layers.Embedding(vocab_size, d_model)(inputs)\n",
    "  embeddings *= tf.math.sqrt(tf.cast(d_model, tf.float32))\n",
    "\n",
    "  # 포지셔널 인코딩\n",
    "  embeddings = PositionalEncoding(vocab_size, d_model)(embeddings)\n",
    "\n",
    "  outputs = tf.keras.layers.Dropout(rate=dropout)(embeddings)\n",
    "\n",
    "  # num_layers만큼 쌓아올린 인코더의 층.\n",
    "  for i in range(num_layers):\n",
    "    outputs = encoder_layer(\n",
    "        units=units,\n",
    "        d_model=d_model,\n",
    "        num_heads=num_heads,\n",
    "        dropout=dropout,\n",
    "        name=\"encoder_layer_{}\".format(i),\n",
    "    )([outputs, padding_mask])\n",
    "\n",
    "  return tf.keras.Model(\n",
    "      inputs=[inputs, padding_mask], outputs=outputs, name=name)"
   ]
  },
  {
   "cell_type": "code",
   "execution_count": 62,
   "metadata": {},
   "outputs": [],
   "source": [
    "# 인코더만 구성하기\n",
    "def my_encoder(vocab_size,\n",
    "                num_layers,\n",
    "                units,\n",
    "                d_model,\n",
    "                num_heads,\n",
    "                dropout,\n",
    "                name=\"my_encoder\"):\n",
    "  inputs = tf.keras.Input(shape=(None,), name=\"inputs\")\n",
    "\n",
    "  # 인코더에서 패딩을 위한 마스크\n",
    "  enc_padding_mask = tf.keras.layers.Lambda(\n",
    "      create_padding_mask, output_shape=(1, 1, None),\n",
    "      name='enc_padding_mask')(inputs)\n",
    "\n",
    "  # 인코더\n",
    "  enc_outputs = encoder(\n",
    "      vocab_size=vocab_size,\n",
    "      num_layers=num_layers,\n",
    "      units=units,\n",
    "      d_model=d_model,\n",
    "      num_heads=num_heads,\n",
    "      dropout=dropout,\n",
    "  )(inputs=[inputs, enc_padding_mask])\n",
    "\n",
    "  # Global Average Pooling 적용 (or Max Pooling 가능)\n",
    "  outputs = tf.keras.layers.GlobalMaxPooling1D()(enc_outputs)\n",
    "\n",
    "  # 완전연결층\n",
    "  outputs = tf.keras.layers.Dense(256, activation=\"relu\", name='dense1')(outputs)\n",
    "  outputs = tf.keras.layers.Dense(128, activation=\"relu\", name='dense2')(outputs)\n",
    "  outputs = tf.keras.layers.Dense(units=5, activation=\"softmax\", name='outputs')(outputs)\n",
    "\n",
    "  return tf.keras.Model(inputs=inputs, outputs=outputs, name=name)"
   ]
  },
  {
   "cell_type": "code",
   "execution_count": 63,
   "metadata": {},
   "outputs": [
    {
     "name": "stdout",
     "output_type": "stream",
     "text": [
      "Model: \"my_encoder\"\n",
      "__________________________________________________________________________________________________\n",
      "Layer (type)                    Output Shape         Param #     Connected to                     \n",
      "==================================================================================================\n",
      "inputs (InputLayer)             [(None, None)]       0                                            \n",
      "__________________________________________________________________________________________________\n",
      "enc_padding_mask (Lambda)       (None, 1, 1, None)   0           inputs[0][0]                     \n",
      "__________________________________________________________________________________________________\n",
      "encoder (Functional)            (None, None, 256)    3157248     inputs[0][0]                     \n",
      "                                                                 enc_padding_mask[0][0]           \n",
      "__________________________________________________________________________________________________\n",
      "global_max_pooling1d (GlobalMax (None, 256)          0           encoder[0][0]                    \n",
      "__________________________________________________________________________________________________\n",
      "dense1 (Dense)                  (None, 256)          65792       global_max_pooling1d[0][0]       \n",
      "__________________________________________________________________________________________________\n",
      "dense2 (Dense)                  (None, 128)          32896       dense1[0][0]                     \n",
      "__________________________________________________________________________________________________\n",
      "outputs (Dense)                 (None, 5)            645         dense2[0][0]                     \n",
      "==================================================================================================\n",
      "Total params: 3,256,581\n",
      "Trainable params: 3,256,581\n",
      "Non-trainable params: 0\n",
      "__________________________________________________________________________________________________\n"
     ]
    }
   ],
   "source": [
    "# 모델 생성하기\n",
    "tf.keras.backend.clear_session()\n",
    "\n",
    "# 하이퍼파라미터\n",
    "NUM_LAYERS = 2 # 인코더와 디코더의 층의 개수\n",
    "D_MODEL = 256 # 인코더와 디코더 내부의 입, 출력의 고정 차원\n",
    "NUM_HEADS = 8 # 멀티 헤드 어텐션에서의 헤드 수 \n",
    "UNITS = 512 # 피드 포워드 신경망의 은닉층의 크기\n",
    "DROPOUT = 0.1 # 드롭아웃의 비율\n",
    "\n",
    "model = my_encoder(\n",
    "    vocab_size=VOCAB_SIZE,\n",
    "    num_layers=NUM_LAYERS,\n",
    "    units=UNITS,\n",
    "    d_model=D_MODEL,\n",
    "    num_heads=NUM_HEADS,\n",
    "    dropout=DROPOUT)\n",
    "\n",
    "model.summary()"
   ]
  },
  {
   "cell_type": "code",
   "execution_count": 64,
   "metadata": {},
   "outputs": [],
   "source": [
    "# 커스텀 학습률 스케줄링(Custom Learning rate Scheduling)\n",
    "class CustomSchedule(tf.keras.optimizers.schedules.LearningRateSchedule):\n",
    "\n",
    "  def __init__(self, d_model, warmup_steps=4000):\n",
    "    super(CustomSchedule, self).__init__()\n",
    "\n",
    "    self.d_model = d_model\n",
    "    self.d_model = tf.cast(self.d_model, tf.float32)\n",
    "\n",
    "    self.warmup_steps = warmup_steps\n",
    "\n",
    "  def __call__(self, step):\n",
    "    arg1 = tf.math.rsqrt(step)\n",
    "    arg2 = step * (self.warmup_steps**-1.5)\n",
    "\n",
    "    return tf.math.rsqrt(self.d_model) * tf.math.minimum(arg1, arg2)"
   ]
  },
  {
   "cell_type": "code",
   "execution_count": 65,
   "metadata": {},
   "outputs": [],
   "source": [
    "from tensorflow.keras.callbacks import EarlyStopping, ModelCheckpoint\n",
    "\n",
    "# EarlyStopping & ModelCheckpoint 설정\n",
    "early_stopping = EarlyStopping(\n",
    "    monitor='val_loss', patience=5, restore_best_weights=True, verbose=1)\n",
    "\n",
    "model_checkpoint = ModelCheckpoint(\n",
    "    \"best_model\", monitor='val_loss', save_best_only=True, mode='max', verbose=1, save_format=\"tf\", save_weights_only=True)\n",
    "\n",
    "callbacks = [early_stopping, model_checkpoint]\n"
   ]
  },
  {
   "cell_type": "code",
   "execution_count": 66,
   "metadata": {},
   "outputs": [],
   "source": [
    "# 모델 컴파일\n",
    "learning_rate = CustomSchedule(D_MODEL)\n",
    "\n",
    "optimizer = tf.keras.optimizers.Adam(\n",
    "    learning_rate, beta_1=0.9, beta_2=0.98, epsilon=1e-9)\n",
    "\n",
    "model.compile(optimizer=optimizer, loss=tf.keras.losses.SparseCategoricalCrossentropy(from_logits=False), metrics=[\"accuracy\"])"
   ]
  },
  {
   "cell_type": "code",
   "execution_count": 67,
   "metadata": {},
   "outputs": [
    {
     "name": "stdout",
     "output_type": "stream",
     "text": [
      "Train size: 2970, Validation size: 990, Test size: 990\n"
     ]
    }
   ],
   "source": [
    "# 데이터셋 크기 확인\n",
    "dataset_size = len(conversation)  # 입력 데이터 개수\n",
    "train_size = int(0.6 * dataset_size)  # 80% 훈련 데이터\n",
    "val_size = int(0.2 * dataset_size)  # 10% 검증 데이터\n",
    "test_size = dataset_size - train_size - val_size  # 10% 테스트 데이터\n",
    "\n",
    "train_size = train_df\n",
    "\n",
    "# 데이터셋 생성\n",
    "BATCH_SIZE = 64\n",
    "BUFFER_SIZE = 10000\n",
    "\n",
    "# TensorFlow Dataset 생성\n",
    "dataset = tf.data.Dataset.from_tensor_slices((\n",
    "    {'inputs': conversation},  # 입력 데이터\n",
    "    {'outputs': train_df['class_encoded'].values}  # 출력 데이터 (라벨)\n",
    "))\n",
    "\n",
    "dataset = dataset.cache().shuffle(BUFFER_SIZE)\n",
    "\n",
    "# 데이터셋 분할\n",
    "train_dataset = dataset.take(train_size).batch(BATCH_SIZE).prefetch(tf.data.AUTOTUNE)\n",
    "val_dataset = dataset.skip(train_size).take(val_size).batch(BATCH_SIZE).prefetch(tf.data.AUTOTUNE)\n",
    "test_dataset = dataset.skip(train_size + val_size).batch(BATCH_SIZE).prefetch(tf.data.AUTOTUNE)\n",
    "\n",
    "# 데이터셋 크기 출력\n",
    "print(f\"Train size: {train_size}, Validation size: {val_size}, Test size: {test_size}\")\n"
   ]
  },
  {
   "cell_type": "code",
   "execution_count": 68,
   "metadata": {},
   "outputs": [
    {
     "name": "stdout",
     "output_type": "stream",
     "text": [
      "Epoch 1/100\n",
      "47/47 [==============================] - 5s 48ms/step - loss: 1.7584 - accuracy: 0.1963 - val_loss: 1.5896 - val_accuracy: 0.2485\n",
      "\n",
      "Epoch 00001: val_loss improved from -inf to 1.58958, saving model to best_model\n",
      "Epoch 2/100\n",
      "47/47 [==============================] - 2s 37ms/step - loss: 1.5736 - accuracy: 0.2758 - val_loss: 1.5319 - val_accuracy: 0.3465\n",
      "\n",
      "Epoch 00002: val_loss did not improve from 1.58958\n",
      "Epoch 3/100\n",
      "47/47 [==============================] - 2s 37ms/step - loss: 1.4938 - accuracy: 0.3700 - val_loss: 1.4199 - val_accuracy: 0.3727\n",
      "\n",
      "Epoch 00003: val_loss did not improve from 1.58958\n",
      "Epoch 4/100\n",
      "47/47 [==============================] - 2s 37ms/step - loss: 1.3490 - accuracy: 0.4215 - val_loss: 1.2024 - val_accuracy: 0.4556\n",
      "\n",
      "Epoch 00004: val_loss did not improve from 1.58958\n",
      "Epoch 5/100\n",
      "47/47 [==============================] - 2s 37ms/step - loss: 1.1819 - accuracy: 0.4620 - val_loss: 1.1097 - val_accuracy: 0.4798\n",
      "\n",
      "Epoch 00005: val_loss did not improve from 1.58958\n",
      "Epoch 6/100\n",
      "47/47 [==============================] - 2s 37ms/step - loss: 1.0911 - accuracy: 0.5131 - val_loss: 1.0344 - val_accuracy: 0.5303\n",
      "\n",
      "Epoch 00006: val_loss did not improve from 1.58958\n",
      "Epoch 7/100\n",
      "47/47 [==============================] - 2s 37ms/step - loss: 1.0021 - accuracy: 0.5646 - val_loss: 0.8381 - val_accuracy: 0.7374\n",
      "\n",
      "Epoch 00007: val_loss did not improve from 1.58958\n",
      "Epoch 8/100\n",
      "47/47 [==============================] - 2s 37ms/step - loss: 0.8263 - accuracy: 0.6801 - val_loss: 0.6116 - val_accuracy: 0.7909\n",
      "\n",
      "Epoch 00008: val_loss did not improve from 1.58958\n",
      "Epoch 9/100\n",
      "47/47 [==============================] - 2s 37ms/step - loss: 0.6857 - accuracy: 0.7266 - val_loss: 0.4686 - val_accuracy: 0.8556\n",
      "\n",
      "Epoch 00009: val_loss did not improve from 1.58958\n",
      "Epoch 10/100\n",
      "47/47 [==============================] - 2s 37ms/step - loss: 0.4878 - accuracy: 0.8421 - val_loss: 0.3715 - val_accuracy: 0.8859\n",
      "\n",
      "Epoch 00010: val_loss did not improve from 1.58958\n",
      "Epoch 11/100\n",
      "47/47 [==============================] - 2s 37ms/step - loss: 0.3688 - accuracy: 0.8751 - val_loss: 0.2059 - val_accuracy: 0.9343\n",
      "\n",
      "Epoch 00011: val_loss did not improve from 1.58958\n",
      "Epoch 12/100\n",
      "47/47 [==============================] - 2s 37ms/step - loss: 0.2644 - accuracy: 0.9111 - val_loss: 0.1761 - val_accuracy: 0.9495\n",
      "\n",
      "Epoch 00012: val_loss did not improve from 1.58958\n",
      "Epoch 13/100\n",
      "47/47 [==============================] - 2s 37ms/step - loss: 0.1908 - accuracy: 0.9313 - val_loss: 0.0742 - val_accuracy: 0.9788\n",
      "\n",
      "Epoch 00013: val_loss did not improve from 1.58958\n",
      "Epoch 14/100\n",
      "47/47 [==============================] - 2s 37ms/step - loss: 0.1411 - accuracy: 0.9549 - val_loss: 0.0947 - val_accuracy: 0.9727\n",
      "\n",
      "Epoch 00014: val_loss did not improve from 1.58958\n",
      "Epoch 15/100\n",
      "47/47 [==============================] - 2s 37ms/step - loss: 0.0955 - accuracy: 0.9687 - val_loss: 0.0562 - val_accuracy: 0.9818\n",
      "\n",
      "Epoch 00015: val_loss did not improve from 1.58958\n",
      "Epoch 16/100\n",
      "47/47 [==============================] - 2s 37ms/step - loss: 0.0687 - accuracy: 0.9788 - val_loss: 0.0394 - val_accuracy: 0.9879\n",
      "\n",
      "Epoch 00016: val_loss did not improve from 1.58958\n",
      "Epoch 17/100\n",
      "47/47 [==============================] - 2s 37ms/step - loss: 0.0493 - accuracy: 0.9875 - val_loss: 0.0117 - val_accuracy: 0.9970\n",
      "\n",
      "Epoch 00017: val_loss did not improve from 1.58958\n",
      "Epoch 18/100\n",
      "47/47 [==============================] - 2s 37ms/step - loss: 0.0520 - accuracy: 0.9835 - val_loss: 0.0143 - val_accuracy: 0.9960\n",
      "\n",
      "Epoch 00018: val_loss did not improve from 1.58958\n",
      "Epoch 19/100\n",
      "47/47 [==============================] - 2s 37ms/step - loss: 0.0423 - accuracy: 0.9886 - val_loss: 0.0072 - val_accuracy: 0.9970\n",
      "\n",
      "Epoch 00019: val_loss did not improve from 1.58958\n",
      "Epoch 20/100\n",
      "47/47 [==============================] - 2s 37ms/step - loss: 0.0193 - accuracy: 0.9943 - val_loss: 0.0015 - val_accuracy: 1.0000\n",
      "\n",
      "Epoch 00020: val_loss did not improve from 1.58958\n",
      "Epoch 21/100\n",
      "47/47 [==============================] - 2s 37ms/step - loss: 0.0264 - accuracy: 0.9892 - val_loss: 0.0035 - val_accuracy: 0.9990\n",
      "\n",
      "Epoch 00021: val_loss did not improve from 1.58958\n",
      "Epoch 22/100\n",
      "47/47 [==============================] - 2s 37ms/step - loss: 0.0289 - accuracy: 0.9912 - val_loss: 0.0415 - val_accuracy: 0.9798\n",
      "\n",
      "Epoch 00022: val_loss did not improve from 1.58958\n",
      "Epoch 23/100\n",
      "47/47 [==============================] - 2s 37ms/step - loss: 0.0415 - accuracy: 0.9845 - val_loss: 0.0493 - val_accuracy: 0.9828\n",
      "\n",
      "Epoch 00023: val_loss did not improve from 1.58958\n",
      "Epoch 24/100\n",
      "47/47 [==============================] - 2s 37ms/step - loss: 0.0539 - accuracy: 0.9832 - val_loss: 0.0341 - val_accuracy: 0.9879\n",
      "\n",
      "Epoch 00024: val_loss did not improve from 1.58958\n",
      "Epoch 25/100\n",
      "47/47 [==============================] - 2s 37ms/step - loss: 0.0404 - accuracy: 0.9872 - val_loss: 0.0056 - val_accuracy: 0.9990\n",
      "Restoring model weights from the end of the best epoch.\n",
      "\n",
      "Epoch 00025: val_loss did not improve from 1.58958\n",
      "Epoch 00025: early stopping\n"
     ]
    },
    {
     "data": {
      "text/plain": [
       "<keras.callbacks.History at 0x7ae6e070c310>"
      ]
     },
     "execution_count": 68,
     "metadata": {},
     "output_type": "execute_result"
    }
   ],
   "source": [
    "# 모델 학습\n",
    "EPOCHS = 100\n",
    "model.fit(train_dataset, \n",
    "          validation_data=val_dataset, \n",
    "          epochs=EPOCHS, \n",
    "          callbacks=callbacks)"
   ]
  },
  {
   "cell_type": "markdown",
   "metadata": {},
   "source": [
    "# Test dataset으로 확인하기"
   ]
  },
  {
   "cell_type": "code",
   "execution_count": 69,
   "metadata": {},
   "outputs": [
    {
     "name": "stdout",
     "output_type": "stream",
     "text": [
      "47/47 [==============================] - 1s 13ms/step - loss: 0.0018 - accuracy: 1.0000\n"
     ]
    },
    {
     "data": {
      "text/plain": [
       "[0.001823259750381112, 1.0]"
      ]
     },
     "execution_count": 69,
     "metadata": {},
     "output_type": "execute_result"
    }
   ],
   "source": [
    "# 모델 평가 (train_dataset을 사용)\n",
    "model.evaluate(train_dataset)"
   ]
  },
  {
   "cell_type": "code",
   "execution_count": 70,
   "metadata": {},
   "outputs": [
    {
     "name": "stdout",
     "output_type": "stream",
     "text": [
      "16/16 [==============================] - 0s 13ms/step - loss: 0.0025 - accuracy: 0.9990\n"
     ]
    },
    {
     "data": {
      "text/plain": [
       "[0.0025207968428730965, 0.9989898800849915]"
      ]
     },
     "execution_count": 70,
     "metadata": {},
     "output_type": "execute_result"
    }
   ],
   "source": [
    "# 모델 평가 (validation_dataset을 사용)\n",
    "model.evaluate(val_dataset)"
   ]
  },
  {
   "cell_type": "code",
   "execution_count": 71,
   "metadata": {},
   "outputs": [
    {
     "name": "stdout",
     "output_type": "stream",
     "text": [
      "16/16 [==============================] - 0s 13ms/step - loss: 0.0018 - accuracy: 1.0000\n"
     ]
    },
    {
     "data": {
      "text/plain": [
       "[0.0018482889281585813, 1.0]"
      ]
     },
     "execution_count": 71,
     "metadata": {},
     "output_type": "execute_result"
    }
   ],
   "source": [
    "# 모델 평가 (train_dataset을 사용)\n",
    "model.evaluate(test_dataset)"
   ]
  },
  {
   "cell_type": "code",
   "execution_count": 72,
   "metadata": {},
   "outputs": [
    {
     "name": "stdout",
     "output_type": "stream",
     "text": [
      "X_test shape: (990, 100)\n",
      "y_test shape: (990,)\n"
     ]
    }
   ],
   "source": [
    "# test_dataset에서 X, y 추출\n",
    "\n",
    "# X와 y 리스트 생성\n",
    "X_test = []\n",
    "y_test = []\n",
    "\n",
    "# test_dataset에서 inputs(X)와 outputs(y) 추출\n",
    "for x, y in test_dataset:\n",
    "    X_test.extend(x['inputs'].numpy())  # X 값 (입력 데이터)\n",
    "    y_test.extend(y['outputs'].numpy())  # y 값 (라벨 데이터)\n",
    "\n",
    "# 리스트를 NumPy 배열로 변환\n",
    "X_test = np.array(X_test)\n",
    "y_test = np.array(y_test)\n",
    "\n",
    "print(\"X_test shape:\", X_test.shape)\n",
    "print(\"y_test shape:\", y_test.shape)\n"
   ]
  },
  {
   "cell_type": "code",
   "execution_count": 73,
   "metadata": {},
   "outputs": [
    {
     "data": {
      "text/plain": [
       "array([0, 0, 2, 3, 3])"
      ]
     },
     "execution_count": 73,
     "metadata": {},
     "output_type": "execute_result"
    }
   ],
   "source": [
    "def get_pred(X_test):\n",
    "    y_pred = model.predict(X_test)\n",
    "    y_pred = np.argmax(y_pred, axis=-1)\n",
    "    \n",
    "    return y_pred\n",
    "\n",
    "y_pred = get_pred(X_test)\n",
    "y_pred[:5]"
   ]
  },
  {
   "cell_type": "code",
   "execution_count": 74,
   "metadata": {},
   "outputs": [
    {
     "name": "stdout",
     "output_type": "stream",
     "text": [
      "              precision    recall  f1-score   support\n",
      "\n",
      "           0     1.0000    1.0000    1.0000       196\n",
      "           1     1.0000    1.0000    1.0000       218\n",
      "           2     1.0000    1.0000    1.0000       186\n",
      "           3     1.0000    1.0000    1.0000       214\n",
      "           4     1.0000    1.0000    1.0000       176\n",
      "\n",
      "    accuracy                         1.0000       990\n",
      "   macro avg     1.0000    1.0000    1.0000       990\n",
      "weighted avg     1.0000    1.0000    1.0000       990\n",
      "\n"
     ]
    }
   ],
   "source": [
    "from sklearn.metrics import classification_report\n",
    "\n",
    "report = classification_report(y_test, y_pred, digits=4)\n",
    "print(report)"
   ]
  },
  {
   "cell_type": "markdown",
   "metadata": {},
   "source": [
    "# 추론 및 Submission 저장"
   ]
  },
  {
   "cell_type": "code",
   "execution_count": 32,
   "metadata": {},
   "outputs": [
    {
     "data": {
      "text/html": [
       "<div>\n",
       "<style scoped>\n",
       "    .dataframe tbody tr th:only-of-type {\n",
       "        vertical-align: middle;\n",
       "    }\n",
       "\n",
       "    .dataframe tbody tr th {\n",
       "        vertical-align: top;\n",
       "    }\n",
       "\n",
       "    .dataframe thead th {\n",
       "        text-align: right;\n",
       "    }\n",
       "</style>\n",
       "<table border=\"1\" class=\"dataframe\">\n",
       "  <thead>\n",
       "    <tr style=\"text-align: right;\">\n",
       "      <th></th>\n",
       "      <th>idx</th>\n",
       "      <th>target</th>\n",
       "    </tr>\n",
       "  </thead>\n",
       "  <tbody>\n",
       "    <tr>\n",
       "      <th>0</th>\n",
       "      <td>t_000</td>\n",
       "      <td>1</td>\n",
       "    </tr>\n",
       "    <tr>\n",
       "      <th>1</th>\n",
       "      <td>t_001</td>\n",
       "      <td>2</td>\n",
       "    </tr>\n",
       "    <tr>\n",
       "      <th>2</th>\n",
       "      <td>t_002</td>\n",
       "      <td>2</td>\n",
       "    </tr>\n",
       "    <tr>\n",
       "      <th>3</th>\n",
       "      <td>t_003</td>\n",
       "      <td>2</td>\n",
       "    </tr>\n",
       "    <tr>\n",
       "      <th>4</th>\n",
       "      <td>t_004</td>\n",
       "      <td>3</td>\n",
       "    </tr>\n",
       "  </tbody>\n",
       "</table>\n",
       "</div>"
      ],
      "text/plain": [
       "     idx  target\n",
       "0  t_000       1\n",
       "1  t_001       2\n",
       "2  t_002       2\n",
       "3  t_003       2\n",
       "4  t_004       3"
      ]
     },
     "execution_count": 32,
     "metadata": {},
     "output_type": "execute_result"
    }
   ],
   "source": [
    "def make_submission_df(model, test_df):\n",
    "    test_conversation = test_df['text'].apply(preprocess_sentence)\n",
    "    test_conversation = tokenize_and_filter(test_conversation)\n",
    "    \n",
    "    y_pred = get_pred(test_conversation)\n",
    "    \n",
    "    test_df['target'] = y_pred\n",
    "    test_df.drop(['text'], axis=1, inplace=True)\n",
    "    \n",
    "    return test_df\n",
    "\n",
    "test_df = make_submission_df(model, test_df)\n",
    "test_df.to_csv('my_submission.csv', index=False)\n",
    "test_df.head()"
   ]
  },
  {
   "cell_type": "code",
   "execution_count": 33,
   "metadata": {},
   "outputs": [],
   "source": [
    "# 기타"
   ]
  },
  {
   "cell_type": "code",
   "execution_count": 34,
   "metadata": {},
   "outputs": [
    {
     "data": {
      "text/plain": [
       "array([0, 2, 3, 0, 1, 4, 0, 4, 1, 1, 2, 4, 4, 2, 2, 2, 2, 4, 1, 2, 3, 1,\n",
       "       2, 3, 2, 4, 1, 2, 4, 1, 3, 3, 0, 4, 3, 2, 0, 3, 1, 1, 2, 4, 0, 0,\n",
       "       4, 2, 1, 0, 0, 3, 0, 3, 4, 0, 4, 4, 4, 3, 1, 0, 3, 2, 3, 2, 2, 1,\n",
       "       3, 4, 0, 3, 1, 2, 0, 0, 4, 2, 3, 0, 0, 3, 4, 3, 3, 4, 4, 4, 2, 0,\n",
       "       4, 0, 4, 1, 3, 1, 1, 4, 1, 3, 4, 4, 0, 0, 3, 0, 2, 4, 0, 3, 0, 2,\n",
       "       0, 2, 1, 3, 1, 2, 1, 4, 3, 4, 1, 3, 1, 0, 4, 0, 1, 1, 3, 4, 3, 2,\n",
       "       0, 1, 2, 4, 2, 4, 4, 1, 3, 0, 3, 0, 3, 3, 1, 2, 3, 0, 4, 0, 2, 0,\n",
       "       0, 3, 0, 1, 0, 1, 4, 0, 0, 4, 2, 0, 4, 0, 0, 3, 0, 3, 4, 1, 3, 1,\n",
       "       2, 4, 3, 4, 3, 3, 0, 3, 1, 0, 1, 2, 4, 2, 4, 2, 1, 3, 1, 3, 4, 4,\n",
       "       1, 2, 1, 1, 3, 4, 1, 2, 3, 1, 1, 0, 3, 3, 3, 1, 4, 3, 4, 4, 4, 2,\n",
       "       3, 3, 2, 2, 3, 2, 3, 3, 1, 1, 3, 3, 1, 3, 4, 3, 0, 4, 4, 3, 4, 4,\n",
       "       1, 1, 1, 1, 4, 3, 0, 3, 1, 4, 4, 1, 2, 0, 4, 4, 4, 0, 1, 2, 1, 4,\n",
       "       2, 2, 2, 4, 1, 4, 3, 2, 4, 1, 2, 3, 2, 3, 4, 4, 2, 4, 3, 3, 2, 1,\n",
       "       3, 3, 1, 1, 1, 1, 3, 3, 3, 4, 3, 3, 1, 0, 3, 0, 3, 2, 3, 3, 3, 1,\n",
       "       1, 0, 1, 0, 1, 2, 2, 1, 2, 3, 1, 3, 3, 0, 0, 2, 2, 3, 0, 1, 1, 1,\n",
       "       3, 1, 4, 2, 0, 2, 4, 2, 2, 3, 2, 1, 0, 2, 3, 3, 4, 3, 1, 4, 2, 1,\n",
       "       4, 0, 3, 4, 4, 4, 3, 3, 3, 1, 2, 1, 0, 4, 4, 0, 1, 3, 1, 3, 1, 0,\n",
       "       2, 3, 0, 3, 0, 3, 1, 0, 3, 4, 3, 0, 1, 1, 0, 1, 3, 1, 4, 0, 3, 3,\n",
       "       0, 4, 0, 2, 2, 1, 4, 4, 3, 2, 4, 2, 3, 2, 0, 3, 0, 0, 2, 3, 2, 1,\n",
       "       2, 0, 3, 0, 4, 0, 1, 0, 2, 3, 1, 1, 1, 0, 4, 0, 3, 0, 4, 3, 0, 2,\n",
       "       1, 3, 2, 2, 3, 0, 4, 4, 3, 0, 4, 4, 2, 0, 2, 1, 1, 2, 3, 0, 3, 4,\n",
       "       2, 4, 3, 4, 1, 0, 2, 1, 0, 0, 3, 4, 4, 4, 3, 0, 4, 3, 4, 3, 3, 1,\n",
       "       0, 2, 0, 1, 3, 1, 2, 2, 1, 4, 3, 4, 4, 0, 0, 1, 0, 2, 2, 4, 0, 4,\n",
       "       4, 1, 4, 2, 4, 1, 4, 2, 3, 4, 3, 4, 0, 4, 3, 3, 0, 3, 3, 1, 3, 0,\n",
       "       2, 3, 1, 0, 0, 3, 1, 3, 3, 0, 2, 1, 1, 2, 0, 0, 1, 3, 4, 3, 3, 3,\n",
       "       3, 4, 2, 1, 4, 2, 3, 4, 3, 0, 3, 1, 2, 0, 0, 0, 3, 2, 4, 4, 3, 2,\n",
       "       1, 0, 4, 2, 2, 0, 4, 3, 2, 4, 1, 1, 0, 1, 4, 3, 4, 4, 4, 2, 0, 0,\n",
       "       4, 3, 4, 1, 0, 1, 1, 2, 3, 1, 2, 4, 0, 3, 3, 2, 4, 0, 3, 0, 3, 0,\n",
       "       0, 0, 3, 3, 1, 2, 3, 4, 3, 2, 0, 4, 3, 2, 2, 0, 2, 1, 2, 4, 1, 2,\n",
       "       3, 0, 2, 4, 1, 2, 3, 3, 0, 3, 3, 0, 2, 3, 1, 1, 3, 1, 0, 0, 2, 1,\n",
       "       3, 0, 1, 2, 4, 4, 2, 0, 2, 1, 4, 2, 0, 0, 1, 3, 0, 3, 3, 1, 3, 4,\n",
       "       3, 3, 0, 1, 2, 3, 2, 0, 2, 1, 3, 4, 3, 2, 1, 1, 1, 4, 2, 1, 0, 4,\n",
       "       3, 1, 0, 2, 4, 1, 4, 4, 0, 4, 0, 3, 3, 4, 1, 0, 4, 0, 1, 1, 4, 0,\n",
       "       3, 2, 1, 0, 3, 4, 4, 4, 2, 3, 4, 4, 0, 2, 0, 2, 4, 3, 3, 4, 4, 4,\n",
       "       4, 4, 3, 1, 4, 3, 4, 0, 3, 1, 1, 0, 3, 3, 4, 1, 4, 4, 2, 2, 2, 3,\n",
       "       0, 0, 4, 3, 0, 4, 3, 1, 3, 1, 0, 3, 3, 0, 4, 2, 0, 0, 2, 1, 4, 4,\n",
       "       1, 3, 3, 3, 1, 0, 4, 4, 3, 0, 3, 1, 1, 4, 1, 4, 2, 0, 2, 4, 0, 3,\n",
       "       1, 2, 2, 4, 4, 4, 1, 3, 3, 1, 2, 3, 1, 2, 3, 1, 1, 2, 3, 3, 1, 0,\n",
       "       4, 1, 2, 0, 2, 2, 4, 2, 4, 0, 4, 0, 2, 0, 0, 0, 2, 4, 0, 2, 3, 4,\n",
       "       4, 4, 4, 3, 2, 4, 1, 0, 4, 0, 2, 2, 1, 4, 4, 3, 2, 3, 0, 0, 1, 0,\n",
       "       1, 3, 0, 1, 3, 3, 1, 2, 2, 0, 2, 0, 2, 2, 4, 2, 4, 1, 0, 2, 1, 2,\n",
       "       2, 2, 2, 2, 3, 1, 2, 0, 1, 0, 0, 2, 2, 4, 2, 1, 4, 3, 3, 0, 2, 4,\n",
       "       2, 2, 4, 0, 3, 3, 3, 4, 3, 2, 4, 0, 3, 2, 2, 2, 2, 1, 2, 0, 0, 3,\n",
       "       2, 1, 0, 1, 3, 0, 0, 3, 3, 2, 2, 0, 4, 3, 1, 4, 1, 2, 1, 0, 1, 2,\n",
       "       1, 3, 3, 3, 2, 4, 1, 2, 1, 1, 3, 1, 4, 1, 1, 2, 2, 0, 4, 2, 1, 2])"
      ]
     },
     "execution_count": 34,
     "metadata": {},
     "output_type": "execute_result"
    }
   ],
   "source": [
    "# test_dataset에서 X, y 추출\n",
    "\n",
    "# X와 y 리스트 생성\n",
    "X_test = []\n",
    "y_test = []\n",
    "\n",
    "# test_dataset에서 inputs(X)와 outputs(y) 추출\n",
    "for x, y in test_dataset:\n",
    "    X_test.extend(x['inputs'].numpy())  # X 값 (입력 데이터)\n",
    "    y_test.extend(y['outputs'].numpy())  # y 값 (라벨 데이터)\n",
    "\n",
    "# 리스트를 NumPy 배열로 변환\n",
    "X_test = np.array(X_test)\n",
    "y_test = np.array(y_test)\n",
    "\n",
    "y_test"
   ]
  },
  {
   "cell_type": "code",
   "execution_count": 41,
   "metadata": {},
   "outputs": [
    {
     "data": {
      "text/plain": [
       "3    1094\n",
       "4    1000\n",
       "1     981\n",
       "2     979\n",
       "0     896\n",
       "Name: class_encoded, dtype: int64"
      ]
     },
     "execution_count": 41,
     "metadata": {},
     "output_type": "execute_result"
    }
   ],
   "source": [
    "train_df['class_encoded'].value_counts()"
   ]
  },
  {
   "cell_type": "code",
   "execution_count": null,
   "metadata": {},
   "outputs": [],
   "source": []
  }
 ],
 "metadata": {
  "kernelspec": {
   "display_name": "Python 3 (ipykernel)",
   "language": "python",
   "name": "python3"
  },
  "language_info": {
   "codemirror_mode": {
    "name": "ipython",
    "version": 3
   },
   "file_extension": ".py",
   "mimetype": "text/x-python",
   "name": "python",
   "nbconvert_exporter": "python",
   "pygments_lexer": "ipython3",
   "version": "3.9.7"
  }
 },
 "nbformat": 4,
 "nbformat_minor": 2
}
