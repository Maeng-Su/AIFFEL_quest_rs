{
 "cells": [
  {
   "cell_type": "code",
   "execution_count": 1,
   "metadata": {},
   "outputs": [],
   "source": [
    "import pandas as pd\n",
    "import numpy as np\n",
    "import tensorflow as tf\n",
    "import re\n",
    "import tensorflow_datasets as tfds"
   ]
  },
  {
   "cell_type": "markdown",
   "metadata": {},
   "source": [
    "# 데이터 불러오기"
   ]
  },
  {
   "cell_type": "code",
   "execution_count": 2,
   "metadata": {},
   "outputs": [],
   "source": [
    "# train, test 데이터 불러오기\n",
    "\n",
    "train_path = './data/train.csv' # 필요에 따라 변경하세요.\n",
    "test_path = './data/test.csv' # 필요에 따라 변경하세요.\n",
    "train_normal_data_path = './data/일반대화 합성데이터(GPT-4o, AIhub 참고).csv'\n",
    "\n",
    "def load_data(file_path):\n",
    "    df = pd.read_csv(file_path)\n",
    "    \n",
    "    return df\n",
    "\n",
    "train_df = load_data(train_path)\n",
    "test_df = load_data(test_path)\n",
    "normal_df = load_data(train_normal_data_path)"
   ]
  },
  {
   "cell_type": "code",
   "execution_count": 3,
   "metadata": {},
   "outputs": [
    {
     "data": {
      "text/plain": [
       "((3950, 3), (500, 2), (1000, 3))"
      ]
     },
     "execution_count": 3,
     "metadata": {},
     "output_type": "execute_result"
    }
   ],
   "source": [
    "# 데이터 확인\n",
    "train_df.shape, test_df.shape, normal_df.shape"
   ]
  },
  {
   "cell_type": "code",
   "execution_count": 4,
   "metadata": {},
   "outputs": [
    {
     "data": {
      "text/html": [
       "<div>\n",
       "<style scoped>\n",
       "    .dataframe tbody tr th:only-of-type {\n",
       "        vertical-align: middle;\n",
       "    }\n",
       "\n",
       "    .dataframe tbody tr th {\n",
       "        vertical-align: top;\n",
       "    }\n",
       "\n",
       "    .dataframe thead th {\n",
       "        text-align: right;\n",
       "    }\n",
       "</style>\n",
       "<table border=\"1\" class=\"dataframe\">\n",
       "  <thead>\n",
       "    <tr style=\"text-align: right;\">\n",
       "      <th></th>\n",
       "      <th>index</th>\n",
       "      <th>class</th>\n",
       "      <th>conversation</th>\n",
       "    </tr>\n",
       "  </thead>\n",
       "  <tbody>\n",
       "    <tr>\n",
       "      <th>0</th>\n",
       "      <td>0</td>\n",
       "      <td>협박 대화</td>\n",
       "      <td>지금 너 스스로를 죽여달라고 애원하는 것인가?\\n 아닙니다. 죄송합니다.\\n 죽을 ...</td>\n",
       "    </tr>\n",
       "    <tr>\n",
       "      <th>1</th>\n",
       "      <td>1</td>\n",
       "      <td>협박 대화</td>\n",
       "      <td>길동경찰서입니다.\\n9시 40분 마트에 폭발물을 설치할거다.\\n네?\\n똑바로 들어 ...</td>\n",
       "    </tr>\n",
       "    <tr>\n",
       "      <th>2</th>\n",
       "      <td>2</td>\n",
       "      <td>기타 괴롭힘 대화</td>\n",
       "      <td>너 되게 귀여운거 알지? 나보다 작은 남자는 첨봤어.\\n그만해. 니들 놀리는거 재미...</td>\n",
       "    </tr>\n",
       "    <tr>\n",
       "      <th>3</th>\n",
       "      <td>3</td>\n",
       "      <td>갈취 대화</td>\n",
       "      <td>어이 거기\\n예??\\n너 말이야 너. 이리 오라고\\n무슨 일.\\n너 옷 좋아보인다?...</td>\n",
       "    </tr>\n",
       "    <tr>\n",
       "      <th>4</th>\n",
       "      <td>4</td>\n",
       "      <td>갈취 대화</td>\n",
       "      <td>저기요 혹시 날이 너무 뜨겁잖아요? 저희 회사에서 이 선크림 파는데 한 번 손등에 ...</td>\n",
       "    </tr>\n",
       "  </tbody>\n",
       "</table>\n",
       "</div>"
      ],
      "text/plain": [
       "   index      class                                       conversation\n",
       "0      0      협박 대화  지금 너 스스로를 죽여달라고 애원하는 것인가?\\n 아닙니다. 죄송합니다.\\n 죽을 ...\n",
       "1      1      협박 대화  길동경찰서입니다.\\n9시 40분 마트에 폭발물을 설치할거다.\\n네?\\n똑바로 들어 ...\n",
       "2      2  기타 괴롭힘 대화  너 되게 귀여운거 알지? 나보다 작은 남자는 첨봤어.\\n그만해. 니들 놀리는거 재미...\n",
       "3      3      갈취 대화  어이 거기\\n예??\\n너 말이야 너. 이리 오라고\\n무슨 일.\\n너 옷 좋아보인다?...\n",
       "4      4      갈취 대화  저기요 혹시 날이 너무 뜨겁잖아요? 저희 회사에서 이 선크림 파는데 한 번 손등에 ..."
      ]
     },
     "execution_count": 4,
     "metadata": {},
     "output_type": "execute_result"
    }
   ],
   "source": [
    "# train data 와 normal 데이터 합치기\n",
    "def concat_train_normal(train_df, normal_df):\n",
    "    train_df = pd.concat([train_df, normal_df], ignore_index=True)\n",
    "    train_df.drop(['idx'], axis=1, inplace=True)\n",
    "    train_df.reset_index(inplace=True)\n",
    "\n",
    "    return train_df\n",
    "\n",
    "train_df = concat_train_normal(train_df, normal_df)\n",
    "train_df.head()"
   ]
  },
  {
   "cell_type": "code",
   "execution_count": 5,
   "metadata": {},
   "outputs": [
    {
     "data": {
      "text/html": [
       "<div>\n",
       "<style scoped>\n",
       "    .dataframe tbody tr th:only-of-type {\n",
       "        vertical-align: middle;\n",
       "    }\n",
       "\n",
       "    .dataframe tbody tr th {\n",
       "        vertical-align: top;\n",
       "    }\n",
       "\n",
       "    .dataframe thead th {\n",
       "        text-align: right;\n",
       "    }\n",
       "</style>\n",
       "<table border=\"1\" class=\"dataframe\">\n",
       "  <thead>\n",
       "    <tr style=\"text-align: right;\">\n",
       "      <th></th>\n",
       "      <th>index</th>\n",
       "      <th>class</th>\n",
       "      <th>conversation</th>\n",
       "      <th>class_encoded</th>\n",
       "    </tr>\n",
       "  </thead>\n",
       "  <tbody>\n",
       "    <tr>\n",
       "      <th>0</th>\n",
       "      <td>0</td>\n",
       "      <td>협박 대화</td>\n",
       "      <td>지금 너 스스로를 죽여달라고 애원하는 것인가?\\n 아닙니다. 죄송합니다.\\n 죽을 ...</td>\n",
       "      <td>0</td>\n",
       "    </tr>\n",
       "    <tr>\n",
       "      <th>1</th>\n",
       "      <td>1</td>\n",
       "      <td>협박 대화</td>\n",
       "      <td>길동경찰서입니다.\\n9시 40분 마트에 폭발물을 설치할거다.\\n네?\\n똑바로 들어 ...</td>\n",
       "      <td>0</td>\n",
       "    </tr>\n",
       "    <tr>\n",
       "      <th>2</th>\n",
       "      <td>2</td>\n",
       "      <td>기타 괴롭힘 대화</td>\n",
       "      <td>너 되게 귀여운거 알지? 나보다 작은 남자는 첨봤어.\\n그만해. 니들 놀리는거 재미...</td>\n",
       "      <td>3</td>\n",
       "    </tr>\n",
       "    <tr>\n",
       "      <th>3</th>\n",
       "      <td>3</td>\n",
       "      <td>갈취 대화</td>\n",
       "      <td>어이 거기\\n예??\\n너 말이야 너. 이리 오라고\\n무슨 일.\\n너 옷 좋아보인다?...</td>\n",
       "      <td>1</td>\n",
       "    </tr>\n",
       "    <tr>\n",
       "      <th>4</th>\n",
       "      <td>4</td>\n",
       "      <td>갈취 대화</td>\n",
       "      <td>저기요 혹시 날이 너무 뜨겁잖아요? 저희 회사에서 이 선크림 파는데 한 번 손등에 ...</td>\n",
       "      <td>1</td>\n",
       "    </tr>\n",
       "  </tbody>\n",
       "</table>\n",
       "</div>"
      ],
      "text/plain": [
       "   index      class                                       conversation  \\\n",
       "0      0      협박 대화  지금 너 스스로를 죽여달라고 애원하는 것인가?\\n 아닙니다. 죄송합니다.\\n 죽을 ...   \n",
       "1      1      협박 대화  길동경찰서입니다.\\n9시 40분 마트에 폭발물을 설치할거다.\\n네?\\n똑바로 들어 ...   \n",
       "2      2  기타 괴롭힘 대화  너 되게 귀여운거 알지? 나보다 작은 남자는 첨봤어.\\n그만해. 니들 놀리는거 재미...   \n",
       "3      3      갈취 대화  어이 거기\\n예??\\n너 말이야 너. 이리 오라고\\n무슨 일.\\n너 옷 좋아보인다?...   \n",
       "4      4      갈취 대화  저기요 혹시 날이 너무 뜨겁잖아요? 저희 회사에서 이 선크림 파는데 한 번 손등에 ...   \n",
       "\n",
       "   class_encoded  \n",
       "0              0  \n",
       "1              0  \n",
       "2              3  \n",
       "3              1  \n",
       "4              1  "
      ]
     },
     "execution_count": 5,
     "metadata": {},
     "output_type": "execute_result"
    }
   ],
   "source": [
    "# 클래스 숫자로 변환\n",
    "def class_encoding(train_df, class_mapping):\n",
    "    train_df['class_encoded'] = train_df['class'].replace(class_mapping)\n",
    "    \n",
    "    return train_df\n",
    "\n",
    "# 클래스 매핑 딕셔너리 정의\n",
    "class_mapping = {\n",
    "    \"협박 대화\": 0,\n",
    "    \"갈취 대화\": 1,\n",
    "    \"직장 내 괴롭힘 대화\": 2,\n",
    "    \"기타 괴롭힘 대화\": 3,\n",
    "    \"일반 대화\": 4\n",
    "}\n",
    "\n",
    "train_df = class_encoding(train_df, class_mapping)\n",
    "\n",
    "# 변환된 데이터 확인\n",
    "train_df.head()\n"
   ]
  },
  {
   "cell_type": "code",
   "execution_count": 6,
   "metadata": {},
   "outputs": [
    {
     "data": {
      "text/html": [
       "<div>\n",
       "<style scoped>\n",
       "    .dataframe tbody tr th:only-of-type {\n",
       "        vertical-align: middle;\n",
       "    }\n",
       "\n",
       "    .dataframe tbody tr th {\n",
       "        vertical-align: top;\n",
       "    }\n",
       "\n",
       "    .dataframe thead th {\n",
       "        text-align: right;\n",
       "    }\n",
       "</style>\n",
       "<table border=\"1\" class=\"dataframe\">\n",
       "  <thead>\n",
       "    <tr style=\"text-align: right;\">\n",
       "      <th></th>\n",
       "      <th>index</th>\n",
       "      <th>class</th>\n",
       "      <th>conversation</th>\n",
       "      <th>class_encoded</th>\n",
       "    </tr>\n",
       "  </thead>\n",
       "  <tbody>\n",
       "    <tr>\n",
       "      <th>4945</th>\n",
       "      <td>4945</td>\n",
       "      <td>일반 대화</td>\n",
       "      <td>요즘 나는 축구 배워보고 싶다 키키\\n축구? 축구 룰에 대해서는 알아?\\n오오 알지...</td>\n",
       "      <td>4</td>\n",
       "    </tr>\n",
       "    <tr>\n",
       "      <th>4946</th>\n",
       "      <td>4946</td>\n",
       "      <td>일반 대화</td>\n",
       "      <td>프로게이머들은 좋아하는 거 하고 돈 버니까 좋겠다 키키\\n부럽. 임요한 진짜 돈 많...</td>\n",
       "      <td>4</td>\n",
       "    </tr>\n",
       "    <tr>\n",
       "      <th>4947</th>\n",
       "      <td>4947</td>\n",
       "      <td>일반 대화</td>\n",
       "      <td>너는 해외여행 자주 다니는 편이야? 키키\\n아니. 비행기 타는 걸 안 좋아해서 해외...</td>\n",
       "      <td>4</td>\n",
       "    </tr>\n",
       "    <tr>\n",
       "      <th>4948</th>\n",
       "      <td>4948</td>\n",
       "      <td>일반 대화</td>\n",
       "      <td>겨울에 눈이 제발 적게 오면 좋겠다\\n나도 키키 어릴 땐 눈 오는 게 되게 좋아했었...</td>\n",
       "      <td>4</td>\n",
       "    </tr>\n",
       "    <tr>\n",
       "      <th>4949</th>\n",
       "      <td>4949</td>\n",
       "      <td>일반 대화</td>\n",
       "      <td>요즘은 비나 태풍이 한번 와도 피해가 큰 듯\\n어 ㅠㅠ 나는 아직 태풍 매미를 잊지...</td>\n",
       "      <td>4</td>\n",
       "    </tr>\n",
       "  </tbody>\n",
       "</table>\n",
       "</div>"
      ],
      "text/plain": [
       "      index  class                                       conversation  \\\n",
       "4945   4945  일반 대화  요즘 나는 축구 배워보고 싶다 키키\\n축구? 축구 룰에 대해서는 알아?\\n오오 알지...   \n",
       "4946   4946  일반 대화  프로게이머들은 좋아하는 거 하고 돈 버니까 좋겠다 키키\\n부럽. 임요한 진짜 돈 많...   \n",
       "4947   4947  일반 대화  너는 해외여행 자주 다니는 편이야? 키키\\n아니. 비행기 타는 걸 안 좋아해서 해외...   \n",
       "4948   4948  일반 대화  겨울에 눈이 제발 적게 오면 좋겠다\\n나도 키키 어릴 땐 눈 오는 게 되게 좋아했었...   \n",
       "4949   4949  일반 대화  요즘은 비나 태풍이 한번 와도 피해가 큰 듯\\n어 ㅠㅠ 나는 아직 태풍 매미를 잊지...   \n",
       "\n",
       "      class_encoded  \n",
       "4945              4  \n",
       "4946              4  \n",
       "4947              4  \n",
       "4948              4  \n",
       "4949              4  "
      ]
     },
     "execution_count": 6,
     "metadata": {},
     "output_type": "execute_result"
    }
   ],
   "source": [
    "train_df.tail()"
   ]
  },
  {
   "cell_type": "markdown",
   "metadata": {},
   "source": [
    "# 전처리"
   ]
  },
  {
   "cell_type": "code",
   "execution_count": 7,
   "metadata": {},
   "outputs": [],
   "source": [
    "# 전처리 함수\n",
    "def preprocess_sentence(sentence):\n",
    "  # 입력받은 sentence를 소문자로 변경하고 양쪽 공백을 제거\n",
    "  sentence = sentence.lower().strip()\n",
    "\n",
    "  # 개행 문자(\"\\n\")를 공백으로 변환\n",
    "  sentence = re.sub(r\"\\n\", \" \", sentence)\n",
    "    \n",
    "  # 단어와 구두점(punctuation) 사이의 거리를 만듭니다.\n",
    "  # 예를 들어서 \"I am a student.\" => \"I am a student .\"와 같이\n",
    "  # student와 온점 사이에 거리를 만듭니다.\n",
    "  sentence = re.sub(r\"([?.!,])\", r\" \\1 \", sentence) # ?.!, 앞뒤로 공백 추가\n",
    "  sentence = re.sub(r'[\" \"]+', \" \", sentence) # 연속된 공백 한개의 공백으로\n",
    "\n",
    "  # (a-z, A-Z, \".\", \"?\", \"!\", \",\")를 제외한 모든 문자를 공백인 ' '로 대체합니다.\n",
    "  sentence = re.sub(r\"[^a-zA-Z\\u1100-\\u11FF\\uAC00-\\uD7AF.,?!]\", \" \", sentence)\n",
    "  sentence = sentence.strip()\n",
    "  return sentence"
   ]
  },
  {
   "cell_type": "code",
   "execution_count": 8,
   "metadata": {},
   "outputs": [
    {
     "data": {
      "text/plain": [
       "0       지금 너 스스로를 죽여달라고 애원하는 것인가 ? 아닙니다 . 죄송합니다 . 죽을 거...\n",
       "1       길동경찰서입니다 .  시   분 마트에 폭발물을 설치할거다 . 네 ? 똑바로 들어 ...\n",
       "2       너 되게 귀여운거 알지 ? 나보다 작은 남자는 첨봤어 . 그만해 . 니들 놀리는거 ...\n",
       "3       어이 거기 예 ? ? 너 말이야 너 . 이리 오라고 무슨 일 . 너 옷 좋아보인다 ...\n",
       "4       저기요 혹시 날이 너무 뜨겁잖아요 ? 저희 회사에서 이 선크림 파는데 한 번 손등에...\n",
       "                              ...                        \n",
       "4945    요즘 나는 축구 배워보고 싶다 키키 축구 ? 축구 룰에 대해서는 알아 ? 오오 알지...\n",
       "4946    프로게이머들은 좋아하는 거 하고 돈 버니까 좋겠다 키키 부럽 . 임요한 진짜 돈 많...\n",
       "4947    너는 해외여행 자주 다니는 편이야 ? 키키 아니 . 비행기 타는 걸 안 좋아해서 해...\n",
       "4948    겨울에 눈이 제발 적게 오면 좋겠다 나도 키키 어릴 땐 눈 오는 게 되게 좋아했었는...\n",
       "4949    요즘은 비나 태풍이 한번 와도 피해가 큰 듯 어    나는 아직 태풍 매미를 잊지 ...\n",
       "Name: conversation, Length: 4950, dtype: object"
      ]
     },
     "execution_count": 8,
     "metadata": {},
     "output_type": "execute_result"
    }
   ],
   "source": [
    "conversation = train_df['conversation'].apply(preprocess_sentence)\n",
    "conversation"
   ]
  },
  {
   "cell_type": "code",
   "execution_count": 9,
   "metadata": {},
   "outputs": [],
   "source": [
    "# 질문과 답변 데이터셋에 대해서 Vocabulary 생성\n",
    "tokenizer = tfds.deprecated.text.SubwordTextEncoder.build_from_corpus(conversation, target_vocab_size=2**13)"
   ]
  },
  {
   "cell_type": "code",
   "execution_count": 10,
   "metadata": {},
   "outputs": [
    {
     "name": "stdout",
     "output_type": "stream",
     "text": [
      "8215\n"
     ]
    }
   ],
   "source": [
    "# 시작 토큰과 종료 토큰을 고려하여 +2를 하여 단어장의 크기를 산정합니다.\n",
    "VOCAB_SIZE = tokenizer.vocab_size + 2\n",
    "print(VOCAB_SIZE)"
   ]
  },
  {
   "cell_type": "code",
   "execution_count": 11,
   "metadata": {},
   "outputs": [
    {
     "name": "stdout",
     "output_type": "stream",
     "text": [
      "정수 인코딩 후의 1998번째 질문 샘플: [7, 5, 202, 1007, 54, 86, 3536, 7989, 52, 558, 1, 35, 8, 243, 1373, 6, 19, 5949, 7989, 263, 8193, 8113, 8136, 209, 827, 181, 1, 7, 5, 1121, 4290, 13, 2471, 1, 24, 171, 5708, 1102, 18, 219, 43, 1373, 244, 1744, 214, 1, 1693, 1159, 5649, 1297, 3171, 3143, 102, 2, 9, 7, 5, 39, 1158, 693, 341, 236, 2726, 7989, 443, 1342, 17, 2207, 1, 606, 482, 296, 296, 62, 1, 39, 100, 267, 54, 1443, 2, 45, 1, 1788, 4805, 178, 1, 8, 39, 314, 1980, 30, 480, 133, 1, 6507, 1, 14, 2193, 1033, 63, 1, 8, 39, 78, 498, 1, 7029, 257, 100, 711, 6637, 169, 1, 82, 43, 52, 1517, 450, 4046, 938, 1, 39, 174, 3832, 1158, 693, 408, 848, 194, 7643, 1, 7, 4263, 7989, 52, 19, 518, 7, 2361, 4138, 7989, 204, 7301, 103, 1, 1198, 6, 8191, 8142, 8095, 1763, 71, 61, 4259, 2618, 28]\n"
     ]
    }
   ],
   "source": [
    "# 1998번째 샘플에 대해서 정수 인코딩 작업을 수행.\n",
    "# 각 토큰을 고유한 정수로 변환\n",
    "print('정수 인코딩 후의 1998번째 질문 샘플: {}'.format(tokenizer.encode(conversation[1998])))"
   ]
  },
  {
   "cell_type": "code",
   "execution_count": 12,
   "metadata": {},
   "outputs": [
    {
     "data": {
      "text/plain": [
       "['너',\n",
       " '내가',\n",
       " '좋은',\n",
       " '말로',\n",
       " '할',\n",
       " '때',\n",
       " '빌린',\n",
       " '돈',\n",
       " '내놔',\n",
       " '.',\n",
       " '아니',\n",
       " '나',\n",
       " '아직',\n",
       " '월급이',\n",
       " '안',\n",
       " '들어와서',\n",
       " '여윳돈이',\n",
       " '없다구',\n",
       " '.',\n",
       " '너',\n",
       " '내가',\n",
       " '처음',\n",
       " '이러는',\n",
       " '거',\n",
       " '아니잖아',\n",
       " '.',\n",
       " '왜',\n",
       " '사람',\n",
       " '화나게',\n",
       " '하냐고',\n",
       " '너는',\n",
       " '내',\n",
       " '월급날',\n",
       " '모르잖아',\n",
       " '.',\n",
       " '알려줬는데도',\n",
       " '매일',\n",
       " '사람한테',\n",
       " '이럴거야',\n",
       " '?',\n",
       " '야',\n",
       " '너',\n",
       " '내가',\n",
       " '지금',\n",
       " '칼',\n",
       " '들고',\n",
       " '너네',\n",
       " '원룸',\n",
       " '앞으로',\n",
       " '간다',\n",
       " '!',\n",
       " '새끼야',\n",
       " '.',\n",
       " '어이',\n",
       " '친구',\n",
       " '살살해',\n",
       " '.',\n",
       " '지금',\n",
       " '그게',\n",
       " '사람이',\n",
       " '할',\n",
       " '소리야',\n",
       " '?',\n",
       " '야',\n",
       " '.',\n",
       " '전화',\n",
       " '끊어봐',\n",
       " '.',\n",
       " '나',\n",
       " '지금',\n",
       " '차',\n",
       " '돌려서',\n",
       " '가고',\n",
       " '있어',\n",
       " '.',\n",
       " '잠깐만',\n",
       " '.',\n",
       " '진짜',\n",
       " '오고',\n",
       " '있냐고',\n",
       " '.',\n",
       " '나',\n",
       " '지금',\n",
       " '못',\n",
       " '나가',\n",
       " '.',\n",
       " '여자친구랑',\n",
       " '있어',\n",
       " '그게',\n",
       " '뭔',\n",
       " '상관인데',\n",
       " '.',\n",
       " '나는',\n",
       " '내',\n",
       " '돈',\n",
       " '받으러',\n",
       " '가겠다고',\n",
       " '.',\n",
       " '지금',\n",
       " '주머니칼',\n",
       " '들고',\n",
       " '갈테니까',\n",
       " '알아서해',\n",
       " '.',\n",
       " '너',\n",
       " '죽일거야',\n",
       " '돈',\n",
       " '안',\n",
       " '주면',\n",
       " '너',\n",
       " '경찰',\n",
       " '신고하기',\n",
       " '전에',\n",
       " '곱게',\n",
       " '자',\n",
       " '.',\n",
       " '밤이',\n",
       " '깊었는데',\n",
       " '뭐',\n",
       " '하고',\n",
       " '지랄이냐',\n",
       " '.']"
      ]
     },
     "execution_count": 12,
     "metadata": {},
     "output_type": "execute_result"
    }
   ],
   "source": [
    "# 원본 확인\n",
    "conversation[1998].split()"
   ]
  },
  {
   "cell_type": "code",
   "execution_count": 13,
   "metadata": {},
   "outputs": [
    {
     "data": {
      "text/plain": [
       "[69, 51, 67, 44, 140]"
      ]
     },
     "execution_count": 13,
     "metadata": {},
     "output_type": "execute_result"
    }
   ],
   "source": [
    "# 각 데이터의 토큰 개수 세기\n",
    "temp = list(map(lambda x : len(x.split()), conversation))\n",
    "temp[:5]"
   ]
  },
  {
   "cell_type": "code",
   "execution_count": 14,
   "metadata": {},
   "outputs": [
    {
     "name": "stderr",
     "output_type": "stream",
     "text": [
      "WARNING:matplotlib.font_manager:Matplotlib is building the font cache; this may take a moment.\n"
     ]
    },
    {
     "data": {
      "image/png": "[encoded data removed]",
      "text/plain": [
       "<Figure size 432x288 with 1 Axes>"
      ]
     },
     "metadata": {
      "needs_background": "light"
     },
     "output_type": "display_data"
    }
   ],
   "source": [
    "# 각 데이터의 토큰 개수 시각화 - histplot\n",
    "import matplotlib.pyplot as plt\n",
    "\n",
    "plt.hist(temp)\n",
    "plt.show()"
   ]
  },
  {
   "cell_type": "code",
   "execution_count": 15,
   "metadata": {},
   "outputs": [
    {
     "name": "stdout",
     "output_type": "stream",
     "text": [
      "MAX_LENGTH = 200 일때: 95.90 %\n",
      "MAX_LENGTH = 100 일때: 71.13 %\n",
      "MAX_LENGTH = 50 일때: 24.38 %\n"
     ]
    }
   ],
   "source": [
    "print(f'MAX_LENGTH = 200 일때: {np.array([True if x <= 200 else False for x in temp]).sum() / len(conversation) * 100:.2f} %')\n",
    "print(f'MAX_LENGTH = 100 일때: {np.array([True if x <= 100 else False for x in temp]).sum() / len(conversation) * 100:.2f} %')\n",
    "print(f'MAX_LENGTH = 50 일때: {np.array([True if x <= 50 else False for x in temp]).sum() / len(conversation) * 100:.2f} %')"
   ]
  },
  {
   "cell_type": "code",
   "execution_count": 16,
   "metadata": {},
   "outputs": [
    {
     "name": "stdout",
     "output_type": "stream",
     "text": [
      "100\n"
     ]
    }
   ],
   "source": [
    "# 샘플의 최대 허용 길이 또는 패딩 후의 최종 길이\n",
    "MAX_LENGTH = 100\n",
    "print(MAX_LENGTH)"
   ]
  },
  {
   "cell_type": "code",
   "execution_count": 17,
   "metadata": {},
   "outputs": [],
   "source": [
    "# 최대 길이를 초과하는 샘플은 데이터 자르기, 패딩\n",
    "def tokenize_and_filter(inputs):\n",
    "  tokenized_inputs = list()\n",
    "  \n",
    "  for sentence in inputs:\n",
    "    # 정수 인코딩 과정에서 시작 토큰과 종료 토큰을 추가\n",
    "    sentence = tokenizer.encode(sentence)\n",
    "\n",
    "    # 최대 길이 200 까지만 데이터셋으로 사용\n",
    "    if len(sentence) <= MAX_LENGTH:\n",
    "      tokenized_inputs.append(sentence)\n",
    "    \n",
    "    else:\n",
    "      tokenized_inputs.append(sentence[:MAX_LENGTH])\n",
    "  \n",
    "  # 최대 길이 200으로 모든 데이터셋을 패딩\n",
    "  tokenized_inputs = tf.keras.preprocessing.sequence.pad_sequences(\n",
    "      tokenized_inputs, maxlen=MAX_LENGTH, padding='post')\n",
    "  \n",
    "  return tokenized_inputs"
   ]
  },
  {
   "cell_type": "code",
   "execution_count": 18,
   "metadata": {},
   "outputs": [
    {
     "name": "stdout",
     "output_type": "stream",
     "text": [
      "단어장의 크기 : 8215\n",
      "필터링 후의 대화 샘플 개수: 4950\n"
     ]
    }
   ],
   "source": [
    "conversation = tokenize_and_filter(conversation)\n",
    "print('단어장의 크기 :',(VOCAB_SIZE))\n",
    "print('필터링 후의 대화 샘플 개수: {}'.format(len(conversation)))"
   ]
  },
  {
   "cell_type": "markdown",
   "metadata": {},
   "source": [
    "# 모델링 - transformer 인코딩 모델 밑바닥부터 구현하기"
   ]
  },
  {
   "cell_type": "code",
   "execution_count": 19,
   "metadata": {},
   "outputs": [],
   "source": [
    "class PositionalEncoding(tf.keras.layers.Layer):\n",
    "\n",
    "  def __init__(self, position, d_model):\n",
    "    super(PositionalEncoding, self).__init__()\n",
    "    self.pos_encoding = self.positional_encoding(position, d_model)\n",
    "\n",
    "  def get_angles(self, position, i, d_model):\n",
    "    angles = 1 / tf.pow(10000, (2 * (i // 2)) / tf.cast(d_model, tf.float32))\n",
    "    return position * angles\n",
    "\n",
    "  def positional_encoding(self, position, d_model):\n",
    "    # 각도 배열 생성\n",
    "    angle_rads = self.get_angles(\n",
    "        position=tf.range(position, dtype=tf.float32)[:, tf.newaxis],\n",
    "        i=tf.range(d_model, dtype=tf.float32)[tf.newaxis, :],\n",
    "        d_model=d_model)\n",
    "\n",
    "    # 배열의 짝수 인덱스에는 sin 함수 적용\n",
    "    sines = tf.math.sin(angle_rads[:, 0::2])\n",
    "    # 배열의 홀수 인덱스에는 cosine 함수 적용\n",
    "    cosines = tf.math.cos(angle_rads[:, 1::2])\n",
    "\n",
    "    # sin과 cosine이 교차되도록 재배열\n",
    "    pos_encoding = tf.stack([sines, cosines], axis=0)\n",
    "    pos_encoding = tf.transpose(pos_encoding,[1, 2, 0]) \n",
    "    pos_encoding = tf.reshape(pos_encoding, [position, d_model])\n",
    "\n",
    "    pos_encoding = pos_encoding[tf.newaxis, ...]\n",
    "    return tf.cast(pos_encoding, tf.float32)\n",
    "\n",
    "  def call(self, inputs):\n",
    "    return inputs + self.pos_encoding[:, :tf.shape(inputs)[1], :]\n",
    "\n",
    "# 스케일드 닷 프로덕트 어텐션 함수\n",
    "def scaled_dot_product_attention(query, key, value, mask):\n",
    "  # 어텐션 가중치는 Q와 K의 닷 프로덕트\n",
    "  matmul_qk = tf.matmul(query, key, transpose_b=True)\n",
    "\n",
    "  # 가중치를 정규화\n",
    "  depth = tf.cast(tf.shape(key)[-1], tf.float32)\n",
    "  logits = matmul_qk / tf.math.sqrt(depth)\n",
    "\n",
    "  # 패딩에 마스크 추가\n",
    "  if mask is not None:\n",
    "    logits += (mask * -1e9)\n",
    "\n",
    "  # softmax적용\n",
    "  attention_weights = tf.nn.softmax(logits, axis=-1)\n",
    "\n",
    "  # 최종 어텐션은 가중치와 V의 닷 프로덕트\n",
    "  output = tf.matmul(attention_weights, value)\n",
    "  return output\n",
    "\n",
    "# 멀티 헤드 어텐션 구현하기\n",
    "class MultiHeadAttention(tf.keras.layers.Layer):\n",
    "\n",
    "  def __init__(self, d_model, num_heads, name=\"multi_head_attention\"):\n",
    "    super(MultiHeadAttention, self).__init__(name=name)\n",
    "    self.num_heads = num_heads\n",
    "    self.d_model = d_model\n",
    "\n",
    "    assert d_model % self.num_heads == 0\n",
    "\n",
    "    self.depth = d_model // self.num_heads\n",
    "\n",
    "    self.query_dense = tf.keras.layers.Dense(units=d_model)\n",
    "    self.key_dense = tf.keras.layers.Dense(units=d_model)\n",
    "    self.value_dense = tf.keras.layers.Dense(units=d_model)\n",
    "\n",
    "    self.dense = tf.keras.layers.Dense(units=d_model)\n",
    "\n",
    "  def split_heads(self, inputs, batch_size):\n",
    "    inputs = tf.reshape(\n",
    "        inputs, shape=(batch_size, -1, self.num_heads, self.depth))\n",
    "    return tf.transpose(inputs, perm=[0, 2, 1, 3])\n",
    "\n",
    "  def call(self, inputs):\n",
    "    query, key, value, mask = inputs['query'], inputs['key'], inputs[\n",
    "        'value'], inputs['mask']\n",
    "    batch_size = tf.shape(query)[0]\n",
    "\n",
    "    # Q, K, V에 각각 Dense를 적용합니다\n",
    "    query = self.query_dense(query)\n",
    "    key = self.key_dense(key)\n",
    "    value = self.value_dense(value)\n",
    "\n",
    "    # 병렬 연산을 위한 머리를 여러 개 만듭니다\n",
    "    query = self.split_heads(query, batch_size)\n",
    "    key = self.split_heads(key, batch_size)\n",
    "    value = self.split_heads(value, batch_size)\n",
    "\n",
    "    # 스케일드 닷 프로덕트 어텐션 함수\n",
    "    scaled_attention = scaled_dot_product_attention(query, key, value, mask)\n",
    "\n",
    "    scaled_attention = tf.transpose(scaled_attention, perm=[0, 2, 1, 3])\n",
    "\n",
    "    # 어텐션 연산 후에 각 결과를 다시 연결(concatenate)합니다\n",
    "    concat_attention = tf.reshape(scaled_attention,\n",
    "                                  (batch_size, -1, self.d_model))\n",
    "\n",
    "    # 최종 결과에도 Dense를 한 번 더 적용합니다\n",
    "    outputs = self.dense(concat_attention)\n",
    "\n",
    "    return outputs\n",
    "\n",
    "# 패딩 마스크 구현 함수\n",
    "def create_padding_mask(x):\n",
    "  mask = tf.cast(tf.math.equal(x, 0), tf.float32)\n",
    "  # (batch_size, 1, 1, sequence length)\n",
    "  return mask[:, tf.newaxis, tf.newaxis, :]\n",
    "\n",
    "# 인코더 하나의 레이어를 함수로 구현.\n",
    "# 이 하나의 레이어 안에는 두 개의 서브 레이어가 존재합니다.\n",
    "def encoder_layer(units, d_model, num_heads, dropout, name=\"encoder_layer\"):\n",
    "  inputs = tf.keras.Input(shape=(None, d_model), name=\"inputs\")\n",
    "\n",
    "  # 패딩 마스크 사용\n",
    "  padding_mask = tf.keras.Input(shape=(1, 1, None), name=\"padding_mask\")\n",
    "\n",
    "  # 첫 번째 서브 레이어 : 멀티 헤드 어텐션 수행 (셀프 어텐션)\n",
    "  attention = MultiHeadAttention(\n",
    "      d_model, num_heads, name=\"attention\")({\n",
    "          'query': inputs,\n",
    "          'key': inputs,\n",
    "          'value': inputs,\n",
    "          'mask': padding_mask\n",
    "      })\n",
    "\n",
    "  # 어텐션의 결과는 Dropout과 Layer Normalization이라는 훈련을 돕는 테크닉을 수행\n",
    "  attention = tf.keras.layers.Dropout(rate=dropout)(attention)\n",
    "  attention = tf.keras.layers.LayerNormalization(\n",
    "      epsilon=1e-6)(inputs + attention)\n",
    "\n",
    "  # 두 번째 서브 레이어 : 2개의 완전연결층\n",
    "  outputs = tf.keras.layers.Dense(units=units, activation='relu')(attention)\n",
    "  outputs = tf.keras.layers.Dense(units=d_model)(outputs)\n",
    "\n",
    "  # 완전연결층의 결과는 Dropout과 LayerNormalization이라는 훈련을 돕는 테크닉을 수행\n",
    "  outputs = tf.keras.layers.Dropout(rate=dropout)(outputs)\n",
    "  outputs = tf.keras.layers.LayerNormalization(\n",
    "      epsilon=1e-6)(attention + outputs)\n",
    "\n",
    "  return tf.keras.Model(\n",
    "      inputs=[inputs, padding_mask], outputs=outputs, name=name)\n",
    "\n",
    "# 인코더 생성하기\n",
    "def encoder(vocab_size,\n",
    "            num_layers,\n",
    "            units,\n",
    "            d_model,\n",
    "            num_heads,\n",
    "            dropout,\n",
    "            name=\"encoder\"):\n",
    "  inputs = tf.keras.Input(shape=(None,), name=\"inputs\")\n",
    "\n",
    "  # 패딩 마스크 사용\n",
    "  padding_mask = tf.keras.Input(shape=(1, 1, None), name=\"padding_mask\")\n",
    "\n",
    "  # 임베딩 레이어\n",
    "  embeddings = tf.keras.layers.Embedding(vocab_size, d_model)(inputs)\n",
    "  embeddings *= tf.math.sqrt(tf.cast(d_model, tf.float32))\n",
    "\n",
    "  # 포지셔널 인코딩\n",
    "  embeddings = PositionalEncoding(vocab_size, d_model)(embeddings)\n",
    "\n",
    "  outputs = tf.keras.layers.Dropout(rate=dropout)(embeddings)\n",
    "\n",
    "  # num_layers만큼 쌓아올린 인코더의 층.\n",
    "  for i in range(num_layers):\n",
    "    outputs = encoder_layer(\n",
    "        units=units,\n",
    "        d_model=d_model,\n",
    "        num_heads=num_heads,\n",
    "        dropout=dropout,\n",
    "        name=\"encoder_layer_{}\".format(i),\n",
    "    )([outputs, padding_mask])\n",
    "\n",
    "  return tf.keras.Model(\n",
    "      inputs=[inputs, padding_mask], outputs=outputs, name=name)"
   ]
  },
  {
   "cell_type": "code",
   "execution_count": 20,
   "metadata": {},
   "outputs": [],
   "source": [
    "# 인코더만 구성하기\n",
    "def my_encoder(vocab_size,\n",
    "                num_layers,\n",
    "                units,\n",
    "                d_model,\n",
    "                num_heads,\n",
    "                dropout,\n",
    "                name=\"my_encoder\"):\n",
    "  inputs = tf.keras.Input(shape=(None,), name=\"inputs\")\n",
    "\n",
    "  # 인코더에서 패딩을 위한 마스크\n",
    "  enc_padding_mask = tf.keras.layers.Lambda(\n",
    "      create_padding_mask, output_shape=(1, 1, None),\n",
    "      name='enc_padding_mask')(inputs)\n",
    "\n",
    "  # 인코더\n",
    "  enc_outputs = encoder(\n",
    "      vocab_size=vocab_size,\n",
    "      num_layers=num_layers,\n",
    "      units=units,\n",
    "      d_model=d_model,\n",
    "      num_heads=num_heads,\n",
    "      dropout=dropout,\n",
    "  )(inputs=[inputs, enc_padding_mask])\n",
    "\n",
    "  # Global Average Pooling 적용 (or Max Pooling 가능)\n",
    "  outputs = tf.keras.layers.GlobalMaxPooling1D()(enc_outputs)\n",
    "\n",
    "  # 완전연결층\n",
    "  outputs = tf.keras.layers.Dense(256, activation=\"relu\", name='dense1')(outputs)\n",
    "  outputs = tf.keras.layers.Dense(128, activation=\"relu\", name='dense2')(outputs)\n",
    "  outputs = tf.keras.layers.Dense(units=5, activation=\"softmax\", name='outputs')(outputs)\n",
    "\n",
    "  return tf.keras.Model(inputs=inputs, outputs=outputs, name=name)"
   ]
  },
  {
   "cell_type": "code",
   "execution_count": 21,
   "metadata": {},
   "outputs": [
    {
     "name": "stdout",
     "output_type": "stream",
     "text": [
      "Model: \"my_encoder\"\n",
      "__________________________________________________________________________________________________\n",
      "Layer (type)                    Output Shape         Param #     Connected to                     \n",
      "==================================================================================================\n",
      "inputs (InputLayer)             [(None, None)]       0                                            \n",
      "__________________________________________________________________________________________________\n",
      "enc_padding_mask (Lambda)       (None, 1, 1, None)   0           inputs[0][0]                     \n",
      "__________________________________________________________________________________________________\n",
      "encoder (Functional)            (None, None, 256)    3157248     inputs[0][0]                     \n",
      "                                                                 enc_padding_mask[0][0]           \n",
      "__________________________________________________________________________________________________\n",
      "global_max_pooling1d (GlobalMax (None, 256)          0           encoder[0][0]                    \n",
      "__________________________________________________________________________________________________\n",
      "dense1 (Dense)                  (None, 256)          65792       global_max_pooling1d[0][0]       \n",
      "__________________________________________________________________________________________________\n",
      "dense2 (Dense)                  (None, 128)          32896       dense1[0][0]                     \n",
      "__________________________________________________________________________________________________\n",
      "outputs (Dense)                 (None, 5)            645         dense2[0][0]                     \n",
      "==================================================================================================\n",
      "Total params: 3,256,581\n",
      "Trainable params: 3,256,581\n",
      "Non-trainable params: 0\n",
      "__________________________________________________________________________________________________\n"
     ]
    }
   ],
   "source": [
    "# 모델 생성하기\n",
    "tf.keras.backend.clear_session()\n",
    "\n",
    "# 하이퍼파라미터\n",
    "NUM_LAYERS = 2 # 인코더와 디코더의 층의 개수\n",
    "D_MODEL = 256 # 인코더와 디코더 내부의 입, 출력의 고정 차원\n",
    "NUM_HEADS = 8 # 멀티 헤드 어텐션에서의 헤드 수 \n",
    "UNITS = 512 # 피드 포워드 신경망의 은닉층의 크기\n",
    "DROPOUT = 0.1 # 드롭아웃의 비율\n",
    "\n",
    "model = my_encoder(\n",
    "    vocab_size=VOCAB_SIZE,\n",
    "    num_layers=NUM_LAYERS,\n",
    "    units=UNITS,\n",
    "    d_model=D_MODEL,\n",
    "    num_heads=NUM_HEADS,\n",
    "    dropout=DROPOUT)\n",
    "\n",
    "model.summary()"
   ]
  },
  {
   "cell_type": "code",
   "execution_count": 22,
   "metadata": {},
   "outputs": [],
   "source": [
    "# 커스텀 학습률 스케줄링(Custom Learning rate Scheduling)\n",
    "class CustomSchedule(tf.keras.optimizers.schedules.LearningRateSchedule):\n",
    "\n",
    "  def __init__(self, d_model, warmup_steps=4000):\n",
    "    super(CustomSchedule, self).__init__()\n",
    "\n",
    "    self.d_model = d_model\n",
    "    self.d_model = tf.cast(self.d_model, tf.float32)\n",
    "\n",
    "    self.warmup_steps = warmup_steps\n",
    "\n",
    "  def __call__(self, step):\n",
    "    arg1 = tf.math.rsqrt(step)\n",
    "    arg2 = step * (self.warmup_steps**-1.5)\n",
    "\n",
    "    return tf.math.rsqrt(self.d_model) * tf.math.minimum(arg1, arg2)"
   ]
  },
  {
   "cell_type": "code",
   "execution_count": 23,
   "metadata": {},
   "outputs": [],
   "source": [
    "from tensorflow.keras.callbacks import EarlyStopping, ModelCheckpoint\n",
    "\n",
    "# EarlyStopping & ModelCheckpoint 설정\n",
    "early_stopping = EarlyStopping(\n",
    "    monitor='val_loss', patience=5, restore_best_weights=True, verbose=1)\n",
    "\n",
    "model_checkpoint = ModelCheckpoint(\n",
    "    \"best_model\", monitor='val_loss', save_best_only=True, mode='max', verbose=1, save_format=\"tf\", save_weights_only=True)\n",
    "\n",
    "callbacks = [early_stopping, model_checkpoint]\n"
   ]
  },
  {
   "cell_type": "code",
   "execution_count": 24,
   "metadata": {},
   "outputs": [],
   "source": [
    "# 모델 컴파일\n",
    "learning_rate = CustomSchedule(D_MODEL)\n",
    "\n",
    "optimizer = tf.keras.optimizers.Adam(\n",
    "    learning_rate, beta_1=0.9, beta_2=0.98, epsilon=1e-9)\n",
    "\n",
    "model.compile(optimizer=optimizer, loss=tf.keras.losses.SparseCategoricalCrossentropy(from_logits=False), metrics=[\"accuracy\"])"
   ]
  },
  {
   "cell_type": "code",
   "execution_count": 25,
   "metadata": {},
   "outputs": [
    {
     "name": "stdout",
     "output_type": "stream",
     "text": [
      "Train size: 2970, Validation size: 990, Test size: 990\n"
     ]
    }
   ],
   "source": [
    "# 데이터셋 크기 확인\n",
    "dataset_size = len(conversation)  # 입력 데이터 개수\n",
    "train_size = int(0.6 * dataset_size)  # 80% 훈련 데이터\n",
    "val_size = int(0.2 * dataset_size)  # 10% 검증 데이터\n",
    "test_size = dataset_size - train_size - val_size  # 10% 테스트 데이터\n",
    "\n",
    "train_df\n",
    "\n",
    "# 데이터셋 생성\n",
    "BATCH_SIZE = 64\n",
    "BUFFER_SIZE = 10000\n",
    "\n",
    "# TensorFlow Dataset 생성\n",
    "dataset = tf.data.Dataset.from_tensor_slices((\n",
    "    {'inputs': conversation},  # 입력 데이터\n",
    "    {'outputs': train_df['class_encoded'].values}  # 출력 데이터 (라벨)\n",
    "))\n",
    "\n",
    "dataset = dataset.cache().shuffle(BUFFER_SIZE)\n",
    "\n",
    "# 데이터셋 분할\n",
    "train_dataset = dataset.take(train_size).batch(BATCH_SIZE).prefetch(tf.data.AUTOTUNE)\n",
    "val_dataset = dataset.skip(train_size).take(val_size).batch(BATCH_SIZE).prefetch(tf.data.AUTOTUNE)\n",
    "test_dataset = dataset.skip(train_size + val_size).batch(BATCH_SIZE).prefetch(tf.data.AUTOTUNE)\n",
    "\n",
    "# 데이터셋 크기 출력\n",
    "print(f\"Train size: {train_size}, Validation size: {val_size}, Test size: {test_size}\")\n"
   ]
  },
  {
   "cell_type": "code",
   "execution_count": 31,
   "metadata": {},
   "outputs": [
    {
     "name": "stdout",
     "output_type": "stream",
     "text": [
      "Epoch 1/100\n",
      "47/47 [==============================] - 6s 48ms/step - loss: 1.6823 - accuracy: 0.2155 - val_loss: 1.5991 - val_accuracy: 0.2727\n",
      "\n",
      "Epoch 00001: val_loss improved from -inf to 1.59914, saving model to best_model\n",
      "Epoch 2/100\n",
      "47/47 [==============================] - 2s 37ms/step - loss: 1.5681 - accuracy: 0.2875 - val_loss: 1.5215 - val_accuracy: 0.3515\n",
      "\n",
      "Epoch 00002: val_loss did not improve from 1.59914\n",
      "Epoch 3/100\n",
      "47/47 [==============================] - 2s 37ms/step - loss: 1.4722 - accuracy: 0.3623 - val_loss: 1.3705 - val_accuracy: 0.4465\n",
      "\n",
      "Epoch 00003: val_loss did not improve from 1.59914\n",
      "Epoch 4/100\n",
      "47/47 [==============================] - 2s 37ms/step - loss: 1.3315 - accuracy: 0.4064 - val_loss: 1.2060 - val_accuracy: 0.4606\n",
      "\n",
      "Epoch 00004: val_loss did not improve from 1.59914\n",
      "Epoch 5/100\n",
      "47/47 [==============================] - 2s 37ms/step - loss: 1.1646 - accuracy: 0.4862 - val_loss: 1.0534 - val_accuracy: 0.5646\n",
      "\n",
      "Epoch 00005: val_loss did not improve from 1.59914\n",
      "Epoch 6/100\n",
      "47/47 [==============================] - 2s 37ms/step - loss: 1.0653 - accuracy: 0.5347 - val_loss: 0.9583 - val_accuracy: 0.6333\n",
      "\n",
      "Epoch 00006: val_loss did not improve from 1.59914\n",
      "Epoch 7/100\n",
      "47/47 [==============================] - 2s 37ms/step - loss: 0.9838 - accuracy: 0.5855 - val_loss: 0.8046 - val_accuracy: 0.7131\n",
      "\n",
      "Epoch 00007: val_loss did not improve from 1.59914\n",
      "Epoch 8/100\n",
      "47/47 [==============================] - 2s 37ms/step - loss: 0.8309 - accuracy: 0.6902 - val_loss: 0.5964 - val_accuracy: 0.8111\n",
      "\n",
      "Epoch 00008: val_loss did not improve from 1.59914\n",
      "Epoch 9/100\n",
      "47/47 [==============================] - 2s 37ms/step - loss: 0.6153 - accuracy: 0.7811 - val_loss: 0.4929 - val_accuracy: 0.8232\n",
      "\n",
      "Epoch 00009: val_loss did not improve from 1.59914\n",
      "Epoch 10/100\n",
      "47/47 [==============================] - 2s 37ms/step - loss: 0.4908 - accuracy: 0.8226 - val_loss: 0.3241 - val_accuracy: 0.8919\n",
      "\n",
      "Epoch 00010: val_loss did not improve from 1.59914\n",
      "Epoch 11/100\n",
      "47/47 [==============================] - 2s 37ms/step - loss: 0.3477 - accuracy: 0.8785 - val_loss: 0.2384 - val_accuracy: 0.9162\n",
      "\n",
      "Epoch 00011: val_loss did not improve from 1.59914\n",
      "Epoch 12/100\n",
      "47/47 [==============================] - 2s 37ms/step - loss: 0.2653 - accuracy: 0.9135 - val_loss: 0.1434 - val_accuracy: 0.9545\n",
      "\n",
      "Epoch 00012: val_loss did not improve from 1.59914\n",
      "Epoch 13/100\n",
      "47/47 [==============================] - 2s 37ms/step - loss: 0.1907 - accuracy: 0.9380 - val_loss: 0.0967 - val_accuracy: 0.9737\n",
      "\n",
      "Epoch 00013: val_loss did not improve from 1.59914\n",
      "Epoch 14/100\n",
      "47/47 [==============================] - 2s 37ms/step - loss: 0.1936 - accuracy: 0.9354 - val_loss: 0.0486 - val_accuracy: 0.9869\n",
      "\n",
      "Epoch 00014: val_loss did not improve from 1.59914\n",
      "Epoch 15/100\n",
      "47/47 [==============================] - 2s 37ms/step - loss: 0.0950 - accuracy: 0.9667 - val_loss: 0.0219 - val_accuracy: 0.9970\n",
      "\n",
      "Epoch 00015: val_loss did not improve from 1.59914\n",
      "Epoch 16/100\n",
      "47/47 [==============================] - 2s 37ms/step - loss: 0.0628 - accuracy: 0.9771 - val_loss: 0.0291 - val_accuracy: 0.9919\n",
      "\n",
      "Epoch 00016: val_loss did not improve from 1.59914\n",
      "Epoch 17/100\n",
      "47/47 [==============================] - 2s 37ms/step - loss: 0.0380 - accuracy: 0.9886 - val_loss: 0.0338 - val_accuracy: 0.9869\n",
      "\n",
      "Epoch 00017: val_loss did not improve from 1.59914\n",
      "Epoch 18/100\n",
      "47/47 [==============================] - 2s 37ms/step - loss: 0.0513 - accuracy: 0.9811 - val_loss: 0.0170 - val_accuracy: 0.9939\n",
      "\n",
      "Epoch 00018: val_loss did not improve from 1.59914\n",
      "Epoch 19/100\n",
      "47/47 [==============================] - 2s 37ms/step - loss: 0.0284 - accuracy: 0.9906 - val_loss: 0.0565 - val_accuracy: 0.9758\n",
      "\n",
      "Epoch 00019: val_loss did not improve from 1.59914\n",
      "Epoch 20/100\n",
      "47/47 [==============================] - 2s 37ms/step - loss: 0.0367 - accuracy: 0.9859 - val_loss: 0.0022 - val_accuracy: 1.0000\n",
      "\n",
      "Epoch 00020: val_loss did not improve from 1.59914\n",
      "Epoch 21/100\n",
      "47/47 [==============================] - 2s 37ms/step - loss: 0.0217 - accuracy: 0.9926 - val_loss: 0.0051 - val_accuracy: 0.9990\n",
      "\n",
      "Epoch 00021: val_loss did not improve from 1.59914\n",
      "Epoch 22/100\n",
      "47/47 [==============================] - 2s 37ms/step - loss: 0.0162 - accuracy: 0.9943 - val_loss: 0.0048 - val_accuracy: 0.9990\n",
      "\n",
      "Epoch 00022: val_loss did not improve from 1.59914\n",
      "Epoch 23/100\n",
      "47/47 [==============================] - 2s 37ms/step - loss: 0.0354 - accuracy: 0.9892 - val_loss: 0.0018 - val_accuracy: 0.9990\n",
      "\n",
      "Epoch 00023: val_loss did not improve from 1.59914\n",
      "Epoch 24/100\n",
      "47/47 [==============================] - 2s 37ms/step - loss: 0.0354 - accuracy: 0.9862 - val_loss: 0.0114 - val_accuracy: 0.9960\n",
      "\n",
      "Epoch 00024: val_loss did not improve from 1.59914\n",
      "Epoch 25/100\n",
      "47/47 [==============================] - 2s 38ms/step - loss: 0.0610 - accuracy: 0.9778 - val_loss: 0.0444 - val_accuracy: 0.9828\n",
      "\n",
      "Epoch 00025: val_loss did not improve from 1.59914\n",
      "Epoch 26/100\n",
      "47/47 [==============================] - 2s 37ms/step - loss: 0.0317 - accuracy: 0.9892 - val_loss: 0.0018 - val_accuracy: 1.0000\n",
      "\n",
      "Epoch 00026: val_loss did not improve from 1.59914\n",
      "Epoch 27/100\n",
      "47/47 [==============================] - 2s 38ms/step - loss: 0.0145 - accuracy: 0.9949 - val_loss: 5.9509e-04 - val_accuracy: 1.0000\n",
      "\n",
      "Epoch 00027: val_loss did not improve from 1.59914\n",
      "Epoch 28/100\n",
      "47/47 [==============================] - 2s 37ms/step - loss: 0.0141 - accuracy: 0.9943 - val_loss: 4.1193e-04 - val_accuracy: 1.0000\n",
      "\n",
      "Epoch 00028: val_loss did not improve from 1.59914\n",
      "Epoch 29/100\n",
      "47/47 [==============================] - 2s 37ms/step - loss: 0.0287 - accuracy: 0.9909 - val_loss: 0.0064 - val_accuracy: 0.9970\n",
      "\n",
      "Epoch 00029: val_loss did not improve from 1.59914\n",
      "Epoch 30/100\n",
      "47/47 [==============================] - 2s 38ms/step - loss: 0.0343 - accuracy: 0.9896 - val_loss: 0.0132 - val_accuracy: 0.9939\n",
      "\n",
      "Epoch 00030: val_loss did not improve from 1.59914\n",
      "Epoch 31/100\n",
      "47/47 [==============================] - 2s 38ms/step - loss: 0.0200 - accuracy: 0.9936 - val_loss: 0.0075 - val_accuracy: 0.9980\n",
      "\n",
      "Epoch 00031: val_loss did not improve from 1.59914\n",
      "Epoch 32/100\n",
      "47/47 [==============================] - 2s 38ms/step - loss: 0.0193 - accuracy: 0.9939 - val_loss: 9.5821e-04 - val_accuracy: 1.0000\n",
      "\n",
      "Epoch 00032: val_loss did not improve from 1.59914\n",
      "Epoch 33/100\n",
      "47/47 [==============================] - 2s 38ms/step - loss: 0.0141 - accuracy: 0.9960 - val_loss: 0.0046 - val_accuracy: 0.9990\n",
      "Restoring model weights from the end of the best epoch.\n",
      "\n",
      "Epoch 00033: val_loss did not improve from 1.59914\n",
      "Epoch 00033: early stopping\n"
     ]
    },
    {
     "data": {
      "text/plain": [
       "<keras.callbacks.History at 0x7a3e77ecf9a0>"
      ]
     },
     "execution_count": 31,
     "metadata": {},
     "output_type": "execute_result"
    }
   ],
   "source": [
    "# 모델 학습\n",
    "EPOCHS = 100\n",
    "model.fit(train_dataset, \n",
    "          validation_data=val_dataset, \n",
    "          epochs=EPOCHS, \n",
    "          callbacks=callbacks)"
   ]
  },
  {
   "cell_type": "code",
   "execution_count": 26,
   "metadata": {},
   "outputs": [
    {
     "name": "stdout",
     "output_type": "stream",
     "text": [
      "Epoch 1/100\n",
      "47/47 [==============================] - 19s 50ms/step - loss: 1.8795 - accuracy: 0.2387 - val_loss: 1.5610 - val_accuracy: 0.3081\n",
      "\n",
      "Epoch 00001: val_loss improved from -inf to 1.56104, saving model to best_model\n",
      "Epoch 2/100\n",
      "47/47 [==============================] - 2s 37ms/step - loss: 1.5444 - accuracy: 0.3178 - val_loss: 1.5427 - val_accuracy: 0.2949\n",
      "\n",
      "Epoch 00002: val_loss did not improve from 1.56104\n",
      "Epoch 3/100\n",
      "47/47 [==============================] - 2s 37ms/step - loss: 1.4569 - accuracy: 0.3704 - val_loss: 1.4371 - val_accuracy: 0.3364\n",
      "\n",
      "Epoch 00003: val_loss did not improve from 1.56104\n",
      "Epoch 4/100\n",
      "47/47 [==============================] - 2s 37ms/step - loss: 1.3007 - accuracy: 0.4263 - val_loss: 1.1867 - val_accuracy: 0.4222\n",
      "\n",
      "Epoch 00004: val_loss did not improve from 1.56104\n",
      "Epoch 5/100\n",
      "47/47 [==============================] - 2s 37ms/step - loss: 1.1608 - accuracy: 0.4697 - val_loss: 1.1278 - val_accuracy: 0.4535\n",
      "\n",
      "Epoch 00005: val_loss did not improve from 1.56104\n",
      "Epoch 6/100\n",
      "47/47 [==============================] - 2s 37ms/step - loss: 1.0977 - accuracy: 0.4963 - val_loss: 0.9985 - val_accuracy: 0.5677\n",
      "\n",
      "Epoch 00006: val_loss did not improve from 1.56104\n",
      "Epoch 7/100\n",
      "47/47 [==============================] - 2s 37ms/step - loss: 1.0226 - accuracy: 0.5626 - val_loss: 0.8798 - val_accuracy: 0.6929\n",
      "\n",
      "Epoch 00007: val_loss did not improve from 1.56104\n",
      "Epoch 8/100\n",
      "47/47 [==============================] - 2s 37ms/step - loss: 0.8730 - accuracy: 0.6663 - val_loss: 0.6847 - val_accuracy: 0.7747\n",
      "\n",
      "Epoch 00008: val_loss did not improve from 1.56104\n",
      "Epoch 9/100\n",
      "47/47 [==============================] - 2s 37ms/step - loss: 0.7043 - accuracy: 0.7431 - val_loss: 0.4756 - val_accuracy: 0.8596\n",
      "\n",
      "Epoch 00009: val_loss did not improve from 1.56104\n",
      "Epoch 10/100\n",
      "47/47 [==============================] - 2s 37ms/step - loss: 0.5073 - accuracy: 0.8323 - val_loss: 0.3163 - val_accuracy: 0.9010\n",
      "\n",
      "Epoch 00010: val_loss did not improve from 1.56104\n",
      "Epoch 11/100\n",
      "47/47 [==============================] - 2s 37ms/step - loss: 0.4044 - accuracy: 0.8505 - val_loss: 0.2306 - val_accuracy: 0.9354\n",
      "\n",
      "Epoch 00011: val_loss did not improve from 1.56104\n",
      "Epoch 12/100\n",
      "47/47 [==============================] - 2s 37ms/step - loss: 0.2872 - accuracy: 0.9013 - val_loss: 0.1539 - val_accuracy: 0.9545\n",
      "\n",
      "Epoch 00012: val_loss did not improve from 1.56104\n",
      "Epoch 13/100\n",
      "47/47 [==============================] - 2s 37ms/step - loss: 0.2005 - accuracy: 0.9387 - val_loss: 0.0962 - val_accuracy: 0.9717\n",
      "\n",
      "Epoch 00013: val_loss did not improve from 1.56104\n",
      "Epoch 14/100\n",
      "47/47 [==============================] - 2s 37ms/step - loss: 0.1524 - accuracy: 0.9485 - val_loss: 0.0354 - val_accuracy: 0.9919\n",
      "\n",
      "Epoch 00014: val_loss did not improve from 1.56104\n",
      "Epoch 15/100\n",
      "47/47 [==============================] - 2s 37ms/step - loss: 0.0968 - accuracy: 0.9687 - val_loss: 0.0352 - val_accuracy: 0.9909\n",
      "\n",
      "Epoch 00015: val_loss did not improve from 1.56104\n",
      "Epoch 16/100\n",
      "47/47 [==============================] - 2s 37ms/step - loss: 0.0813 - accuracy: 0.9737 - val_loss: 0.0383 - val_accuracy: 0.9899\n",
      "\n",
      "Epoch 00016: val_loss did not improve from 1.56104\n",
      "Epoch 17/100\n",
      "47/47 [==============================] - 2s 37ms/step - loss: 0.0542 - accuracy: 0.9795 - val_loss: 0.0244 - val_accuracy: 0.9949\n",
      "\n",
      "Epoch 00017: val_loss did not improve from 1.56104\n",
      "Epoch 18/100\n",
      "47/47 [==============================] - 2s 37ms/step - loss: 0.0367 - accuracy: 0.9889 - val_loss: 0.0198 - val_accuracy: 0.9960\n",
      "\n",
      "Epoch 00018: val_loss did not improve from 1.56104\n",
      "Epoch 19/100\n",
      "47/47 [==============================] - 2s 37ms/step - loss: 0.0331 - accuracy: 0.9902 - val_loss: 0.0048 - val_accuracy: 0.9990\n",
      "\n",
      "Epoch 00019: val_loss did not improve from 1.56104\n",
      "Epoch 20/100\n",
      "47/47 [==============================] - 2s 37ms/step - loss: 0.0553 - accuracy: 0.9805 - val_loss: 0.0026 - val_accuracy: 0.9990\n",
      "\n",
      "Epoch 00020: val_loss did not improve from 1.56104\n",
      "Epoch 21/100\n",
      "47/47 [==============================] - 2s 37ms/step - loss: 0.0494 - accuracy: 0.9828 - val_loss: 0.0076 - val_accuracy: 0.9980\n",
      "\n",
      "Epoch 00021: val_loss did not improve from 1.56104\n",
      "Epoch 22/100\n",
      "47/47 [==============================] - 2s 37ms/step - loss: 0.0138 - accuracy: 0.9970 - val_loss: 0.0031 - val_accuracy: 0.9990\n",
      "\n",
      "Epoch 00022: val_loss did not improve from 1.56104\n",
      "Epoch 23/100\n",
      "47/47 [==============================] - 2s 37ms/step - loss: 0.0084 - accuracy: 0.9966 - val_loss: 0.3025 - val_accuracy: 0.9182\n",
      "\n",
      "Epoch 00023: val_loss did not improve from 1.56104\n",
      "Epoch 24/100\n",
      "47/47 [==============================] - 2s 38ms/step - loss: 0.0712 - accuracy: 0.9771 - val_loss: 0.0043 - val_accuracy: 0.9990\n",
      "\n",
      "Epoch 00024: val_loss did not improve from 1.56104\n",
      "Epoch 25/100\n",
      "47/47 [==============================] - 2s 37ms/step - loss: 0.0187 - accuracy: 0.9943 - val_loss: 0.0144 - val_accuracy: 0.9960\n",
      "Restoring model weights from the end of the best epoch.\n",
      "\n",
      "Epoch 00025: val_loss did not improve from 1.56104\n",
      "Epoch 00025: early stopping\n"
     ]
    },
    {
     "data": {
      "image/png": "[encoded data removed]",
      "text/plain": [
       "<Figure size 864x360 with 2 Axes>"
      ]
     },
     "metadata": {
      "needs_background": "light"
     },
     "output_type": "display_data"
    }
   ],
   "source": [
    "import matplotlib.pyplot as plt\n",
    "\n",
    "# 모델 학습 실행 (history 저장)\n",
    "EPOCHS = 100\n",
    "history = model.fit(\n",
    "    train_dataset, \n",
    "    validation_data=val_dataset, \n",
    "    epochs=EPOCHS, \n",
    "    callbacks=callbacks\n",
    ")\n",
    "\n",
    "# 학습 결과(history) 가져오기\n",
    "train_loss = history.history['loss']\n",
    "val_loss = history.history['val_loss']\n",
    "train_acc = history.history.get('accuracy', history.history.get('acc'))  # 'accuracy' 또는 'acc' 키 확인\n",
    "val_acc = history.history.get('val_accuracy', history.history.get('val_acc'))  # 'val_accuracy' 또는 'val_acc' 키 확인\n",
    "\n",
    "# 에포크 값 생성\n",
    "epochs = range(1, len(train_loss) + 1)\n",
    "\n",
    "# Loss 그래프\n",
    "plt.figure(figsize=(12, 5))\n",
    "plt.subplot(1, 2, 1)\n",
    "plt.plot(epochs, train_loss, 'b-', label='Training Loss')\n",
    "plt.plot(epochs, val_loss, 'r-', label='Validation Loss')\n",
    "plt.xlabel('Epochs')\n",
    "plt.ylabel('Loss')\n",
    "plt.title('Training & Validation Loss')\n",
    "plt.legend()\n",
    "\n",
    "# Accuracy 그래프\n",
    "plt.subplot(1, 2, 2)\n",
    "plt.plot(epochs, train_acc, 'b-', label='Training Accuracy')\n",
    "plt.plot(epochs, val_acc, 'r-', label='Validation Accuracy')\n",
    "plt.xlabel('Epochs')\n",
    "plt.ylabel('Accuracy')\n",
    "plt.title('Training & Validation Accuracy')\n",
    "plt.legend()\n",
    "\n",
    "plt.show()\n"
   ]
  },
  {
   "cell_type": "code",
   "execution_count": 27,
   "metadata": {},
   "outputs": [
    {
     "data": {
      "text/plain": [
       "3    649\n",
       "4    614\n",
       "1    586\n",
       "2    577\n",
       "0    544\n",
       "dtype: int64"
      ]
     },
     "execution_count": 27,
     "metadata": {},
     "output_type": "execute_result"
    }
   ],
   "source": [
    "# test_dataset에서 X, y 추출\n",
    "\n",
    "# X와 y 리스트 생성\n",
    "X_train = []\n",
    "y_train = []\n",
    "\n",
    "# test_dataset에서 inputs(X)와 outputs(y) 추출\n",
    "for x, y in train_dataset:\n",
    "    X_train.extend(x['inputs'].numpy())  # X 값 (입력 데이터)\n",
    "    y_train.extend(y['outputs'].numpy())  # y 값 (라벨 데이터)\n",
    "\n",
    "# 리스트를 NumPy 배열로 변환\n",
    "X_train = np.array(X_train)\n",
    "y_train = np.array(y_train)\n",
    "\n",
    "pd.value_counts(y_train)\n"
   ]
  },
  {
   "cell_type": "code",
   "execution_count": 28,
   "metadata": {},
   "outputs": [
    {
     "data": {
      "text/plain": [
       "2    213\n",
       "3    212\n",
       "1    198\n",
       "4    196\n",
       "0    171\n",
       "dtype: int64"
      ]
     },
     "execution_count": 28,
     "metadata": {},
     "output_type": "execute_result"
    }
   ],
   "source": [
    "# test_dataset에서 X, y 추출\n",
    "\n",
    "# X와 y 리스트 생성\n",
    "X_val = []\n",
    "y_val = []\n",
    "\n",
    "# test_dataset에서 inputs(X)와 outputs(y) 추출\n",
    "for x, y in val_dataset:\n",
    "    X_val.extend(x['inputs'].numpy())  # X 값 (입력 데이터)\n",
    "    y_val.extend(y['outputs'].numpy())  # y 값 (라벨 데이터)\n",
    "\n",
    "# 리스트를 NumPy 배열로 변환\n",
    "X_val = np.array(X_val)\n",
    "y_val = np.array(y_val)\n",
    "\n",
    "pd.value_counts(y_val)\n"
   ]
  },
  {
   "cell_type": "code",
   "execution_count": 29,
   "metadata": {},
   "outputs": [
    {
     "data": {
      "text/plain": [
       "(3960, 100)"
      ]
     },
     "execution_count": 29,
     "metadata": {},
     "output_type": "execute_result"
    }
   ],
   "source": [
    "temp = np.concatenate([X_train, X_val], axis=0)\n",
    "temp.shape"
   ]
  },
  {
   "cell_type": "code",
   "execution_count": 32,
   "metadata": {},
   "outputs": [
    {
     "data": {
      "text/plain": [
       "(3289, 100)"
      ]
     },
     "execution_count": 32,
     "metadata": {},
     "output_type": "execute_result"
    }
   ],
   "source": [
    "np.unique(temp, axis=0).shape"
   ]
  },
  {
   "cell_type": "markdown",
   "metadata": {},
   "source": [
    "# Test dataset으로 확인하기"
   ]
  },
  {
   "cell_type": "code",
   "execution_count": 69,
   "metadata": {},
   "outputs": [
    {
     "name": "stdout",
     "output_type": "stream",
     "text": [
      "47/47 [==============================] - 1s 13ms/step - loss: 0.0018 - accuracy: 1.0000\n"
     ]
    },
    {
     "data": {
      "text/plain": [
       "[0.001823259750381112, 1.0]"
      ]
     },
     "execution_count": 69,
     "metadata": {},
     "output_type": "execute_result"
    }
   ],
   "source": [
    "# 모델 평가 (train_dataset을 사용)\n",
    "model.evaluate(train_dataset)"
   ]
  },
  {
   "cell_type": "code",
   "execution_count": 70,
   "metadata": {},
   "outputs": [
    {
     "name": "stdout",
     "output_type": "stream",
     "text": [
      "16/16 [==============================] - 0s 13ms/step - loss: 0.0025 - accuracy: 0.9990\n"
     ]
    },
    {
     "data": {
      "text/plain": [
       "[0.0025207968428730965, 0.9989898800849915]"
      ]
     },
     "execution_count": 70,
     "metadata": {},
     "output_type": "execute_result"
    }
   ],
   "source": [
    "# 모델 평가 (validation_dataset을 사용)\n",
    "model.evaluate(val_dataset)"
   ]
  },
  {
   "cell_type": "code",
   "execution_count": 71,
   "metadata": {},
   "outputs": [
    {
     "name": "stdout",
     "output_type": "stream",
     "text": [
      "16/16 [==============================] - 0s 13ms/step - loss: 0.0018 - accuracy: 1.0000\n"
     ]
    },
    {
     "data": {
      "text/plain": [
       "[0.0018482889281585813, 1.0]"
      ]
     },
     "execution_count": 71,
     "metadata": {},
     "output_type": "execute_result"
    }
   ],
   "source": [
    "# 모델 평가 (train_dataset을 사용)\n",
    "model.evaluate(test_dataset)"
   ]
  },
  {
   "cell_type": "code",
   "execution_count": 72,
   "metadata": {},
   "outputs": [
    {
     "name": "stdout",
     "output_type": "stream",
     "text": [
      "X_test shape: (990, 100)\n",
      "y_test shape: (990,)\n"
     ]
    }
   ],
   "source": [
    "# test_dataset에서 X, y 추출\n",
    "\n",
    "# X와 y 리스트 생성\n",
    "X_test = []\n",
    "y_test = []\n",
    "\n",
    "# test_dataset에서 inputs(X)와 outputs(y) 추출\n",
    "for x, y in test_dataset:\n",
    "    X_test.extend(x['inputs'].numpy())  # X 값 (입력 데이터)\n",
    "    y_test.extend(y['outputs'].numpy())  # y 값 (라벨 데이터)\n",
    "\n",
    "# 리스트를 NumPy 배열로 변환\n",
    "X_test = np.array(X_test)\n",
    "y_test = np.array(y_test)\n",
    "\n",
    "print(\"X_test shape:\", X_test.shape)\n",
    "print(\"y_test shape:\", y_test.shape)\n"
   ]
  },
  {
   "cell_type": "code",
   "execution_count": 73,
   "metadata": {},
   "outputs": [
    {
     "data": {
      "text/plain": [
       "array([0, 0, 2, 3, 3])"
      ]
     },
     "execution_count": 73,
     "metadata": {},
     "output_type": "execute_result"
    }
   ],
   "source": [
    "def get_pred(X_test):\n",
    "    y_pred = model.predict(X_test)\n",
    "    y_pred = np.argmax(y_pred, axis=-1)\n",
    "    \n",
    "    return y_pred\n",
    "\n",
    "y_pred = get_pred(X_test)\n",
    "y_pred[:5]"
   ]
  },
  {
   "cell_type": "code",
   "execution_count": 74,
   "metadata": {},
   "outputs": [
    {
     "name": "stdout",
     "output_type": "stream",
     "text": [
      "              precision    recall  f1-score   support\n",
      "\n",
      "           0     1.0000    1.0000    1.0000       196\n",
      "           1     1.0000    1.0000    1.0000       218\n",
      "           2     1.0000    1.0000    1.0000       186\n",
      "           3     1.0000    1.0000    1.0000       214\n",
      "           4     1.0000    1.0000    1.0000       176\n",
      "\n",
      "    accuracy                         1.0000       990\n",
      "   macro avg     1.0000    1.0000    1.0000       990\n",
      "weighted avg     1.0000    1.0000    1.0000       990\n",
      "\n"
     ]
    }
   ],
   "source": [
    "from sklearn.metrics import classification_report\n",
    "\n",
    "report = classification_report(y_test, y_pred, digits=4)\n",
    "print(report)"
   ]
  },
  {
   "cell_type": "markdown",
   "metadata": {},
   "source": [
    "# 추론 및 Submission 저장"
   ]
  },
  {
   "cell_type": "code",
   "execution_count": 32,
   "metadata": {},
   "outputs": [
    {
     "data": {
      "text/html": [
       "<div>\n",
       "<style scoped>\n",
       "    .dataframe tbody tr th:only-of-type {\n",
       "        vertical-align: middle;\n",
       "    }\n",
       "\n",
       "    .dataframe tbody tr th {\n",
       "        vertical-align: top;\n",
       "    }\n",
       "\n",
       "    .dataframe thead th {\n",
       "        text-align: right;\n",
       "    }\n",
       "</style>\n",
       "<table border=\"1\" class=\"dataframe\">\n",
       "  <thead>\n",
       "    <tr style=\"text-align: right;\">\n",
       "      <th></th>\n",
       "      <th>idx</th>\n",
       "      <th>target</th>\n",
       "    </tr>\n",
       "  </thead>\n",
       "  <tbody>\n",
       "    <tr>\n",
       "      <th>0</th>\n",
       "      <td>t_000</td>\n",
       "      <td>1</td>\n",
       "    </tr>\n",
       "    <tr>\n",
       "      <th>1</th>\n",
       "      <td>t_001</td>\n",
       "      <td>2</td>\n",
       "    </tr>\n",
       "    <tr>\n",
       "      <th>2</th>\n",
       "      <td>t_002</td>\n",
       "      <td>2</td>\n",
       "    </tr>\n",
       "    <tr>\n",
       "      <th>3</th>\n",
       "      <td>t_003</td>\n",
       "      <td>2</td>\n",
       "    </tr>\n",
       "    <tr>\n",
       "      <th>4</th>\n",
       "      <td>t_004</td>\n",
       "      <td>3</td>\n",
       "    </tr>\n",
       "  </tbody>\n",
       "</table>\n",
       "</div>"
      ],
      "text/plain": [
       "     idx  target\n",
       "0  t_000       1\n",
       "1  t_001       2\n",
       "2  t_002       2\n",
       "3  t_003       2\n",
       "4  t_004       3"
      ]
     },
     "execution_count": 32,
     "metadata": {},
     "output_type": "execute_result"
    }
   ],
   "source": [
    "def make_submission_df(model, test_df):\n",
    "    test_conversation = test_df['text'].apply(preprocess_sentence)\n",
    "    test_conversation = tokenize_and_filter(test_conversation)\n",
    "    \n",
    "    y_pred = get_pred(test_conversation)\n",
    "    \n",
    "    test_df['target'] = y_pred\n",
    "    test_df.drop(['text'], axis=1, inplace=True)\n",
    "    \n",
    "    return test_df\n",
    "\n",
    "test_df = make_submission_df(model, test_df)\n",
    "test_df.to_csv('my_submission.csv', index=False)\n",
    "test_df.head()"
   ]
  },
  {
   "cell_type": "code",
   "execution_count": 33,
   "metadata": {},
   "outputs": [],
   "source": [
    "# 기타"
   ]
  },
  {
   "cell_type": "code",
   "execution_count": 34,
   "metadata": {},
   "outputs": [
    {
     "data": {
      "text/plain": [
       "array([0, 2, 3, 0, 1, 4, 0, 4, 1, 1, 2, 4, 4, 2, 2, 2, 2, 4, 1, 2, 3, 1,\n",
       "       2, 3, 2, 4, 1, 2, 4, 1, 3, 3, 0, 4, 3, 2, 0, 3, 1, 1, 2, 4, 0, 0,\n",
       "       4, 2, 1, 0, 0, 3, 0, 3, 4, 0, 4, 4, 4, 3, 1, 0, 3, 2, 3, 2, 2, 1,\n",
       "       3, 4, 0, 3, 1, 2, 0, 0, 4, 2, 3, 0, 0, 3, 4, 3, 3, 4, 4, 4, 2, 0,\n",
       "       4, 0, 4, 1, 3, 1, 1, 4, 1, 3, 4, 4, 0, 0, 3, 0, 2, 4, 0, 3, 0, 2,\n",
       "       0, 2, 1, 3, 1, 2, 1, 4, 3, 4, 1, 3, 1, 0, 4, 0, 1, 1, 3, 4, 3, 2,\n",
       "       0, 1, 2, 4, 2, 4, 4, 1, 3, 0, 3, 0, 3, 3, 1, 2, 3, 0, 4, 0, 2, 0,\n",
       "       0, 3, 0, 1, 0, 1, 4, 0, 0, 4, 2, 0, 4, 0, 0, 3, 0, 3, 4, 1, 3, 1,\n",
       "       2, 4, 3, 4, 3, 3, 0, 3, 1, 0, 1, 2, 4, 2, 4, 2, 1, 3, 1, 3, 4, 4,\n",
       "       1, 2, 1, 1, 3, 4, 1, 2, 3, 1, 1, 0, 3, 3, 3, 1, 4, 3, 4, 4, 4, 2,\n",
       "       3, 3, 2, 2, 3, 2, 3, 3, 1, 1, 3, 3, 1, 3, 4, 3, 0, 4, 4, 3, 4, 4,\n",
       "       1, 1, 1, 1, 4, 3, 0, 3, 1, 4, 4, 1, 2, 0, 4, 4, 4, 0, 1, 2, 1, 4,\n",
       "       2, 2, 2, 4, 1, 4, 3, 2, 4, 1, 2, 3, 2, 3, 4, 4, 2, 4, 3, 3, 2, 1,\n",
       "       3, 3, 1, 1, 1, 1, 3, 3, 3, 4, 3, 3, 1, 0, 3, 0, 3, 2, 3, 3, 3, 1,\n",
       "       1, 0, 1, 0, 1, 2, 2, 1, 2, 3, 1, 3, 3, 0, 0, 2, 2, 3, 0, 1, 1, 1,\n",
       "       3, 1, 4, 2, 0, 2, 4, 2, 2, 3, 2, 1, 0, 2, 3, 3, 4, 3, 1, 4, 2, 1,\n",
       "       4, 0, 3, 4, 4, 4, 3, 3, 3, 1, 2, 1, 0, 4, 4, 0, 1, 3, 1, 3, 1, 0,\n",
       "       2, 3, 0, 3, 0, 3, 1, 0, 3, 4, 3, 0, 1, 1, 0, 1, 3, 1, 4, 0, 3, 3,\n",
       "       0, 4, 0, 2, 2, 1, 4, 4, 3, 2, 4, 2, 3, 2, 0, 3, 0, 0, 2, 3, 2, 1,\n",
       "       2, 0, 3, 0, 4, 0, 1, 0, 2, 3, 1, 1, 1, 0, 4, 0, 3, 0, 4, 3, 0, 2,\n",
       "       1, 3, 2, 2, 3, 0, 4, 4, 3, 0, 4, 4, 2, 0, 2, 1, 1, 2, 3, 0, 3, 4,\n",
       "       2, 4, 3, 4, 1, 0, 2, 1, 0, 0, 3, 4, 4, 4, 3, 0, 4, 3, 4, 3, 3, 1,\n",
       "       0, 2, 0, 1, 3, 1, 2, 2, 1, 4, 3, 4, 4, 0, 0, 1, 0, 2, 2, 4, 0, 4,\n",
       "       4, 1, 4, 2, 4, 1, 4, 2, 3, 4, 3, 4, 0, 4, 3, 3, 0, 3, 3, 1, 3, 0,\n",
       "       2, 3, 1, 0, 0, 3, 1, 3, 3, 0, 2, 1, 1, 2, 0, 0, 1, 3, 4, 3, 3, 3,\n",
       "       3, 4, 2, 1, 4, 2, 3, 4, 3, 0, 3, 1, 2, 0, 0, 0, 3, 2, 4, 4, 3, 2,\n",
       "       1, 0, 4, 2, 2, 0, 4, 3, 2, 4, 1, 1, 0, 1, 4, 3, 4, 4, 4, 2, 0, 0,\n",
       "       4, 3, 4, 1, 0, 1, 1, 2, 3, 1, 2, 4, 0, 3, 3, 2, 4, 0, 3, 0, 3, 0,\n",
       "       0, 0, 3, 3, 1, 2, 3, 4, 3, 2, 0, 4, 3, 2, 2, 0, 2, 1, 2, 4, 1, 2,\n",
       "       3, 0, 2, 4, 1, 2, 3, 3, 0, 3, 3, 0, 2, 3, 1, 1, 3, 1, 0, 0, 2, 1,\n",
       "       3, 0, 1, 2, 4, 4, 2, 0, 2, 1, 4, 2, 0, 0, 1, 3, 0, 3, 3, 1, 3, 4,\n",
       "       3, 3, 0, 1, 2, 3, 2, 0, 2, 1, 3, 4, 3, 2, 1, 1, 1, 4, 2, 1, 0, 4,\n",
       "       3, 1, 0, 2, 4, 1, 4, 4, 0, 4, 0, 3, 3, 4, 1, 0, 4, 0, 1, 1, 4, 0,\n",
       "       3, 2, 1, 0, 3, 4, 4, 4, 2, 3, 4, 4, 0, 2, 0, 2, 4, 3, 3, 4, 4, 4,\n",
       "       4, 4, 3, 1, 4, 3, 4, 0, 3, 1, 1, 0, 3, 3, 4, 1, 4, 4, 2, 2, 2, 3,\n",
       "       0, 0, 4, 3, 0, 4, 3, 1, 3, 1, 0, 3, 3, 0, 4, 2, 0, 0, 2, 1, 4, 4,\n",
       "       1, 3, 3, 3, 1, 0, 4, 4, 3, 0, 3, 1, 1, 4, 1, 4, 2, 0, 2, 4, 0, 3,\n",
       "       1, 2, 2, 4, 4, 4, 1, 3, 3, 1, 2, 3, 1, 2, 3, 1, 1, 2, 3, 3, 1, 0,\n",
       "       4, 1, 2, 0, 2, 2, 4, 2, 4, 0, 4, 0, 2, 0, 0, 0, 2, 4, 0, 2, 3, 4,\n",
       "       4, 4, 4, 3, 2, 4, 1, 0, 4, 0, 2, 2, 1, 4, 4, 3, 2, 3, 0, 0, 1, 0,\n",
       "       1, 3, 0, 1, 3, 3, 1, 2, 2, 0, 2, 0, 2, 2, 4, 2, 4, 1, 0, 2, 1, 2,\n",
       "       2, 2, 2, 2, 3, 1, 2, 0, 1, 0, 0, 2, 2, 4, 2, 1, 4, 3, 3, 0, 2, 4,\n",
       "       2, 2, 4, 0, 3, 3, 3, 4, 3, 2, 4, 0, 3, 2, 2, 2, 2, 1, 2, 0, 0, 3,\n",
       "       2, 1, 0, 1, 3, 0, 0, 3, 3, 2, 2, 0, 4, 3, 1, 4, 1, 2, 1, 0, 1, 2,\n",
       "       1, 3, 3, 3, 2, 4, 1, 2, 1, 1, 3, 1, 4, 1, 1, 2, 2, 0, 4, 2, 1, 2])"
      ]
     },
     "execution_count": 34,
     "metadata": {},
     "output_type": "execute_result"
    }
   ],
   "source": [
    "# test_dataset에서 X, y 추출\n",
    "\n",
    "# X와 y 리스트 생성\n",
    "X_test = []\n",
    "y_test = []\n",
    "\n",
    "# test_dataset에서 inputs(X)와 outputs(y) 추출\n",
    "for x, y in test_dataset:\n",
    "    X_test.extend(x['inputs'].numpy())  # X 값 (입력 데이터)\n",
    "    y_test.extend(y['outputs'].numpy())  # y 값 (라벨 데이터)\n",
    "\n",
    "# 리스트를 NumPy 배열로 변환\n",
    "X_test = np.array(X_test)\n",
    "y_test = np.array(y_test)\n",
    "\n",
    "y_test"
   ]
  },
  {
   "cell_type": "code",
   "execution_count": 41,
   "metadata": {},
   "outputs": [
    {
     "data": {
      "text/plain": [
       "3    1094\n",
       "4    1000\n",
       "1     981\n",
       "2     979\n",
       "0     896\n",
       "Name: class_encoded, dtype: int64"
      ]
     },
     "execution_count": 41,
     "metadata": {},
     "output_type": "execute_result"
    }
   ],
   "source": [
    "train_df['class_encoded'].value_counts()"
   ]
  },
  {
   "cell_type": "code",
   "execution_count": 1,
   "metadata": {},
   "outputs": [
    {
     "ename": "NameError",
     "evalue": "name 'train_dataset' is not defined",
     "output_type": "error",
     "traceback": [
      "\u001b[0;31m---------------------------------------------------------------------------\u001b[0m",
      "\u001b[0;31mNameError\u001b[0m                                 Traceback (most recent call last)",
      "\u001b[0;32m/tmp/ipykernel_1783/450339232.py\u001b[0m in \u001b[0;36m<module>\u001b[0;34m\u001b[0m\n\u001b[1;32m      6\u001b[0m \u001b[0;34m\u001b[0m\u001b[0m\n\u001b[1;32m      7\u001b[0m \u001b[0;31m# test_dataset에서 inputs(X)와 outputs(y) 추출\u001b[0m\u001b[0;34m\u001b[0m\u001b[0;34m\u001b[0m\u001b[0m\n\u001b[0;32m----> 8\u001b[0;31m \u001b[0;32mfor\u001b[0m \u001b[0mx\u001b[0m\u001b[0;34m,\u001b[0m \u001b[0my\u001b[0m \u001b[0;32min\u001b[0m \u001b[0mtrain_dataset\u001b[0m\u001b[0;34m:\u001b[0m\u001b[0;34m\u001b[0m\u001b[0;34m\u001b[0m\u001b[0m\n\u001b[0m\u001b[1;32m      9\u001b[0m     \u001b[0mX_test\u001b[0m\u001b[0;34m.\u001b[0m\u001b[0mextend\u001b[0m\u001b[0;34m(\u001b[0m\u001b[0mx\u001b[0m\u001b[0;34m[\u001b[0m\u001b[0;34m'inputs'\u001b[0m\u001b[0;34m]\u001b[0m\u001b[0;34m.\u001b[0m\u001b[0mnumpy\u001b[0m\u001b[0;34m(\u001b[0m\u001b[0;34m)\u001b[0m\u001b[0;34m)\u001b[0m  \u001b[0;31m# X 값 (입력 데이터)\u001b[0m\u001b[0;34m\u001b[0m\u001b[0;34m\u001b[0m\u001b[0m\n\u001b[1;32m     10\u001b[0m     \u001b[0my_test\u001b[0m\u001b[0;34m.\u001b[0m\u001b[0mextend\u001b[0m\u001b[0;34m(\u001b[0m\u001b[0my\u001b[0m\u001b[0;34m[\u001b[0m\u001b[0;34m'outputs'\u001b[0m\u001b[0;34m]\u001b[0m\u001b[0;34m.\u001b[0m\u001b[0mnumpy\u001b[0m\u001b[0;34m(\u001b[0m\u001b[0;34m)\u001b[0m\u001b[0;34m)\u001b[0m  \u001b[0;31m# y 값 (라벨 데이터)\u001b[0m\u001b[0;34m\u001b[0m\u001b[0;34m\u001b[0m\u001b[0m\n",
      "\u001b[0;31mNameError\u001b[0m: name 'train_dataset' is not defined"
     ]
    }
   ],
   "source": [
    "# test_dataset에서 X, y 추출\n",
    "\n",
    "# X와 y 리스트 생성\n",
    "X_test = []\n",
    "y_test = []\n",
    "\n",
    "# test_dataset에서 inputs(X)와 outputs(y) 추출\n",
    "for x, y in train_dataset:\n",
    "    X_test.extend(x['inputs'].numpy())  # X 값 (입력 데이터)\n",
    "    y_test.extend(y['outputs'].numpy())  # y 값 (라벨 데이터)\n",
    "\n",
    "# 리스트를 NumPy 배열로 변환\n",
    "X_test = np.array(X_test)\n",
    "y_test = np.array(y_test)\n",
    "\n",
    "print(\"X_test shape:\", X_test.shape)\n",
    "print(\"y_test shape:\", y_test.shape)\n"
   ]
  },
  {
   "cell_type": "code",
   "execution_count": null,
   "metadata": {},
   "outputs": [],
   "source": []
  }
 ],
 "metadata": {
  "kernelspec": {
   "display_name": "Python 3 (ipykernel)",
   "language": "python",
   "name": "python3"
  },
  "language_info": {
   "codemirror_mode": {
    "name": "ipython",
    "version": 3
   },
   "file_extension": ".py",
   "mimetype": "text/x-python",
   "name": "python",
   "nbconvert_exporter": "python",
   "pygments_lexer": "ipython3",
   "version": "3.9.7"
  }
 },
 "nbformat": 4,
 "nbformat_minor": 2
}
