{
 "cells": [
  {
   "cell_type": "code",
   "execution_count": 1,
   "id": "b4624c3e",
   "metadata": {},
   "outputs": [],
   "source": [
    "import tensorflow as tf\n",
    "import tensorflow_datasets as tfds\n",
    "import os\n",
    "import re\n",
    "import numpy as np\n",
    "import matplotlib.pyplot as plt"
   ]
  },
  {
   "cell_type": "code",
   "execution_count": 2,
   "id": "4318c801",
   "metadata": {},
   "outputs": [],
   "source": [
    "# 트랜스포머 모델 생성에 필요한 함수\n",
    "\n",
    "# 포지셔널 인코딩 레이어\n",
    "class PositionalEncoding(tf.keras.layers.Layer):\n",
    "\n",
    "  def __init__(self, position, d_model):\n",
    "    super(PositionalEncoding, self).__init__()\n",
    "    self.pos_encoding = self.positional_encoding(position, d_model)\n",
    "\n",
    "  def get_angles(self, position, i, d_model):\n",
    "    angles = 1 / tf.pow(10000, (2 * (i // 2)) / tf.cast(d_model, tf.float32))\n",
    "    return position * angles\n",
    "\n",
    "  def positional_encoding(self, position, d_model):\n",
    "    # 각도 배열 생성\n",
    "    angle_rads = self.get_angles(\n",
    "        position=tf.range(position, dtype=tf.float32)[:, tf.newaxis],\n",
    "        i=tf.range(d_model, dtype=tf.float32)[tf.newaxis, :],\n",
    "        d_model=d_model)\n",
    "\n",
    "    # 배열의 짝수 인덱스에는 sin 함수 적용\n",
    "    sines = tf.math.sin(angle_rads[:, 0::2])\n",
    "    # 배열의 홀수 인덱스에는 cosine 함수 적용\n",
    "    cosines = tf.math.cos(angle_rads[:, 1::2])\n",
    "\n",
    "    # sin과 cosine이 교차되도록 재배열\n",
    "    pos_encoding = tf.stack([sines, cosines], axis=0)\n",
    "    pos_encoding = tf.transpose(pos_encoding,[1, 2, 0]) \n",
    "    pos_encoding = tf.reshape(pos_encoding, [position, d_model])\n",
    "\n",
    "    pos_encoding = pos_encoding[tf.newaxis, ...]\n",
    "    return tf.cast(pos_encoding, tf.float32)\n",
    "\n",
    "  def call(self, inputs):\n",
    "    return inputs + self.pos_encoding[:, :tf.shape(inputs)[1], :]\n",
    "\n",
    "# 스케일드 닷 프로덕트 어텐션 함수\n",
    "def scaled_dot_product_attention(query, key, value, mask):\n",
    "  # 어텐션 가중치는 Q와 K의 닷 프로덕트\n",
    "  matmul_qk = tf.matmul(query, key, transpose_b=True)\n",
    "\n",
    "  # 가중치를 정규화\n",
    "  depth = tf.cast(tf.shape(key)[-1], tf.float32)\n",
    "  logits = matmul_qk / tf.math.sqrt(depth)\n",
    "\n",
    "  # 패딩에 마스크 추가\n",
    "  if mask is not None:\n",
    "    logits += (mask * -1e9)\n",
    "\n",
    "  # softmax적용\n",
    "  attention_weights = tf.nn.softmax(logits, axis=-1)\n",
    "\n",
    "  # 최종 어텐션은 가중치와 V의 닷 프로덕트\n",
    "  output = tf.matmul(attention_weights, value)\n",
    "  return output\n",
    "\n",
    "# 멀티 헤드 어텐션 구현하기\n",
    "class MultiHeadAttention(tf.keras.layers.Layer):\n",
    "\n",
    "  def __init__(self, d_model, num_heads, name=\"multi_head_attention\"):\n",
    "    super(MultiHeadAttention, self).__init__(name=name)\n",
    "    self.num_heads = num_heads\n",
    "    self.d_model = d_model\n",
    "\n",
    "    assert d_model % self.num_heads == 0\n",
    "\n",
    "    self.depth = d_model // self.num_heads\n",
    "\n",
    "    self.query_dense = tf.keras.layers.Dense(units=d_model)\n",
    "    self.key_dense = tf.keras.layers.Dense(units=d_model)\n",
    "    self.value_dense = tf.keras.layers.Dense(units=d_model)\n",
    "\n",
    "    self.dense = tf.keras.layers.Dense(units=d_model)\n",
    "\n",
    "  def split_heads(self, inputs, batch_size):\n",
    "    inputs = tf.reshape(\n",
    "        inputs, shape=(batch_size, -1, self.num_heads, self.depth))\n",
    "    return tf.transpose(inputs, perm=[0, 2, 1, 3])\n",
    "\n",
    "  def call(self, inputs):\n",
    "    query, key, value, mask = inputs['query'], inputs['key'], inputs[\n",
    "        'value'], inputs['mask']\n",
    "    batch_size = tf.shape(query)[0]\n",
    "\n",
    "    # Q, K, V에 각각 Dense를 적용합니다\n",
    "    query = self.query_dense(query)\n",
    "    key = self.key_dense(key)\n",
    "    value = self.value_dense(value)\n",
    "\n",
    "    # 병렬 연산을 위한 머리를 여러 개 만듭니다\n",
    "    query = self.split_heads(query, batch_size)\n",
    "    key = self.split_heads(key, batch_size)\n",
    "    value = self.split_heads(value, batch_size)\n",
    "\n",
    "    # 스케일드 닷 프로덕트 어텐션 함수\n",
    "    scaled_attention = scaled_dot_product_attention(query, key, value, mask)\n",
    "\n",
    "    scaled_attention = tf.transpose(scaled_attention, perm=[0, 2, 1, 3])\n",
    "\n",
    "    # 어텐션 연산 후에 각 결과를 다시 연결(concatenate)합니다\n",
    "    concat_attention = tf.reshape(scaled_attention,\n",
    "                                  (batch_size, -1, self.d_model))\n",
    "\n",
    "    # 최종 결과에도 Dense를 한 번 더 적용합니다\n",
    "    outputs = self.dense(concat_attention)\n",
    "\n",
    "    return outputs\n",
    "\n",
    "# 패딩 마스크 구현 함수\n",
    "def create_padding_mask(x):\n",
    "  mask = tf.cast(tf.math.equal(x, 0), tf.float32)\n",
    "  # (batch_size, 1, 1, sequence length)\n",
    "  return mask[:, tf.newaxis, tf.newaxis, :]\n",
    "\n",
    "# 룩 어헤드 마스킹 구현 함수\n",
    "def create_look_ahead_mask(x):\n",
    "  seq_len = tf.shape(x)[1]\n",
    "  look_ahead_mask = 1 - tf.linalg.band_part(tf.ones((seq_len, seq_len)), -1, 0)\n",
    "  padding_mask = create_padding_mask(x)\n",
    "  return tf.maximum(look_ahead_mask, padding_mask)\n",
    "\n",
    "# 인코더 하나의 레이어를 함수로 구현.\n",
    "# 이 하나의 레이어 안에는 두 개의 서브 레이어가 존재합니다.\n",
    "def encoder_layer(units, d_model, num_heads, dropout, name=\"encoder_layer\"):\n",
    "  inputs = tf.keras.Input(shape=(None, d_model), name=\"inputs\")\n",
    "\n",
    "  # 패딩 마스크 사용\n",
    "  padding_mask = tf.keras.Input(shape=(1, 1, None), name=\"padding_mask\")\n",
    "\n",
    "  # 첫 번째 서브 레이어 : 멀티 헤드 어텐션 수행 (셀프 어텐션)\n",
    "  attention = MultiHeadAttention(\n",
    "      d_model, num_heads, name=\"attention\")({\n",
    "          'query': inputs,\n",
    "          'key': inputs,\n",
    "          'value': inputs,\n",
    "          'mask': padding_mask\n",
    "      })\n",
    "\n",
    "  # 어텐션의 결과는 Dropout과 Layer Normalization이라는 훈련을 돕는 테크닉을 수행\n",
    "  attention = tf.keras.layers.Dropout(rate=dropout)(attention)\n",
    "  attention = tf.keras.layers.LayerNormalization(\n",
    "      epsilon=1e-6)(inputs + attention)\n",
    "\n",
    "  # 두 번째 서브 레이어 : 2개의 완전연결층\n",
    "  outputs = tf.keras.layers.Dense(units=units, activation='relu')(attention)\n",
    "  outputs = tf.keras.layers.Dense(units=d_model)(outputs)\n",
    "\n",
    "  # 완전연결층의 결과는 Dropout과 LayerNormalization이라는 훈련을 돕는 테크닉을 수행\n",
    "  outputs = tf.keras.layers.Dropout(rate=dropout)(outputs)\n",
    "  outputs = tf.keras.layers.LayerNormalization(\n",
    "      epsilon=1e-6)(attention + outputs)\n",
    "\n",
    "  return tf.keras.Model(\n",
    "      inputs=[inputs, padding_mask], outputs=outputs, name=name)\n",
    "\n",
    "# 인코더 생성하기\n",
    "def encoder(vocab_size,\n",
    "            num_layers,\n",
    "            units,\n",
    "            d_model,\n",
    "            num_heads,\n",
    "            dropout,\n",
    "            name=\"encoder\"):\n",
    "  inputs = tf.keras.Input(shape=(None,), name=\"inputs\")\n",
    "\n",
    "  # 패딩 마스크 사용\n",
    "  padding_mask = tf.keras.Input(shape=(1, 1, None), name=\"padding_mask\")\n",
    "\n",
    "  # 임베딩 레이어\n",
    "  embeddings = tf.keras.layers.Embedding(vocab_size, d_model)(inputs)\n",
    "  embeddings *= tf.math.sqrt(tf.cast(d_model, tf.float32))\n",
    "\n",
    "  # 포지셔널 인코딩\n",
    "  embeddings = PositionalEncoding(vocab_size, d_model)(embeddings)\n",
    "\n",
    "  outputs = tf.keras.layers.Dropout(rate=dropout)(embeddings)\n",
    "\n",
    "  # num_layers만큼 쌓아올린 인코더의 층.\n",
    "  for i in range(num_layers):\n",
    "    outputs = encoder_layer(\n",
    "        units=units,\n",
    "        d_model=d_model,\n",
    "        num_heads=num_heads,\n",
    "        dropout=dropout,\n",
    "        name=\"encoder_layer_{}\".format(i),\n",
    "    )([outputs, padding_mask])\n",
    "\n",
    "  return tf.keras.Model(\n",
    "      inputs=[inputs, padding_mask], outputs=outputs, name=name)\n",
    "\n",
    "# 디코더 하나의 레이어를 함수로 구현.\n",
    "# 이 하나의 레이어 안에는 세 개의 서브 레이어가 존재합니다.\n",
    "def decoder_layer(units, d_model, num_heads, dropout, name=\"decoder_layer\"):\n",
    "  inputs = tf.keras.Input(shape=(None, d_model), name=\"inputs\")\n",
    "  enc_outputs = tf.keras.Input(shape=(None, d_model), name=\"encoder_outputs\")\n",
    "  look_ahead_mask = tf.keras.Input(\n",
    "      shape=(1, None, None), name=\"look_ahead_mask\")\n",
    "  padding_mask = tf.keras.Input(shape=(1, 1, None), name='padding_mask')\n",
    "\n",
    "  # 첫 번째 서브 레이어 : 멀티 헤드 어텐션 수행 (셀프 어텐션)\n",
    "  attention1 = MultiHeadAttention(\n",
    "      d_model, num_heads, name=\"attention_1\")(inputs={\n",
    "          'query': inputs,\n",
    "          'key': inputs,\n",
    "          'value': inputs,\n",
    "          'mask': look_ahead_mask\n",
    "      })\n",
    "\n",
    "  # 멀티 헤드 어텐션의 결과는 LayerNormalization이라는 훈련을 돕는 테크닉을 수행\n",
    "  attention1 = tf.keras.layers.LayerNormalization(\n",
    "      epsilon=1e-6)(attention1 + inputs)\n",
    "\n",
    "  # 두 번째 서브 레이어 : 마스크드 멀티 헤드 어텐션 수행 (인코더-디코더 어텐션)\n",
    "  attention2 = MultiHeadAttention(\n",
    "      d_model, num_heads, name=\"attention_2\")(inputs={\n",
    "          'query': attention1,\n",
    "          'key': enc_outputs,\n",
    "          'value': enc_outputs,\n",
    "          'mask': padding_mask\n",
    "      })\n",
    "\n",
    "  # 마스크드 멀티 헤드 어텐션의 결과는\n",
    "  # Dropout과 LayerNormalization이라는 훈련을 돕는 테크닉을 수행\n",
    "  attention2 = tf.keras.layers.Dropout(rate=dropout)(attention2)\n",
    "  attention2 = tf.keras.layers.LayerNormalization(\n",
    "      epsilon=1e-6)(attention2 + attention1)\n",
    "\n",
    "  # 세 번째 서브 레이어 : 2개의 완전연결층\n",
    "  outputs = tf.keras.layers.Dense(units=units, activation='relu')(attention2)\n",
    "  outputs = tf.keras.layers.Dense(units=d_model)(outputs)\n",
    "\n",
    "  # 완전연결층의 결과는 Dropout과 LayerNormalization 수행\n",
    "  outputs = tf.keras.layers.Dropout(rate=dropout)(outputs)\n",
    "  outputs = tf.keras.layers.LayerNormalization(\n",
    "      epsilon=1e-6)(outputs + attention2)\n",
    "\n",
    "  return tf.keras.Model(\n",
    "      inputs=[inputs, enc_outputs, look_ahead_mask, padding_mask],\n",
    "      outputs=outputs,\n",
    "      name=name)\n",
    "\n",
    "# 디코더 생성하기\n",
    "def decoder(vocab_size,\n",
    "            num_layers,\n",
    "            units,\n",
    "            d_model,\n",
    "            num_heads,\n",
    "            dropout,\n",
    "            name='decoder'):\n",
    "  inputs = tf.keras.Input(shape=(None,), name='inputs')\n",
    "  enc_outputs = tf.keras.Input(shape=(None, d_model), name='encoder_outputs')\n",
    "  look_ahead_mask = tf.keras.Input(\n",
    "      shape=(1, None, None), name='look_ahead_mask')\n",
    "\n",
    "  # 패딩 마스크\n",
    "  padding_mask = tf.keras.Input(shape=(1, 1, None), name='padding_mask')\n",
    "  \n",
    "  # 임베딩 레이어\n",
    "  embeddings = tf.keras.layers.Embedding(vocab_size, d_model)(inputs)\n",
    "  embeddings *= tf.math.sqrt(tf.cast(d_model, tf.float32))\n",
    "\n",
    "  # 포지셔널 인코딩\n",
    "  embeddings = PositionalEncoding(vocab_size, d_model)(embeddings)\n",
    "\n",
    "  # Dropout이라는 훈련을 돕는 테크닉을 수행\n",
    "  outputs = tf.keras.layers.Dropout(rate=dropout)(embeddings)\n",
    "\n",
    "  for i in range(num_layers):\n",
    "    outputs = decoder_layer(\n",
    "        units=units,\n",
    "        d_model=d_model,\n",
    "        num_heads=num_heads,\n",
    "        dropout=dropout,\n",
    "        name='decoder_layer_{}'.format(i),\n",
    "    )(inputs=[outputs, enc_outputs, look_ahead_mask, padding_mask])\n",
    "\n",
    "  return tf.keras.Model(\n",
    "      inputs=[inputs, enc_outputs, look_ahead_mask, padding_mask],\n",
    "      outputs=outputs,\n",
    "      name=name)"
   ]
  },
  {
   "cell_type": "code",
   "execution_count": 3,
   "id": "98fd096c",
   "metadata": {},
   "outputs": [
    {
     "data": {
      "text/html": [
       "<div>\n",
       "<style scoped>\n",
       "    .dataframe tbody tr th:only-of-type {\n",
       "        vertical-align: middle;\n",
       "    }\n",
       "\n",
       "    .dataframe tbody tr th {\n",
       "        vertical-align: top;\n",
       "    }\n",
       "\n",
       "    .dataframe thead th {\n",
       "        text-align: right;\n",
       "    }\n",
       "</style>\n",
       "<table border=\"1\" class=\"dataframe\">\n",
       "  <thead>\n",
       "    <tr style=\"text-align: right;\">\n",
       "      <th></th>\n",
       "      <th>Q</th>\n",
       "      <th>A</th>\n",
       "      <th>label</th>\n",
       "    </tr>\n",
       "  </thead>\n",
       "  <tbody>\n",
       "    <tr>\n",
       "      <th>0</th>\n",
       "      <td>12시 땡!</td>\n",
       "      <td>하루가 또 가네요.</td>\n",
       "      <td>0</td>\n",
       "    </tr>\n",
       "    <tr>\n",
       "      <th>1</th>\n",
       "      <td>1지망 학교 떨어졌어</td>\n",
       "      <td>위로해 드립니다.</td>\n",
       "      <td>0</td>\n",
       "    </tr>\n",
       "    <tr>\n",
       "      <th>2</th>\n",
       "      <td>3박4일 놀러가고 싶다</td>\n",
       "      <td>여행은 언제나 좋죠.</td>\n",
       "      <td>0</td>\n",
       "    </tr>\n",
       "    <tr>\n",
       "      <th>3</th>\n",
       "      <td>3박4일 정도 놀러가고 싶다</td>\n",
       "      <td>여행은 언제나 좋죠.</td>\n",
       "      <td>0</td>\n",
       "    </tr>\n",
       "    <tr>\n",
       "      <th>4</th>\n",
       "      <td>PPL 심하네</td>\n",
       "      <td>눈살이 찌푸려지죠.</td>\n",
       "      <td>0</td>\n",
       "    </tr>\n",
       "  </tbody>\n",
       "</table>\n",
       "</div>"
      ],
      "text/plain": [
       "                 Q            A  label\n",
       "0           12시 땡!   하루가 또 가네요.      0\n",
       "1      1지망 학교 떨어졌어    위로해 드립니다.      0\n",
       "2     3박4일 놀러가고 싶다  여행은 언제나 좋죠.      0\n",
       "3  3박4일 정도 놀러가고 싶다  여행은 언제나 좋죠.      0\n",
       "4          PPL 심하네   눈살이 찌푸려지죠.      0"
      ]
     },
     "execution_count": 3,
     "metadata": {},
     "output_type": "execute_result"
    }
   ],
   "source": [
    "import pandas as pd\n",
    "# 데이터 로드\n",
    "# https://github.com/songys/Chatbot_data/blob/master/ChatbotData.csv\n",
    "# 송영숙님이 공개한 챗봇 데이터\n",
    "data_path = os.path.join('~/aiffel/transformer_chatbot/data/ChatbotData .csv')\n",
    "origin_data_df = pd.read_csv(data_path)\n",
    "origin_data_df.head()"
   ]
  },
  {
   "cell_type": "code",
   "execution_count": 4,
   "id": "609f4073",
   "metadata": {},
   "outputs": [
    {
     "name": "stdout",
     "output_type": "stream",
     "text": [
      "(11823, 3)\n"
     ]
    }
   ],
   "source": [
    "print(origin_data_df.shape)"
   ]
  },
  {
   "cell_type": "code",
   "execution_count": 5,
   "id": "164308d0",
   "metadata": {},
   "outputs": [],
   "source": [
    "# 전처리 함수\n",
    "def preprocess_sentence(sentence):\n",
    "  # 입력받은 sentence를 소문자로 변경하고 양쪽 공백을 제거\n",
    "  sentence = sentence.lower().strip()\n",
    "\n",
    "  # 단어와 구두점(punctuation) 사이의 거리를 만듭니다.\n",
    "  # 예를 들어서 \"I am a student.\" => \"I am a student .\"와 같이\n",
    "  # student와 온점 사이에 거리를 만듭니다.\n",
    "  sentence = re.sub(r\"([?.!,])\", r\" \\1 \", sentence) # ?.!, 앞뒤로 공백 추가\n",
    "  sentence = re.sub(r'[\" \"]+', \" \", sentence) # 연속된 공백 한개의 공백으로\n",
    "\n",
    "  # (a-z, A-Z, \".\", \"?\", \"!\", \",\")를 제외한 모든 문자를 공백인 ' '로 대체합니다.\n",
    "  sentence = re.sub(r\"[^a-zA-Z\\u1100-\\u11FF\\uAC00-\\uD7AF.,?!]\", \" \", sentence)\n",
    "  sentence = sentence.strip()\n",
    "  return sentence"
   ]
  },
  {
   "cell_type": "code",
   "execution_count": 6,
   "id": "5a27f5bf",
   "metadata": {},
   "outputs": [
    {
     "data": {
      "text/plain": [
       "0                           시 땡 !\n",
       "1                      지망 학교 떨어졌어\n",
       "2                     박 일 놀러가고 싶다\n",
       "3                  박 일 정도 놀러가고 싶다\n",
       "4                         ppl 심하네\n",
       "                   ...           \n",
       "11818             훔쳐보는 것도 눈치 보임 .\n",
       "11819             훔쳐보는 것도 눈치 보임 .\n",
       "11820                흑기사 해주는 짝남 .\n",
       "11821    힘든 연애 좋은 연애라는게 무슨 차이일까 ?\n",
       "11822                  힘들어서 결혼할까봐\n",
       "Name: Q, Length: 11823, dtype: object"
      ]
     },
     "execution_count": 6,
     "metadata": {},
     "output_type": "execute_result"
    }
   ],
   "source": [
    "origin_data_df['Q'].apply(preprocess_sentence)"
   ]
  },
  {
   "cell_type": "code",
   "execution_count": 7,
   "id": "f559bf94",
   "metadata": {},
   "outputs": [],
   "source": [
    "# 질문과 답변의 쌍인 데이터셋을 구성하기 위한 데이터 로드 함수\n",
    "def load_conversations():\n",
    "    inputs = origin_data_df['Q'].apply(preprocess_sentence).values\n",
    "    outputs = origin_data_df['A'].apply(preprocess_sentence).values\n",
    "    \n",
    "    return inputs, outputs"
   ]
  },
  {
   "cell_type": "code",
   "execution_count": 8,
   "id": "16c3e818",
   "metadata": {},
   "outputs": [
    {
     "name": "stdout",
     "output_type": "stream",
     "text": [
      "전체 샘플 수 : 11823\n",
      "전체 샘플 수 : 11823\n"
     ]
    }
   ],
   "source": [
    "# 데이터를 로드하고 전처리하여 질문을 questions, 답변을 answers에 저장합니다.\n",
    "questions, answers = load_conversations()\n",
    "print('전체 샘플 수 :', len(questions))\n",
    "print('전체 샘플 수 :', len(answers))"
   ]
  },
  {
   "cell_type": "code",
   "execution_count": 9,
   "id": "b7bce2b1",
   "metadata": {},
   "outputs": [
    {
     "name": "stdout",
     "output_type": "stream",
     "text": [
      "전처리 후의 1998번째 질문 샘플: 배가 너무 고파\n",
      "전처리 후의 1998번째 답변 샘플: 뭐 좀 챙겨드세요 .\n"
     ]
    }
   ],
   "source": [
    "print('전처리 후의 1998번째 질문 샘플: {}'.format(questions[1998]))\n",
    "print('전처리 후의 1998번째 답변 샘플: {}'.format(answers[1998]))"
   ]
  },
  {
   "cell_type": "code",
   "execution_count": 10,
   "id": "fbc487e2",
   "metadata": {},
   "outputs": [],
   "source": [
    "import tensorflow_datasets as tfds\n",
    "\n",
    "# 질문과 답변 데이터셋에 대해서 Vocabulary 생성\n",
    "tokenizer = tfds.deprecated.text.SubwordTextEncoder.build_from_corpus(questions + answers, target_vocab_size=2**13)"
   ]
  },
  {
   "cell_type": "code",
   "execution_count": 11,
   "id": "07d6c9d6",
   "metadata": {},
   "outputs": [
    {
     "name": "stdout",
     "output_type": "stream",
     "text": [
      "START_TOKEN의 번호 : [8331]\n",
      "END_TOKEN의 번호 : [8332]\n"
     ]
    }
   ],
   "source": [
    "# 시작 토큰과 종료 토큰에 고유한 정수를 부여합니다.\n",
    "START_TOKEN, END_TOKEN = [tokenizer.vocab_size], [tokenizer.vocab_size + 1]\n",
    "\n",
    "print('START_TOKEN의 번호 :' ,[tokenizer.vocab_size])\n",
    "print('END_TOKEN의 번호 :' ,[tokenizer.vocab_size + 1])"
   ]
  },
  {
   "cell_type": "code",
   "execution_count": 12,
   "id": "4dd9b8ee",
   "metadata": {},
   "outputs": [
    {
     "name": "stdout",
     "output_type": "stream",
     "text": [
      "8333\n"
     ]
    }
   ],
   "source": [
    "# 시작 토큰과 종료 토큰을 고려하여 +2를 하여 단어장의 크기를 산정합니다.\n",
    "VOCAB_SIZE = tokenizer.vocab_size + 2\n",
    "print(VOCAB_SIZE)"
   ]
  },
  {
   "cell_type": "code",
   "execution_count": 13,
   "id": "fc218106",
   "metadata": {},
   "outputs": [
    {
     "name": "stdout",
     "output_type": "stream",
     "text": [
      "정수 인코딩 후의 1998번째 질문 샘플: [7261, 6, 108, 1122]\n",
      "정수 인코딩 후의 1998번째 답변 샘플: [151, 24, 2810, 1]\n"
     ]
    }
   ],
   "source": [
    "# 임의의 22번째 샘플에 대해서 정수 인코딩 작업을 수행.\n",
    "# 각 토큰을 고유한 정수로 변환\n",
    "print('정수 인코딩 후의 1998번째 질문 샘플: {}'.format(tokenizer.encode(questions[1998])))\n",
    "print('정수 인코딩 후의 1998번째 답변 샘플: {}'.format(tokenizer.encode(answers[1998])))"
   ]
  },
  {
   "cell_type": "code",
   "execution_count": 14,
   "id": "5d340e28",
   "metadata": {},
   "outputs": [
    {
     "data": {
      "text/plain": [
       "(['배가', '너무', '고파'], ['뭐', '좀', '챙겨드세요', '.'])"
      ]
     },
     "execution_count": 14,
     "metadata": {},
     "output_type": "execute_result"
    }
   ],
   "source": [
    "# 뭐지?...\n",
    "questions[1998].split(), answers[1998].split()"
   ]
  },
  {
   "cell_type": "code",
   "execution_count": 15,
   "id": "1d94a471",
   "metadata": {},
   "outputs": [
    {
     "data": {
      "text/plain": [
       "[6, 5, 7, 8, 4]"
      ]
     },
     "execution_count": 15,
     "metadata": {},
     "output_type": "execute_result"
    }
   ],
   "source": [
    "temp = list(map(lambda x : len(x.split()), (questions + answers)))\n",
    "temp[:5]"
   ]
  },
  {
   "cell_type": "code",
   "execution_count": 16,
   "id": "a2df2a75",
   "metadata": {},
   "outputs": [
    {
     "data": {
      "image/png": "[encoded data removed]",
      "text/plain": [
       "<Figure size 432x288 with 1 Axes>"
      ]
     },
     "metadata": {
      "needs_background": "light"
     },
     "output_type": "display_data"
    }
   ],
   "source": [
    "plt.hist(temp)\n",
    "plt.show()"
   ]
  },
  {
   "cell_type": "code",
   "execution_count": 17,
   "id": "f395f46d",
   "metadata": {},
   "outputs": [
    {
     "name": "stdout",
     "output_type": "stream",
     "text": [
      "15\n"
     ]
    }
   ],
   "source": [
    "# 샘플의 최대 허용 길이 또는 패딩 후의 최종 길이\n",
    "MAX_LENGTH = 15\n",
    "print(MAX_LENGTH)"
   ]
  },
  {
   "cell_type": "code",
   "execution_count": 18,
   "id": "d67aa11a",
   "metadata": {},
   "outputs": [],
   "source": [
    "# 정수 인코딩, 최대 길이를 초과하는 샘플 제거, 패딩\n",
    "def tokenize_and_filter(inputs, outputs):\n",
    "  tokenized_inputs, tokenized_outputs = [], []\n",
    "  \n",
    "  for (sentence1, sentence2) in zip(inputs, outputs):\n",
    "    # 정수 인코딩 과정에서 시작 토큰과 종료 토큰을 추가\n",
    "    sentence1 = START_TOKEN + tokenizer.encode(sentence1) + END_TOKEN\n",
    "    sentence2 = START_TOKEN + tokenizer.encode(sentence2) + END_TOKEN\n",
    "\n",
    "    # 최대 길이 40 이하인 경우에만 데이터셋으로 허용\n",
    "    if len(sentence1) <= MAX_LENGTH and len(sentence2) <= MAX_LENGTH:\n",
    "      tokenized_inputs.append(sentence1)\n",
    "      tokenized_outputs.append(sentence2)\n",
    "  \n",
    "  # 최대 길이 40으로 모든 데이터셋을 패딩\n",
    "  tokenized_inputs = tf.keras.preprocessing.sequence.pad_sequences(\n",
    "      tokenized_inputs, maxlen=MAX_LENGTH, padding='post')\n",
    "  tokenized_outputs = tf.keras.preprocessing.sequence.pad_sequences(\n",
    "      tokenized_outputs, maxlen=MAX_LENGTH, padding='post')\n",
    "  \n",
    "  return tokenized_inputs, tokenized_outputs"
   ]
  },
  {
   "cell_type": "code",
   "execution_count": 19,
   "id": "18221563",
   "metadata": {},
   "outputs": [
    {
     "name": "stdout",
     "output_type": "stream",
     "text": [
      "단어장의 크기 : 8333\n",
      "필터링 후의 질문 샘플 개수: 11573\n",
      "필터링 후의 답변 샘플 개수: 11573\n"
     ]
    }
   ],
   "source": [
    "questions, answers = tokenize_and_filter(questions, answers)\n",
    "print('단어장의 크기 :',(VOCAB_SIZE))\n",
    "print('필터링 후의 질문 샘플 개수: {}'.format(len(questions)))\n",
    "print('필터링 후의 답변 샘플 개수: {}'.format(len(answers)))"
   ]
  },
  {
   "cell_type": "code",
   "execution_count": 20,
   "id": "efb496e0",
   "metadata": {},
   "outputs": [],
   "source": [
    "# 디코더에 교사 강요(Teacher Forcing) 적용\n",
    "BATCH_SIZE = 64\n",
    "BUFFER_SIZE = 20000\n",
    "\n",
    "# 디코더는 이전의 target을 다음의 input으로 사용합니다.\n",
    "# 이에 따라 outputs에서는 START_TOKEN을 제거하겠습니다.\n",
    "dataset = tf.data.Dataset.from_tensor_slices((\n",
    "    {\n",
    "        'inputs': questions,\n",
    "        'dec_inputs': answers[:, :-1]\n",
    "    },\n",
    "    {\n",
    "        'outputs': answers[:, 1:]\n",
    "    },\n",
    "))\n",
    "\n",
    "dataset = dataset.cache()\n",
    "dataset = dataset.shuffle(BUFFER_SIZE)\n",
    "dataset = dataset.batch(BATCH_SIZE)\n",
    "dataset = dataset.prefetch(tf.data.experimental.AUTOTUNE)"
   ]
  },
  {
   "cell_type": "code",
   "execution_count": 21,
   "id": "a2b0fa88",
   "metadata": {},
   "outputs": [],
   "source": [
    "# 트랜스포머 모델 생성 함수\n",
    "def transformer(vocab_size,\n",
    "                num_layers,\n",
    "                units,\n",
    "                d_model,\n",
    "                num_heads,\n",
    "                dropout,\n",
    "                name=\"transformer\"):\n",
    "  inputs = tf.keras.Input(shape=(None,), name=\"inputs\")\n",
    "  dec_inputs = tf.keras.Input(shape=(None,), name=\"dec_inputs\")\n",
    "\n",
    "  # 인코더에서 패딩을 위한 마스크\n",
    "  enc_padding_mask = tf.keras.layers.Lambda(\n",
    "      create_padding_mask, output_shape=(1, 1, None),\n",
    "      name='enc_padding_mask')(inputs)\n",
    "\n",
    "  # 디코더에서 미래의 토큰을 마스크 하기 위해서 사용합니다.\n",
    "  # 내부적으로 패딩 마스크도 포함되어져 있습니다.\n",
    "  look_ahead_mask = tf.keras.layers.Lambda(\n",
    "      create_look_ahead_mask,\n",
    "      output_shape=(1, None, None),\n",
    "      name='look_ahead_mask')(dec_inputs)\n",
    "\n",
    "  # 두 번째 어텐션 블록에서 인코더의 벡터들을 마스킹\n",
    "  # 디코더에서 패딩을 위한 마스크\n",
    "  dec_padding_mask = tf.keras.layers.Lambda(\n",
    "      create_padding_mask, output_shape=(1, 1, None),\n",
    "      name='dec_padding_mask')(inputs)\n",
    "\n",
    "  # 인코더\n",
    "  enc_outputs = encoder(\n",
    "      vocab_size=vocab_size,\n",
    "      num_layers=num_layers,\n",
    "      units=units,\n",
    "      d_model=d_model,\n",
    "      num_heads=num_heads,\n",
    "      dropout=dropout,\n",
    "  )(inputs=[inputs, enc_padding_mask])\n",
    "\n",
    "  # 디코더\n",
    "  dec_outputs = decoder(\n",
    "      vocab_size=vocab_size,\n",
    "      num_layers=num_layers,\n",
    "      units=units,\n",
    "      d_model=d_model,\n",
    "      num_heads=num_heads,\n",
    "      dropout=dropout,\n",
    "  )(inputs=[dec_inputs, enc_outputs, look_ahead_mask, dec_padding_mask])\n",
    "\n",
    "  # 완전연결층\n",
    "  outputs = tf.keras.layers.Dense(units=vocab_size, name=\"outputs\")(dec_outputs)\n",
    "\n",
    "  return tf.keras.Model(inputs=[inputs, dec_inputs], outputs=outputs, name=name)"
   ]
  },
  {
   "cell_type": "code",
   "execution_count": 22,
   "id": "0829bbee",
   "metadata": {},
   "outputs": [
    {
     "name": "stdout",
     "output_type": "stream",
     "text": [
      "Model: \"transformer\"\n",
      "__________________________________________________________________________________________________\n",
      "Layer (type)                    Output Shape         Param #     Connected to                     \n",
      "==================================================================================================\n",
      "inputs (InputLayer)             [(None, None)]       0                                            \n",
      "__________________________________________________________________________________________________\n",
      "dec_inputs (InputLayer)         [(None, None)]       0                                            \n",
      "__________________________________________________________________________________________________\n",
      "enc_padding_mask (Lambda)       (None, 1, 1, None)   0           inputs[0][0]                     \n",
      "__________________________________________________________________________________________________\n",
      "encoder (Functional)            (None, None, 256)    3187456     inputs[0][0]                     \n",
      "                                                                 enc_padding_mask[0][0]           \n",
      "__________________________________________________________________________________________________\n",
      "look_ahead_mask (Lambda)        (None, 1, None, None 0           dec_inputs[0][0]                 \n",
      "__________________________________________________________________________________________________\n",
      "dec_padding_mask (Lambda)       (None, 1, 1, None)   0           inputs[0][0]                     \n",
      "__________________________________________________________________________________________________\n",
      "decoder (Functional)            (None, None, 256)    3714816     dec_inputs[0][0]                 \n",
      "                                                                 encoder[0][0]                    \n",
      "                                                                 look_ahead_mask[0][0]            \n",
      "                                                                 dec_padding_mask[0][0]           \n",
      "__________________________________________________________________________________________________\n",
      "outputs (Dense)                 (None, None, 8333)   2141581     decoder[0][0]                    \n",
      "==================================================================================================\n",
      "Total params: 9,043,853\n",
      "Trainable params: 9,043,853\n",
      "Non-trainable params: 0\n",
      "__________________________________________________________________________________________________\n"
     ]
    }
   ],
   "source": [
    "# 트랜스포머 모델 생성하기\n",
    "tf.keras.backend.clear_session()\n",
    "\n",
    "# 하이퍼파라미터\n",
    "NUM_LAYERS = 2 # 인코더와 디코더의 층의 개수\n",
    "D_MODEL = 256 # 인코더와 디코더 내부의 입, 출력의 고정 차원\n",
    "NUM_HEADS = 8 # 멀티 헤드 어텐션에서의 헤드 수 \n",
    "UNITS = 512 # 피드 포워드 신경망의 은닉층의 크기\n",
    "DROPOUT = 0.1 # 드롭아웃의 비율\n",
    "\n",
    "model = transformer(\n",
    "    vocab_size=VOCAB_SIZE,\n",
    "    num_layers=NUM_LAYERS,\n",
    "    units=UNITS,\n",
    "    d_model=D_MODEL,\n",
    "    num_heads=NUM_HEADS,\n",
    "    dropout=DROPOUT)\n",
    "\n",
    "model.summary()"
   ]
  },
  {
   "cell_type": "code",
   "execution_count": 23,
   "id": "c9f5abbe",
   "metadata": {},
   "outputs": [],
   "source": [
    "# 손실함수 정의하기\n",
    "def loss_function(y_true, y_pred):\n",
    "  y_true = tf.reshape(y_true, shape=(-1, MAX_LENGTH - 1))\n",
    "  \n",
    "  loss = tf.keras.losses.SparseCategoricalCrossentropy(\n",
    "      from_logits=True, reduction='none')(y_true, y_pred)\n",
    "\n",
    "  mask = tf.cast(tf.not_equal(y_true, 0), tf.float32)\n",
    "  loss = tf.multiply(loss, mask)\n",
    "\n",
    "  return tf.reduce_mean(loss)"
   ]
  },
  {
   "cell_type": "code",
   "execution_count": 24,
   "id": "0addd339",
   "metadata": {},
   "outputs": [],
   "source": [
    "# 커스텀 학습률 스케줄링(Custom Learning rate Scheduling)\n",
    "class CustomSchedule(tf.keras.optimizers.schedules.LearningRateSchedule):\n",
    "\n",
    "  def __init__(self, d_model, warmup_steps=4000):\n",
    "    super(CustomSchedule, self).__init__()\n",
    "\n",
    "    self.d_model = d_model\n",
    "    self.d_model = tf.cast(self.d_model, tf.float32)\n",
    "\n",
    "    self.warmup_steps = warmup_steps\n",
    "\n",
    "  def __call__(self, step):\n",
    "    arg1 = tf.math.rsqrt(step)\n",
    "    arg2 = step * (self.warmup_steps**-1.5)\n",
    "\n",
    "    return tf.math.rsqrt(self.d_model) * tf.math.minimum(arg1, arg2)"
   ]
  },
  {
   "cell_type": "code",
   "execution_count": 25,
   "id": "60c37db5",
   "metadata": {},
   "outputs": [],
   "source": [
    "# 모델 컴파일\n",
    "learning_rate = CustomSchedule(D_MODEL)\n",
    "\n",
    "optimizer = tf.keras.optimizers.Adam(\n",
    "    learning_rate, beta_1=0.9, beta_2=0.98, epsilon=1e-9)\n",
    "\n",
    "def accuracy(y_true, y_pred):\n",
    "  y_true = tf.reshape(y_true, shape=(-1, MAX_LENGTH - 1))\n",
    "  return tf.keras.metrics.sparse_categorical_accuracy(y_true, y_pred)\n",
    "\n",
    "model.compile(optimizer=optimizer, loss=loss_function, metrics=[accuracy])"
   ]
  },
  {
   "cell_type": "code",
   "execution_count": 26,
   "id": "07b0a531",
   "metadata": {},
   "outputs": [
    {
     "name": "stdout",
     "output_type": "stream",
     "text": [
      "Epoch 1/10\n",
      "181/181 [==============================] - 12s 33ms/step - loss: 3.9589 - accuracy: 0.0544\n",
      "Epoch 2/10\n",
      "181/181 [==============================] - 6s 32ms/step - loss: 3.2098 - accuracy: 0.1324\n",
      "Epoch 3/10\n",
      "181/181 [==============================] - 6s 32ms/step - loss: 2.7385 - accuracy: 0.1405\n",
      "Epoch 4/10\n",
      "181/181 [==============================] - 6s 32ms/step - loss: 2.5195 - accuracy: 0.1508\n",
      "Epoch 5/10\n",
      "181/181 [==============================] - 6s 32ms/step - loss: 2.3600 - accuracy: 0.1600\n",
      "Epoch 6/10\n",
      "181/181 [==============================] - 6s 32ms/step - loss: 2.1982 - accuracy: 0.1718\n",
      "Epoch 7/10\n",
      "181/181 [==============================] - 6s 32ms/step - loss: 2.0182 - accuracy: 0.1876\n",
      "Epoch 8/10\n",
      "181/181 [==============================] - 6s 33ms/step - loss: 1.8244 - accuracy: 0.2080\n",
      "Epoch 9/10\n",
      "181/181 [==============================] - 6s 32ms/step - loss: 1.6108 - accuracy: 0.2319\n",
      "Epoch 10/10\n",
      "181/181 [==============================] - 6s 32ms/step - loss: 1.3890 - accuracy: 0.2572\n"
     ]
    },
    {
     "data": {
      "text/plain": [
       "<keras.callbacks.History at 0x7ba0c010fbb0>"
      ]
     },
     "execution_count": 26,
     "metadata": {},
     "output_type": "execute_result"
    }
   ],
   "source": [
    "# 모델 학습하기기\n",
    "EPOCHS = 10\n",
    "model.fit(dataset, epochs=EPOCHS, verbose=1)"
   ]
  },
  {
   "cell_type": "code",
   "execution_count": 27,
   "id": "d978d0c1",
   "metadata": {},
   "outputs": [],
   "source": [
    "# 디코더를 통해 추론하기\n",
    "def decoder_inference(sentence):\n",
    "  sentence = preprocess_sentence(sentence)\n",
    "\n",
    "  # 입력된 문장을 정수 인코딩 후, 시작 토큰과 종료 토큰을 앞뒤로 추가.\n",
    "  # ex) Where have you been? → [[8331   86   30    5 1059    7 8332]]\n",
    "  sentence = tf.expand_dims(\n",
    "      START_TOKEN + tokenizer.encode(sentence) + END_TOKEN, axis=0)\n",
    "\n",
    "  # 디코더의 현재까지의 예측한 출력 시퀀스가 지속적으로 저장되는 변수.\n",
    "  # 처음에는 예측한 내용이 없음으로 시작 토큰만 별도 저장. ex) 8331\n",
    "  output_sequence = tf.expand_dims(START_TOKEN, 0)\n",
    "\n",
    "  # 디코더의 인퍼런스 단계\n",
    "  for i in range(MAX_LENGTH):\n",
    "    # 디코더는 최대 MAX_LENGTH의 길이만큼 다음 단어 예측을 반복합니다.\n",
    "    predictions = model(inputs=[sentence, output_sequence], training=False)\n",
    "    predictions = predictions[:, -1:, :]\n",
    "\n",
    "    # 현재 예측한 단어의 정수\n",
    "    predicted_id = tf.cast(tf.argmax(predictions, axis=-1), tf.int32)\n",
    "\n",
    "    # 만약 현재 예측한 단어가 종료 토큰이라면 for문을 종료\n",
    "    if tf.equal(predicted_id, END_TOKEN[0]):\n",
    "      break\n",
    "\n",
    "    # 예측한 단어들은 지속적으로 output_sequence에 추가됩니다.\n",
    "    # 이 output_sequence는 다시 디코더의 입력이 됩니다.\n",
    "    output_sequence = tf.concat([output_sequence, predicted_id], axis=-1)\n",
    "\n",
    "  return tf.squeeze(output_sequence, axis=0)"
   ]
  },
  {
   "cell_type": "code",
   "execution_count": 28,
   "id": "5da62381",
   "metadata": {},
   "outputs": [],
   "source": [
    "# decoder_inference 함수를 불러와 추론하기\n",
    "# 추론값(token)을 다시 word로 변환\n",
    "def sentence_generation(sentence):\n",
    "  # 입력 문장에 대해서 디코더를 동작 시켜 예측된 정수 시퀀스를 리턴받습니다.\n",
    "  prediction = decoder_inference(sentence)\n",
    "\n",
    "  # 정수 시퀀스를 다시 텍스트 시퀀스로 변환합니다.\n",
    "  predicted_sentence = tokenizer.decode(\n",
    "      [i for i in prediction if i < tokenizer.vocab_size])\n",
    "\n",
    "  print('입력 : {}'.format(sentence))\n",
    "  print('출력 : {}'.format(predicted_sentence))\n",
    "\n",
    "  return predicted_sentence"
   ]
  },
  {
   "cell_type": "code",
   "execution_count": 29,
   "id": "c426781b",
   "metadata": {},
   "outputs": [
    {
     "name": "stdout",
     "output_type": "stream",
     "text": [
      "입력 : 밥 먹었어?\n",
      "출력 : 저는 위로해드리는 로봇이에요 .\n"
     ]
    },
    {
     "data": {
      "text/plain": [
       "'저는 위로해드리는 로봇이에요 .'"
      ]
     },
     "execution_count": 29,
     "metadata": {},
     "output_type": "execute_result"
    }
   ],
   "source": [
    "# 테스트1\n",
    "sentence_generation('밥 먹었어?')"
   ]
  },
  {
   "cell_type": "code",
   "execution_count": 30,
   "id": "600e8f1b",
   "metadata": {},
   "outputs": [
    {
     "name": "stdout",
     "output_type": "stream",
     "text": [
      "입력 : 나는 점심으로 미역국와 제육볶음을 먹을거야.\n",
      "출력 : 잘 될 수 있을 거예요 .\n"
     ]
    },
    {
     "data": {
      "text/plain": [
       "'잘 될 수 있을 거예요 .'"
      ]
     },
     "execution_count": 30,
     "metadata": {},
     "output_type": "execute_result"
    }
   ],
   "source": [
    "# 테스트2\n",
    "sentence_generation(\"나는 점심으로 미역국와 제육볶음을 먹을거야.\")"
   ]
  },
  {
   "cell_type": "code",
   "execution_count": 31,
   "id": "4cdd1e40",
   "metadata": {},
   "outputs": [
    {
     "name": "stdout",
     "output_type": "stream",
     "text": [
      "입력 : 사랑해\n",
      "출력 : 저는 위로해드리는 로봇이에요 .\n"
     ]
    },
    {
     "data": {
      "text/plain": [
       "'저는 위로해드리는 로봇이에요 .'"
      ]
     },
     "execution_count": 31,
     "metadata": {},
     "output_type": "execute_result"
    }
   ],
   "source": [
    "# 테스트3\n",
    "sentence_generation(\"사랑해\")"
   ]
  },
  {
   "cell_type": "code",
   "execution_count": 32,
   "id": "f5bc6c8d",
   "metadata": {},
   "outputs": [
    {
     "name": "stdout",
     "output_type": "stream",
     "text": [
      "입력 : 우리 헤어져\n",
      "출력 : 잘 찾아보세요 .\n"
     ]
    },
    {
     "data": {
      "text/plain": [
       "'잘 찾아보세요 .'"
      ]
     },
     "execution_count": 32,
     "metadata": {},
     "output_type": "execute_result"
    }
   ],
   "source": [
    "# 테스트4\n",
    "sentence_generation(\"우리 헤어져\")"
   ]
  },
  {
   "cell_type": "code",
   "execution_count": 33,
   "id": "e85be24a",
   "metadata": {},
   "outputs": [
    {
     "name": "stdout",
     "output_type": "stream",
     "text": [
      "입력 : 어젯밤 꿈을 꿨어\n",
      "출력 : 지금은 힘들겠지만 잘 볼 수 있을 거예요 .\n"
     ]
    },
    {
     "data": {
      "text/plain": [
       "'지금은 힘들겠지만 잘 볼 수 있을 거예요 .'"
      ]
     },
     "execution_count": 33,
     "metadata": {},
     "output_type": "execute_result"
    }
   ],
   "source": [
    "# 테스트5\n",
    "sentence_generation(\"어젯밤 꿈을 꿨어\")# 원본 Answer : 어떤 꿈이었나요."
   ]
  },
  {
   "cell_type": "code",
   "execution_count": 34,
   "id": "33f602c8",
   "metadata": {},
   "outputs": [
    {
     "name": "stdout",
     "output_type": "stream",
     "text": [
      "입력 : 쉬는 날이라고 했는데 만나자는 말이 없어.\n",
      "출력 : 먼저 연락을 해보는 건 어떨까요 .\n"
     ]
    },
    {
     "data": {
      "text/plain": [
       "'먼저 연락을 해보는 건 어떨까요 .'"
      ]
     },
     "execution_count": 34,
     "metadata": {},
     "output_type": "execute_result"
    }
   ],
   "source": [
    "# 테스트5\n",
    "sentence_generation(\"쉬는 날이라고 했는데 만나자는 말이 없어.\")# 원본 Answer : 먼저 연락을 해보는 건 어떨까요?"
   ]
  },
  {
   "cell_type": "code",
   "execution_count": 35,
   "id": "4d7ad042",
   "metadata": {},
   "outputs": [
    {
     "data": {
      "text/plain": [
       "[3.9589247703552246,\n",
       " 3.209840774536133,\n",
       " 2.738532543182373,\n",
       " 2.5194900035858154,\n",
       " 2.360022783279419,\n",
       " 2.198225498199463,\n",
       " 2.0181756019592285,\n",
       " 1.8243873119354248,\n",
       " 1.6108355522155762,\n",
       " 1.3890036344528198]"
      ]
     },
     "execution_count": 35,
     "metadata": {},
     "output_type": "execute_result"
    }
   ],
   "source": [
    "model.history.history['loss']"
   ]
  },
  {
   "cell_type": "code",
   "execution_count": 36,
   "id": "af1ef7c2",
   "metadata": {},
   "outputs": [
    {
     "data": {
      "image/png": "[encoded data removed]",
      "text/plain": [
       "<Figure size 864x360 with 2 Axes>"
      ]
     },
     "metadata": {
      "needs_background": "light"
     },
     "output_type": "display_data"
    }
   ],
   "source": [
    "# loss, metric 시각화\n",
    "import matplotlib.pyplot as plt\n",
    "\n",
    "# history 객체에서 loss 및 accuracy 가져오기\n",
    "train_loss = model.history.history['loss']\n",
    "train_acc = model.history.history['accuracy']\n",
    "\n",
    "# Epoch 수\n",
    "epochs = range(1, len(train_loss) + 1)\n",
    "\n",
    "# Loss 그래프\n",
    "plt.figure(figsize=(12, 5))\n",
    "plt.subplot(1, 2, 1)\n",
    "plt.plot(epochs, train_loss, 'bo-', label='Training Loss')\n",
    "plt.xlabel('Epochs')\n",
    "plt.ylabel('Loss')\n",
    "plt.title('Training Loss Over Epochs')\n",
    "plt.legend()\n",
    "\n",
    "# Accuracy 그래프\n",
    "plt.subplot(1, 2, 2)\n",
    "plt.plot(epochs, train_acc, 'ro-', label='Training Accuracy')\n",
    "plt.xlabel('Epochs')\n",
    "plt.ylabel('Accuracy')\n",
    "plt.title('Training Accuracy Over Epochs')\n",
    "plt.legend()\n",
    "\n",
    "plt.show()\n"
   ]
  },
  {
   "cell_type": "markdown",
   "id": "aeea3327",
   "metadata": {},
   "source": [
    "# train, validation 나눠서 학습하기"
   ]
  },
  {
   "cell_type": "code",
   "execution_count": 37,
   "id": "e1c023b7",
   "metadata": {},
   "outputs": [
    {
     "name": "stdout",
     "output_type": "stream",
     "text": [
      "Train Dataset Size: 144\n",
      "Validation Dataset Size: 37\n"
     ]
    }
   ],
   "source": [
    "# 데이터셋 크기 확인\n",
    "dataset_size = dataset.cardinality().numpy()  # 전체 샘플 개수 가져오기\n",
    "train_size = int(dataset_size * 0.8)  # 80%를 훈련 데이터로 사용\n",
    "val_size = dataset_size - train_size  # 나머지 20%를 검증 데이터로 사용\n",
    "\n",
    "# Train / Validation Split\n",
    "train_dataset = dataset.take(train_size)  # 처음 80% 데이터 가져오기\n",
    "val_dataset = dataset.skip(train_size)    # 나머지 20% 데이터 가져오기\n",
    "\n",
    "# 데이터셋 크기 확인 (디버깅)\n",
    "print(f\"Train Dataset Size: {train_size}\")\n",
    "print(f\"Validation Dataset Size: {val_size}\")\n",
    "\n",
    "# Prefetch 적용 (성능 향상)\n",
    "train_dataset = train_dataset.prefetch(tf.data.experimental.AUTOTUNE)\n",
    "val_dataset = val_dataset.prefetch(tf.data.experimental.AUTOTUNE)"
   ]
  },
  {
   "cell_type": "code",
   "execution_count": 38,
   "id": "101358b1",
   "metadata": {},
   "outputs": [],
   "source": [
    "# 모델 컴파일\n",
    "learning_rate = CustomSchedule(D_MODEL)\n",
    "\n",
    "optimizer = tf.keras.optimizers.Adam(\n",
    "    learning_rate, beta_1=0.9, beta_2=0.98, epsilon=1e-9)\n",
    "\n",
    "def accuracy(y_true, y_pred):\n",
    "  y_true = tf.reshape(y_true, shape=(-1, MAX_LENGTH - 1))\n",
    "  return tf.keras.metrics.sparse_categorical_accuracy(y_true, y_pred)\n",
    "\n",
    "model.compile(optimizer=optimizer, loss=loss_function, metrics=[accuracy])"
   ]
  },
  {
   "cell_type": "code",
   "execution_count": 39,
   "id": "a39c6a01",
   "metadata": {},
   "outputs": [
    {
     "name": "stdout",
     "output_type": "stream",
     "text": [
      "Epoch 1/100\n",
      "144/144 [==============================] - 12s 46ms/step - loss: 1.1621 - accuracy: 0.2884 - val_loss: 1.0250 - val_accuracy: 0.3105\n",
      "\n",
      "Epoch 00001: val_loss improved from inf to 1.02501, saving model to best_model.h5\n",
      "Epoch 2/100\n",
      "144/144 [==============================] - 5s 38ms/step - loss: 1.1329 - accuracy: 0.2943 - val_loss: 0.9778 - val_accuracy: 0.3131\n",
      "\n",
      "Epoch 00002: val_loss improved from 1.02501 to 0.97777, saving model to best_model.h5\n",
      "Epoch 3/100\n",
      "144/144 [==============================] - 5s 38ms/step - loss: 1.0997 - accuracy: 0.2985 - val_loss: 0.9115 - val_accuracy: 0.3239\n",
      "\n",
      "Epoch 00003: val_loss improved from 0.97777 to 0.91152, saving model to best_model.h5\n",
      "Epoch 4/100\n",
      "144/144 [==============================] - 5s 38ms/step - loss: 1.0495 - accuracy: 0.3058 - val_loss: 0.8741 - val_accuracy: 0.3306\n",
      "\n",
      "Epoch 00004: val_loss improved from 0.91152 to 0.87410, saving model to best_model.h5\n",
      "Epoch 5/100\n",
      "144/144 [==============================] - 5s 38ms/step - loss: 1.0000 - accuracy: 0.3135 - val_loss: 0.7849 - val_accuracy: 0.3422\n",
      "\n",
      "Epoch 00005: val_loss improved from 0.87410 to 0.78493, saving model to best_model.h5\n",
      "Epoch 6/100\n",
      "144/144 [==============================] - 5s 38ms/step - loss: 0.9352 - accuracy: 0.3246 - val_loss: 0.7178 - val_accuracy: 0.3526\n",
      "\n",
      "Epoch 00006: val_loss improved from 0.78493 to 0.71783, saving model to best_model.h5\n",
      "Epoch 7/100\n",
      "144/144 [==============================] - 5s 38ms/step - loss: 0.8566 - accuracy: 0.3353 - val_loss: 0.6333 - val_accuracy: 0.3660\n",
      "\n",
      "Epoch 00007: val_loss improved from 0.71783 to 0.63331, saving model to best_model.h5\n",
      "Epoch 8/100\n",
      "144/144 [==============================] - 5s 38ms/step - loss: 0.7677 - accuracy: 0.3476 - val_loss: 0.5427 - val_accuracy: 0.3894\n",
      "\n",
      "Epoch 00008: val_loss improved from 0.63331 to 0.54274, saving model to best_model.h5\n",
      "Epoch 9/100\n",
      "144/144 [==============================] - 5s 37ms/step - loss: 0.6898 - accuracy: 0.3606 - val_loss: 0.4650 - val_accuracy: 0.3974\n",
      "\n",
      "Epoch 00009: val_loss improved from 0.54274 to 0.46499, saving model to best_model.h5\n",
      "Epoch 10/100\n",
      "144/144 [==============================] - 5s 37ms/step - loss: 0.5990 - accuracy: 0.3743 - val_loss: 0.3822 - val_accuracy: 0.4141\n",
      "\n",
      "Epoch 00010: val_loss improved from 0.46499 to 0.38216, saving model to best_model.h5\n",
      "Epoch 11/100\n",
      "144/144 [==============================] - 5s 38ms/step - loss: 0.5111 - accuracy: 0.3869 - val_loss: 0.2881 - val_accuracy: 0.4244\n",
      "\n",
      "Epoch 00011: val_loss improved from 0.38216 to 0.28806, saving model to best_model.h5\n",
      "Epoch 12/100\n",
      "144/144 [==============================] - 5s 38ms/step - loss: 0.4379 - accuracy: 0.4002 - val_loss: 0.2204 - val_accuracy: 0.4373\n",
      "\n",
      "Epoch 00012: val_loss improved from 0.28806 to 0.22042, saving model to best_model.h5\n",
      "Epoch 13/100\n",
      "144/144 [==============================] - 5s 38ms/step - loss: 0.3574 - accuracy: 0.4126 - val_loss: 0.1646 - val_accuracy: 0.4480\n",
      "\n",
      "Epoch 00013: val_loss improved from 0.22042 to 0.16463, saving model to best_model.h5\n",
      "Epoch 14/100\n",
      "144/144 [==============================] - 5s 37ms/step - loss: 0.2932 - accuracy: 0.4252 - val_loss: 0.1294 - val_accuracy: 0.4592\n",
      "\n",
      "Epoch 00014: val_loss improved from 0.16463 to 0.12945, saving model to best_model.h5\n",
      "Epoch 15/100\n",
      "144/144 [==============================] - 5s 38ms/step - loss: 0.2381 - accuracy: 0.4351 - val_loss: 0.0923 - val_accuracy: 0.4592\n",
      "\n",
      "Epoch 00015: val_loss improved from 0.12945 to 0.09228, saving model to best_model.h5\n",
      "Epoch 16/100\n",
      "144/144 [==============================] - 5s 37ms/step - loss: 0.1937 - accuracy: 0.4413 - val_loss: 0.0661 - val_accuracy: 0.4651\n",
      "\n",
      "Epoch 00016: val_loss improved from 0.09228 to 0.06605, saving model to best_model.h5\n",
      "Epoch 17/100\n",
      "144/144 [==============================] - 5s 38ms/step - loss: 0.1609 - accuracy: 0.4459 - val_loss: 0.0516 - val_accuracy: 0.4694\n",
      "\n",
      "Epoch 00017: val_loss improved from 0.06605 to 0.05165, saving model to best_model.h5\n",
      "Epoch 18/100\n",
      "144/144 [==============================] - 5s 38ms/step - loss: 0.1326 - accuracy: 0.4497 - val_loss: 0.0482 - val_accuracy: 0.4637\n",
      "\n",
      "Epoch 00018: val_loss improved from 0.05165 to 0.04824, saving model to best_model.h5\n",
      "Epoch 19/100\n",
      "144/144 [==============================] - 5s 37ms/step - loss: 0.1209 - accuracy: 0.4524 - val_loss: 0.0425 - val_accuracy: 0.4656\n",
      "\n",
      "Epoch 00019: val_loss improved from 0.04824 to 0.04247, saving model to best_model.h5\n",
      "Epoch 20/100\n",
      "144/144 [==============================] - 5s 37ms/step - loss: 0.1096 - accuracy: 0.4528 - val_loss: 0.0373 - val_accuracy: 0.4742\n",
      "\n",
      "Epoch 00020: val_loss improved from 0.04247 to 0.03730, saving model to best_model.h5\n",
      "Epoch 21/100\n",
      "144/144 [==============================] - 5s 37ms/step - loss: 0.1004 - accuracy: 0.4551 - val_loss: 0.0405 - val_accuracy: 0.4636\n",
      "\n",
      "Epoch 00021: val_loss did not improve from 0.03730\n",
      "Epoch 22/100\n",
      "144/144 [==============================] - 5s 38ms/step - loss: 0.0982 - accuracy: 0.4547 - val_loss: 0.0325 - val_accuracy: 0.4635\n",
      "\n",
      "Epoch 00022: val_loss improved from 0.03730 to 0.03253, saving model to best_model.h5\n",
      "Epoch 23/100\n",
      "144/144 [==============================] - 5s 37ms/step - loss: 0.0937 - accuracy: 0.4547 - val_loss: 0.0370 - val_accuracy: 0.4705\n",
      "\n",
      "Epoch 00023: val_loss did not improve from 0.03253\n",
      "Epoch 24/100\n",
      "144/144 [==============================] - 5s 38ms/step - loss: 0.0952 - accuracy: 0.4544 - val_loss: 0.0360 - val_accuracy: 0.4716\n",
      "\n",
      "Epoch 00024: val_loss did not improve from 0.03253\n",
      "Epoch 25/100\n",
      "144/144 [==============================] - 5s 38ms/step - loss: 0.0922 - accuracy: 0.4545 - val_loss: 0.0373 - val_accuracy: 0.4657\n",
      "\n",
      "Epoch 00025: val_loss did not improve from 0.03253\n",
      "Epoch 26/100\n",
      "144/144 [==============================] - 5s 38ms/step - loss: 0.0927 - accuracy: 0.4551 - val_loss: 0.0358 - val_accuracy: 0.4717\n",
      "\n",
      "Epoch 00026: val_loss did not improve from 0.03253\n",
      "Epoch 27/100\n",
      "144/144 [==============================] - 5s 38ms/step - loss: 0.0920 - accuracy: 0.4555 - val_loss: 0.0415 - val_accuracy: 0.4684\n",
      "Restoring model weights from the end of the best epoch.\n",
      "\n",
      "Epoch 00027: val_loss did not improve from 0.03253\n",
      "Epoch 00027: early stopping\n"
     ]
    }
   ],
   "source": [
    "# EarlyStopping: 검증 손실(val_loss)이 5번 이상 연속 증가하면 학습 중단\n",
    "early_stopping = tf.keras.callbacks.EarlyStopping(\n",
    "    monitor='val_loss',  # 검증 손실 기준\n",
    "    patience=5,          # 연속으로 5번 증가하면 중단\n",
    "    restore_best_weights=True,  # 가장 낮은 val_loss의 가중치를 복원\n",
    "    verbose=1\n",
    ")\n",
    "\n",
    "# ModelCheckpoint: val_loss가 가장 낮은 모델을 저장\n",
    "checkpoint_path = \"best_model.h5\"\n",
    "model_checkpoint = tf.keras.callbacks.ModelCheckpoint(\n",
    "    filepath=checkpoint_path,  # 저장 경로\n",
    "    monitor='val_loss',  # 검증 손실 기준\n",
    "    save_best_only=True,  # 가장 좋은 모델만 저장\n",
    "    save_weights_only=True,  # 가중치만 저장 (전체 모델 저장하려면 False)\n",
    "    verbose=1\n",
    ")\n",
    "\n",
    "# 모델 학습하기기\n",
    "EPOCHS = 100\n",
    "history = model.fit(\n",
    "    train_dataset,\n",
    "    epochs=EPOCHS,  # 최대 50 에포크\n",
    "    validation_data=val_dataset,  # 검증 데이터 추가 (필요 시)\n",
    "    callbacks=[early_stopping, model_checkpoint]  # 콜백 추가\n",
    ")"
   ]
  },
  {
   "cell_type": "code",
   "execution_count": 41,
   "id": "456d61bf",
   "metadata": {},
   "outputs": [
    {
     "data": {
      "image/png": "[encoded data removed]",
      "text/plain": [
       "<Figure size 864x360 with 2 Axes>"
      ]
     },
     "metadata": {
      "needs_background": "light"
     },
     "output_type": "display_data"
    }
   ],
   "source": [
    "import matplotlib.pyplot as plt\n",
    "\n",
    "# 학습 과정 데이터 가져오기\n",
    "train_loss = history.history['loss']  # 훈련 손실\n",
    "val_loss = history.history['val_loss']  # 검증 손실\n",
    "train_acc = history.history['accuracy']  # 훈련 정확도\n",
    "val_acc = history.history['val_accuracy']  # 검증 정확도\n",
    "epochs = range(1, len(train_loss) + 1)  # 에포크 수\n",
    "\n",
    "# Loss 그래프\n",
    "plt.figure(figsize=(12, 5))\n",
    "plt.subplot(1, 2, 1)\n",
    "plt.plot(epochs, train_loss, 'bo-', label='Training Loss')  # 훈련 손실 (파란색)\n",
    "plt.plot(epochs, val_loss, 'ro-', label='Validation Loss')  # 검증 손실 (빨간색)\n",
    "plt.xlabel('Epochs')\n",
    "plt.ylabel('Loss')\n",
    "plt.title('Training and Validation Loss Over Epochs')\n",
    "plt.legend()\n",
    "plt.grid()\n",
    "\n",
    "# Accuracy 그래프\n",
    "plt.subplot(1, 2, 2)\n",
    "plt.plot(epochs, train_acc, 'bo-', label='Training Accuracy')  # 훈련 정확도 (파란색)\n",
    "plt.plot(epochs, val_acc, 'ro-', label='Validation Accuracy')  # 검증 정확도 (빨간색)\n",
    "plt.xlabel('Epochs')\n",
    "plt.ylabel('Accuracy')\n",
    "plt.title('Training and Validation Accuracy Over Epochs')\n",
    "plt.legend()\n",
    "plt.grid()\n",
    "\n",
    "plt.show()\n"
   ]
  },
  {
   "cell_type": "code",
   "execution_count": 42,
   "id": "d1c1ecf2",
   "metadata": {},
   "outputs": [
    {
     "name": "stdout",
     "output_type": "stream",
     "text": [
      "입력 : 밥 먹었어?\n",
      "출력 : 저는 배터리가 밥이예요 .\n"
     ]
    },
    {
     "data": {
      "text/plain": [
       "'저는 배터리가 밥이예요 .'"
      ]
     },
     "execution_count": 42,
     "metadata": {},
     "output_type": "execute_result"
    }
   ],
   "source": [
    "# 테스트1\n",
    "sentence_generation('밥 먹었어?')"
   ]
  },
  {
   "cell_type": "code",
   "execution_count": 43,
   "id": "24b68913",
   "metadata": {},
   "outputs": [
    {
     "name": "stdout",
     "output_type": "stream",
     "text": [
      "입력 : 나는 점심으로 미역국와 제육볶음을 먹을거야.\n",
      "출력 : 그래도 넘을 수 있을 거예요 .\n"
     ]
    },
    {
     "data": {
      "text/plain": [
       "'그래도 넘을 수 있을 거예요 .'"
      ]
     },
     "execution_count": 43,
     "metadata": {},
     "output_type": "execute_result"
    }
   ],
   "source": [
    "# 테스트2\n",
    "sentence_generation(\"나는 점심으로 미역국와 제육볶음을 먹을거야.\")"
   ]
  },
  {
   "cell_type": "code",
   "execution_count": 44,
   "id": "ba9fb478",
   "metadata": {},
   "outputs": [
    {
     "name": "stdout",
     "output_type": "stream",
     "text": [
      "입력 : 사랑해\n",
      "출력 : 하늘 만큼 땅 만큼 사랑해요 .\n"
     ]
    },
    {
     "data": {
      "text/plain": [
       "'하늘 만큼 땅 만큼 사랑해요 .'"
      ]
     },
     "execution_count": 44,
     "metadata": {},
     "output_type": "execute_result"
    }
   ],
   "source": [
    "# 테스트3\n",
    "sentence_generation(\"사랑해\")"
   ]
  },
  {
   "cell_type": "code",
   "execution_count": 45,
   "id": "62316a99",
   "metadata": {},
   "outputs": [
    {
     "name": "stdout",
     "output_type": "stream",
     "text": [
      "입력 : 우리 헤어져\n",
      "출력 : 잘 될 수 있을 거예요 .\n"
     ]
    },
    {
     "data": {
      "text/plain": [
       "'잘 될 수 있을 거예요 .'"
      ]
     },
     "execution_count": 45,
     "metadata": {},
     "output_type": "execute_result"
    }
   ],
   "source": [
    "# 테스트4\n",
    "sentence_generation(\"우리 헤어져\")"
   ]
  },
  {
   "cell_type": "code",
   "execution_count": 46,
   "id": "6d651766",
   "metadata": {},
   "outputs": [
    {
     "name": "stdout",
     "output_type": "stream",
     "text": [
      "입력 : 어젯밤 꿈을 꿨어\n",
      "출력 : 어떤 꿈이었나요 .\n"
     ]
    },
    {
     "data": {
      "text/plain": [
       "'어떤 꿈이었나요 .'"
      ]
     },
     "execution_count": 46,
     "metadata": {},
     "output_type": "execute_result"
    }
   ],
   "source": [
    "# 테스트5\n",
    "sentence_generation(\"어젯밤 꿈을 꿨어\")# 원본 Answer : 어떤 꿈이었나요."
   ]
  },
  {
   "cell_type": "code",
   "execution_count": 47,
   "id": "9b4708e4",
   "metadata": {},
   "outputs": [
    {
     "name": "stdout",
     "output_type": "stream",
     "text": [
      "입력 : 쉬는 날이라고 했는데 만나자는 말이 없어.\n",
      "출력 : 먼저 연락을 해보는 건 어떨까요 ?\n"
     ]
    },
    {
     "data": {
      "text/plain": [
       "'먼저 연락을 해보는 건 어떨까요 ?'"
      ]
     },
     "execution_count": 47,
     "metadata": {},
     "output_type": "execute_result"
    }
   ],
   "source": [
    "# 테스트5\n",
    "sentence_generation(\"쉬는 날이라고 했는데 만나자는 말이 없어.\")# 원본 Answer : 먼저 연락을 해보는 건 어떨까요?"
   ]
  },
  {
   "cell_type": "code",
   "execution_count": null,
   "id": "1cf46bc0",
   "metadata": {},
   "outputs": [],
   "source": []
  }
 ],
 "metadata": {
  "kernelspec": {
   "display_name": "Python 3 (ipykernel)",
   "language": "python",
   "name": "python3"
  },
  "language_info": {
   "codemirror_mode": {
    "name": "ipython",
    "version": 3
   },
   "file_extension": ".py",
   "mimetype": "text/x-python",
   "name": "python",
   "nbconvert_exporter": "python",
   "pygments_lexer": "ipython3",
   "version": "3.9.7"
  }
 },
 "nbformat": 4,
 "nbformat_minor": 5
}
