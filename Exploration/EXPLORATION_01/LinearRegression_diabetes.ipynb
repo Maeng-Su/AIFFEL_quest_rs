{
 "cells": [
  {
   "cell_type": "code",
   "execution_count": 1,
   "metadata": {},
   "outputs": [
    {
     "name": "stdout",
     "output_type": "stream",
     "text": [
      "(442, 10) (442,)\n"
     ]
    }
   ],
   "source": [
    "# 데이터 가져오기\n",
    "from sklearn.datasets import load_diabetes\n",
    "\n",
    "diabets = load_diabetes()\n",
    "df_X = diabets['data']\n",
    "df_y = diabets['target']\n",
    "\n",
    "print(df_X.shape, df_y.shape)"
   ]
  },
  {
   "cell_type": "code",
   "execution_count": 2,
   "metadata": {},
   "outputs": [
    {
     "name": "stdout",
     "output_type": "stream",
     "text": [
      "(442, 10) (442,)\n",
      "<class 'numpy.ndarray'> <class 'numpy.ndarray'>\n"
     ]
    }
   ],
   "source": [
    "# feature, target 데이터 준비\n",
    "import numpy as np\n",
    "\n",
    "X = np.array(df_X)\n",
    "y = np.array(df_y)\n",
    "\n",
    "print(X.shape, y.shape)\n",
    "print(type(X), type(y))"
   ]
  },
  {
   "cell_type": "code",
   "execution_count": 3,
   "metadata": {},
   "outputs": [
    {
     "data": {
      "text/plain": [
       "((353, 10), (89, 10), (353,), (89,))"
      ]
     },
     "execution_count": 3,
     "metadata": {},
     "output_type": "execute_result"
    }
   ],
   "source": [
    "# train 데이터와 test 데이터로 분리하기\n",
    "# X와 y 데이터를 각각 train 데이터와 test 데이터로 분리해주세요.\n",
    "from sklearn.model_selection import train_test_split\n",
    "\n",
    "X_train, X_test, y_train, y_test = train_test_split(X, y, test_size=0.2, random_state=980417)\n",
    "X_train.shape, X_test.shape, y_train.shape, y_test.shape"
   ]
  },
  {
   "cell_type": "code",
   "execution_count": 24,
   "metadata": {},
   "outputs": [
    {
     "name": "stdout",
     "output_type": "stream",
     "text": [
      "fearture_n=10\n"
     ]
    },
    {
     "data": {
      "text/plain": [
       "array([ 0.31369271,  0.136227  ,  0.20755694, -0.05574581,  0.12213048,\n",
       "        0.16053855, -0.13675989, -0.34115955,  0.3048683 , -0.01354474,\n",
       "        0.14443881, -0.08081675, -0.1046118 ,  0.1173764 ,  0.23240431,\n",
       "        0.19145365, -0.34670857,  0.25365353,  0.03415023,  0.14690887,\n",
       "        0.14561109,  0.17457721, -0.49774087, -0.00532923, -0.07323506,\n",
       "        0.13677629,  0.27302971, -0.44087274,  0.33067064, -0.0497337 ,\n",
       "        0.16488269,  0.3493321 , -0.40385245, -0.17230902, -0.33604013,\n",
       "        0.19650588, -0.15599486, -0.47237452, -0.51496675, -0.28416118,\n",
       "       -0.10428125,  0.38684948,  0.03015376, -0.04402088,  0.33014298,\n",
       "        0.04954861, -0.11447257,  0.19929515, -0.26283791, -0.31814748,\n",
       "        0.2097097 , -0.2267392 , -0.49948537, -0.03944107, -0.23007767,\n",
       "        0.00176495, -0.05732353,  0.08218236,  0.11961625,  0.29874097,\n",
       "       -0.29285848, -0.16543086, -0.50030931, -0.04873298,  0.39686265,\n",
       "       -0.04393841,  0.46349286, -0.21370652,  0.21852554,  0.19248523,\n",
       "       -0.14873772, -0.25386892,  0.25724929,  0.17362754, -0.08517206,\n",
       "       -0.05926537, -0.25857584, -0.51593771, -0.02411055, -0.13769359,\n",
       "       -0.26334926, -0.26527263,  0.24677012, -0.03731484,  0.23487788,\n",
       "        0.28397141,  0.27126732, -0.23240307,  0.36962719])"
      ]
     },
     "execution_count": 24,
     "metadata": {},
     "output_type": "execute_result"
    }
   ],
   "source": [
    "# LinearRegressor 밑바닥부터 구현\n",
    "\n",
    "# Weight, Bias 초기화화\n",
    "fearture_n = X.shape[1]\n",
    "print(f'{fearture_n=}')\n",
    "\n",
    "W = np.ones(shape=(fearture_n, ))\n",
    "b = 0\n",
    "\n",
    "# 모델_forward\n",
    "def model_forward(X):\n",
    "    y_pred = np.sum(X * W.T, axis=1) + b\n",
    "    return y_pred\n",
    "\n",
    "model_forward(X_test)"
   ]
  },
  {
   "cell_type": "code",
   "execution_count": 25,
   "metadata": {},
   "outputs": [
    {
     "data": {
      "text/plain": [
       "24429.247454052216"
      ]
     },
     "execution_count": 25,
     "metadata": {},
     "output_type": "execute_result"
    }
   ],
   "source": [
    "# 손실함수 loss 정의하기 - MSE\n",
    "def mse_loss(X, y):\n",
    "    y_pred = model_forward(X)\n",
    "    mse = np.mean((y_pred - y)**2)\n",
    "\n",
    "    return mse\n",
    "\n",
    "mse_loss(X_test, y_test)"
   ]
  },
  {
   "cell_type": "code",
   "execution_count": 26,
   "metadata": {},
   "outputs": [
    {
     "data": {
      "text/plain": [
       "(array([-2.52440971,  0.43658055, -0.09532442, -0.64975677, -3.37891198,\n",
       "        -3.22777777, -0.12395944, -1.71581098, -1.97456849, -1.51430246]),\n",
       " -277.4376610338638)"
      ]
     },
     "execution_count": 26,
     "metadata": {},
     "output_type": "execute_result"
    }
   ],
   "source": [
    "# 기울기 구하는 함수 구현하기\n",
    "def gradient(X, y):\n",
    "    y_pred = model_forward(X)\n",
    "    W_grad = 2*X.T.dot(y_pred - y) / len(y) # mse식에서 W에 대한 편미분 = 2/n * sum(W dot X + b - y_true) * X = 2/n * sum(y_pred - y_true) * X\n",
    "    b_grad = np.mean(2*(y_pred-y))\n",
    "\n",
    "    return W_grad, b_grad\n",
    "\n",
    "gradient(X_test, y_test)"
   ]
  },
  {
   "cell_type": "code",
   "execution_count": 27,
   "metadata": {},
   "outputs": [
    {
     "name": "stdout",
     "output_type": "stream",
     "text": [
      "[[ 5 12]\n",
      " [15 24]]\n",
      "[17 39]\n"
     ]
    }
   ],
   "source": [
    "# np.dot 이해\n",
    "A = np.array([\n",
    "    [1, 2],\n",
    "    [3, 4]\n",
    "])\n",
    "\n",
    "c = [5, 6]\n",
    "\n",
    "print(A * c)\n",
    "print(A.dot(c))"
   ]
  },
  {
   "cell_type": "code",
   "execution_count": 28,
   "metadata": {},
   "outputs": [],
   "source": [
    "# 하이퍼 파라미터인 학습률 설정하기\n",
    "\n",
    "lr = 0.05"
   ]
  },
  {
   "cell_type": "code",
   "execution_count": 29,
   "metadata": {},
   "outputs": [
    {
     "name": "stdout",
     "output_type": "stream",
     "text": [
      "epoch (10000) ===> loss : 2961.207630347364\n",
      "epoch (20000) ===> loss : 2945.2334527566786\n",
      "epoch (30000) ===> loss : 2943.7057024145397\n",
      "epoch (40000) ===> loss : 2942.7383413378843\n",
      "epoch (50000) ===> loss : 2941.8548942260204\n",
      "epoch (60000) ===> loss : 2941.0165326340434\n",
      "epoch (70000) ===> loss : 2940.216083229839\n",
      "epoch (80000) ===> loss : 2939.449975824336\n",
      "epoch (90000) ===> loss : 2938.7155584674974\n",
      "epoch (100000) ===> loss : 2938.0106895299955\n"
     ]
    }
   ],
   "source": [
    "# 모델 학습하기\n",
    "\n",
    "loss_history = list()\n",
    "weight_history =  list()\n",
    "bias_history = list()\n",
    "\n",
    "epochs = 100000\n",
    "\n",
    "for epoch in range(epochs):\n",
    "    W_grad, b_grad = gradient(X_train, y_train)\n",
    "\n",
    "    W = W - lr*W_grad\n",
    "    b = b - lr*b_grad\n",
    "\n",
    "    loss = mse_loss(X_train, y_train)\n",
    "\n",
    "    loss_history.append(loss)\n",
    "    weight_history.append(W)\n",
    "    bias_history.append(b)\n",
    "\n",
    "    if ((epoch+1) % 10000) == 0:\n",
    "        print(f'epoch ({epoch+1}) ===> loss : {loss}')"
   ]
  },
  {
   "cell_type": "code",
   "execution_count": 30,
   "metadata": {},
   "outputs": [
    {
     "data": {
      "text/plain": [
       "2670.6729207143203"
      ]
     },
     "execution_count": 30,
     "metadata": {},
     "output_type": "execute_result"
    }
   ],
   "source": [
    "# test 데이터에 대한 성능 확인하기\n",
    "\n",
    "mse_loss(X_test, y_test)"
   ]
  },
  {
   "cell_type": "code",
   "execution_count": 31,
   "metadata": {},
   "outputs": [
    {
     "data": {
      "image/png": "[encoded data removed]",
      "text/plain": [
       "<Figure size 640x480 with 1 Axes>"
      ]
     },
     "metadata": {},
     "output_type": "display_data"
    }
   ],
   "source": [
    "# 정답 데이터와 예측한 데이터 시각화하기\n",
    "import matplotlib.pyplot as plt\n",
    "\n",
    "y_pred = model_forward(X_test)\n",
    "\n",
    "plt.scatter(x=X_test[:, 0], y=y_test, label='y_true')\n",
    "plt.scatter(x=X_test[:, 0], y=y_pred, label='y_pred')\n",
    "\n",
    "plt.legend()\n",
    "plt.show()"
   ]
  },
  {
   "cell_type": "code",
   "execution_count": 32,
   "metadata": {},
   "outputs": [],
   "source": [
    "# 기타 확인하고 싶은 사항"
   ]
  },
  {
   "cell_type": "code",
   "execution_count": 47,
   "metadata": {},
   "outputs": [
    {
     "name": "stdout",
     "output_type": "stream",
     "text": [
      "[-4.52127024e-17  2.42641503e-16 -4.70563759e-15 -9.42433663e-16\n",
      " -2.78309301e-16  8.60799617e-16 -1.06501032e-16 -2.97399109e-16\n",
      "  1.94354965e-15  2.88136784e-16]\n",
      "[1. 1. 1. 1. 1. 1. 1. 1. 1. 1.]\n",
      "[1. 1. 1. 1. 1. 1. 1. 1. 1. 1.]\n"
     ]
    }
   ],
   "source": [
    "# feature 데이터의 정규화 확인하기\n",
    "# 정규화 조건 : 평균으로 빼고, 표준편차*(샘플 개수**0.5)으로 나눔\n",
    "# 따라서 각 샘플에 샘플 개수**0.5을 곱해주면, 표준정규화된 데이터가 나올 것임.\n",
    "n = X.shape[0]\n",
    "X_standardization = X * np.sqrt(n)\n",
    "print(X_standardization.mean(axis=0))\n",
    "print(X_standardization.var(axis=0))\n",
    "print(X_standardization.std(axis=0))"
   ]
  },
  {
   "cell_type": "code",
   "execution_count": 55,
   "metadata": {},
   "outputs": [
    {
     "data": {
      "text/plain": [
       "191.61695441762615"
      ]
     },
     "execution_count": 55,
     "metadata": {},
     "output_type": "execute_result"
    }
   ],
   "source": [
    "# s4 tch, total cholesterol / HDL 데이터는 혈청 콜레스테롤/고밀도 지질단백 이다.\n",
    "# 이미 기존에 있는 컬럼으로 계산된 값인지 확인이 필요하다.\n",
    "my_cal = X_standardization[:, 4] / X_standardization[:, 6]\n",
    "s4 = X_standardization[:, 7]\n",
    "\n",
    "(my_cal - s4).sum()"
   ]
  },
  {
   "cell_type": "code",
   "execution_count": 56,
   "metadata": {},
   "outputs": [],
   "source": [
    "# 값 차이가 많이 난다. 따라서 해당 변수를 섣불리 지우는 것은 바람직 하지 않다.\n",
    "# 원인은 다음 중 하나일 것이다.\n",
    "    # 1. 위 가정이 잘못되었을 가능성(s4변수는 단순 계산값이 아님)\n",
    "    # 2. 정규화 하는 과정에서 매우 낮은 값으로 인해 계산 오차 발생"
   ]
  },
  {
   "cell_type": "code",
   "execution_count": null,
   "metadata": {},
   "outputs": [],
   "source": []
  }
 ],
 "metadata": {
  "kernelspec": {
   "display_name": "tensorflow",
   "language": "python",
   "name": "python3"
  },
  "language_info": {
   "codemirror_mode": {
    "name": "ipython",
    "version": 3
   },
   "file_extension": ".py",
   "mimetype": "text/x-python",
   "name": "python",
   "nbconvert_exporter": "python",
   "pygments_lexer": "ipython3",
   "version": "3.10.16"
  }
 },
 "nbformat": 4,
 "nbformat_minor": 2
}
