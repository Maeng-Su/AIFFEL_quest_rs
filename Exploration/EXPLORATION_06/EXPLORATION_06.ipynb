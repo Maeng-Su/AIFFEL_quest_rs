{
 "cells": [
  {
   "cell_type": "code",
   "execution_count": 1,
   "id": "6ef29006",
   "metadata": {},
   "outputs": [
    {
     "name": "stdout",
     "output_type": "stream",
     "text": [
      "3.6.5\n",
      "2.6.0\n",
      "1.3.3\n",
      "1.2.0\n"
     ]
    }
   ],
   "source": [
    "from importlib.metadata import version\n",
    "import nltk\n",
    "import tensorflow\n",
    "import summa\n",
    "import pandas as pd\n",
    "\n",
    "print(nltk.__version__)\n",
    "print(tensorflow.__version__)\n",
    "print(pd.__version__)\n",
    "print(version('summa'))"
   ]
  },
  {
   "cell_type": "code",
   "execution_count": 2,
   "id": "8575f612",
   "metadata": {},
   "outputs": [],
   "source": [
    "import urllib.request\n",
    "urllib.request.urlretrieve(\"https://raw.githubusercontent.com/sunnysai12345/News_Summary/master/news_summary_more.csv\", filename=\"news_summary_more.csv\")\n",
    "data = pd.read_csv('news_summary_more.csv', encoding='iso-8859-1')"
   ]
  },
  {
   "cell_type": "code",
   "execution_count": 3,
   "id": "4ace9b57",
   "metadata": {},
   "outputs": [
    {
     "data": {
      "text/html": [
       "<div>\n",
       "<style scoped>\n",
       "    .dataframe tbody tr th:only-of-type {\n",
       "        vertical-align: middle;\n",
       "    }\n",
       "\n",
       "    .dataframe tbody tr th {\n",
       "        vertical-align: top;\n",
       "    }\n",
       "\n",
       "    .dataframe thead th {\n",
       "        text-align: right;\n",
       "    }\n",
       "</style>\n",
       "<table border=\"1\" class=\"dataframe\">\n",
       "  <thead>\n",
       "    <tr style=\"text-align: right;\">\n",
       "      <th></th>\n",
       "      <th>headlines</th>\n",
       "      <th>text</th>\n",
       "    </tr>\n",
       "  </thead>\n",
       "  <tbody>\n",
       "    <tr>\n",
       "      <th>43852</th>\n",
       "      <td>BSNL, Air India, MTNL worst performing state-o...</td>\n",
       "      <td>BSNL, Air India and MTNL were the least profit...</td>\n",
       "    </tr>\n",
       "    <tr>\n",
       "      <th>56496</th>\n",
       "      <td>RBI puts restrictions on Corporation Bank as b...</td>\n",
       "      <td>India's state-run Corporation Bank has said th...</td>\n",
       "    </tr>\n",
       "    <tr>\n",
       "      <th>89884</th>\n",
       "      <td>Delhi Metro hikes fares after 8 yrs, maximum f...</td>\n",
       "      <td>The Delhi Metro Rail Corporation board has acc...</td>\n",
       "    </tr>\n",
       "    <tr>\n",
       "      <th>24104</th>\n",
       "      <td>Muslims have 9-10 kids, will demand new Pakist...</td>\n",
       "      <td>Uttar Pradesh BJP MP Hari Om Pandey has claime...</td>\n",
       "    </tr>\n",
       "    <tr>\n",
       "      <th>41370</th>\n",
       "      <td>Sahara Desert expanded by 10% in last century:...</td>\n",
       "      <td>The Sahara Desert has expanded by 10% in the p...</td>\n",
       "    </tr>\n",
       "    <tr>\n",
       "      <th>63285</th>\n",
       "      <td>India jumps 30 places on ease of doing busines...</td>\n",
       "      <td>India has jumped 30 places to be ranked 100 am...</td>\n",
       "    </tr>\n",
       "    <tr>\n",
       "      <th>23052</th>\n",
       "      <td>18 killed in helicopter crash in Russia</td>\n",
       "      <td>Eighteen people were killed in a helicopter cr...</td>\n",
       "    </tr>\n",
       "    <tr>\n",
       "      <th>57799</th>\n",
       "      <td>Need more evidence from India to prosecute Sae...</td>\n",
       "      <td>Pakistan's envoy to the US Aizaz Ahmad Chaudhr...</td>\n",
       "    </tr>\n",
       "    <tr>\n",
       "      <th>31266</th>\n",
       "      <td>Mandeep jumps to save ball from going for four...</td>\n",
       "      <td>RCB's Mandeep Singh pulled off an acrobatic bo...</td>\n",
       "    </tr>\n",
       "    <tr>\n",
       "      <th>6983</th>\n",
       "      <td>Who is Vanessa Ponce de Leon, crowned Miss Wor...</td>\n",
       "      <td>Mexico's 26-year-old Vanessa Ponce de Leon, wh...</td>\n",
       "    </tr>\n",
       "  </tbody>\n",
       "</table>\n",
       "</div>"
      ],
      "text/plain": [
       "                                               headlines  \\\n",
       "43852  BSNL, Air India, MTNL worst performing state-o...   \n",
       "56496  RBI puts restrictions on Corporation Bank as b...   \n",
       "89884  Delhi Metro hikes fares after 8 yrs, maximum f...   \n",
       "24104  Muslims have 9-10 kids, will demand new Pakist...   \n",
       "41370  Sahara Desert expanded by 10% in last century:...   \n",
       "63285  India jumps 30 places on ease of doing busines...   \n",
       "23052            18 killed in helicopter crash in Russia   \n",
       "57799  Need more evidence from India to prosecute Sae...   \n",
       "31266  Mandeep jumps to save ball from going for four...   \n",
       "6983   Who is Vanessa Ponce de Leon, crowned Miss Wor...   \n",
       "\n",
       "                                                    text  \n",
       "43852  BSNL, Air India and MTNL were the least profit...  \n",
       "56496  India's state-run Corporation Bank has said th...  \n",
       "89884  The Delhi Metro Rail Corporation board has acc...  \n",
       "24104  Uttar Pradesh BJP MP Hari Om Pandey has claime...  \n",
       "41370  The Sahara Desert has expanded by 10% in the p...  \n",
       "63285  India has jumped 30 places to be ranked 100 am...  \n",
       "23052  Eighteen people were killed in a helicopter cr...  \n",
       "57799  Pakistan's envoy to the US Aizaz Ahmad Chaudhr...  \n",
       "31266  RCB's Mandeep Singh pulled off an acrobatic bo...  \n",
       "6983   Mexico's 26-year-old Vanessa Ponce de Leon, wh...  "
      ]
     },
     "execution_count": 3,
     "metadata": {},
     "output_type": "execute_result"
    }
   ],
   "source": [
    "data.sample(10)"
   ]
  },
  {
   "cell_type": "code",
   "execution_count": 4,
   "id": "957cfe0b",
   "metadata": {},
   "outputs": [
    {
     "name": "stderr",
     "output_type": "stream",
     "text": [
      "[nltk_data] Downloading package stopwords to /aiffel/nltk_data...\n",
      "[nltk_data]   Unzipping corpora/stopwords.zip.\n"
     ]
    },
    {
     "name": "stdout",
     "output_type": "stream",
     "text": [
      "=3\n"
     ]
    }
   ],
   "source": [
    "import nltk\n",
    "nltk.download('stopwords')\n",
    "\n",
    "import numpy as np\n",
    "import pandas as pd\n",
    "import os\n",
    "import re\n",
    "import matplotlib.pyplot as plt\n",
    "from nltk.corpus import stopwords\n",
    "from bs4 import BeautifulSoup \n",
    "from tensorflow.keras.preprocessing.text import Tokenizer \n",
    "from tensorflow.keras.preprocessing.sequence import pad_sequences\n",
    "import urllib.request\n",
    "import warnings\n",
    "warnings.filterwarnings(\"ignore\", category=UserWarning, module='bs4')\n",
    "\n",
    "print('=3')"
   ]
  },
  {
   "cell_type": "code",
   "execution_count": 5,
   "id": "16e95396",
   "metadata": {},
   "outputs": [
    {
     "data": {
      "text/plain": [
       "(98401, 2)"
      ]
     },
     "execution_count": 5,
     "metadata": {},
     "output_type": "execute_result"
    }
   ],
   "source": [
    "data.shape"
   ]
  },
  {
   "cell_type": "code",
   "execution_count": 7,
   "id": "d46cfde7",
   "metadata": {},
   "outputs": [
    {
     "name": "stdout",
     "output_type": "stream",
     "text": [
      "text 열에서 중복을 배제한 유일한 샘플의 수 : 98360\n",
      "headlines 열에서 중복을 배제한 유일한 샘플의 수 : 98280\n"
     ]
    }
   ],
   "source": [
    "print('text 열에서 중복을 배제한 유일한 샘플의 수 :', data['text'].nunique())\n",
    "print('headlines 열에서 중복을 배제한 유일한 샘플의 수 :', data['headlines'].nunique())"
   ]
  },
  {
   "cell_type": "code",
   "execution_count": 9,
   "id": "d5d72113",
   "metadata": {},
   "outputs": [
    {
     "name": "stdout",
     "output_type": "stream",
     "text": [
      "전체 샘플수 : 98360\n"
     ]
    }
   ],
   "source": [
    "data.drop_duplicates(subset = ['text'], inplace=True)\n",
    "print('전체 샘플수 :', (len(data)))"
   ]
  },
  {
   "cell_type": "code",
   "execution_count": 10,
   "id": "f180cce0",
   "metadata": {},
   "outputs": [
    {
     "name": "stdout",
     "output_type": "stream",
     "text": [
      "headlines    0\n",
      "text         0\n",
      "dtype: int64\n"
     ]
    }
   ],
   "source": [
    "print(data.isnull().sum())"
   ]
  },
  {
   "cell_type": "code",
   "execution_count": 11,
   "id": "5a3e5971",
   "metadata": {},
   "outputs": [],
   "source": [
    "data.dropna(axis=0, inplace=True)"
   ]
  },
  {
   "cell_type": "code",
   "execution_count": 12,
   "id": "0d94912f",
   "metadata": {},
   "outputs": [
    {
     "name": "stdout",
     "output_type": "stream",
     "text": [
      "정규화 사전의 수:  120\n"
     ]
    }
   ],
   "source": [
    "contractions = {\"ain't\": \"is not\", \"aren't\": \"are not\",\"can't\": \"cannot\", \"'cause\": \"because\", \"could've\": \"could have\", \"couldn't\": \"could not\",\n",
    "                           \"didn't\": \"did not\",  \"doesn't\": \"does not\", \"don't\": \"do not\", \"hadn't\": \"had not\", \"hasn't\": \"has not\", \"haven't\": \"have not\",\n",
    "                           \"he'd\": \"he would\",\"he'll\": \"he will\", \"he's\": \"he is\", \"how'd\": \"how did\", \"how'd'y\": \"how do you\", \"how'll\": \"how will\", \"how's\": \"how is\",\n",
    "                           \"I'd\": \"I would\", \"I'd've\": \"I would have\", \"I'll\": \"I will\", \"I'll've\": \"I will have\",\"I'm\": \"I am\", \"I've\": \"I have\", \"i'd\": \"i would\",\n",
    "                           \"i'd've\": \"i would have\", \"i'll\": \"i will\",  \"i'll've\": \"i will have\",\"i'm\": \"i am\", \"i've\": \"i have\", \"isn't\": \"is not\", \"it'd\": \"it would\",\n",
    "                           \"it'd've\": \"it would have\", \"it'll\": \"it will\", \"it'll've\": \"it will have\",\"it's\": \"it is\", \"let's\": \"let us\", \"ma'am\": \"madam\",\n",
    "                           \"mayn't\": \"may not\", \"might've\": \"might have\",\"mightn't\": \"might not\",\"mightn't've\": \"might not have\", \"must've\": \"must have\",\n",
    "                           \"mustn't\": \"must not\", \"mustn't've\": \"must not have\", \"needn't\": \"need not\", \"needn't've\": \"need not have\",\"o'clock\": \"of the clock\",\n",
    "                           \"oughtn't\": \"ought not\", \"oughtn't've\": \"ought not have\", \"shan't\": \"shall not\", \"sha'n't\": \"shall not\", \"shan't've\": \"shall not have\",\n",
    "                           \"she'd\": \"she would\", \"she'd've\": \"she would have\", \"she'll\": \"she will\", \"she'll've\": \"she will have\", \"she's\": \"she is\",\n",
    "                           \"should've\": \"should have\", \"shouldn't\": \"should not\", \"shouldn't've\": \"should not have\", \"so've\": \"so have\",\"so's\": \"so as\",\n",
    "                           \"this's\": \"this is\",\"that'd\": \"that would\", \"that'd've\": \"that would have\", \"that's\": \"that is\", \"there'd\": \"there would\",\n",
    "                           \"there'd've\": \"there would have\", \"there's\": \"there is\", \"here's\": \"here is\",\"they'd\": \"they would\", \"they'd've\": \"they would have\",\n",
    "                           \"they'll\": \"they will\", \"they'll've\": \"they will have\", \"they're\": \"they are\", \"they've\": \"they have\", \"to've\": \"to have\",\n",
    "                           \"wasn't\": \"was not\", \"we'd\": \"we would\", \"we'd've\": \"we would have\", \"we'll\": \"we will\", \"we'll've\": \"we will have\", \"we're\": \"we are\",\n",
    "                           \"we've\": \"we have\", \"weren't\": \"were not\", \"what'll\": \"what will\", \"what'll've\": \"what will have\", \"what're\": \"what are\",\n",
    "                           \"what's\": \"what is\", \"what've\": \"what have\", \"when's\": \"when is\", \"when've\": \"when have\", \"where'd\": \"where did\", \"where's\": \"where is\",\n",
    "                           \"where've\": \"where have\", \"who'll\": \"who will\", \"who'll've\": \"who will have\", \"who's\": \"who is\", \"who've\": \"who have\",\n",
    "                           \"why's\": \"why is\", \"why've\": \"why have\", \"will've\": \"will have\", \"won't\": \"will not\", \"won't've\": \"will not have\",\n",
    "                           \"would've\": \"would have\", \"wouldn't\": \"would not\", \"wouldn't've\": \"would not have\", \"y'all\": \"you all\",\n",
    "                           \"y'all'd\": \"you all would\",\"y'all'd've\": \"you all would have\",\"y'all're\": \"you all are\",\"y'all've\": \"you all have\",\n",
    "                           \"you'd\": \"you would\", \"you'd've\": \"you would have\", \"you'll\": \"you will\", \"you'll've\": \"you will have\",\n",
    "                           \"you're\": \"you are\", \"you've\": \"you have\"}\n",
    "\n",
    "print(\"정규화 사전의 수: \", len(contractions))"
   ]
  },
  {
   "cell_type": "code",
   "execution_count": 13,
   "id": "fa455294",
   "metadata": {},
   "outputs": [
    {
     "name": "stdout",
     "output_type": "stream",
     "text": [
      "불용어 개수 : 179\n",
      "['i', 'me', 'my', 'myself', 'we', 'our', 'ours', 'ourselves', 'you', \"you're\", \"you've\", \"you'll\", \"you'd\", 'your', 'yours', 'yourself', 'yourselves', 'he', 'him', 'his', 'himself', 'she', \"she's\", 'her', 'hers', 'herself', 'it', \"it's\", 'its', 'itself', 'they', 'them', 'their', 'theirs', 'themselves', 'what', 'which', 'who', 'whom', 'this', 'that', \"that'll\", 'these', 'those', 'am', 'is', 'are', 'was', 'were', 'be', 'been', 'being', 'have', 'has', 'had', 'having', 'do', 'does', 'did', 'doing', 'a', 'an', 'the', 'and', 'but', 'if', 'or', 'because', 'as', 'until', 'while', 'of', 'at', 'by', 'for', 'with', 'about', 'against', 'between', 'into', 'through', 'during', 'before', 'after', 'above', 'below', 'to', 'from', 'up', 'down', 'in', 'out', 'on', 'off', 'over', 'under', 'again', 'further', 'then', 'once', 'here', 'there', 'when', 'where', 'why', 'how', 'all', 'any', 'both', 'each', 'few', 'more', 'most', 'other', 'some', 'such', 'no', 'nor', 'not', 'only', 'own', 'same', 'so', 'than', 'too', 'very', 's', 't', 'can', 'will', 'just', 'don', \"don't\", 'should', \"should've\", 'now', 'd', 'll', 'm', 'o', 're', 've', 'y', 'ain', 'aren', \"aren't\", 'couldn', \"couldn't\", 'didn', \"didn't\", 'doesn', \"doesn't\", 'hadn', \"hadn't\", 'hasn', \"hasn't\", 'haven', \"haven't\", 'isn', \"isn't\", 'ma', 'mightn', \"mightn't\", 'mustn', \"mustn't\", 'needn', \"needn't\", 'shan', \"shan't\", 'shouldn', \"shouldn't\", 'wasn', \"wasn't\", 'weren', \"weren't\", 'won', \"won't\", 'wouldn', \"wouldn't\"]\n"
     ]
    }
   ],
   "source": [
    "print('불용어 개수 :', len(stopwords.words('english') ))\n",
    "print(stopwords.words('english'))"
   ]
  },
  {
   "cell_type": "code",
   "execution_count": 14,
   "id": "632a908f",
   "metadata": {},
   "outputs": [
    {
     "name": "stdout",
     "output_type": "stream",
     "text": [
      "=3\n"
     ]
    }
   ],
   "source": [
    "# 데이터 전처리 함수\n",
    "def preprocess_sentence(sentence, remove_stopwords=True):\n",
    "    sentence = sentence.lower() # 텍스트 소문자화\n",
    "    sentence = BeautifulSoup(sentence, \"lxml\").text # <br />, <a href = ...> 등의 html 태그 제거\n",
    "    sentence = re.sub(r'\\([^)]*\\)', '', sentence) # 괄호로 닫힌 문자열 (...) 제거 Ex) my husband (and myself!) for => my husband for\n",
    "    sentence = re.sub('\"','', sentence) # 쌍따옴표 \" 제거\n",
    "    sentence = ' '.join([contractions[t] if t in contractions else t for t in sentence.split(\" \")]) # 약어 정규화\n",
    "    sentence = re.sub(r\"'s\\b\",\"\", sentence) # 소유격 제거. Ex) roland's -> roland\n",
    "    sentence = re.sub(\"[^a-zA-Z]\", \" \", sentence) # 영어 외 문자(숫자, 특수문자 등) 공백으로 변환\n",
    "    sentence = re.sub('[m]{2,}', 'mm', sentence) # m이 3개 이상이면 2개로 변경. Ex) ummmmmmm yeah -> umm yeah\n",
    "    \n",
    "    # 불용어 제거 (Text)\n",
    "    if remove_stopwords:\n",
    "        tokens = ' '.join(word for word in sentence.split() if not word in stopwords.words('english') if len(word) > 1)\n",
    "    # 불용어 미제거 (Summary)\n",
    "    else:\n",
    "        tokens = ' '.join(word for word in sentence.split() if len(word) > 1)\n",
    "    return tokens\n",
    "print('=3')"
   ]
  },
  {
   "cell_type": "code",
   "execution_count": 15,
   "id": "c67edb52",
   "metadata": {},
   "outputs": [
    {
     "name": "stdout",
     "output_type": "stream",
     "text": [
      "text:  everything bought great infact ordered twice third ordered wasfor mother father\n",
      "summary: great way to start the day\n"
     ]
    }
   ],
   "source": [
    "temp_text = 'Everything I bought was great, infact I ordered twice and the third ordered was<br />for my mother and father.'\n",
    "temp_summary = 'Great way to start (or finish) the day!!!'\n",
    "\n",
    "print(\"text: \", preprocess_sentence(temp_text))\n",
    "print(\"summary:\", preprocess_sentence(temp_summary, False))  # 불용어를 제거하지 않습니다."
   ]
  },
  {
   "cell_type": "code",
   "execution_count": 17,
   "id": "dceba816",
   "metadata": {},
   "outputs": [
    {
     "name": "stdout",
     "output_type": "stream",
     "text": [
      "0.0\n",
      "0.010166734444896299\n",
      "0.020333468889792598\n",
      "0.030500203334688898\n",
      "0.040666937779585195\n",
      "0.0508336722244815\n",
      "0.061000406669377796\n",
      "0.0711671411142741\n",
      "0.08133387555917039\n",
      "0.09150061000406669\n",
      "0.101667344448963\n",
      "0.1118340788938593\n",
      "0.12200081333875559\n",
      "0.1321675477836519\n",
      "0.1423342822285482\n",
      "0.15250101667344448\n",
      "0.16266775111834078\n",
      "0.17283448556323708\n",
      "0.18300122000813338\n",
      "0.1931679544530297\n",
      "0.203334688897926\n",
      "0.2135014233428223\n",
      "0.2236681577877186\n",
      "0.2338348922326149\n",
      "0.24400162667751119\n",
      "0.2541683611224075\n",
      "0.2643350955673038\n",
      "0.2745018300122001\n",
      "0.2846685644570964\n",
      "0.29483529890199267\n",
      "0.30500203334688897\n",
      "0.31516876779178526\n",
      "0.32533550223668156\n",
      "0.33550223668157786\n",
      "0.34566897112647416\n",
      "0.35583570557137045\n",
      "0.36600244001626675\n",
      "0.37616917446116305\n",
      "0.3863359089060594\n",
      "0.3965026433509557\n",
      "0.406669377795852\n",
      "0.4168361122407483\n",
      "0.4270028466856446\n",
      "0.4371695811305409\n",
      "0.4473363155754372\n",
      "0.4575030500203335\n",
      "0.4676697844652298\n",
      "0.4778365189101261\n",
      "0.48800325335502237\n",
      "0.49816998779991867\n",
      "0.508336722244815\n",
      "0.5185034566897113\n",
      "0.5286701911346076\n",
      "0.5388369255795039\n",
      "0.5490036600244002\n",
      "0.5591703944692965\n",
      "0.5693371289141927\n",
      "0.5795038633590891\n",
      "0.5896705978039853\n",
      "0.5998373322488817\n",
      "0.6100040666937779\n",
      "0.6201708011386743\n",
      "0.6303375355835705\n",
      "0.6405042700284669\n",
      "0.6506710044733631\n",
      "0.6608377389182595\n",
      "0.6710044733631557\n",
      "0.6811712078080521\n",
      "0.6913379422529483\n",
      "0.7015046766978447\n",
      "0.7116714111427409\n",
      "0.7218381455876373\n",
      "0.7320048800325335\n",
      "0.7421716144774299\n",
      "0.7523383489223261\n",
      "0.7625050833672224\n",
      "0.7726718178121188\n",
      "0.782838552257015\n",
      "0.7930052867019114\n",
      "0.8031720211468076\n",
      "0.813338755591704\n",
      "0.8235054900366002\n",
      "0.8336722244814966\n",
      "0.8438389589263928\n",
      "0.8540056933712892\n",
      "0.8641724278161854\n",
      "0.8743391622610818\n",
      "0.884505896705978\n",
      "0.8946726311508744\n",
      "0.9048393655957706\n",
      "0.915006100040667\n",
      "0.9251728344855632\n",
      "0.9353395689304596\n",
      "0.9455063033753558\n",
      "0.9556730378202521\n",
      "0.9658397722651484\n",
      "0.9760065067100447\n",
      "0.986173241154941\n",
      "0.9963399755998373\n",
      "Text 전처리 후 결과:  ['saurav kant alumnus upgrad iiit pg program machine learning artificial intelligence sr systems engineer infosys almost years work experience program upgrad degree career support helped transition data scientist tech mahindra salary hike upgrad online power learning powered lakh careers', 'kunal shah credit card bill payment platform cred gave users chance win free food swiggy one year pranav kaushik delhi techie bagged reward spending cred coins users get one cred coin per rupee bill paid used avail rewards brands like ixigo bookmyshow ubereats cult fit', 'new zealand defeated india wickets fourth odi hamilton thursday win first match five match odi series india lost international match rohit sharma captaincy consecutive victories dating back march match witnessed india getting seventh lowest total odi cricket history', 'aegon life iterm insurance plan customers enjoy tax benefits premiums paid save taxes plan provides life cover age years also customers options insure critical illnesses disability accidental death benefit rider life cover age years', 'speaking sexual harassment allegations rajkumar hirani sonam kapoor said known hirani many years true metoo movement get derailed metoo movement always believe woman case need reserve judgment added hirani accused assistant worked sanju']\n"
     ]
    }
   ],
   "source": [
    "# 전체 Text 데이터에 대한 전처리 : 10분 이상 시간이 걸릴 수 있습니다. \n",
    "clean_text = []\n",
    "\n",
    "# [[YOUR CODE]]\n",
    "for i, sentence in enumerate(data['text']):\n",
    "    clean_text.append(preprocess_sentence(sentence))\n",
    "    if i % 1000 == 0:\n",
    "        print(i/data.shape[0])\n",
    "\n",
    "# 전처리 후 출력\n",
    "print(\"Text 전처리 후 결과: \", clean_text[:5])"
   ]
  },
  {
   "cell_type": "code",
   "execution_count": 20,
   "id": "18ccda72",
   "metadata": {},
   "outputs": [
    {
     "name": "stdout",
     "output_type": "stream",
     "text": [
      "0.0\n",
      "0.010166734444896299\n",
      "0.020333468889792598\n",
      "0.030500203334688898\n",
      "0.040666937779585195\n",
      "0.0508336722244815\n",
      "0.061000406669377796\n",
      "0.0711671411142741\n",
      "0.08133387555917039\n",
      "0.09150061000406669\n",
      "0.101667344448963\n",
      "0.1118340788938593\n",
      "0.12200081333875559\n",
      "0.1321675477836519\n",
      "0.1423342822285482\n",
      "0.15250101667344448\n",
      "0.16266775111834078\n",
      "0.17283448556323708\n",
      "0.18300122000813338\n",
      "0.1931679544530297\n",
      "0.203334688897926\n",
      "0.2135014233428223\n",
      "0.2236681577877186\n",
      "0.2338348922326149\n",
      "0.24400162667751119\n",
      "0.2541683611224075\n",
      "0.2643350955673038\n",
      "0.2745018300122001\n",
      "0.2846685644570964\n",
      "0.29483529890199267\n",
      "0.30500203334688897\n",
      "0.31516876779178526\n",
      "0.32533550223668156\n",
      "0.33550223668157786\n",
      "0.34566897112647416\n",
      "0.35583570557137045\n",
      "0.36600244001626675\n",
      "0.37616917446116305\n",
      "0.3863359089060594\n",
      "0.3965026433509557\n",
      "0.406669377795852\n",
      "0.4168361122407483\n",
      "0.4270028466856446\n",
      "0.4371695811305409\n",
      "0.4473363155754372\n",
      "0.4575030500203335\n",
      "0.4676697844652298\n",
      "0.4778365189101261\n",
      "0.48800325335502237\n",
      "0.49816998779991867\n",
      "0.508336722244815\n",
      "0.5185034566897113\n",
      "0.5286701911346076\n",
      "0.5388369255795039\n",
      "0.5490036600244002\n",
      "0.5591703944692965\n",
      "0.5693371289141927\n",
      "0.5795038633590891\n",
      "0.5896705978039853\n",
      "0.5998373322488817\n",
      "0.6100040666937779\n",
      "0.6201708011386743\n",
      "0.6303375355835705\n",
      "0.6405042700284669\n",
      "0.6506710044733631\n",
      "0.6608377389182595\n",
      "0.6710044733631557\n",
      "0.6811712078080521\n",
      "0.6913379422529483\n",
      "0.7015046766978447\n",
      "0.7116714111427409\n",
      "0.7218381455876373\n",
      "0.7320048800325335\n",
      "0.7421716144774299\n",
      "0.7523383489223261\n",
      "0.7625050833672224\n",
      "0.7726718178121188\n",
      "0.782838552257015\n",
      "0.7930052867019114\n",
      "0.8031720211468076\n",
      "0.813338755591704\n",
      "0.8235054900366002\n",
      "0.8336722244814966\n",
      "0.8438389589263928\n",
      "0.8540056933712892\n",
      "0.8641724278161854\n",
      "0.8743391622610818\n",
      "0.884505896705978\n",
      "0.8946726311508744\n",
      "0.9048393655957706\n",
      "0.915006100040667\n",
      "0.9251728344855632\n",
      "0.9353395689304596\n",
      "0.9455063033753558\n",
      "0.9556730378202521\n",
      "0.9658397722651484\n",
      "0.9760065067100447\n",
      "0.986173241154941\n",
      "0.9963399755998373\n",
      "headlines 전처리 후 결과:  ['upgrad learner switches to career in ml al with salary hike', 'delhi techie wins free food from swiggy for one year on cred', 'new zealand end rohit sharma led india match winning streak', 'aegon life iterm insurance plan helps customers save tax', 'have known hirani for yrs what if metoo claims are not true sonam']\n"
     ]
    }
   ],
   "source": [
    "# 전체 Summary 데이터에 대한 전처리 : 5분 이상 시간이 걸릴 수 있습니다. \n",
    "clean_headlines = []\n",
    "\n",
    "# [[YOUR CODE]]\n",
    "for i, sentence in enumerate(data['headlines']):\n",
    "    clean_headlines.append(preprocess_sentence(sentence, False))\n",
    "    if i % 1000 == 0:\n",
    "        print(i/data.shape[0])\n",
    "\n",
    "print(\"headlines 전처리 후 결과: \", clean_headlines[:5])"
   ]
  },
  {
   "cell_type": "code",
   "execution_count": 21,
   "id": "734ade0e",
   "metadata": {},
   "outputs": [
    {
     "name": "stdout",
     "output_type": "stream",
     "text": [
      "=3\n"
     ]
    }
   ],
   "source": [
    "data['text'] = clean_text\n",
    "data['headlines'] = clean_headlines\n",
    "\n",
    "# 빈 값을 Null 값으로 변환\n",
    "data.replace('', np.nan, inplace=True)\n",
    "print('=3')"
   ]
  },
  {
   "cell_type": "code",
   "execution_count": 22,
   "id": "118eea74",
   "metadata": {},
   "outputs": [
    {
     "data": {
      "text/plain": [
       "headlines    0\n",
       "text         0\n",
       "dtype: int64"
      ]
     },
     "execution_count": 22,
     "metadata": {},
     "output_type": "execute_result"
    }
   ],
   "source": [
    "data.isnull().sum()"
   ]
  },
  {
   "cell_type": "code",
   "execution_count": 23,
   "id": "a70188e4",
   "metadata": {},
   "outputs": [
    {
     "name": "stdout",
     "output_type": "stream",
     "text": [
      "전체 샘플수 : 98360\n"
     ]
    }
   ],
   "source": [
    "data.dropna(axis=0, inplace=True)\n",
    "print('전체 샘플수 :', (len(data)))"
   ]
  },
  {
   "cell_type": "code",
   "execution_count": 24,
   "id": "6b820009",
   "metadata": {},
   "outputs": [
    {
     "name": "stdout",
     "output_type": "stream",
     "text": [
      "텍스트의 최소 길이 : 1\n",
      "텍스트의 최대 길이 : 60\n",
      "텍스트의 평균 길이 : 35.09968483123221\n",
      "요약의 최소 길이 : 1\n",
      "요약의 최대 길이 : 16\n",
      "요약의 평균 길이 : 9.299532330215534\n"
     ]
    },
    {
     "data": {
      "image/png": "[encoded data removed]",
      "text/plain": [
       "<Figure size 432x288 with 2 Axes>"
      ]
     },
     "metadata": {
      "needs_background": "light"
     },
     "output_type": "display_data"
    },
    {
     "data": {
      "image/png": "[encoded data removed]",
      "text/plain": [
       "<Figure size 432x288 with 1 Axes>"
      ]
     },
     "metadata": {
      "needs_background": "light"
     },
     "output_type": "display_data"
    },
    {
     "data": {
      "image/png": "[encoded data removed]",
      "text/plain": [
       "<Figure size 432x288 with 1 Axes>"
      ]
     },
     "metadata": {
      "needs_background": "light"
     },
     "output_type": "display_data"
    }
   ],
   "source": [
    "# 길이 분포 출력\n",
    "import matplotlib.pyplot as plt\n",
    "\n",
    "text_len = [len(s.split()) for s in data['text']]\n",
    "headlines_len = [len(s.split()) for s in data['headlines']]\n",
    "\n",
    "print('텍스트의 최소 길이 : {}'.format(np.min(text_len)))\n",
    "print('텍스트의 최대 길이 : {}'.format(np.max(text_len)))\n",
    "print('텍스트의 평균 길이 : {}'.format(np.mean(text_len)))\n",
    "print('요약의 최소 길이 : {}'.format(np.min(headlines_len)))\n",
    "print('요약의 최대 길이 : {}'.format(np.max(headlines_len)))\n",
    "print('요약의 평균 길이 : {}'.format(np.mean(headlines_len)))\n",
    "\n",
    "plt.subplot(1,2,1)\n",
    "plt.boxplot(text_len)\n",
    "plt.title('Text')\n",
    "plt.subplot(1,2,2)\n",
    "plt.boxplot(headlines_len)\n",
    "plt.title('headlines')\n",
    "plt.tight_layout()\n",
    "plt.show()\n",
    "\n",
    "plt.title('Text')\n",
    "plt.hist(text_len, bins = 40)\n",
    "plt.xlabel('length of samples')\n",
    "plt.ylabel('number of samples')\n",
    "plt.show()\n",
    "\n",
    "plt.title('headlines')\n",
    "plt.hist(headlines_len, bins = 40)\n",
    "plt.xlabel('length of samples')\n",
    "plt.ylabel('number of samples')\n",
    "plt.show()"
   ]
  },
  {
   "cell_type": "code",
   "execution_count": 36,
   "id": "1b758eb7",
   "metadata": {},
   "outputs": [
    {
     "name": "stdout",
     "output_type": "stream",
     "text": [
      "=3\n"
     ]
    }
   ],
   "source": [
    "text_max_len = 41\n",
    "headlines_max_len = 11\n",
    "print('=3')"
   ]
  },
  {
   "cell_type": "code",
   "execution_count": 37,
   "id": "ac5147fa",
   "metadata": {},
   "outputs": [
    {
     "name": "stdout",
     "output_type": "stream",
     "text": [
      "=3\n"
     ]
    }
   ],
   "source": [
    "def below_threshold_len(max_len, nested_list):\n",
    "  cnt = 0\n",
    "  for s in nested_list:\n",
    "    if(len(s.split()) <= max_len):\n",
    "        cnt = cnt + 1\n",
    "  print('전체 샘플 중 길이가 %s 이하인 샘플의 비율: %s'%(max_len, (cnt / len(nested_list))))\n",
    "print('=3')"
   ]
  },
  {
   "cell_type": "code",
   "execution_count": 38,
   "id": "03a8f597",
   "metadata": {},
   "outputs": [
    {
     "name": "stdout",
     "output_type": "stream",
     "text": [
      "전체 샘플 중 길이가 41 이하인 샘플의 비율: 0.9549613664091094\n",
      "전체 샘플 중 길이가 11 이하인 샘플의 비율: 0.9449877999186661\n"
     ]
    }
   ],
   "source": [
    "below_threshold_len(text_max_len, data['text'])\n",
    "below_threshold_len(headlines_max_len,  data['headlines'])"
   ]
  },
  {
   "cell_type": "code",
   "execution_count": 39,
   "id": "52a41e8c",
   "metadata": {},
   "outputs": [
    {
     "name": "stdout",
     "output_type": "stream",
     "text": [
      "전체 샘플수 : 74102\n"
     ]
    }
   ],
   "source": [
    "# [[YOUR CODE]]\n",
    "cond0 = data['text'].apply(lambda sentence : len(sentence.split())) < text_max_len\n",
    "cond1 = data['headlines'].apply(lambda sentence : len(sentence.split())) < headlines_max_len\n",
    "\n",
    "data = data[cond0 & cond1]\n",
    "\n",
    "print('전체 샘플수 :', (len(data)))"
   ]
  },
  {
   "cell_type": "code",
   "execution_count": 40,
   "id": "b7aae1bc",
   "metadata": {},
   "outputs": [
    {
     "data": {
      "text/html": [
       "<div>\n",
       "<style scoped>\n",
       "    .dataframe tbody tr th:only-of-type {\n",
       "        vertical-align: middle;\n",
       "    }\n",
       "\n",
       "    .dataframe tbody tr th {\n",
       "        vertical-align: top;\n",
       "    }\n",
       "\n",
       "    .dataframe thead th {\n",
       "        text-align: right;\n",
       "    }\n",
       "</style>\n",
       "<table border=\"1\" class=\"dataframe\">\n",
       "  <thead>\n",
       "    <tr style=\"text-align: right;\">\n",
       "      <th></th>\n",
       "      <th>headlines</th>\n",
       "      <th>text</th>\n",
       "      <th>decoder_input</th>\n",
       "      <th>decoder_target</th>\n",
       "    </tr>\n",
       "  </thead>\n",
       "  <tbody>\n",
       "    <tr>\n",
       "      <th>2</th>\n",
       "      <td>new zealand end rohit sharma led india match w...</td>\n",
       "      <td>new zealand defeated india wickets fourth odi ...</td>\n",
       "      <td>sostoken new zealand end rohit sharma led indi...</td>\n",
       "      <td>new zealand end rohit sharma led india match w...</td>\n",
       "    </tr>\n",
       "    <tr>\n",
       "      <th>3</th>\n",
       "      <td>aegon life iterm insurance plan helps customer...</td>\n",
       "      <td>aegon life iterm insurance plan customers enjo...</td>\n",
       "      <td>sostoken aegon life iterm insurance plan helps...</td>\n",
       "      <td>aegon life iterm insurance plan helps customer...</td>\n",
       "    </tr>\n",
       "    <tr>\n",
       "      <th>5</th>\n",
       "      <td>rahat fateh ali khan denies getting notice for...</td>\n",
       "      <td>pakistani singer rahat fateh ali khan denied r...</td>\n",
       "      <td>sostoken rahat fateh ali khan denies getting n...</td>\n",
       "      <td>rahat fateh ali khan denies getting notice for...</td>\n",
       "    </tr>\n",
       "    <tr>\n",
       "      <th>9</th>\n",
       "      <td>cong wins ramgarh bypoll in rajasthan takes to...</td>\n",
       "      <td>congress candidate shafia zubair ramgarh assem...</td>\n",
       "      <td>sostoken cong wins ramgarh bypoll in rajasthan...</td>\n",
       "      <td>cong wins ramgarh bypoll in rajasthan takes to...</td>\n",
       "    </tr>\n",
       "    <tr>\n",
       "      <th>10</th>\n",
       "      <td>up cousins fed human excreta for friendship wi...</td>\n",
       "      <td>two minor cousins uttar pradesh gorakhpur alle...</td>\n",
       "      <td>sostoken up cousins fed human excreta for frie...</td>\n",
       "      <td>up cousins fed human excreta for friendship wi...</td>\n",
       "    </tr>\n",
       "  </tbody>\n",
       "</table>\n",
       "</div>"
      ],
      "text/plain": [
       "                                            headlines  \\\n",
       "2   new zealand end rohit sharma led india match w...   \n",
       "3   aegon life iterm insurance plan helps customer...   \n",
       "5   rahat fateh ali khan denies getting notice for...   \n",
       "9   cong wins ramgarh bypoll in rajasthan takes to...   \n",
       "10  up cousins fed human excreta for friendship wi...   \n",
       "\n",
       "                                                 text  \\\n",
       "2   new zealand defeated india wickets fourth odi ...   \n",
       "3   aegon life iterm insurance plan customers enjo...   \n",
       "5   pakistani singer rahat fateh ali khan denied r...   \n",
       "9   congress candidate shafia zubair ramgarh assem...   \n",
       "10  two minor cousins uttar pradesh gorakhpur alle...   \n",
       "\n",
       "                                        decoder_input  \\\n",
       "2   sostoken new zealand end rohit sharma led indi...   \n",
       "3   sostoken aegon life iterm insurance plan helps...   \n",
       "5   sostoken rahat fateh ali khan denies getting n...   \n",
       "9   sostoken cong wins ramgarh bypoll in rajasthan...   \n",
       "10  sostoken up cousins fed human excreta for frie...   \n",
       "\n",
       "                                       decoder_target  \n",
       "2   new zealand end rohit sharma led india match w...  \n",
       "3   aegon life iterm insurance plan helps customer...  \n",
       "5   rahat fateh ali khan denies getting notice for...  \n",
       "9   cong wins ramgarh bypoll in rajasthan takes to...  \n",
       "10  up cousins fed human excreta for friendship wi...  "
      ]
     },
     "execution_count": 40,
     "metadata": {},
     "output_type": "execute_result"
    }
   ],
   "source": [
    "# 요약 데이터에는 시작 토큰과 종료 토큰을 추가한다.\n",
    "data['decoder_input'] = data['headlines'].apply(lambda x : 'sostoken '+ x)\n",
    "data['decoder_target'] = data['headlines'].apply(lambda x : x + ' eostoken')\n",
    "data.head()"
   ]
  },
  {
   "cell_type": "code",
   "execution_count": 41,
   "id": "5ac8932e",
   "metadata": {},
   "outputs": [
    {
     "name": "stdout",
     "output_type": "stream",
     "text": [
      "=3\n"
     ]
    }
   ],
   "source": [
    "encoder_input = np.array(data['text']) # 인코더의 입력\n",
    "decoder_input = np.array(data['decoder_input']) # 디코더의 입력\n",
    "decoder_target = np.array(data['decoder_target']) # 디코더의 레이블\n",
    "print('=3')"
   ]
  },
  {
   "cell_type": "code",
   "execution_count": 42,
   "id": "ea3f36be",
   "metadata": {},
   "outputs": [
    {
     "name": "stdout",
     "output_type": "stream",
     "text": [
      "[64339 55428 27768 ... 40428  3812 21539]\n"
     ]
    }
   ],
   "source": [
    "indices = np.arange(encoder_input.shape[0])\n",
    "np.random.shuffle(indices)\n",
    "print(indices)"
   ]
  },
  {
   "cell_type": "code",
   "execution_count": 43,
   "id": "cffd6f1a",
   "metadata": {},
   "outputs": [
    {
     "name": "stdout",
     "output_type": "stream",
     "text": [
      "=3\n"
     ]
    }
   ],
   "source": [
    "encoder_input = encoder_input[indices]\n",
    "decoder_input = decoder_input[indices]\n",
    "decoder_target = decoder_target[indices]\n",
    "print('=3')"
   ]
  },
  {
   "cell_type": "code",
   "execution_count": 44,
   "id": "5b5f5d7b",
   "metadata": {},
   "outputs": [
    {
     "name": "stdout",
     "output_type": "stream",
     "text": [
      "테스트 데이터의 수 : 14820\n"
     ]
    }
   ],
   "source": [
    "n_of_val = int(len(encoder_input)*0.2)\n",
    "print('테스트 데이터의 수 :', n_of_val)"
   ]
  },
  {
   "cell_type": "code",
   "execution_count": 45,
   "id": "e83f2f97",
   "metadata": {},
   "outputs": [
    {
     "name": "stdout",
     "output_type": "stream",
     "text": [
      "훈련 데이터의 개수 : 59282\n",
      "훈련 레이블의 개수 : 59282\n",
      "테스트 데이터의 개수 : 14820\n",
      "테스트 레이블의 개수 : 14820\n"
     ]
    }
   ],
   "source": [
    "encoder_input_train = encoder_input[:-n_of_val]\n",
    "decoder_input_train = decoder_input[:-n_of_val]\n",
    "decoder_target_train = decoder_target[:-n_of_val]\n",
    "\n",
    "encoder_input_test = encoder_input[-n_of_val:]\n",
    "decoder_input_test = decoder_input[-n_of_val:]\n",
    "decoder_target_test = decoder_target[-n_of_val:]\n",
    "\n",
    "print('훈련 데이터의 개수 :', len(encoder_input_train))\n",
    "print('훈련 레이블의 개수 :', len(decoder_input_train))\n",
    "print('테스트 데이터의 개수 :', len(encoder_input_test))\n",
    "print('테스트 레이블의 개수 :', len(decoder_input_test))"
   ]
  },
  {
   "cell_type": "code",
   "execution_count": 46,
   "id": "66a202c6",
   "metadata": {},
   "outputs": [
    {
     "name": "stdout",
     "output_type": "stream",
     "text": [
      "=3\n"
     ]
    }
   ],
   "source": [
    "src_tokenizer = Tokenizer() # 토크나이저 정의\n",
    "src_tokenizer.fit_on_texts(encoder_input_train) # 입력된 데이터로부터 단어 집합 생성\n",
    "print('=3')"
   ]
  },
  {
   "cell_type": "code",
   "execution_count": 51,
   "id": "d52660d7",
   "metadata": {},
   "outputs": [
    {
     "name": "stdout",
     "output_type": "stream",
     "text": [
      "단어 집합(vocabulary)의 크기 : 61397\n",
      "등장 빈도가 6번 이하인 희귀 단어의 수: 42071\n",
      "단어 집합에서 희귀 단어를 제외시킬 경우의 단어 집합의 크기 19326\n",
      "단어 집합에서 희귀 단어의 비율: 68.52289199798037\n",
      "전체 등장 빈도에서 희귀 단어 등장 빈도 비율: 4.18087530063762\n"
     ]
    }
   ],
   "source": [
    "threshold = 7\n",
    "total_cnt = len(src_tokenizer.word_index) # 단어의 수\n",
    "rare_cnt = 0 # 등장 빈도수가 threshold보다 작은 단어의 개수를 카운트\n",
    "total_freq = 0 # 훈련 데이터의 전체 단어 빈도수 총 합\n",
    "rare_freq = 0 # 등장 빈도수가 threshold보다 작은 단어의 등장 빈도수의 총 합\n",
    "\n",
    "# 단어와 빈도수의 쌍(pair)을 key와 value로 받는다.\n",
    "for key, value in src_tokenizer.word_counts.items():\n",
    "    total_freq = total_freq + value\n",
    "\n",
    "    # 단어의 등장 빈도수가 threshold보다 작으면\n",
    "    if(value < threshold):\n",
    "        rare_cnt = rare_cnt + 1\n",
    "        rare_freq = rare_freq + value\n",
    "\n",
    "print('단어 집합(vocabulary)의 크기 :', total_cnt)\n",
    "print('등장 빈도가 %s번 이하인 희귀 단어의 수: %s'%(threshold - 1, rare_cnt))\n",
    "print('단어 집합에서 희귀 단어를 제외시킬 경우의 단어 집합의 크기 %s'%(total_cnt - rare_cnt))\n",
    "print(\"단어 집합에서 희귀 단어의 비율:\", (rare_cnt / total_cnt)*100)\n",
    "print(\"전체 등장 빈도에서 희귀 단어 등장 빈도 비율:\", (rare_freq / total_freq)*100)"
   ]
  },
  {
   "cell_type": "code",
   "execution_count": 52,
   "id": "63e1a781",
   "metadata": {},
   "outputs": [
    {
     "name": "stdout",
     "output_type": "stream",
     "text": [
      "단어 집합(vocabulary)의 크기 : 61397\n",
      "등장 빈도가 7번 이하인 희귀 단어의 수: 43386\n",
      "단어 집합에서 희귀 단어를 제외시킬 경우의 단어 집합의 크기 18011\n",
      "단어 집합에서 희귀 단어의 비율: 70.66469045718846\n",
      "전체 등장 빈도에서 희귀 단어 등장 빈도 비율: 4.629941311633761\n"
     ]
    }
   ],
   "source": [
    "threshold = 8\n",
    "total_cnt = len(src_tokenizer.word_index) # 단어의 수\n",
    "rare_cnt = 0 # 등장 빈도수가 threshold보다 작은 단어의 개수를 카운트\n",
    "total_freq = 0 # 훈련 데이터의 전체 단어 빈도수 총 합\n",
    "rare_freq = 0 # 등장 빈도수가 threshold보다 작은 단어의 등장 빈도수의 총 합\n",
    "\n",
    "# 단어와 빈도수의 쌍(pair)을 key와 value로 받는다.\n",
    "for key, value in src_tokenizer.word_counts.items():\n",
    "    total_freq = total_freq + value\n",
    "\n",
    "    # 단어의 등장 빈도수가 threshold보다 작으면\n",
    "    if(value < threshold):\n",
    "        rare_cnt = rare_cnt + 1\n",
    "        rare_freq = rare_freq + value\n",
    "\n",
    "print('단어 집합(vocabulary)의 크기 :', total_cnt)\n",
    "print('등장 빈도가 %s번 이하인 희귀 단어의 수: %s'%(threshold - 1, rare_cnt))\n",
    "print('단어 집합에서 희귀 단어를 제외시킬 경우의 단어 집합의 크기 %s'%(total_cnt - rare_cnt))\n",
    "print(\"단어 집합에서 희귀 단어의 비율:\", (rare_cnt / total_cnt)*100)\n",
    "print(\"전체 등장 빈도에서 희귀 단어 등장 빈도 비율:\", (rare_freq / total_freq)*100)"
   ]
  },
  {
   "cell_type": "code",
   "execution_count": 53,
   "id": "fd730d0f",
   "metadata": {},
   "outputs": [
    {
     "name": "stdout",
     "output_type": "stream",
     "text": [
      "단어 집합(vocabulary)의 크기 : 61397\n",
      "등장 빈도가 8번 이하인 희귀 단어의 수: 44518\n",
      "단어 집합에서 희귀 단어를 제외시킬 경우의 단어 집합의 크기 16879\n",
      "단어 집합에서 희귀 단어의 비율: 72.50842875059041\n",
      "전체 등장 빈도에서 희귀 단어 등장 빈도 비율: 5.071738356237895\n"
     ]
    }
   ],
   "source": [
    "threshold = 9\n",
    "total_cnt = len(src_tokenizer.word_index) # 단어의 수\n",
    "rare_cnt = 0 # 등장 빈도수가 threshold보다 작은 단어의 개수를 카운트\n",
    "total_freq = 0 # 훈련 데이터의 전체 단어 빈도수 총 합\n",
    "rare_freq = 0 # 등장 빈도수가 threshold보다 작은 단어의 등장 빈도수의 총 합\n",
    "\n",
    "# 단어와 빈도수의 쌍(pair)을 key와 value로 받는다.\n",
    "for key, value in src_tokenizer.word_counts.items():\n",
    "    total_freq = total_freq + value\n",
    "\n",
    "    # 단어의 등장 빈도수가 threshold보다 작으면\n",
    "    if(value < threshold):\n",
    "        rare_cnt = rare_cnt + 1\n",
    "        rare_freq = rare_freq + value\n",
    "\n",
    "print('단어 집합(vocabulary)의 크기 :', total_cnt)\n",
    "print('등장 빈도가 %s번 이하인 희귀 단어의 수: %s'%(threshold - 1, rare_cnt))\n",
    "print('단어 집합에서 희귀 단어를 제외시킬 경우의 단어 집합의 크기 %s'%(total_cnt - rare_cnt))\n",
    "print(\"단어 집합에서 희귀 단어의 비율:\", (rare_cnt / total_cnt)*100)\n",
    "print(\"전체 등장 빈도에서 희귀 단어 등장 빈도 비율:\", (rare_freq / total_freq)*100)"
   ]
  },
  {
   "cell_type": "code",
   "execution_count": 54,
   "id": "07a5fc0a",
   "metadata": {},
   "outputs": [
    {
     "name": "stdout",
     "output_type": "stream",
     "text": [
      "단어 집합(vocabulary)의 크기 : 61397\n",
      "등장 빈도가 6번 이하인 희귀 단어의 수: 42071\n",
      "단어 집합에서 희귀 단어를 제외시킬 경우의 단어 집합의 크기 19326\n",
      "단어 집합에서 희귀 단어의 비율: 68.52289199798037\n",
      "전체 등장 빈도에서 희귀 단어 등장 빈도 비율: 4.18087530063762\n"
     ]
    }
   ],
   "source": [
    "threshold = 7\n",
    "total_cnt = len(src_tokenizer.word_index) # 단어의 수\n",
    "rare_cnt = 0 # 등장 빈도수가 threshold보다 작은 단어의 개수를 카운트\n",
    "total_freq = 0 # 훈련 데이터의 전체 단어 빈도수 총 합\n",
    "rare_freq = 0 # 등장 빈도수가 threshold보다 작은 단어의 등장 빈도수의 총 합\n",
    "\n",
    "# 단어와 빈도수의 쌍(pair)을 key와 value로 받는다.\n",
    "for key, value in src_tokenizer.word_counts.items():\n",
    "    total_freq = total_freq + value\n",
    "\n",
    "    # 단어의 등장 빈도수가 threshold보다 작으면\n",
    "    if(value < threshold):\n",
    "        rare_cnt = rare_cnt + 1\n",
    "        rare_freq = rare_freq + value\n",
    "\n",
    "print('단어 집합(vocabulary)의 크기 :', total_cnt)\n",
    "print('등장 빈도가 %s번 이하인 희귀 단어의 수: %s'%(threshold - 1, rare_cnt))\n",
    "print('단어 집합에서 희귀 단어를 제외시킬 경우의 단어 집합의 크기 %s'%(total_cnt - rare_cnt))\n",
    "print(\"단어 집합에서 희귀 단어의 비율:\", (rare_cnt / total_cnt)*100)\n",
    "print(\"전체 등장 빈도에서 희귀 단어 등장 빈도 비율:\", (rare_freq / total_freq)*100)"
   ]
  },
  {
   "cell_type": "code",
   "execution_count": 55,
   "id": "ce19c126",
   "metadata": {},
   "outputs": [
    {
     "name": "stdout",
     "output_type": "stream",
     "text": [
      "=3\n"
     ]
    }
   ],
   "source": [
    "src_vocab = 20000\n",
    "src_tokenizer = Tokenizer(num_words=src_vocab) # 단어 집합의 크기를 8,000으로 제한\n",
    "src_tokenizer.fit_on_texts(encoder_input_train) # 단어 집합 재생성\n",
    "print('=3')"
   ]
  },
  {
   "cell_type": "code",
   "execution_count": 56,
   "id": "245337fa",
   "metadata": {},
   "outputs": [
    {
     "name": "stdout",
     "output_type": "stream",
     "text": [
      "[[1004, 9240, 2794, 35, 7798, 6415, 73, 13, 255, 520, 1553, 915, 13, 294, 1135, 5896, 1703, 1501, 81, 1004, 10626, 2, 15, 36, 6126, 335, 96, 117, 9240, 2685, 2, 15, 61], [531, 150, 606, 1679, 470, 26, 296, 41, 247, 17, 33, 41, 17, 2777, 150, 19, 3072, 531, 319, 175, 402, 485, 41, 247, 489, 365, 5030, 1006, 2318, 796, 6127, 338, 4083, 19327, 490, 1], [45, 101, 2836, 2580, 580, 395, 1439, 103, 338, 2052, 1951, 561, 3648, 119, 17, 3912, 85, 7232, 1439, 1502, 2580, 1, 98, 339, 1451, 138, 250, 6218]]\n"
     ]
    }
   ],
   "source": [
    "# 텍스트 시퀀스를 정수 시퀀스로 변환\n",
    "encoder_input_train = src_tokenizer.texts_to_sequences(encoder_input_train) \n",
    "encoder_input_test = src_tokenizer.texts_to_sequences(encoder_input_test)\n",
    "\n",
    "# 잘 진행되었는지 샘플 출력\n",
    "print(encoder_input_train[:3])"
   ]
  },
  {
   "cell_type": "code",
   "execution_count": 57,
   "id": "3554bdff",
   "metadata": {},
   "outputs": [
    {
     "name": "stdout",
     "output_type": "stream",
     "text": [
      "=3\n"
     ]
    }
   ],
   "source": [
    "tar_tokenizer = Tokenizer()\n",
    "tar_tokenizer.fit_on_texts(decoder_input_train)\n",
    "print('=3')"
   ]
  },
  {
   "cell_type": "code",
   "execution_count": 61,
   "id": "6b57c25b",
   "metadata": {},
   "outputs": [
    {
     "name": "stdout",
     "output_type": "stream",
     "text": [
      "단어 집합(vocabulary)의 크기 : 27227\n",
      "등장 빈도가 3번 이하인 희귀 단어의 수: 15691\n",
      "단어 집합에서 희귀 단어를 제외시킬 경우의 단어 집합의 크기 11536\n",
      "단어 집합에서 희귀 단어의 비율: 57.630293458699086\n",
      "전체 등장 빈도에서 희귀 단어 등장 빈도 비율: 4.074668497618332\n"
     ]
    }
   ],
   "source": [
    "threshold = 4\n",
    "total_cnt = len(tar_tokenizer.word_index) # 단어의 수\n",
    "rare_cnt = 0 # 등장 빈도수가 threshold보다 작은 단어의 개수를 카운트\n",
    "total_freq = 0 # 훈련 데이터의 전체 단어 빈도수 총 합\n",
    "rare_freq = 0 # 등장 빈도수가 threshold보다 작은 단어의 등장 빈도수의 총 합\n",
    "\n",
    "# 단어와 빈도수의 쌍(pair)을 key와 value로 받는다.\n",
    "for key, value in tar_tokenizer.word_counts.items():\n",
    "    total_freq = total_freq + value\n",
    "\n",
    "    # 단어의 등장 빈도수가 threshold보다 작으면\n",
    "    if(value < threshold):\n",
    "        rare_cnt = rare_cnt + 1\n",
    "        rare_freq = rare_freq + value\n",
    "\n",
    "print('단어 집합(vocabulary)의 크기 :', total_cnt)\n",
    "print('등장 빈도가 %s번 이하인 희귀 단어의 수: %s'%(threshold - 1, rare_cnt))\n",
    "print('단어 집합에서 희귀 단어를 제외시킬 경우의 단어 집합의 크기 %s'%(total_cnt - rare_cnt))\n",
    "print(\"단어 집합에서 희귀 단어의 비율:\", (rare_cnt / total_cnt)*100)\n",
    "print(\"전체 등장 빈도에서 희귀 단어 등장 빈도 비율:\", (rare_freq / total_freq)*100)"
   ]
  },
  {
   "cell_type": "code",
   "execution_count": 62,
   "id": "779cccbb",
   "metadata": {},
   "outputs": [
    {
     "name": "stdout",
     "output_type": "stream",
     "text": [
      "단어 집합(vocabulary)의 크기 : 27227\n",
      "등장 빈도가 4번 이하인 희귀 단어의 수: 17076\n",
      "단어 집합에서 희귀 단어를 제외시킬 경우의 단어 집합의 크기 10151\n",
      "단어 집합에서 희귀 단어의 비율: 62.71715576449848\n",
      "전체 등장 빈도에서 희귀 단어 등장 빈도 비율: 5.025619019010428\n"
     ]
    }
   ],
   "source": [
    "threshold = 5\n",
    "total_cnt = len(tar_tokenizer.word_index) # 단어의 수\n",
    "rare_cnt = 0 # 등장 빈도수가 threshold보다 작은 단어의 개수를 카운트\n",
    "total_freq = 0 # 훈련 데이터의 전체 단어 빈도수 총 합\n",
    "rare_freq = 0 # 등장 빈도수가 threshold보다 작은 단어의 등장 빈도수의 총 합\n",
    "\n",
    "# 단어와 빈도수의 쌍(pair)을 key와 value로 받는다.\n",
    "for key, value in tar_tokenizer.word_counts.items():\n",
    "    total_freq = total_freq + value\n",
    "\n",
    "    # 단어의 등장 빈도수가 threshold보다 작으면\n",
    "    if(value < threshold):\n",
    "        rare_cnt = rare_cnt + 1\n",
    "        rare_freq = rare_freq + value\n",
    "\n",
    "print('단어 집합(vocabulary)의 크기 :', total_cnt)\n",
    "print('등장 빈도가 %s번 이하인 희귀 단어의 수: %s'%(threshold - 1, rare_cnt))\n",
    "print('단어 집합에서 희귀 단어를 제외시킬 경우의 단어 집합의 크기 %s'%(total_cnt - rare_cnt))\n",
    "print(\"단어 집합에서 희귀 단어의 비율:\", (rare_cnt / total_cnt)*100)\n",
    "print(\"전체 등장 빈도에서 희귀 단어 등장 빈도 비율:\", (rare_freq / total_freq)*100)"
   ]
  },
  {
   "cell_type": "code",
   "execution_count": 63,
   "id": "e4569746",
   "metadata": {},
   "outputs": [
    {
     "name": "stdout",
     "output_type": "stream",
     "text": [
      "단어 집합(vocabulary)의 크기 : 27227\n",
      "등장 빈도가 5번 이하인 희귀 단어의 수: 18152\n",
      "단어 집합에서 희귀 단어를 제외시킬 경우의 단어 집합의 크기 9075\n",
      "단어 집합에서 희귀 단어의 비율: 66.66911521651302\n",
      "전체 등장 빈도에서 희귀 단어 등장 빈도 비율: 5.94910526541647\n"
     ]
    }
   ],
   "source": [
    "threshold = 6\n",
    "total_cnt = len(tar_tokenizer.word_index) # 단어의 수\n",
    "rare_cnt = 0 # 등장 빈도수가 threshold보다 작은 단어의 개수를 카운트\n",
    "total_freq = 0 # 훈련 데이터의 전체 단어 빈도수 총 합\n",
    "rare_freq = 0 # 등장 빈도수가 threshold보다 작은 단어의 등장 빈도수의 총 합\n",
    "\n",
    "# 단어와 빈도수의 쌍(pair)을 key와 value로 받는다.\n",
    "for key, value in tar_tokenizer.word_counts.items():\n",
    "    total_freq = total_freq + value\n",
    "\n",
    "    # 단어의 등장 빈도수가 threshold보다 작으면\n",
    "    if(value < threshold):\n",
    "        rare_cnt = rare_cnt + 1\n",
    "        rare_freq = rare_freq + value\n",
    "\n",
    "print('단어 집합(vocabulary)의 크기 :', total_cnt)\n",
    "print('등장 빈도가 %s번 이하인 희귀 단어의 수: %s'%(threshold - 1, rare_cnt))\n",
    "print('단어 집합에서 희귀 단어를 제외시킬 경우의 단어 집합의 크기 %s'%(total_cnt - rare_cnt))\n",
    "print(\"단어 집합에서 희귀 단어의 비율:\", (rare_cnt / total_cnt)*100)\n",
    "print(\"전체 등장 빈도에서 희귀 단어 등장 빈도 비율:\", (rare_freq / total_freq)*100)"
   ]
  },
  {
   "cell_type": "code",
   "execution_count": 64,
   "id": "7f8a19c4",
   "metadata": {},
   "outputs": [
    {
     "name": "stdout",
     "output_type": "stream",
     "text": [
      "단어 집합(vocabulary)의 크기 : 27227\n",
      "등장 빈도가 4번 이하인 희귀 단어의 수: 17076\n",
      "단어 집합에서 희귀 단어를 제외시킬 경우의 단어 집합의 크기 10151\n",
      "단어 집합에서 희귀 단어의 비율: 62.71715576449848\n",
      "전체 등장 빈도에서 희귀 단어 등장 빈도 비율: 5.025619019010428\n"
     ]
    }
   ],
   "source": [
    "threshold = 5\n",
    "total_cnt = len(tar_tokenizer.word_index) # 단어의 수\n",
    "rare_cnt = 0 # 등장 빈도수가 threshold보다 작은 단어의 개수를 카운트\n",
    "total_freq = 0 # 훈련 데이터의 전체 단어 빈도수 총 합\n",
    "rare_freq = 0 # 등장 빈도수가 threshold보다 작은 단어의 등장 빈도수의 총 합\n",
    "\n",
    "# 단어와 빈도수의 쌍(pair)을 key와 value로 받는다.\n",
    "for key, value in tar_tokenizer.word_counts.items():\n",
    "    total_freq = total_freq + value\n",
    "\n",
    "    # 단어의 등장 빈도수가 threshold보다 작으면\n",
    "    if(value < threshold):\n",
    "        rare_cnt = rare_cnt + 1\n",
    "        rare_freq = rare_freq + value\n",
    "\n",
    "print('단어 집합(vocabulary)의 크기 :', total_cnt)\n",
    "print('등장 빈도가 %s번 이하인 희귀 단어의 수: %s'%(threshold - 1, rare_cnt))\n",
    "print('단어 집합에서 희귀 단어를 제외시킬 경우의 단어 집합의 크기 %s'%(total_cnt - rare_cnt))\n",
    "print(\"단어 집합에서 희귀 단어의 비율:\", (rare_cnt / total_cnt)*100)\n",
    "print(\"전체 등장 빈도에서 희귀 단어 등장 빈도 비율:\", (rare_freq / total_freq)*100)"
   ]
  },
  {
   "cell_type": "code",
   "execution_count": 65,
   "id": "9439fcbc",
   "metadata": {},
   "outputs": [
    {
     "name": "stdout",
     "output_type": "stream",
     "text": [
      "input\n",
      "input  [[1, 1074, 9077, 592, 4, 2144, 3, 1037, 1479], [1, 202, 15, 797, 11, 17, 91, 421, 115, 2542], [1, 1085, 663, 3, 387, 30, 1038, 11, 506, 8219], [1, 8, 3834, 25, 6066, 535, 13, 3972], [1, 2662, 1480, 1498, 67, 21, 4, 38, 7541, 63]]\n",
      "target\n",
      "decoder  [[1074, 9077, 592, 4, 2144, 3, 1037, 1479, 2], [202, 15, 797, 11, 17, 91, 421, 115, 2542, 2], [1085, 663, 3, 387, 30, 1038, 11, 506, 8219, 2], [8, 3834, 25, 6066, 535, 13, 3972, 2], [2662, 1480, 1498, 67, 21, 4, 38, 7541, 63, 2]]\n"
     ]
    }
   ],
   "source": [
    "tar_vocab = 10000\n",
    "tar_tokenizer = Tokenizer(num_words=tar_vocab) \n",
    "tar_tokenizer.fit_on_texts(decoder_input_train)\n",
    "tar_tokenizer.fit_on_texts(decoder_target_train)\n",
    "\n",
    "# 텍스트 시퀀스를 정수 시퀀스로 변환\n",
    "decoder_input_train = tar_tokenizer.texts_to_sequences(decoder_input_train) \n",
    "decoder_target_train = tar_tokenizer.texts_to_sequences(decoder_target_train)\n",
    "decoder_input_test = tar_tokenizer.texts_to_sequences(decoder_input_test)\n",
    "decoder_target_test = tar_tokenizer.texts_to_sequences(decoder_target_test)\n",
    "\n",
    "# 잘 변환되었는지 확인\n",
    "print('input')\n",
    "print('input ',decoder_input_train[:5])\n",
    "print('target')\n",
    "print('decoder ',decoder_target_train[:5])"
   ]
  },
  {
   "cell_type": "code",
   "execution_count": 66,
   "id": "4c35ef27",
   "metadata": {},
   "outputs": [
    {
     "name": "stdout",
     "output_type": "stream",
     "text": [
      "삭제할 훈련 데이터의 개수 : 0\n",
      "삭제할 테스트 데이터의 개수 : 0\n",
      "훈련 데이터의 개수 : 59282\n",
      "훈련 레이블의 개수 : 59282\n",
      "테스트 데이터의 개수 : 14820\n",
      "테스트 레이블의 개수 : 14820\n"
     ]
    }
   ],
   "source": [
    "drop_train = [index for index, sentence in enumerate(decoder_input_train) if len(sentence) == 1]\n",
    "drop_test = [index for index, sentence in enumerate(decoder_input_test) if len(sentence) == 1]\n",
    "\n",
    "print('삭제할 훈련 데이터의 개수 :', len(drop_train))\n",
    "print('삭제할 테스트 데이터의 개수 :', len(drop_test))\n",
    "\n",
    "encoder_input_train = [sentence for index, sentence in enumerate(encoder_input_train) if index not in drop_train]\n",
    "decoder_input_train = [sentence for index, sentence in enumerate(decoder_input_train) if index not in drop_train]\n",
    "decoder_target_train = [sentence for index, sentence in enumerate(decoder_target_train) if index not in drop_train]\n",
    "\n",
    "encoder_input_test = [sentence for index, sentence in enumerate(encoder_input_test) if index not in drop_test]\n",
    "decoder_input_test = [sentence for index, sentence in enumerate(decoder_input_test) if index not in drop_test]\n",
    "decoder_target_test = [sentence for index, sentence in enumerate(decoder_target_test) if index not in drop_test]\n",
    "\n",
    "print('훈련 데이터의 개수 :', len(encoder_input_train))\n",
    "print('훈련 레이블의 개수 :', len(decoder_input_train))\n",
    "print('테스트 데이터의 개수 :', len(encoder_input_test))\n",
    "print('테스트 레이블의 개수 :', len(decoder_input_test))"
   ]
  },
  {
   "cell_type": "code",
   "execution_count": 67,
   "id": "a54495bc",
   "metadata": {},
   "outputs": [
    {
     "name": "stdout",
     "output_type": "stream",
     "text": [
      "=3\n"
     ]
    }
   ],
   "source": [
    "# 패딩하기\n",
    "encoder_input_train = pad_sequences(encoder_input_train, maxlen=text_max_len, padding='post')\n",
    "encoder_input_test = pad_sequences(encoder_input_test, maxlen=text_max_len, padding='post')\n",
    "decoder_input_train = pad_sequences(decoder_input_train, maxlen=summary_max_len, padding='post')\n",
    "decoder_target_train = pad_sequences(decoder_target_train, maxlen=summary_max_len, padding='post')\n",
    "decoder_input_test = pad_sequences(decoder_input_test, maxlen=summary_max_len, padding='post')\n",
    "decoder_target_test = pad_sequences(decoder_target_test, maxlen=summary_max_len, padding='post')\n",
    "print('=3')"
   ]
  },
  {
   "cell_type": "code",
   "execution_count": 68,
   "id": "f159f576",
   "metadata": {},
   "outputs": [],
   "source": [
    "from tensorflow.keras.layers import Input, LSTM, Embedding, Dense, Concatenate, TimeDistributed\n",
    "from tensorflow.keras.models import Model\n",
    "from tensorflow.keras.callbacks import EarlyStopping, ModelCheckpoint\n",
    "\n",
    "\n",
    "# 인코더 설계 시작\n",
    "embedding_dim = 128\n",
    "hidden_size = 256\n",
    "\n",
    "# 인코더\n",
    "encoder_inputs = Input(shape=(text_max_len,))\n",
    "\n",
    "# 인코더의 임베딩 층\n",
    "enc_emb = Embedding(src_vocab, embedding_dim)(encoder_inputs)\n",
    "\n",
    "# 인코더의 LSTM 1\n",
    "# encoder_lstm1 = LSTM(hidden_size, return_sequences=True, return_state=True ,dropout = 0.4, recurrent_dropout = 0.4)\n",
    "encoder_lstm1 = LSTM(hidden_size, return_sequences=True, return_state=True ,dropout = 0.4)\n",
    "encoder_output1, state_h1, state_c1 = encoder_lstm1(enc_emb)\n",
    "\n",
    "# 인코더의 LSTM 2\n",
    "# [[YOUR CODE]]\n",
    "encoder_lstm2 = LSTM(hidden_size, return_sequences=True, return_state=True ,dropout = 0.4)\n",
    "encoder_output2, state_h2, state_c2 = encoder_lstm2(encoder_output1)\n",
    "\n",
    "# 인코더의 LSTM 3\n",
    "# [[YOUR CODE]]\n",
    "encoder_lstm3 = LSTM(hidden_size, return_sequences=True, return_state=True ,dropout = 0.4)\n",
    "encoder_output3, state_h3, state_c3 = encoder_lstm3(encoder_output2)"
   ]
  },
  {
   "cell_type": "code",
   "execution_count": 69,
   "id": "abe4d347",
   "metadata": {},
   "outputs": [],
   "source": [
    "# 디코더 설계\n",
    "decoder_inputs = Input(shape=(None,))\n",
    "\n",
    "# 디코더의 임베딩 층\n",
    "dec_emb_layer = Embedding(tar_vocab, embedding_dim)\n",
    "dec_emb = dec_emb_layer(decoder_inputs)\n",
    "\n",
    "# 디코더의 LSTM\n",
    "# decoder_lstm = LSTM(hidden_size, return_sequences=True, return_state=True, dropout=0.4, recurrent_dropout=0.2)\n",
    "decoder_lstm = LSTM(hidden_size, return_sequences=True, return_state=True, dropout=0.4)\n",
    "decoder_outputs, _, _ = decoder_lstm(dec_emb, initial_state=[state_h3, state_c3])"
   ]
  },
  {
   "cell_type": "code",
   "execution_count": 70,
   "id": "10dda339",
   "metadata": {},
   "outputs": [
    {
     "name": "stdout",
     "output_type": "stream",
     "text": [
      "Model: \"model\"\n",
      "__________________________________________________________________________________________________\n",
      "Layer (type)                    Output Shape         Param #     Connected to                     \n",
      "==================================================================================================\n",
      "input_1 (InputLayer)            [(None, 41)]         0                                            \n",
      "__________________________________________________________________________________________________\n",
      "embedding (Embedding)           (None, 41, 128)      2560000     input_1[0][0]                    \n",
      "__________________________________________________________________________________________________\n",
      "lstm (LSTM)                     [(None, 41, 256), (N 394240      embedding[0][0]                  \n",
      "__________________________________________________________________________________________________\n",
      "input_2 (InputLayer)            [(None, None)]       0                                            \n",
      "__________________________________________________________________________________________________\n",
      "lstm_1 (LSTM)                   [(None, 41, 256), (N 525312      lstm[0][0]                       \n",
      "__________________________________________________________________________________________________\n",
      "embedding_1 (Embedding)         (None, None, 128)    1280000     input_2[0][0]                    \n",
      "__________________________________________________________________________________________________\n",
      "lstm_2 (LSTM)                   [(None, 41, 256), (N 525312      lstm_1[0][0]                     \n",
      "__________________________________________________________________________________________________\n",
      "lstm_3 (LSTM)                   [(None, None, 256),  394240      embedding_1[0][0]                \n",
      "                                                                 lstm_2[0][1]                     \n",
      "                                                                 lstm_2[0][2]                     \n",
      "__________________________________________________________________________________________________\n",
      "dense (Dense)                   (None, None, 10000)  2570000     lstm_3[0][0]                     \n",
      "==================================================================================================\n",
      "Total params: 8,249,104\n",
      "Trainable params: 8,249,104\n",
      "Non-trainable params: 0\n",
      "__________________________________________________________________________________________________\n",
      "10000 <class 'int'>\n"
     ]
    }
   ],
   "source": [
    "# 디코더의 출력층\n",
    "decoder_softmax_layer = Dense(tar_vocab, activation='softmax')\n",
    "decoder_softmax_outputs = decoder_softmax_layer(decoder_outputs) \n",
    "\n",
    "# 모델 정의\n",
    "model = Model([encoder_inputs, decoder_inputs], decoder_softmax_outputs)\n",
    "model.summary()\n",
    "\n",
    "print(tar_vocab, type(tar_vocab))"
   ]
  },
  {
   "cell_type": "code",
   "execution_count": 71,
   "id": "801ce131",
   "metadata": {},
   "outputs": [
    {
     "name": "stdout",
     "output_type": "stream",
     "text": [
      "Model: \"model_1\"\n",
      "__________________________________________________________________________________________________\n",
      "Layer (type)                    Output Shape         Param #     Connected to                     \n",
      "==================================================================================================\n",
      "input_1 (InputLayer)            [(None, 41)]         0                                            \n",
      "__________________________________________________________________________________________________\n",
      "embedding (Embedding)           (None, 41, 128)      2560000     input_1[0][0]                    \n",
      "__________________________________________________________________________________________________\n",
      "lstm (LSTM)                     [(None, 41, 256), (N 394240      embedding[0][0]                  \n",
      "__________________________________________________________________________________________________\n",
      "input_2 (InputLayer)            [(None, None)]       0                                            \n",
      "__________________________________________________________________________________________________\n",
      "lstm_1 (LSTM)                   [(None, 41, 256), (N 525312      lstm[0][0]                       \n",
      "__________________________________________________________________________________________________\n",
      "embedding_1 (Embedding)         (None, None, 128)    1280000     input_2[0][0]                    \n",
      "__________________________________________________________________________________________________\n",
      "lstm_2 (LSTM)                   [(None, 41, 256), (N 525312      lstm_1[0][0]                     \n",
      "__________________________________________________________________________________________________\n",
      "lstm_3 (LSTM)                   [(None, None, 256),  394240      embedding_1[0][0]                \n",
      "                                                                 lstm_2[0][1]                     \n",
      "                                                                 lstm_2[0][2]                     \n",
      "__________________________________________________________________________________________________\n",
      "attention_layer (AdditiveAttent (None, None, 256)    256         lstm_3[0][0]                     \n",
      "                                                                 lstm_2[0][0]                     \n",
      "__________________________________________________________________________________________________\n",
      "concat_layer (Concatenate)      (None, None, 512)    0           lstm_3[0][0]                     \n",
      "                                                                 attention_layer[0][0]            \n",
      "__________________________________________________________________________________________________\n",
      "dense_1 (Dense)                 (None, None, 10000)  5130000     concat_layer[0][0]               \n",
      "==================================================================================================\n",
      "Total params: 10,809,360\n",
      "Trainable params: 10,809,360\n",
      "Non-trainable params: 0\n",
      "__________________________________________________________________________________________________\n"
     ]
    }
   ],
   "source": [
    "from tensorflow.keras.layers import AdditiveAttention\n",
    "\n",
    "# 어텐션 층(어텐션 함수)\n",
    "attn_layer = AdditiveAttention(name='attention_layer')\n",
    "\n",
    "# 인코더와 디코더의 모든 time step의 hidden state를 어텐션 층에 전달하고 결과를 리턴\n",
    "attn_out = attn_layer([decoder_outputs, encoder_output3])\n",
    "\n",
    "\n",
    "# 어텐션의 결과와 디코더의 hidden state들을 연결\n",
    "decoder_concat_input = Concatenate(axis=-1, name='concat_layer')([decoder_outputs, attn_out])\n",
    "\n",
    "# 디코더의 출력층\n",
    "decoder_softmax_layer = Dense(tar_vocab, activation='softmax')\n",
    "decoder_softmax_outputs = decoder_softmax_layer(decoder_concat_input)\n",
    "\n",
    "# 모델 정의\n",
    "model = Model([encoder_inputs, decoder_inputs], decoder_softmax_outputs)\n",
    "model.summary()"
   ]
  },
  {
   "cell_type": "code",
   "execution_count": 72,
   "id": "29d4233c",
   "metadata": {},
   "outputs": [
    {
     "name": "stdout",
     "output_type": "stream",
     "text": [
      "Epoch 1/50\n",
      "232/232 [==============================] - 54s 78ms/step - loss: 6.6980 - val_loss: 6.4707\n",
      "Epoch 2/50\n",
      "232/232 [==============================] - 17s 74ms/step - loss: 6.2392 - val_loss: 6.3159\n",
      "Epoch 3/50\n",
      "232/232 [==============================] - 17s 75ms/step - loss: 5.9072 - val_loss: 5.7408\n",
      "Epoch 4/50\n",
      "232/232 [==============================] - 18s 76ms/step - loss: 5.5976 - val_loss: 5.5078\n",
      "Epoch 5/50\n",
      "232/232 [==============================] - 18s 78ms/step - loss: 5.3554 - val_loss: 5.3487\n",
      "Epoch 6/50\n",
      "232/232 [==============================] - 18s 79ms/step - loss: 5.1476 - val_loss: 5.2160\n",
      "Epoch 7/50\n",
      "232/232 [==============================] - 19s 81ms/step - loss: 4.9575 - val_loss: 5.0912\n",
      "Epoch 8/50\n",
      "232/232 [==============================] - 19s 81ms/step - loss: 4.7812 - val_loss: 5.0066\n",
      "Epoch 9/50\n",
      "232/232 [==============================] - 19s 80ms/step - loss: 4.6286 - val_loss: 4.9200\n",
      "Epoch 10/50\n",
      "232/232 [==============================] - 19s 80ms/step - loss: 4.4831 - val_loss: 4.8719\n",
      "Epoch 11/50\n",
      "232/232 [==============================] - 19s 81ms/step - loss: 4.3521 - val_loss: 4.8129\n",
      "Epoch 12/50\n",
      "232/232 [==============================] - 19s 81ms/step - loss: 4.2331 - val_loss: 4.7741\n",
      "Epoch 13/50\n",
      "232/232 [==============================] - 19s 80ms/step - loss: 4.1229 - val_loss: 4.7396\n",
      "Epoch 14/50\n",
      "232/232 [==============================] - 19s 80ms/step - loss: 4.0205 - val_loss: 4.7277\n",
      "Epoch 15/50\n",
      "232/232 [==============================] - 19s 80ms/step - loss: 3.9279 - val_loss: 4.7063\n",
      "Epoch 16/50\n",
      "232/232 [==============================] - 19s 80ms/step - loss: 3.8411 - val_loss: 4.6840\n",
      "Epoch 17/50\n",
      "232/232 [==============================] - 19s 80ms/step - loss: 3.7509 - val_loss: 4.6783\n",
      "Epoch 18/50\n",
      "232/232 [==============================] - 19s 80ms/step - loss: 3.6707 - val_loss: 4.6628\n",
      "Epoch 19/50\n",
      "232/232 [==============================] - 19s 80ms/step - loss: 3.5882 - val_loss: 4.6616\n",
      "Epoch 20/50\n",
      "232/232 [==============================] - 19s 80ms/step - loss: 3.5161 - val_loss: 4.6558\n",
      "Epoch 21/50\n",
      "232/232 [==============================] - 19s 80ms/step - loss: 3.4482 - val_loss: 4.6488\n",
      "Epoch 22/50\n",
      "232/232 [==============================] - 19s 80ms/step - loss: 3.3800 - val_loss: 4.6520\n",
      "Epoch 23/50\n",
      "232/232 [==============================] - 19s 80ms/step - loss: 3.3171 - val_loss: 4.6470\n",
      "Epoch 24/50\n",
      "232/232 [==============================] - 19s 80ms/step - loss: 3.2574 - val_loss: 4.6484\n",
      "Epoch 25/50\n",
      "232/232 [==============================] - 19s 80ms/step - loss: 3.1994 - val_loss: 4.6509\n",
      "Epoch 00025: early stopping\n"
     ]
    }
   ],
   "source": [
    "model.compile(optimizer='rmsprop', loss='sparse_categorical_crossentropy')\n",
    "es = EarlyStopping(monitor='val_loss', patience=2, verbose=1)\n",
    "history = model.fit(x=[encoder_input_train, decoder_input_train], y=decoder_target_train, \\\n",
    "          validation_data=([encoder_input_test, decoder_input_test], decoder_target_test), \\\n",
    "          batch_size=256, callbacks=[es], epochs=50)"
   ]
  },
  {
   "cell_type": "code",
   "execution_count": 73,
   "id": "11f68888",
   "metadata": {},
   "outputs": [
    {
     "data": {
      "image/png": "[encoded data removed]",
      "text/plain": [
       "<Figure size 432x288 with 1 Axes>"
      ]
     },
     "metadata": {
      "needs_background": "light"
     },
     "output_type": "display_data"
    }
   ],
   "source": [
    "plt.plot(history.history['loss'], label='train')\n",
    "plt.plot(history.history['val_loss'], label='test')\n",
    "plt.legend()\n",
    "plt.show()"
   ]
  },
  {
   "cell_type": "code",
   "execution_count": 74,
   "id": "aef53169",
   "metadata": {},
   "outputs": [
    {
     "name": "stdout",
     "output_type": "stream",
     "text": [
      "=3\n"
     ]
    }
   ],
   "source": [
    "src_index_to_word = src_tokenizer.index_word # 원문 단어 집합에서 정수 -> 단어를 얻음\n",
    "tar_word_to_index = tar_tokenizer.word_index # 요약 단어 집합에서 단어 -> 정수를 얻음\n",
    "tar_index_to_word = tar_tokenizer.index_word # 요약 단어 집합에서 정수 -> 단어를 얻음\n",
    "\n",
    "print('=3')"
   ]
  },
  {
   "cell_type": "code",
   "execution_count": 75,
   "id": "2fad1700",
   "metadata": {},
   "outputs": [
    {
     "name": "stdout",
     "output_type": "stream",
     "text": [
      "=3\n"
     ]
    }
   ],
   "source": [
    "# 인코더 설계\n",
    "encoder_model = Model(inputs=encoder_inputs, outputs=[encoder_output3, state_h3, state_c3])\n",
    "\n",
    "# 이전 시점의 상태들을 저장하는 텐서\n",
    "decoder_state_input_h = Input(shape=(hidden_size,))\n",
    "decoder_state_input_c = Input(shape=(hidden_size,))\n",
    "\n",
    "dec_emb2 = dec_emb_layer(decoder_inputs)\n",
    "\n",
    "# 문장의 다음 단어를 예측하기 위해서 초기 상태(initial_state)를 이전 시점의 상태로 사용. 이는 뒤의 함수 decode_sequence()에 구현\n",
    "# 훈련 과정에서와 달리 LSTM의 리턴하는 은닉 상태와 셀 상태인 state_h와 state_c를 버리지 않음.\n",
    "decoder_outputs2, state_h2, state_c2 = decoder_lstm(dec_emb2, initial_state=[decoder_state_input_h, decoder_state_input_c])\n",
    "\n",
    "print('=3')"
   ]
  },
  {
   "cell_type": "code",
   "execution_count": 76,
   "id": "e266bb2b",
   "metadata": {},
   "outputs": [
    {
     "name": "stdout",
     "output_type": "stream",
     "text": [
      "=3\n"
     ]
    }
   ],
   "source": [
    "# 어텐션 함수\n",
    "decoder_hidden_state_input = Input(shape=(text_max_len, hidden_size))\n",
    "attn_out_inf = attn_layer([decoder_outputs2, decoder_hidden_state_input])\n",
    "decoder_inf_concat = Concatenate(axis=-1, name='concat')([decoder_outputs2, attn_out_inf])\n",
    "\n",
    "# 디코더의 출력층\n",
    "decoder_outputs2 = decoder_softmax_layer(decoder_inf_concat) \n",
    "\n",
    "# 최종 디코더 모델\n",
    "decoder_model = Model(\n",
    "    [decoder_inputs] + [decoder_hidden_state_input,decoder_state_input_h, decoder_state_input_c],\n",
    "    [decoder_outputs2] + [state_h2, state_c2])\n",
    "\n",
    "print('=3')"
   ]
  },
  {
   "cell_type": "code",
   "execution_count": 77,
   "id": "766bc7c1",
   "metadata": {},
   "outputs": [
    {
     "name": "stdout",
     "output_type": "stream",
     "text": [
      "=3\n"
     ]
    }
   ],
   "source": [
    "def decode_sequence(input_seq):\n",
    "    # 입력으로부터 인코더의 상태를 얻음\n",
    "    e_out, e_h, e_c = encoder_model.predict(input_seq)\n",
    "\n",
    "     # <SOS>에 해당하는 토큰 생성\n",
    "    target_seq = np.zeros((1,1))\n",
    "    target_seq[0, 0] = tar_word_to_index['sostoken']\n",
    "\n",
    "    stop_condition = False\n",
    "    decoded_sentence = ''\n",
    "    while not stop_condition: # stop_condition이 True가 될 때까지 루프 반복\n",
    "\n",
    "        output_tokens, h, c = decoder_model.predict([target_seq] + [e_out, e_h, e_c])\n",
    "        sampled_token_index = np.argmax(output_tokens[0, -1, :])\n",
    "        sampled_token = tar_index_to_word[sampled_token_index]\n",
    "\n",
    "        if (sampled_token!='eostoken'):\n",
    "            decoded_sentence += ' '+sampled_token\n",
    "\n",
    "        #  <eos>에 도달하거나 최대 길이를 넘으면 중단.\n",
    "        if (sampled_token == 'eostoken'  or len(decoded_sentence.split()) >= (summary_max_len-1)):\n",
    "            stop_condition = True\n",
    "\n",
    "        # 길이가 1인 타겟 시퀀스를 업데이트\n",
    "        target_seq = np.zeros((1,1))\n",
    "        target_seq[0, 0] = sampled_token_index\n",
    "\n",
    "        # 상태를 업데이트 합니다.\n",
    "        e_h, e_c = h, c\n",
    "\n",
    "    return decoded_sentence\n",
    "print('=3')"
   ]
  },
  {
   "cell_type": "code",
   "execution_count": 78,
   "id": "38cc87e8",
   "metadata": {},
   "outputs": [
    {
     "name": "stdout",
     "output_type": "stream",
     "text": [
      "=3\n"
     ]
    }
   ],
   "source": [
    "# 원문의 정수 시퀀스를 텍스트 시퀀스로 변환\n",
    "def seq2text(input_seq):\n",
    "    temp=''\n",
    "    for i in input_seq:\n",
    "        if (i!=0):\n",
    "            temp = temp + src_index_to_word[i]+' '\n",
    "    return temp\n",
    "\n",
    "# 요약문의 정수 시퀀스를 텍스트 시퀀스로 변환\n",
    "def seq2summary(input_seq):\n",
    "    # [[YOUR CODE]]\n",
    "    temp=''\n",
    "    for i in input_seq:\n",
    "        if (i not in[0, tar_word_to_index['sostoken'], tar_word_to_index['eostoken']]):\n",
    "            temp = temp + tar_index_to_word[i]+' '\n",
    "    return temp\n",
    "\n",
    "print('=3')"
   ]
  },
  {
   "cell_type": "code",
   "execution_count": 79,
   "id": "932d1424",
   "metadata": {},
   "outputs": [
    {
     "name": "stdout",
     "output_type": "stream",
     "text": [
      "원문 : apple maps unveiled indoor airports across globe let users look inside check desks airport lounges bathrooms locations company primarily covered american airports airports hong kong amsterdam geneva london also included users also able use virtual assistant siri service \n",
      "실제 요약 : apple maps gets indoor for over airports \n",
      "예측 요약 :  passengers of parking in mumbai mall flight\n",
      "\n",
      "\n",
      "원문 : police state mining department tuesday found illegal sand mining taking place greater noida two plots near yamuna river authorities said recovered around cubic metres sand plots plot owners booked issued notices worth lakh \n",
      "실제 요약 : illegal sand mining along yamuna in noida \n",
      "예측 요약 :  illegal mining found dead in tn\n",
      "\n",
      "\n",
      "원문 : karnataka high court thursday directed state government submit report within month policy framed protect rti activists petitioner claimed representation submitted february frame policy ignored state government court fixed next hearing august \n",
      "실제 요약 : karnataka high court seeks report on whistleblower policy \n",
      "예측 요약 :  govt issues order on rti\n",
      "\n",
      "\n",
      "원문 : bangladesh security forces killed people arrested nationwide anti drug drive launched month campaign aimed curbing surge trade methamphetamine along country borders approved prime minister sheikh hasina process continue totally senior police official said \n",
      "실제 요약 : bangladesh kills arrests in anti drug drive \n",
      "예측 요약 :  army arrests people in bangladesh\n",
      "\n",
      "\n",
      "원문 : japan airlines president voluntarily taken pay cut three months pilot found drunk pilot times alcohol limit london tokyo flight october jailed uk months shin senior managing executive officer also take pay cut \n",
      "실제 요약 : boss takes salary cut after pilot found drunk \n",
      "예측 요약 :  united airlines airlines plane with lakh\n",
      "\n",
      "\n",
      "원문 : sunny deol sakshi tanwar mohalla released friday fails make impact script wrote bollywood hungama according ndtv mohalla majorly flawed uneven film collection scenes said indian express rated bollywood hungama indian express ndtv \n",
      "실제 요약 : sunny deol sakshi hits the theatres \n",
      "예측 요약 :  song from ekta kapoor released\n",
      "\n",
      "\n",
      "원문 : delhi metro heritage line made open public sunday connecting areas old delhi like delhi gate red fort three stations line delhi gate masjid red fort designed accordance heritage area provide past present \n",
      "실제 요약 : in pics delhi metro recently opened heritage line \n",
      "예측 요약 :  mumbai to get new metro station\n",
      "\n",
      "\n",
      "원문 : sri lankan sports minister accused ordering lankan cricket team use witchcraft test series win pakistan claimed sl test captain approached cast spell pakistan orders really cast spell come odi series asked denying involvement \n",
      "실제 요약 : sports min accused of team to use witchcraft \n",
      "예측 요약 :  champions trophy to play in champions trophy\n",
      "\n",
      "\n",
      "원문 : isis fighters afghanistan coming iraq syria russia special envoy afghanistan said fighters fled iraq syria isis lost control territories countries added terrorists gathered northern afghanistan isis intends expand influence outside country \n",
      "실제 요약 : isis has over fighters in afghanistan russia \n",
      "예측 요약 :  isis killed in syria in syria\n",
      "\n",
      "\n",
      "원문 : gold worth lakh seized three passengers arrived international airports kochi thiruvananthapuram saturday officials said passengers arrived gulf nations two malappuram caught gold worth lakh emirates passenger caught gold biscuits worth lakh trousers shoes \n",
      "실제 요약 : worth lakh seized from air passengers in kerala \n",
      "예측 요약 :  woman worth lakh seized at airport airport\n",
      "\n",
      "\n",
      "원문 : walmart india said expects set wholesale cash carry stores across uttar pradesh store likely create direct indirect jobs resulting least local jobs state said walmart india walmart india currently operates stores brand name best price nine states including four \n",
      "실제 요약 : to create jobs in up with new stores \n",
      "예측 요약 :  india plans to reduce petrol projects\n",
      "\n",
      "\n",
      "원문 : former afghanistan president hamid karzai said entire world knows jamaat ud dawah chief hafiz saeed responsible mumbai terror attacks karzai held us responsible failure war terror afghanistan called us cooperate countries including russia china pressure pakistan \n",
      "실제 요약 : knows hafiz saeed behind attacks ex afghan prez \n",
      "예측 요약 :  pakistan pm calls hafiz saeed terrorist\n",
      "\n",
      "\n",
      "원문 : indian family alleged offloaded british airways flight three year old child crying child father indian engineering services officer filed complaint aviation minister suresh prabhu said crew member shouted son said bloody keep quiet otherwise thrown window \n",
      "실제 요약 : airways indian family over crying yr old son \n",
      "예측 요약 :  couple gets married to fly baby\n",
      "\n",
      "\n",
      "원문 : american pizza chain little patented automated pizza assembly system includes sauce spreading station cheese spreading station spreading station patent describes robot stationary base arm grip pizza pan rotate pizza stations add ingredients \n",
      "실제 요약 : us pizza chain patents pizza making robot \n",
      "예측 요약 :  robots to use robots to the\n",
      "\n",
      "\n",
      "원문 : mumbai terror attack mastermind hafiz saeed political party milli muslim league vowed contest upcoming pakistan elections despite designated foreign terrorist organisation us discontinue political activities cost field candidates across pakistan said saeed million us bounty head \n",
      "실제 요약 : party to contest polls despite us terror tag \n",
      "예측 요약 :  saeed muslims hafiz saeed party in elections\n",
      "\n",
      "\n",
      "원문 : punjab haryana high court tuesday granted conditional anticipatory bail three trustees ryan international chain schools connection murder seven year old student gurugram school lawyer representing victim family said would file appeal receiving copy court order assessing \n",
      "실제 요약 : ryan get anticipatory bail in student murder case \n",
      "예측 요약 :  ryan murder accused of ryan murder murder\n",
      "\n",
      "\n",
      "원문 : mumbai based venture capital firm lightbox venture raised million targeted million third venture fund lightbox ventures iii firm officially began accepting investment fund september raised capital limited partners per filings founded firm early stage consumer technology businesses india \n",
      "실제 요약 : mumbai based venture gets mn for rd fund \n",
      "예측 요약 :  gurugram based padukone raises mn\n",
      "\n",
      "\n",
      "원문 : ranveer singh said continue taking risks actor continue adding think satisfied thing want give audiences different side every time see screen love transform become character added \n",
      "실제 요약 : will continue taking risks as actor ranveer \n",
      "예측 요약 :  ranveer singh is not my ranveer\n",
      "\n",
      "\n",
      "원문 : comedian krushna abhishek speaking family feud involving uncle govinda said mama slap twice abuse things get resolved whatever says listen quietly krushna added feud started govinda wife sunita ahuja accused krushna wife calling people dance money twitter \n",
      "실제 요약 : slap me and things will resolve nephew krushna \n",
      "예측 요약 :  sidharth calls for smoking scene in interview\n",
      "\n",
      "\n",
      "원문 : french navy class anti aircraft rescued indians sinking ship persian gulf tuesday morning dispatched aircraft panther rescue indians overturned rescued crew members merchant vessel queen bearing saint kitts flag \n",
      "실제 요약 : indians rescued from ship by french navy \n",
      "예측 요약 :  plane stranded in south africa\n",
      "\n",
      "\n",
      "원문 : around rockets attacked kabul international airport wednesday us defence secretary james mattis arrived afghanistan visit however casualties reported incident taliban claimed responsibility attack saying mattis first member us president donald trump cabinet visit afghanistan target \n",
      "실제 요약 : hit kabul airport after us defence secy lands \n",
      "예측 요약 :  taliban attack kills in kabul blast\n",
      "\n",
      "\n",
      "원문 : advisory issued china embassy india asked chinese tourists stray restricted areas india comes chinese national detained along myanmar border manipur suspicions spy embassy added safeguard safety chinese citizens cannot shield crimes committed \n",
      "실제 요약 : china embassy asks citizens to avoid indian areas \n",
      "예측 요약 :  china to launch its military indian border\n",
      "\n",
      "\n",
      "원문 : tata group monday announced terminated contract author seth sexual harassment allegations seth consultant tata group public relations team accused sexual harassment six women including model writer trivedi contract tata sons end november \n",
      "실제 요약 : tata group ends contract over metoo allegations \n",
      "예측 요약 :  sexual harassment filed against sexual harassment\n",
      "\n",
      "\n",
      "원문 : paying tribute late actress sridevi bollywood actor akshay kumar tweeted shocked beyond words hear sad demise sridevi added dream many good fortune sharing screen space long ago witnessed continued grace years thoughts prayers family rip \n",
      "실제 요약 : shocked beyond words akshay kumar on sridevi demise \n"
     ]
    },
    {
     "name": "stdout",
     "output_type": "stream",
     "text": [
      "예측 요약 :  sridevi sridevi is not sridevi sridevi sridevi\n",
      "\n",
      "\n",
      "원문 : pictures saif ali khan kareena kapoor khan first child taimur ali khan surfaced online one photographs shows taimur mother kareena actor tusshar kapoor son laksshya recently held first birthday celebrations notably taimur born december \n",
      "실제 요약 : pictures of saif kareena son taimur surface online \n",
      "예측 요약 :  kareena kareena taimur pic with kareena\n",
      "\n",
      "\n",
      "원문 : usa christian coleman broke year old world record metres sprint registering timing seconds us indoor national championships sunday former american sprinter held record seconds coleman metres silver medal last year world championships london \n",
      "실제 요약 : runs in sec breaks yr old world record \n",
      "예측 요약 :  world most expensive telescope breaks record\n",
      "\n",
      "\n",
      "원문 : priyanka chopra home mumbai decorated lights ahead wedding nick jonas couple marry per hindu rituals december christian wedding take place december umaid bhawan palace jodhpur suggested reports pre wedding festivities including sangeet mehendi ceremonies reportedly begin november \n",
      "실제 요약 : priyanka chopra mumbai home ahead of her wedding \n",
      "예측 요약 :  priyanka wedding wedding in ceremony reports\n",
      "\n",
      "\n",
      "원문 : reacting actress raveena tandon tweet called hindutva icon bhakt communal wearing saree user tweeted actually sari symbol indians beautiful keep narrow minded politics another user wrote indira gandhi wore saree termed communal bhakt \n",
      "실제 요약 : users react to raveena hindutva icon sari remark \n",
      "예측 요약 :  twitter reacts to troll who called\n",
      "\n",
      "\n",
      "원문 : american researchers created electronics circuit boards come apart automatically put cool liquid electronics made silver polymer warm water cold water electronics used secretive operations chip implants removed without surgery \n",
      "실제 요약 : scientists make electronics that self when \n",
      "예측 요약 :  scientists make water on water and water\n",
      "\n",
      "\n",
      "원문 : indian cricketer sreesanth approached kerala high court friday bcci yet give noc play scotland league hc lifted ban imposed bcci august bcci reportedly seeking challenge order sreesanth banned ipl spot fixing case \n",
      "실제 요약 : kerala hc after bcci fails to lift ban \n",
      "예측 요약 :  bcci to ban bcci on icc ban\n",
      "\n",
      "\n",
      "원문 : talking latest release october earned crore first day varun dhawan said expected figure little promote film much movies one trailer two songs became selling points said actor \n",
      "실제 요약 : low box office numbers for october says varun \n",
      "예측 요약 :  baahubali film to release crore in theatres\n",
      "\n",
      "\n",
      "원문 : former south africa batsman gibbs said need australian coach tolerate buddy buddy attitude coach needs control believe australia coach tolerate buddy buddy attitude could work said gibbs year old added senior players team much say \n",
      "실제 요약 : south africa need an australian coach not \n",
      "예측 요약 :  australian pacer calls ex wife account\n",
      "\n",
      "\n",
      "원문 : ms dhoni become first ever player captain indian premier league matches achieving feat taking field chennai super kings mumbai indians saturday dhoni first matches captain best winning age among ipl captains led teams plus matches \n",
      "실제 요약 : becomes first player to captain in ipl matches \n",
      "예측 요약 :  becomes first cricketer to play century\n",
      "\n",
      "\n",
      "원문 : new song titled akshay kumar sonam kapoor radhika apte starrer pad man released song composed amit trivedi vocals sharma gandhi sikka rani kaur directed balki pad man scheduled release february \n",
      "실제 요약 : song from akshay kumar starrer pad man released \n",
      "예측 요약 :  akshay kumar starrer padman hits the theatres\n",
      "\n",
      "\n",
      "원문 : south delhi municipal corporation passed proposal prohibiting display non vegetarian food items restaurants publicly danger contamination raw cooked meat dishes also hurts sentiments vegetarian public officials said said received complaints public display meat \n",
      "실제 요약 : asks restaurants to not display non veg outside \n",
      "예측 요약 :  delhi civic body to impose restaurants\n",
      "\n",
      "\n",
      "원문 : uttar pradesh police detained bsp leader verma alleging main violent protests broke meerut meanwhile bsp supremo mayawati claimed party behind violence protests leader agitators arrested city \n",
      "실제 요약 : bsp leader main in dalit protests up police \n",
      "예측 요약 :  bjp workers workers to protest against bjp\n",
      "\n",
      "\n",
      "원문 : smartphone shipments expected grow almost reaching million units according research firm counterpoint report claims korea china japan us key markets infrastructure development due plans however growth slow initial phase report added \n",
      "실제 요약 : smartphones to hit million units by report \n",
      "예측 요약 :  google to launch million in revenue report\n",
      "\n",
      "\n",
      "원문 : denying reports katrina kaif star opposite akshay kumar film rohit shetty said true still working script akshay reportedly seen playing anti terrorism squad officer film earlier reports suggested actress pooja hegde would feature film female lead character \n",
      "실제 요약 : not true rohit shetty on katrina starring in \n",
      "예측 요약 :  sara to star in sara sara reports\n",
      "\n",
      "\n",
      "원문 : indian rupee friday touched new low breached us dollar mark first time plunge comes ahead release gross domestic product data june quarter day indian rupee fallen august far worst among asian currencies \n",
      "실제 요약 : touches new low slips to against the dollar \n",
      "예측 요약 :  china shares fall on road in days\n",
      "\n",
      "\n",
      "원문 : report comptroller auditor general wednesday revealed several irregularities gender including non implementation schemes aimed women empowerment rajasthan expenditure one gender based scheme remaining four schemes expenditure ranged report stated \n",
      "실제 요약 : several irregularities in gender in rajasthan cag \n",
      "예측 요약 :  govt to be more for\n",
      "\n",
      "\n",
      "원문 : jammu kashmir services selection board issued admit card post name khar chairman singh said board blamed admit card also carried donkey photograph computer generated admit card issued cow \n",
      "실제 요약 : card issued to donkey for govt recruitment exam \n",
      "예측 요약 :  why is not required for the time\n",
      "\n",
      "\n",
      "원문 : tripura government suspended internet hours thursday stop spread rumours three people lynched state around people attacked four uttar pradesh traders rumours kidnappers following one succumbed injuries woman later lynched mob chanted death child lifters \n",
      "실제 요약 : internet for hrs to stop rumours as lynched \n",
      "예측 요약 :  video shows karnataka lynching incidents in chhattisgarh\n",
      "\n",
      "\n",
      "원문 : person improvised explosive device former us president barack obama identified texas woman cat hair package matched cats owned indicted six counts including transportation explosives intent kill could sentenced life imprisonment death \n",
      "실제 요약 : hair help identify woman who explosives to obama \n",
      "예측 요약 :  us president trump to live in us\n",
      "\n",
      "\n",
      "원문 : taxi driver arrested allegedly raping year old woman inside taxi park near red fort tuesday woman waiting new delhi railway station accused allegedly lied train made woman come taxi offering drop bus stand \n",
      "실제 요약 : rapes year old woman near delhi red fort \n",
      "예측 요약 :  woman arrested for molesting woman in mumbai\n",
      "\n",
      "\n",
      "원문 : us based chipmaker qualcomm ceo steve said better opportunity partner qualcomm work apple qualcomm continues improve chips reason apple qualcomm would work together said makes sense technology leader mobile partnered product leader added \n",
      "실제 요약 : opportunity than to work with apple qualcomm ceo \n",
      "예측 요약 :  apple should not become uber ceo\n",
      "\n",
      "\n",
      "원문 : bid promote artists bmc along maharashtra tourism development corporation kala open art gallery november gallery remain open pm sundays bmc invited applications artists fresh ideas promoting art gallery together websites \n",
      "실제 요약 : open art to reopen in mumbai \n",
      "예측 요약 :  delhi to get new year eve\n",
      "\n",
      "\n",
      "원문 : malaysia newly elected pm mahathir mohamad said jailed politician anwar ibrahim granted full pardon country monarch mahathir election pledge handing power anwar also said released immediately free participate fully politics anwar jailed charges corruption \n",
      "실제 요약 : jailed malaysian leader ibrahim to get royal pardon \n",
      "예측 요약 :  uk pm dismisses case against corruption\n",
      "\n",
      "\n",
      "원문 : expressing prime minister narendra modi led central government rule maharashtra navnirman sena chief raj thackeray said pm three half years tenure utter failure believed modi first say prime minister india thought would steer india progress showed results thackeray added \n",
      "실제 요약 : modi tenure an failure mns chief raj thackeray \n",
      "예측 요약 :  pm modi meets pm modi\n",
      "\n",
      "\n",
      "원문 : civil aviation ministry discussions finance ministry crore bailout package debt ridden air india according reports discussions come backdrop failed effort privatise loss making national carrier notably airline staying bailout package extended previous upa regime \n",
      "실제 요약 : air india may get crore bailout package report \n"
     ]
    },
    {
     "name": "stdout",
     "output_type": "stream",
     "text": [
      "예측 요약 :  india to invest crore in air india\n",
      "\n",
      "\n",
      "원문 : founders startups including paytm ola written letter home minister rajnath singh stayzilla row co founder yogendra vasupal arrested unpaid dues founders opposed arrest called free fair investigation matter notably another stayzilla co founder received threats son life \n",
      "실제 요약 : write open letter to home minister on stayzilla \n",
      "예측 요약 :  stayzilla founder resigns from selling startup\n",
      "\n",
      "\n"
     ]
    }
   ],
   "source": [
    "for i in range(50, 100):\n",
    "    print(\"원문 :\", seq2text(encoder_input_test[i]))\n",
    "    print(\"실제 요약 :\", seq2summary(decoder_input_test[i]))\n",
    "    print(\"예측 요약 :\", decode_sequence(encoder_input_test[i].reshape(1, text_max_len)))\n",
    "    print(\"\\n\")"
   ]
  },
  {
   "cell_type": "code",
   "execution_count": 80,
   "id": "c87b3b8a",
   "metadata": {},
   "outputs": [],
   "source": [
    "# 추출적 요약"
   ]
  },
  {
   "cell_type": "code",
   "execution_count": 135,
   "id": "3f6c1c7e",
   "metadata": {},
   "outputs": [],
   "source": [
    "import requests\n",
    "from summa.summarizer import summarize"
   ]
  },
  {
   "cell_type": "code",
   "execution_count": 136,
   "id": "841d7839",
   "metadata": {},
   "outputs": [],
   "source": [
    "text = requests.get('http://rare-technologies.com/the_matrix_synopsis.txt').text"
   ]
  },
  {
   "cell_type": "code",
   "execution_count": 137,
   "id": "ee41b165",
   "metadata": {},
   "outputs": [
    {
     "data": {
      "text/plain": [
       "(str, 35932)"
      ]
     },
     "execution_count": 137,
     "metadata": {},
     "output_type": "execute_result"
    }
   ],
   "source": [
    "type(text), len(text)"
   ]
  },
  {
   "cell_type": "code",
   "execution_count": 138,
   "id": "d2adcc00",
   "metadata": {},
   "outputs": [
    {
     "name": "stdout",
     "output_type": "stream",
     "text": [
      "Summary:\n",
      "Morpheus, Trinity, Neo, Apoc, Switch, Mouse and Cypher are jacked into the Matrix.\n",
      "Trinity brings the helicopter down to the floor that Morpheus is on and Neo opens fire on the three Agents.\n"
     ]
    }
   ],
   "source": [
    "print('Summary:')\n",
    "print(summarize(text, ratio=0.005))"
   ]
  },
  {
   "cell_type": "code",
   "execution_count": 139,
   "id": "d93ec8f5",
   "metadata": {},
   "outputs": [
    {
     "name": "stdout",
     "output_type": "stream",
     "text": [
      "Summary:\n",
      "['Morpheus, Trinity, Neo, Apoc, Switch, Mouse and Cypher are jacked into the Matrix.', 'Trinity brings the helicopter down to the floor that Morpheus is on and Neo opens fire on the three Agents.']\n"
     ]
    }
   ],
   "source": [
    "print('Summary:')\n",
    "print(summarize(text, ratio=0.005, split=True))"
   ]
  },
  {
   "cell_type": "code",
   "execution_count": 140,
   "id": "92585775",
   "metadata": {},
   "outputs": [
    {
     "name": "stdout",
     "output_type": "stream",
     "text": [
      "Summary:\n",
      "Trinity takes Neo to Morpheus.\n",
      "Morpheus, Trinity, Neo, Apoc, Switch, Mouse and Cypher are jacked into the Matrix.\n",
      "Trinity brings the helicopter down to the floor that Morpheus is on and Neo opens fire on the three Agents.\n"
     ]
    }
   ],
   "source": [
    "print('Summary:')\n",
    "print(summarize(text, words=50))"
   ]
  },
  {
   "cell_type": "code",
   "execution_count": 141,
   "id": "a8220904",
   "metadata": {},
   "outputs": [
    {
     "data": {
      "text/html": [
       "<div>\n",
       "<style scoped>\n",
       "    .dataframe tbody tr th:only-of-type {\n",
       "        vertical-align: middle;\n",
       "    }\n",
       "\n",
       "    .dataframe tbody tr th {\n",
       "        vertical-align: top;\n",
       "    }\n",
       "\n",
       "    .dataframe thead th {\n",
       "        text-align: right;\n",
       "    }\n",
       "</style>\n",
       "<table border=\"1\" class=\"dataframe\">\n",
       "  <thead>\n",
       "    <tr style=\"text-align: right;\">\n",
       "      <th></th>\n",
       "      <th>headlines</th>\n",
       "      <th>text</th>\n",
       "      <th>decoder_input</th>\n",
       "      <th>decoder_target</th>\n",
       "    </tr>\n",
       "  </thead>\n",
       "  <tbody>\n",
       "    <tr>\n",
       "      <th>2</th>\n",
       "      <td>new zealand end rohit sharma led india match w...</td>\n",
       "      <td>new zealand defeated india wickets fourth odi ...</td>\n",
       "      <td>sostoken new zealand end rohit sharma led indi...</td>\n",
       "      <td>new zealand end rohit sharma led india match w...</td>\n",
       "    </tr>\n",
       "    <tr>\n",
       "      <th>3</th>\n",
       "      <td>aegon life iterm insurance plan helps customer...</td>\n",
       "      <td>aegon life iterm insurance plan customers enjo...</td>\n",
       "      <td>sostoken aegon life iterm insurance plan helps...</td>\n",
       "      <td>aegon life iterm insurance plan helps customer...</td>\n",
       "    </tr>\n",
       "    <tr>\n",
       "      <th>5</th>\n",
       "      <td>rahat fateh ali khan denies getting notice for...</td>\n",
       "      <td>pakistani singer rahat fateh ali khan denied r...</td>\n",
       "      <td>sostoken rahat fateh ali khan denies getting n...</td>\n",
       "      <td>rahat fateh ali khan denies getting notice for...</td>\n",
       "    </tr>\n",
       "    <tr>\n",
       "      <th>9</th>\n",
       "      <td>cong wins ramgarh bypoll in rajasthan takes to...</td>\n",
       "      <td>congress candidate shafia zubair ramgarh assem...</td>\n",
       "      <td>sostoken cong wins ramgarh bypoll in rajasthan...</td>\n",
       "      <td>cong wins ramgarh bypoll in rajasthan takes to...</td>\n",
       "    </tr>\n",
       "    <tr>\n",
       "      <th>10</th>\n",
       "      <td>up cousins fed human excreta for friendship wi...</td>\n",
       "      <td>two minor cousins uttar pradesh gorakhpur alle...</td>\n",
       "      <td>sostoken up cousins fed human excreta for frie...</td>\n",
       "      <td>up cousins fed human excreta for friendship wi...</td>\n",
       "    </tr>\n",
       "  </tbody>\n",
       "</table>\n",
       "</div>"
      ],
      "text/plain": [
       "                                            headlines  \\\n",
       "2   new zealand end rohit sharma led india match w...   \n",
       "3   aegon life iterm insurance plan helps customer...   \n",
       "5   rahat fateh ali khan denies getting notice for...   \n",
       "9   cong wins ramgarh bypoll in rajasthan takes to...   \n",
       "10  up cousins fed human excreta for friendship wi...   \n",
       "\n",
       "                                                 text  \\\n",
       "2   new zealand defeated india wickets fourth odi ...   \n",
       "3   aegon life iterm insurance plan customers enjo...   \n",
       "5   pakistani singer rahat fateh ali khan denied r...   \n",
       "9   congress candidate shafia zubair ramgarh assem...   \n",
       "10  two minor cousins uttar pradesh gorakhpur alle...   \n",
       "\n",
       "                                        decoder_input  \\\n",
       "2   sostoken new zealand end rohit sharma led indi...   \n",
       "3   sostoken aegon life iterm insurance plan helps...   \n",
       "5   sostoken rahat fateh ali khan denies getting n...   \n",
       "9   sostoken cong wins ramgarh bypoll in rajasthan...   \n",
       "10  sostoken up cousins fed human excreta for frie...   \n",
       "\n",
       "                                       decoder_target  \n",
       "2   new zealand end rohit sharma led india match w...  \n",
       "3   aegon life iterm insurance plan helps customer...  \n",
       "5   rahat fateh ali khan denies getting notice for...  \n",
       "9   cong wins ramgarh bypoll in rajasthan takes to...  \n",
       "10  up cousins fed human excreta for friendship wi...  "
      ]
     },
     "execution_count": 141,
     "metadata": {},
     "output_type": "execute_result"
    }
   ],
   "source": [
    "data.head()"
   ]
  },
  {
   "cell_type": "code",
   "execution_count": 146,
   "id": "41ebb01f",
   "metadata": {},
   "outputs": [],
   "source": [
    "temp_data = pd.read_csv('news_summary_more.csv', encoding='iso-8859-1')"
   ]
  },
  {
   "cell_type": "code",
   "execution_count": 147,
   "id": "024ae98a",
   "metadata": {},
   "outputs": [
    {
     "data": {
      "text/html": [
       "<div>\n",
       "<style scoped>\n",
       "    .dataframe tbody tr th:only-of-type {\n",
       "        vertical-align: middle;\n",
       "    }\n",
       "\n",
       "    .dataframe tbody tr th {\n",
       "        vertical-align: top;\n",
       "    }\n",
       "\n",
       "    .dataframe thead th {\n",
       "        text-align: right;\n",
       "    }\n",
       "</style>\n",
       "<table border=\"1\" class=\"dataframe\">\n",
       "  <thead>\n",
       "    <tr style=\"text-align: right;\">\n",
       "      <th></th>\n",
       "      <th>headlines</th>\n",
       "      <th>text</th>\n",
       "    </tr>\n",
       "  </thead>\n",
       "  <tbody>\n",
       "    <tr>\n",
       "      <th>87519</th>\n",
       "      <td>Which is PM Modi's most retweeted tweet in 3yr...</td>\n",
       "      <td>As the PM Narendra Modi-led NDA government com...</td>\n",
       "    </tr>\n",
       "    <tr>\n",
       "      <th>428</th>\n",
       "      <td>Ã¢ÂÂThe Intelligent SUV\" - Nissan Kicks laun...</td>\n",
       "      <td>The Nissan Kicks, which was recently launched ...</td>\n",
       "    </tr>\n",
       "    <tr>\n",
       "      <th>93778</th>\n",
       "      <td>Airtel drops 'officially' from 'fastest networ...</td>\n",
       "      <td>Telecom major Bharti Airtel has modified its Ã...</td>\n",
       "    </tr>\n",
       "    <tr>\n",
       "      <th>379</th>\n",
       "      <td>Raj Thackeray's son Amit marries fashion desig...</td>\n",
       "      <td>Maharashtra Navnirman Sena (MNS) president Raj...</td>\n",
       "    </tr>\n",
       "    <tr>\n",
       "      <th>12302</th>\n",
       "      <td>Aamir advocates #ExperienceChange with the new...</td>\n",
       "      <td>Drive in the next generation and #ExperienceCh...</td>\n",
       "    </tr>\n",
       "    <tr>\n",
       "      <th>...</th>\n",
       "      <td>...</td>\n",
       "      <td>...</td>\n",
       "    </tr>\n",
       "    <tr>\n",
       "      <th>69624</th>\n",
       "      <td>Watch FREE movies on Vodafone Play with Vodafo...</td>\n",
       "      <td>nVodafone RED Postpaid customers can now strea...</td>\n",
       "    </tr>\n",
       "    <tr>\n",
       "      <th>53809</th>\n",
       "      <td>Video reveals startling facts about your money</td>\n",
       "      <td>In this video of a new and unique science expe...</td>\n",
       "    </tr>\n",
       "    <tr>\n",
       "      <th>4281</th>\n",
       "      <td>No more skipping breakfast with '3 Minute Brea...</td>\n",
       "      <td>Backed by the observation that breakfast is th...</td>\n",
       "    </tr>\n",
       "    <tr>\n",
       "      <th>22479</th>\n",
       "      <td>Vodafone RED Postpaid offers Amazon Prime at n...</td>\n",
       "      <td>Make the #SmartestMove &amp; get 1-year of Amazon ...</td>\n",
       "    </tr>\n",
       "    <tr>\n",
       "      <th>52</th>\n",
       "      <td>headlines</td>\n",
       "      <td>text</td>\n",
       "    </tr>\n",
       "  </tbody>\n",
       "</table>\n",
       "<p>98401 rows × 2 columns</p>\n",
       "</div>"
      ],
      "text/plain": [
       "                                               headlines  \\\n",
       "87519  Which is PM Modi's most retweeted tweet in 3yr...   \n",
       "428    Ã¢ÂÂThe Intelligent SUV\" - Nissan Kicks laun...   \n",
       "93778  Airtel drops 'officially' from 'fastest networ...   \n",
       "379    Raj Thackeray's son Amit marries fashion desig...   \n",
       "12302  Aamir advocates #ExperienceChange with the new...   \n",
       "...                                                  ...   \n",
       "69624  Watch FREE movies on Vodafone Play with Vodafo...   \n",
       "53809     Video reveals startling facts about your money   \n",
       "4281   No more skipping breakfast with '3 Minute Brea...   \n",
       "22479  Vodafone RED Postpaid offers Amazon Prime at n...   \n",
       "52                                             headlines   \n",
       "\n",
       "                                                    text  \n",
       "87519  As the PM Narendra Modi-led NDA government com...  \n",
       "428    The Nissan Kicks, which was recently launched ...  \n",
       "93778  Telecom major Bharti Airtel has modified its Ã...  \n",
       "379    Maharashtra Navnirman Sena (MNS) president Raj...  \n",
       "12302  Drive in the next generation and #ExperienceCh...  \n",
       "...                                                  ...  \n",
       "69624  nVodafone RED Postpaid customers can now strea...  \n",
       "53809  In this video of a new and unique science expe...  \n",
       "4281   Backed by the observation that breakfast is th...  \n",
       "22479  Make the #SmartestMove & get 1-year of Amazon ...  \n",
       "52                                                  text  \n",
       "\n",
       "[98401 rows x 2 columns]"
      ]
     },
     "execution_count": 147,
     "metadata": {},
     "output_type": "execute_result"
    }
   ],
   "source": [
    "temp_data = temp_data.assign(text_length=temp_data['text'].apply(len)).sort_values(by='text_length', ascending=False).drop(columns=['text_length'])\n",
    "temp_data"
   ]
  },
  {
   "cell_type": "code",
   "execution_count": 151,
   "id": "82b4bdec",
   "metadata": {},
   "outputs": [
    {
     "data": {
      "text/plain": [
       "(str, 459)"
      ]
     },
     "execution_count": 151,
     "metadata": {},
     "output_type": "execute_result"
    }
   ],
   "source": [
    "text2 = temp_data.iloc[1, 1]\n",
    "type(text2), len(text2)"
   ]
  },
  {
   "cell_type": "code",
   "execution_count": 152,
   "id": "902107af",
   "metadata": {},
   "outputs": [
    {
     "data": {
      "text/plain": [
       "'The Nissan Kicks, which was recently launched in India, is equipped with segment first-in-class around view monitor, 8.0Ã¢Â\\x80Â\\x9d floating infotainment system, leather-wrapped soft-touch dashboard and door trims. Customers can personalise their Kicks with 27 different accessory categories. Get hassle free ownership with Ã¢Â\\x80Â\\x9c3-year cost of maintenance packageÃ¢Â\\x80Â\\x9d, wherein customers get 3-year warranty, 3-year periodic service and 24x7 roadside assistance.'"
      ]
     },
     "execution_count": 152,
     "metadata": {},
     "output_type": "execute_result"
    }
   ],
   "source": [
    "text2"
   ]
  },
  {
   "cell_type": "code",
   "execution_count": 155,
   "id": "df94acff",
   "metadata": {},
   "outputs": [
    {
     "name": "stdout",
     "output_type": "stream",
     "text": [
      "Summary:\n",
      "The Nissan Kicks, which was recently launched in India, is equipped with segment first-in-class around view monitor, 8.0Ã¢ÂÂ floating infotainment system, leather-wrapped soft-touch dashboard and door trims.\n",
      "Customers can personalise their Kicks with 27 different accessory categories.\n",
      "Get hassle free ownership with Ã¢ÂÂ3-year cost of maintenance packageÃ¢ÂÂ, wherein customers get 3-year warranty, 3-year periodic service and 24x7 roadside assistance.\n"
     ]
    }
   ],
   "source": [
    "print('Summary:')\n",
    "print(summarize(text2, ratio=50))"
   ]
  },
  {
   "cell_type": "code",
   "execution_count": 157,
   "id": "11846483",
   "metadata": {},
   "outputs": [
    {
     "name": "stdout",
     "output_type": "stream",
     "text": [
      "Summary:\n",
      "['The Nissan Kicks, which was recently launched in India, is equipped with segment first-in-class around view monitor, 8.0Ã¢Â\\x80Â\\x9d floating infotainment system, leather-wrapped soft-touch dashboard and door trims.', 'Customers can personalise their Kicks with 27 different accessory categories.', 'Get hassle free ownership with Ã¢Â\\x80Â\\x9c3-year cost of maintenance packageÃ¢Â\\x80Â\\x9d, wherein customers get 3-year warranty, 3-year periodic service and 24x7 roadside assistance.']\n"
     ]
    }
   ],
   "source": [
    "print('Summary:')\n",
    "print(summarize(text2, ratio=50, split=True))"
   ]
  },
  {
   "cell_type": "code",
   "execution_count": 159,
   "id": "dcba4441",
   "metadata": {},
   "outputs": [
    {
     "name": "stdout",
     "output_type": "stream",
     "text": [
      "Summary:\n",
      "Customers can personalise their Kicks with 27 different accessory categories.\n"
     ]
    }
   ],
   "source": [
    "print('Summary:')\n",
    "print(summarize(text2, words=10))"
   ]
  },
  {
   "cell_type": "code",
   "execution_count": 165,
   "id": "5547e24f",
   "metadata": {},
   "outputs": [
    {
     "data": {
      "text/html": [
       "<div>\n",
       "<style scoped>\n",
       "    .dataframe tbody tr th:only-of-type {\n",
       "        vertical-align: middle;\n",
       "    }\n",
       "\n",
       "    .dataframe tbody tr th {\n",
       "        vertical-align: top;\n",
       "    }\n",
       "\n",
       "    .dataframe thead th {\n",
       "        text-align: right;\n",
       "    }\n",
       "</style>\n",
       "<table border=\"1\" class=\"dataframe\">\n",
       "  <thead>\n",
       "    <tr style=\"text-align: right;\">\n",
       "      <th></th>\n",
       "      <th>headlines</th>\n",
       "    </tr>\n",
       "  </thead>\n",
       "  <tbody>\n",
       "    <tr>\n",
       "      <th>87519</th>\n",
       "      <td>Which is PM Modi's most retweeted tweet in 3yr...</td>\n",
       "    </tr>\n",
       "  </tbody>\n",
       "</table>\n",
       "</div>"
      ],
      "text/plain": [
       "                                               headlines\n",
       "87519  Which is PM Modi's most retweeted tweet in 3yr..."
      ]
     },
     "execution_count": 165,
     "metadata": {},
     "output_type": "execute_result"
    }
   ],
   "source": [
    "temp_data.iloc[:1, :1]"
   ]
  },
  {
   "cell_type": "code",
   "execution_count": 169,
   "id": "38a8a020",
   "metadata": {},
   "outputs": [
    {
     "name": "stdout",
     "output_type": "stream",
     "text": [
      "원문 : apple maps unveiled indoor airports across globe let users look inside check desks airport lounges bathrooms locations company primarily covered american airports airports hong kong amsterdam geneva london also included users also able use virtual assistant siri service \n",
      "실제 요약 : apple maps gets indoor for over airports \n",
      "예측 요약 :  passengers of parking in mumbai mall flight\n",
      "추출 요약 : \n",
      "\n",
      "\n",
      "원문 : police state mining department tuesday found illegal sand mining taking place greater noida two plots near yamuna river authorities said recovered around cubic metres sand plots plot owners booked issued notices worth lakh \n",
      "실제 요약 : illegal sand mining along yamuna in noida \n",
      "예측 요약 :  illegal mining found dead in tn\n",
      "추출 요약 : \n",
      "\n",
      "\n",
      "원문 : karnataka high court thursday directed state government submit report within month policy framed protect rti activists petitioner claimed representation submitted february frame policy ignored state government court fixed next hearing august \n",
      "실제 요약 : karnataka high court seeks report on whistleblower policy \n",
      "예측 요약 :  govt issues order on rti\n",
      "추출 요약 : \n",
      "\n",
      "\n",
      "원문 : bangladesh security forces killed people arrested nationwide anti drug drive launched month campaign aimed curbing surge trade methamphetamine along country borders approved prime minister sheikh hasina process continue totally senior police official said \n",
      "실제 요약 : bangladesh kills arrests in anti drug drive \n",
      "예측 요약 :  army arrests people in bangladesh\n",
      "추출 요약 : \n",
      "\n",
      "\n",
      "원문 : japan airlines president voluntarily taken pay cut three months pilot found drunk pilot times alcohol limit london tokyo flight october jailed uk months shin senior managing executive officer also take pay cut \n",
      "실제 요약 : boss takes salary cut after pilot found drunk \n",
      "예측 요약 :  united airlines airlines plane with lakh\n",
      "추출 요약 : \n",
      "\n",
      "\n",
      "원문 : sunny deol sakshi tanwar mohalla released friday fails make impact script wrote bollywood hungama according ndtv mohalla majorly flawed uneven film collection scenes said indian express rated bollywood hungama indian express ndtv \n",
      "실제 요약 : sunny deol sakshi hits the theatres \n",
      "예측 요약 :  song from ekta kapoor released\n",
      "추출 요약 : \n",
      "\n",
      "\n",
      "원문 : delhi metro heritage line made open public sunday connecting areas old delhi like delhi gate red fort three stations line delhi gate masjid red fort designed accordance heritage area provide past present \n",
      "실제 요약 : in pics delhi metro recently opened heritage line \n",
      "예측 요약 :  mumbai to get new metro station\n",
      "추출 요약 : \n",
      "\n",
      "\n",
      "원문 : sri lankan sports minister accused ordering lankan cricket team use witchcraft test series win pakistan claimed sl test captain approached cast spell pakistan orders really cast spell come odi series asked denying involvement \n",
      "실제 요약 : sports min accused of team to use witchcraft \n",
      "예측 요약 :  champions trophy to play in champions trophy\n",
      "추출 요약 : \n",
      "\n",
      "\n",
      "원문 : isis fighters afghanistan coming iraq syria russia special envoy afghanistan said fighters fled iraq syria isis lost control territories countries added terrorists gathered northern afghanistan isis intends expand influence outside country \n",
      "실제 요약 : isis has over fighters in afghanistan russia \n",
      "예측 요약 :  isis killed in syria in syria\n",
      "추출 요약 : \n",
      "\n",
      "\n",
      "원문 : gold worth lakh seized three passengers arrived international airports kochi thiruvananthapuram saturday officials said passengers arrived gulf nations two malappuram caught gold worth lakh emirates passenger caught gold biscuits worth lakh trousers shoes \n",
      "실제 요약 : worth lakh seized from air passengers in kerala \n",
      "예측 요약 :  woman worth lakh seized at airport airport\n",
      "추출 요약 : \n",
      "\n",
      "\n",
      "원문 : walmart india said expects set wholesale cash carry stores across uttar pradesh store likely create direct indirect jobs resulting least local jobs state said walmart india walmart india currently operates stores brand name best price nine states including four \n",
      "실제 요약 : to create jobs in up with new stores \n",
      "예측 요약 :  india plans to reduce petrol projects\n",
      "추출 요약 : \n",
      "\n",
      "\n",
      "원문 : former afghanistan president hamid karzai said entire world knows jamaat ud dawah chief hafiz saeed responsible mumbai terror attacks karzai held us responsible failure war terror afghanistan called us cooperate countries including russia china pressure pakistan \n",
      "실제 요약 : knows hafiz saeed behind attacks ex afghan prez \n",
      "예측 요약 :  pakistan pm calls hafiz saeed terrorist\n",
      "추출 요약 : \n",
      "\n",
      "\n",
      "원문 : indian family alleged offloaded british airways flight three year old child crying child father indian engineering services officer filed complaint aviation minister suresh prabhu said crew member shouted son said bloody keep quiet otherwise thrown window \n",
      "실제 요약 : airways indian family over crying yr old son \n",
      "예측 요약 :  couple gets married to fly baby\n",
      "추출 요약 : \n",
      "\n",
      "\n",
      "원문 : american pizza chain little patented automated pizza assembly system includes sauce spreading station cheese spreading station spreading station patent describes robot stationary base arm grip pizza pan rotate pizza stations add ingredients \n",
      "실제 요약 : us pizza chain patents pizza making robot \n",
      "예측 요약 :  robots to use robots to the\n",
      "추출 요약 : \n",
      "\n",
      "\n",
      "원문 : mumbai terror attack mastermind hafiz saeed political party milli muslim league vowed contest upcoming pakistan elections despite designated foreign terrorist organisation us discontinue political activities cost field candidates across pakistan said saeed million us bounty head \n",
      "실제 요약 : party to contest polls despite us terror tag \n",
      "예측 요약 :  saeed muslims hafiz saeed party in elections\n",
      "추출 요약 : \n",
      "\n",
      "\n",
      "원문 : punjab haryana high court tuesday granted conditional anticipatory bail three trustees ryan international chain schools connection murder seven year old student gurugram school lawyer representing victim family said would file appeal receiving copy court order assessing \n",
      "실제 요약 : ryan get anticipatory bail in student murder case \n",
      "예측 요약 :  ryan murder accused of ryan murder murder\n",
      "추출 요약 : \n",
      "\n",
      "\n",
      "원문 : mumbai based venture capital firm lightbox venture raised million targeted million third venture fund lightbox ventures iii firm officially began accepting investment fund september raised capital limited partners per filings founded firm early stage consumer technology businesses india \n",
      "실제 요약 : mumbai based venture gets mn for rd fund \n",
      "예측 요약 :  gurugram based padukone raises mn\n",
      "추출 요약 : \n",
      "\n",
      "\n",
      "원문 : ranveer singh said continue taking risks actor continue adding think satisfied thing want give audiences different side every time see screen love transform become character added \n",
      "실제 요약 : will continue taking risks as actor ranveer \n",
      "예측 요약 :  ranveer singh is not my ranveer\n",
      "추출 요약 : \n",
      "\n",
      "\n",
      "원문 : comedian krushna abhishek speaking family feud involving uncle govinda said mama slap twice abuse things get resolved whatever says listen quietly krushna added feud started govinda wife sunita ahuja accused krushna wife calling people dance money twitter \n",
      "실제 요약 : slap me and things will resolve nephew krushna \n",
      "예측 요약 :  sidharth calls for smoking scene in interview\n",
      "추출 요약 : \n",
      "\n",
      "\n",
      "원문 : french navy class anti aircraft rescued indians sinking ship persian gulf tuesday morning dispatched aircraft panther rescue indians overturned rescued crew members merchant vessel queen bearing saint kitts flag \n",
      "실제 요약 : indians rescued from ship by french navy \n",
      "예측 요약 :  plane stranded in south africa\n",
      "추출 요약 : \n",
      "\n",
      "\n",
      "원문 : around rockets attacked kabul international airport wednesday us defence secretary james mattis arrived afghanistan visit however casualties reported incident taliban claimed responsibility attack saying mattis first member us president donald trump cabinet visit afghanistan target \n",
      "실제 요약 : hit kabul airport after us defence secy lands \n",
      "예측 요약 :  taliban attack kills in kabul blast\n",
      "추출 요약 : \n",
      "\n",
      "\n",
      "원문 : advisory issued china embassy india asked chinese tourists stray restricted areas india comes chinese national detained along myanmar border manipur suspicions spy embassy added safeguard safety chinese citizens cannot shield crimes committed \n",
      "실제 요약 : china embassy asks citizens to avoid indian areas \n",
      "예측 요약 :  china to launch its military indian border\n",
      "추출 요약 : \n",
      "\n",
      "\n",
      "원문 : tata group monday announced terminated contract author seth sexual harassment allegations seth consultant tata group public relations team accused sexual harassment six women including model writer trivedi contract tata sons end november \n",
      "실제 요약 : tata group ends contract over metoo allegations \n"
     ]
    },
    {
     "name": "stdout",
     "output_type": "stream",
     "text": [
      "예측 요약 :  sexual harassment filed against sexual harassment\n",
      "추출 요약 : \n",
      "\n",
      "\n",
      "원문 : paying tribute late actress sridevi bollywood actor akshay kumar tweeted shocked beyond words hear sad demise sridevi added dream many good fortune sharing screen space long ago witnessed continued grace years thoughts prayers family rip \n",
      "실제 요약 : shocked beyond words akshay kumar on sridevi demise \n",
      "예측 요약 :  sridevi sridevi is not sridevi sridevi sridevi\n",
      "추출 요약 : \n",
      "\n",
      "\n",
      "원문 : pictures saif ali khan kareena kapoor khan first child taimur ali khan surfaced online one photographs shows taimur mother kareena actor tusshar kapoor son laksshya recently held first birthday celebrations notably taimur born december \n",
      "실제 요약 : pictures of saif kareena son taimur surface online \n",
      "예측 요약 :  kareena kareena taimur pic with kareena\n",
      "추출 요약 : \n",
      "\n",
      "\n",
      "원문 : usa christian coleman broke year old world record metres sprint registering timing seconds us indoor national championships sunday former american sprinter held record seconds coleman metres silver medal last year world championships london \n",
      "실제 요약 : runs in sec breaks yr old world record \n",
      "예측 요약 :  world most expensive telescope breaks record\n",
      "추출 요약 : \n",
      "\n",
      "\n",
      "원문 : priyanka chopra home mumbai decorated lights ahead wedding nick jonas couple marry per hindu rituals december christian wedding take place december umaid bhawan palace jodhpur suggested reports pre wedding festivities including sangeet mehendi ceremonies reportedly begin november \n",
      "실제 요약 : priyanka chopra mumbai home ahead of her wedding \n",
      "예측 요약 :  priyanka wedding wedding in ceremony reports\n",
      "추출 요약 : \n",
      "\n",
      "\n",
      "원문 : reacting actress raveena tandon tweet called hindutva icon bhakt communal wearing saree user tweeted actually sari symbol indians beautiful keep narrow minded politics another user wrote indira gandhi wore saree termed communal bhakt \n",
      "실제 요약 : users react to raveena hindutva icon sari remark \n",
      "예측 요약 :  twitter reacts to troll who called\n",
      "추출 요약 : \n",
      "\n",
      "\n",
      "원문 : american researchers created electronics circuit boards come apart automatically put cool liquid electronics made silver polymer warm water cold water electronics used secretive operations chip implants removed without surgery \n",
      "실제 요약 : scientists make electronics that self when \n",
      "예측 요약 :  scientists make water on water and water\n",
      "추출 요약 : \n",
      "\n",
      "\n",
      "원문 : indian cricketer sreesanth approached kerala high court friday bcci yet give noc play scotland league hc lifted ban imposed bcci august bcci reportedly seeking challenge order sreesanth banned ipl spot fixing case \n",
      "실제 요약 : kerala hc after bcci fails to lift ban \n",
      "예측 요약 :  bcci to ban bcci on icc ban\n",
      "추출 요약 : \n",
      "\n",
      "\n",
      "원문 : talking latest release october earned crore first day varun dhawan said expected figure little promote film much movies one trailer two songs became selling points said actor \n",
      "실제 요약 : low box office numbers for october says varun \n",
      "예측 요약 :  baahubali film to release crore in theatres\n",
      "추출 요약 : \n",
      "\n",
      "\n",
      "원문 : former south africa batsman gibbs said need australian coach tolerate buddy buddy attitude coach needs control believe australia coach tolerate buddy buddy attitude could work said gibbs year old added senior players team much say \n",
      "실제 요약 : south africa need an australian coach not \n",
      "예측 요약 :  australian pacer calls ex wife account\n",
      "추출 요약 : \n",
      "\n",
      "\n",
      "원문 : ms dhoni become first ever player captain indian premier league matches achieving feat taking field chennai super kings mumbai indians saturday dhoni first matches captain best winning age among ipl captains led teams plus matches \n",
      "실제 요약 : becomes first player to captain in ipl matches \n",
      "예측 요약 :  becomes first cricketer to play century\n",
      "추출 요약 : \n",
      "\n",
      "\n",
      "원문 : new song titled akshay kumar sonam kapoor radhika apte starrer pad man released song composed amit trivedi vocals sharma gandhi sikka rani kaur directed balki pad man scheduled release february \n",
      "실제 요약 : song from akshay kumar starrer pad man released \n",
      "예측 요약 :  akshay kumar starrer padman hits the theatres\n",
      "추출 요약 : \n",
      "\n",
      "\n",
      "원문 : south delhi municipal corporation passed proposal prohibiting display non vegetarian food items restaurants publicly danger contamination raw cooked meat dishes also hurts sentiments vegetarian public officials said said received complaints public display meat \n",
      "실제 요약 : asks restaurants to not display non veg outside \n",
      "예측 요약 :  delhi civic body to impose restaurants\n",
      "추출 요약 : \n",
      "\n",
      "\n",
      "원문 : uttar pradesh police detained bsp leader verma alleging main violent protests broke meerut meanwhile bsp supremo mayawati claimed party behind violence protests leader agitators arrested city \n",
      "실제 요약 : bsp leader main in dalit protests up police \n",
      "예측 요약 :  bjp workers workers to protest against bjp\n",
      "추출 요약 : \n",
      "\n",
      "\n",
      "원문 : smartphone shipments expected grow almost reaching million units according research firm counterpoint report claims korea china japan us key markets infrastructure development due plans however growth slow initial phase report added \n",
      "실제 요약 : smartphones to hit million units by report \n",
      "예측 요약 :  google to launch million in revenue report\n",
      "추출 요약 : \n",
      "\n",
      "\n",
      "원문 : denying reports katrina kaif star opposite akshay kumar film rohit shetty said true still working script akshay reportedly seen playing anti terrorism squad officer film earlier reports suggested actress pooja hegde would feature film female lead character \n",
      "실제 요약 : not true rohit shetty on katrina starring in \n",
      "예측 요약 :  sara to star in sara sara reports\n",
      "추출 요약 : \n",
      "\n",
      "\n",
      "원문 : indian rupee friday touched new low breached us dollar mark first time plunge comes ahead release gross domestic product data june quarter day indian rupee fallen august far worst among asian currencies \n",
      "실제 요약 : touches new low slips to against the dollar \n",
      "예측 요약 :  china shares fall on road in days\n",
      "추출 요약 : \n",
      "\n",
      "\n",
      "원문 : report comptroller auditor general wednesday revealed several irregularities gender including non implementation schemes aimed women empowerment rajasthan expenditure one gender based scheme remaining four schemes expenditure ranged report stated \n",
      "실제 요약 : several irregularities in gender in rajasthan cag \n",
      "예측 요약 :  govt to be more for\n",
      "추출 요약 : \n",
      "\n",
      "\n",
      "원문 : jammu kashmir services selection board issued admit card post name khar chairman singh said board blamed admit card also carried donkey photograph computer generated admit card issued cow \n",
      "실제 요약 : card issued to donkey for govt recruitment exam \n",
      "예측 요약 :  why is not required for the time\n",
      "추출 요약 : \n",
      "\n",
      "\n",
      "원문 : tripura government suspended internet hours thursday stop spread rumours three people lynched state around people attacked four uttar pradesh traders rumours kidnappers following one succumbed injuries woman later lynched mob chanted death child lifters \n",
      "실제 요약 : internet for hrs to stop rumours as lynched \n",
      "예측 요약 :  video shows karnataka lynching incidents in chhattisgarh\n",
      "추출 요약 : \n",
      "\n",
      "\n",
      "원문 : person improvised explosive device former us president barack obama identified texas woman cat hair package matched cats owned indicted six counts including transportation explosives intent kill could sentenced life imprisonment death \n",
      "실제 요약 : hair help identify woman who explosives to obama \n",
      "예측 요약 :  us president trump to live in us\n",
      "추출 요약 : \n",
      "\n",
      "\n",
      "원문 : taxi driver arrested allegedly raping year old woman inside taxi park near red fort tuesday woman waiting new delhi railway station accused allegedly lied train made woman come taxi offering drop bus stand \n",
      "실제 요약 : rapes year old woman near delhi red fort \n",
      "예측 요약 :  woman arrested for molesting woman in mumbai\n",
      "추출 요약 : \n",
      "\n",
      "\n",
      "원문 : us based chipmaker qualcomm ceo steve said better opportunity partner qualcomm work apple qualcomm continues improve chips reason apple qualcomm would work together said makes sense technology leader mobile partnered product leader added \n",
      "실제 요약 : opportunity than to work with apple qualcomm ceo \n",
      "예측 요약 :  apple should not become uber ceo\n",
      "추출 요약 : \n",
      "\n",
      "\n",
      "원문 : bid promote artists bmc along maharashtra tourism development corporation kala open art gallery november gallery remain open pm sundays bmc invited applications artists fresh ideas promoting art gallery together websites \n",
      "실제 요약 : open art to reopen in mumbai \n",
      "예측 요약 :  delhi to get new year eve\n",
      "추출 요약 : \n",
      "\n",
      "\n",
      "원문 : malaysia newly elected pm mahathir mohamad said jailed politician anwar ibrahim granted full pardon country monarch mahathir election pledge handing power anwar also said released immediately free participate fully politics anwar jailed charges corruption \n",
      "실제 요약 : jailed malaysian leader ibrahim to get royal pardon \n"
     ]
    },
    {
     "name": "stdout",
     "output_type": "stream",
     "text": [
      "예측 요약 :  uk pm dismisses case against corruption\n",
      "추출 요약 : \n",
      "\n",
      "\n",
      "원문 : expressing prime minister narendra modi led central government rule maharashtra navnirman sena chief raj thackeray said pm three half years tenure utter failure believed modi first say prime minister india thought would steer india progress showed results thackeray added \n",
      "실제 요약 : modi tenure an failure mns chief raj thackeray \n",
      "예측 요약 :  pm modi meets pm modi\n",
      "추출 요약 : \n",
      "\n",
      "\n",
      "원문 : civil aviation ministry discussions finance ministry crore bailout package debt ridden air india according reports discussions come backdrop failed effort privatise loss making national carrier notably airline staying bailout package extended previous upa regime \n",
      "실제 요약 : air india may get crore bailout package report \n",
      "예측 요약 :  india to invest crore in air india\n",
      "추출 요약 : \n",
      "\n",
      "\n",
      "원문 : founders startups including paytm ola written letter home minister rajnath singh stayzilla row co founder yogendra vasupal arrested unpaid dues founders opposed arrest called free fair investigation matter notably another stayzilla co founder received threats son life \n",
      "실제 요약 : write open letter to home minister on stayzilla \n",
      "예측 요약 :  stayzilla founder resigns from selling startup\n",
      "추출 요약 : \n",
      "\n",
      "\n"
     ]
    }
   ],
   "source": [
    "for i in range(50, 100):\n",
    "    print(\"원문 :\", seq2text(encoder_input_test[i]))\n",
    "    print(\"실제 요약 :\", seq2summary(decoder_input_test[i]))\n",
    "    print(\"예측 요약 :\", decode_sequence(encoder_input_test[i].reshape(1, text_max_len)))\n",
    "    print(\"추출 요약 :\", summarize(seq2text(encoder_input_test[i]), words=20))\n",
    "    print(\"\\n\")"
   ]
  },
  {
   "cell_type": "code",
   "execution_count": 174,
   "id": "860cc105",
   "metadata": {},
   "outputs": [
    {
     "data": {
      "text/plain": [
       "Int64Index([    2,     3,     5,     9,    10,    16,    18,    19,    20,\n",
       "               21,\n",
       "            ...\n",
       "            98390, 98391, 98392, 98393, 98394, 98395, 98396, 98397, 98398,\n",
       "            98400],\n",
       "           dtype='int64', length=74102)"
      ]
     },
     "execution_count": 174,
     "metadata": {},
     "output_type": "execute_result"
    }
   ],
   "source": [
    "temp_index = data.index\n",
    "temp_index"
   ]
  },
  {
   "cell_type": "code",
   "execution_count": 176,
   "id": "8325b3f3",
   "metadata": {},
   "outputs": [
    {
     "data": {
      "text/html": [
       "<div>\n",
       "<style scoped>\n",
       "    .dataframe tbody tr th:only-of-type {\n",
       "        vertical-align: middle;\n",
       "    }\n",
       "\n",
       "    .dataframe tbody tr th {\n",
       "        vertical-align: top;\n",
       "    }\n",
       "\n",
       "    .dataframe thead th {\n",
       "        text-align: right;\n",
       "    }\n",
       "</style>\n",
       "<table border=\"1\" class=\"dataframe\">\n",
       "  <thead>\n",
       "    <tr style=\"text-align: right;\">\n",
       "      <th></th>\n",
       "      <th>headlines</th>\n",
       "      <th>text</th>\n",
       "    </tr>\n",
       "  </thead>\n",
       "  <tbody>\n",
       "    <tr>\n",
       "      <th>2</th>\n",
       "      <td>New Zealand end Rohit Sharma-led India's 12-ma...</td>\n",
       "      <td>New Zealand defeated India by 8 wickets in the...</td>\n",
       "    </tr>\n",
       "    <tr>\n",
       "      <th>3</th>\n",
       "      <td>Aegon life iTerm insurance plan helps customer...</td>\n",
       "      <td>With Aegon Life iTerm Insurance plan, customer...</td>\n",
       "    </tr>\n",
       "    <tr>\n",
       "      <th>5</th>\n",
       "      <td>Rahat Fateh Ali Khan denies getting notice for...</td>\n",
       "      <td>Pakistani singer Rahat Fateh Ali Khan has deni...</td>\n",
       "    </tr>\n",
       "    <tr>\n",
       "      <th>9</th>\n",
       "      <td>Cong wins Ramgarh bypoll in Rajasthan, takes t...</td>\n",
       "      <td>Congress candidate Shafia Zubair won the Ramga...</td>\n",
       "    </tr>\n",
       "    <tr>\n",
       "      <th>10</th>\n",
       "      <td>UP cousins fed human excreta for friendship wi...</td>\n",
       "      <td>Two minor cousins in Uttar Pradesh's Gorakhpur...</td>\n",
       "    </tr>\n",
       "    <tr>\n",
       "      <th>...</th>\n",
       "      <td>...</td>\n",
       "      <td>...</td>\n",
       "    </tr>\n",
       "    <tr>\n",
       "      <th>98395</th>\n",
       "      <td>Pakistan starts building fence along Afghanist...</td>\n",
       "      <td>Pakistan has started building a nearly 2,400-k...</td>\n",
       "    </tr>\n",
       "    <tr>\n",
       "      <th>98396</th>\n",
       "      <td>CRPF jawan axed to death by Maoists in Chhatti...</td>\n",
       "      <td>A CRPF jawan was on Tuesday axed to death with...</td>\n",
       "    </tr>\n",
       "    <tr>\n",
       "      <th>98397</th>\n",
       "      <td>First song from Sonakshi Sinha's 'Noor' titled...</td>\n",
       "      <td>'Uff Yeh', the first song from the Sonakshi Si...</td>\n",
       "    </tr>\n",
       "    <tr>\n",
       "      <th>98398</th>\n",
       "      <td>'The Matrix' film to get a reboot: Reports</td>\n",
       "      <td>According to reports, a new version of the 199...</td>\n",
       "    </tr>\n",
       "    <tr>\n",
       "      <th>98400</th>\n",
       "      <td>Madhesi Morcha withdraws support to Nepalese g...</td>\n",
       "      <td>Madhesi Morcha, an alliance of seven political...</td>\n",
       "    </tr>\n",
       "  </tbody>\n",
       "</table>\n",
       "<p>74102 rows × 2 columns</p>\n",
       "</div>"
      ],
      "text/plain": [
       "                                               headlines  \\\n",
       "2      New Zealand end Rohit Sharma-led India's 12-ma...   \n",
       "3      Aegon life iTerm insurance plan helps customer...   \n",
       "5      Rahat Fateh Ali Khan denies getting notice for...   \n",
       "9      Cong wins Ramgarh bypoll in Rajasthan, takes t...   \n",
       "10     UP cousins fed human excreta for friendship wi...   \n",
       "...                                                  ...   \n",
       "98395  Pakistan starts building fence along Afghanist...   \n",
       "98396  CRPF jawan axed to death by Maoists in Chhatti...   \n",
       "98397  First song from Sonakshi Sinha's 'Noor' titled...   \n",
       "98398         'The Matrix' film to get a reboot: Reports   \n",
       "98400  Madhesi Morcha withdraws support to Nepalese g...   \n",
       "\n",
       "                                                    text  \n",
       "2      New Zealand defeated India by 8 wickets in the...  \n",
       "3      With Aegon Life iTerm Insurance plan, customer...  \n",
       "5      Pakistani singer Rahat Fateh Ali Khan has deni...  \n",
       "9      Congress candidate Shafia Zubair won the Ramga...  \n",
       "10     Two minor cousins in Uttar Pradesh's Gorakhpur...  \n",
       "...                                                  ...  \n",
       "98395  Pakistan has started building a nearly 2,400-k...  \n",
       "98396  A CRPF jawan was on Tuesday axed to death with...  \n",
       "98397  'Uff Yeh', the first song from the Sonakshi Si...  \n",
       "98398  According to reports, a new version of the 199...  \n",
       "98400  Madhesi Morcha, an alliance of seven political...  \n",
       "\n",
       "[74102 rows x 2 columns]"
      ]
     },
     "execution_count": 176,
     "metadata": {},
     "output_type": "execute_result"
    }
   ],
   "source": [
    "temp_data = pd.read_csv('news_summary_more.csv', encoding='iso-8859-1')\n",
    "temp_data = temp_data.iloc[temp_index, :]\n",
    "temp_data"
   ]
  },
  {
   "cell_type": "code",
   "execution_count": 182,
   "id": "002add38",
   "metadata": {},
   "outputs": [
    {
     "data": {
      "text/plain": [
       "(14820, 2)"
      ]
     },
     "execution_count": 182,
     "metadata": {},
     "output_type": "execute_result"
    }
   ],
   "source": [
    "temp_data.iloc[indices].iloc[-n_of_val:].shape"
   ]
  },
  {
   "cell_type": "code",
   "execution_count": 184,
   "id": "9701420d",
   "metadata": {},
   "outputs": [
    {
     "data": {
      "text/html": [
       "<div>\n",
       "<style scoped>\n",
       "    .dataframe tbody tr th:only-of-type {\n",
       "        vertical-align: middle;\n",
       "    }\n",
       "\n",
       "    .dataframe tbody tr th {\n",
       "        vertical-align: top;\n",
       "    }\n",
       "\n",
       "    .dataframe thead th {\n",
       "        text-align: right;\n",
       "    }\n",
       "</style>\n",
       "<table border=\"1\" class=\"dataframe\">\n",
       "  <thead>\n",
       "    <tr style=\"text-align: right;\">\n",
       "      <th></th>\n",
       "      <th>headlines</th>\n",
       "      <th>text</th>\n",
       "    </tr>\n",
       "  </thead>\n",
       "  <tbody>\n",
       "    <tr>\n",
       "      <th>75154</th>\n",
       "      <td>Trump accidentally retweets man calling him 'f...</td>\n",
       "      <td>After US President Donald Trump retweeted a ma...</td>\n",
       "    </tr>\n",
       "    <tr>\n",
       "      <th>48732</th>\n",
       "      <td>UP to give unmarried granddaughters right to a...</td>\n",
       "      <td>The Uttar Pradesh government is planning to in...</td>\n",
       "    </tr>\n",
       "    <tr>\n",
       "      <th>26073</th>\n",
       "      <td>Nawaz Sharif, daughter Maryam to get AC, TV in...</td>\n",
       "      <td>Pakistan's former Prime Minister Nawaz Sharif ...</td>\n",
       "    </tr>\n",
       "    <tr>\n",
       "      <th>88164</th>\n",
       "      <td>Two soldiers martyred in encounter near LoC in...</td>\n",
       "      <td>At least two Army soldiers were martyred in an...</td>\n",
       "    </tr>\n",
       "    <tr>\n",
       "      <th>66177</th>\n",
       "      <td>Honeypreet confesses to planning Panchkula riots</td>\n",
       "      <td>Honeypreet Insan has confessed to Haryana Poli...</td>\n",
       "    </tr>\n",
       "    <tr>\n",
       "      <th>...</th>\n",
       "      <td>...</td>\n",
       "      <td>...</td>\n",
       "    </tr>\n",
       "    <tr>\n",
       "      <th>82168</th>\n",
       "      <td>I'll marry the woman I am in love with: Ranbir</td>\n",
       "      <td>Actor Ranbir Kapoor, reacting to the rumours o...</td>\n",
       "    </tr>\n",
       "    <tr>\n",
       "      <th>560</th>\n",
       "      <td>Name new Goa bridge after Manohar Parrikar: Go...</td>\n",
       "      <td>The Goa Tamil Sangam (GTS) has urged Union Min...</td>\n",
       "    </tr>\n",
       "    <tr>\n",
       "      <th>56688</th>\n",
       "      <td>TN police officer shot dead by robbery accused...</td>\n",
       "      <td>A Chennai police inspector was shot dead in Ra...</td>\n",
       "    </tr>\n",
       "    <tr>\n",
       "      <th>6224</th>\n",
       "      <td>Leopard enters Gujarat courtroom; judge, lawye...</td>\n",
       "      <td>A leopard entered a courtroom in Gujarat's Sur...</td>\n",
       "    </tr>\n",
       "    <tr>\n",
       "      <th>32182</th>\n",
       "      <td>Make daily sports period mandatory for all cla...</td>\n",
       "      <td>Following CBSE's decision to make \"sports\" per...</td>\n",
       "    </tr>\n",
       "  </tbody>\n",
       "</table>\n",
       "<p>14820 rows × 2 columns</p>\n",
       "</div>"
      ],
      "text/plain": [
       "                                               headlines  \\\n",
       "75154  Trump accidentally retweets man calling him 'f...   \n",
       "48732  UP to give unmarried granddaughters right to a...   \n",
       "26073  Nawaz Sharif, daughter Maryam to get AC, TV in...   \n",
       "88164  Two soldiers martyred in encounter near LoC in...   \n",
       "66177   Honeypreet confesses to planning Panchkula riots   \n",
       "...                                                  ...   \n",
       "82168     I'll marry the woman I am in love with: Ranbir   \n",
       "560    Name new Goa bridge after Manohar Parrikar: Go...   \n",
       "56688  TN police officer shot dead by robbery accused...   \n",
       "6224   Leopard enters Gujarat courtroom; judge, lawye...   \n",
       "32182  Make daily sports period mandatory for all cla...   \n",
       "\n",
       "                                                    text  \n",
       "75154  After US President Donald Trump retweeted a ma...  \n",
       "48732  The Uttar Pradesh government is planning to in...  \n",
       "26073  Pakistan's former Prime Minister Nawaz Sharif ...  \n",
       "88164  At least two Army soldiers were martyred in an...  \n",
       "66177  Honeypreet Insan has confessed to Haryana Poli...  \n",
       "...                                                  ...  \n",
       "82168  Actor Ranbir Kapoor, reacting to the rumours o...  \n",
       "560    The Goa Tamil Sangam (GTS) has urged Union Min...  \n",
       "56688  A Chennai police inspector was shot dead in Ra...  \n",
       "6224   A leopard entered a courtroom in Gujarat's Sur...  \n",
       "32182  Following CBSE's decision to make \"sports\" per...  \n",
       "\n",
       "[14820 rows x 2 columns]"
      ]
     },
     "execution_count": 184,
     "metadata": {},
     "output_type": "execute_result"
    }
   ],
   "source": [
    "temp_data = temp_data.iloc[indices].iloc[-n_of_val:]\n",
    "temp_data"
   ]
  },
  {
   "cell_type": "code",
   "execution_count": 190,
   "id": "0cf4dd27",
   "metadata": {},
   "outputs": [
    {
     "name": "stdout",
     "output_type": "stream",
     "text": [
      "원문 : After US President Donald Trump retweeted a man calling him 'fascist', a user tweeted, \"This is probably the closest Donald Trump is gonna get to being honest.\" Other Twitter users wrote, \"I will bet every dollar in my bank account that @realdonaldtrump didn't know what \"fascist\" meant,\" and \"Does... does Trump think \"fascist\" is a compliment?\"\n",
      "전처리 후 원문 : us president donald trump retweeted man calling fascist user tweeted probably closest donald trump gonna get honest twitter users wrote bet every dollar bank account know fascist meant trump think fascist compliment \n",
      "실제 요약 : Trump accidentally retweets man calling him 'fascist'\n",
      "전처리 후 실제 요약 : trump accidentally retweets man calling him \n",
      "(Abstractive 추출)예측 요약 :  trump tweet on twitter users ivanka\n",
      "Extractive 추출 요약 : \n",
      "\n",
      "\n",
      "원문 : The Uttar Pradesh government is planning to introduce a bill granting ancestral property rights to unmarried granddaughters who have lost their fathers. The bill will be tabled in the Budget session of the Uttar Pradesh legislature, commencing on Thursday. The proposal was approved on Wednesday by the state cabinet at a meeting chaired by Chief Minister Yogi Adityanath.nn\n",
      "전처리 후 원문 : uttar pradesh government planning introduce bill granting ancestral property rights unmarried lost fathers bill tabled budget session uttar pradesh legislature thursday proposal approved wednesday state cabinet meeting chaired chief minister yogi adityanath nn \n",
      "실제 요약 : UP to give unmarried granddaughters right to ancestral land\n",
      "전처리 후 실제 요약 : up to give right to land \n",
      "(Abstractive 추출)예측 요약 :  chhattisgarh government to get new state\n",
      "Extractive 추출 요약 : The Uttar Pradesh government is planning to introduce a bill granting ancestral property rights to unmarried granddaughters who have lost their fathers.\n",
      "\n",
      "\n",
      "원문 : Pakistan's former Prime Minister Nawaz Sharif and his daughter Maryam will get facilities like AC, TV, a teapot, washing and sanitary appliances in their jail cell. The two are eligible for class 'B' facilities in jail, which is accorded to people accustomed to a superior mode of living. Class 'A' and 'B' prisoners are generally used to educate other prisoners.\n",
      "전처리 후 원문 : pakistan former prime minister nawaz sharif daughter maryam get facilities like ac tv washing sanitary appliances jail cell two eligible class facilities jail accorded people superior mode living class prisoners generally used educate prisoners \n",
      "실제 요약 : Nawaz Sharif, daughter Maryam to get AC, TV in jail\n",
      "전처리 후 실제 요약 : sharif daughter to get ac tv in jail \n",
      "(Abstractive 추출)예측 요약 :  nawaz sharif sharif meets his sharif contest\n",
      "Extractive 추출 요약 : The two are eligible for class 'B' facilities in jail, which is accorded to people accustomed to a superior mode of living.\n",
      "\n",
      "\n",
      "원문 : At least two Army soldiers were martyred in an encounter with the militants in Jammu and Kashmir on Saturday. \"An infiltration bid was foiled by alert troops along the LoC in Naugam sector. Two infiltrating terrorists were killed,\" an official said. The infiltration bid comes in the backdrop of Defence Minister Arun Jaitley's two-day visit to the Kashmir Valley.\n",
      "전처리 후 원문 : least two army soldiers martyred encounter militants jammu kashmir saturday infiltration bid foiled alert troops along loc sector two infiltrating terrorists killed official said infiltration bid comes backdrop defence minister arun jaitley two day visit kashmir valley \n",
      "실제 요약 : Two soldiers martyred in encounter near LoC in J&K\n",
      "전처리 후 실제 요약 : two soldiers martyred in encounter near loc in \n",
      "(Abstractive 추출)예측 요약 :  killed in encounter in jammu kashmir\n",
      "Extractive 추출 요약 : The infiltration bid comes in the backdrop of Defence Minister Arun Jaitley's two-day visit to the Kashmir Valley.\n",
      "\n",
      "\n",
      "원문 : Honeypreet Insan has confessed to Haryana Police that she prepared guide maps of Panchkula, where riots broke out after Gurmeet Ram Rahim's conviction in August. The police said the maps and deployment chart are saved in a laptop that may also contain details of financial transactions. Honeypreet also gave leads on three other absconding accomplices during the investigation, they added.\n",
      "전처리 후 원문 : honeypreet insan confessed haryana police prepared guide maps panchkula riots broke gurmeet ram rahim conviction august police said maps deployment chart saved laptop may also contain details financial transactions honeypreet also gave leads three absconding accomplices investigation added \n",
      "실제 요약 : Honeypreet confesses to planning Panchkula riots\n",
      "전처리 후 실제 요약 : honeypreet confesses to planning panchkula riots \n",
      "(Abstractive 추출)예측 요약 :  punjab cm yogi joins station in\n",
      "Extractive 추출 요약 : Honeypreet Insan has confessed to Haryana Police that she prepared guide maps of Panchkula, where riots broke out after Gurmeet Ram Rahim's conviction in August.\n",
      "\n",
      "\n",
      "원문 : The I-T department has slapped a fresh notice on UK-based Cairn Energy, seeking up to Ã¢ÂÂ¹30,700 crore in penalties for its alleged failure to pay Ã¢ÂÂ¹10,247 crore capital gains tax on time. The department has asked the company as to why penalty should not be levied. Officials said Cairn Energy has sought 10 more days to reply to the notice.\n",
      "전처리 후 원문 : department slapped fresh notice uk based cairn energy seeking crore penalties alleged failure pay crore capital gains tax time department asked company penalty levied officials said cairn energy sought days reply notice \n",
      "실제 요약 : Govt seeks Ã¢ÂÂ¹30,000 crore penalty from Cairn for tax delay\n",
      "전처리 후 실제 요약 : govt seeks crore penalty from for tax delay \n",
      "(Abstractive 추출)예측 요약 :  cbi to refund crore for fraud\n",
      "Extractive 추출 요약 : The I-T department has slapped a fresh notice on UK-based Cairn Energy, seeking up to Ã¢ÂÂ¹30,700 crore in penalties for its alleged failure to pay Ã¢ÂÂ¹10,247 crore capital gains tax on time.\n",
      "\n",
      "\n",
      "원문 : A 68,000 square feet poster of 'Amazon Obhijaan', said to be the largest for a Bengali film, was launched today at the Mohun Bagan football ground in Kolkata. If placed vertically, the poster would be taller than structures such as the Statue of Liberty and the Qutub Minar, said the producers. The Kamaleswar Mukherjee directorial will release on December 22.\n",
      "전처리 후 원문 : square feet poster amazon said largest bengali film launched today mohun bagan football ground kolkata placed vertically poster would taller structures statue liberty qutub minar said producers mukherjee directorial release december \n",
      "실제 요약 : 68,000 sq feet poster of Bengali film launched in Kolkata\n",
      "전처리 후 실제 요약 : feet poster of bengali film launched in kolkata \n",
      "(Abstractive 추출)예측 요약 :  video of the theatres\n",
      "Extractive 추출 요약 : A 68,000 square feet poster of 'Amazon Obhijaan', said to be the largest for a Bengali film, was launched today at the Mohun Bagan football ground in Kolkata.\n",
      "\n",
      "\n",
      "원문 : Widening the scope of the probe in the $2.1-billion PNB fraud, the CBI is questioning senior officers of other Indian banks. The agency reportedly questioned the general managers and deputy general managers of Allahabad Bank, Axis Bank and Bank of India, whose overseas branches were issued fraudulent guarantees by PNB. Five bank officers have been questioned so far.\n",
      "전처리 후 원문 : widening scope probe billion pnb fraud cbi questioning senior officers indian banks agency reportedly questioned general managers deputy general managers allahabad bank axis bank bank india whose overseas branches issued fraudulent guarantees pnb five bank officers questioned far \n",
      "실제 요약 : CBI questions other banks' senior executives in PNB fraud\n",
      "전처리 후 실제 요약 : questions other banks senior executives in pnb fraud \n",
      "(Abstractive 추출)예측 요약 :  pnb fraud pnb pnb fraud pnb fraud\n",
      "Extractive 추출 요약 : Widening the scope of the probe in the $2.1-billion PNB fraud, the CBI is questioning senior officers of other Indian banks.\n",
      "\n",
      "\n",
      "원문 : Thousands of people began revolting against the forced Chinese occupation of Tibet on March 10, 1959. The revolt was triggered by fears that the Dalai Lama may be kidnapped, arrested or killed by the Chinese forces. The uprising subsequently led to the declaration of Tibetan independence and the Dalai Lama was forced to take refuge in India.\n",
      "전처리 후 원문 : thousands people began forced chinese occupation tibet march triggered fears dalai lama may kidnapped arrested killed chinese forces subsequently led declaration tibetan independence dalai lama forced take refuge india \n",
      "실제 요약 : Tibetan revolt against Chinese rule erupted 59 years ago\n",
      "전처리 후 실제 요약 : tibetan against chinese rule years ago \n"
     ]
    },
    {
     "name": "stdout",
     "output_type": "stream",
     "text": [
      "(Abstractive 추출)예측 요약 :  us prez admits to restore bomb attacks\n",
      "Extractive 추출 요약 : The revolt was triggered by fears that the Dalai Lama may be kidnapped, arrested or killed by the Chinese forces.\n",
      "\n",
      "\n",
      "원문 : Actor Sushant Singh Rajput has said that he got dumped by his first girlfriend because he was too boring. \"I've tried to be more interesting ever since.\" added Sushant. Further talking about the rumours of him dating his 'Raabta' co-star Kriti Sanon, Sushant said, \"The stories often affect me but they never change my friendship with any co-star.\"\n",
      "전처리 후 원문 : actor sushant singh rajput said got dumped first girlfriend boring tried interesting ever since added sushant talking rumours dating raabta co star kriti sanon sushant said stories often affect never change friendship co star \n",
      "실제 요약 : My first girlfriend dumped me as I was too boring: Sushant\n",
      "전처리 후 실제 요약 : girlfriend dumped me as was too boring sushant \n",
      "(Abstractive 추출)예측 요약 :  late actor shares pic with son biopic\n",
      "Extractive 추출 요약 : Actor Sushant Singh Rajput has said that he got dumped by his first girlfriend because he was too boring.\n",
      "\n",
      "\n",
      "원문 : Former RBI Governor YV Reddy has revealed that he offered the position of deputy governor to Raghuram Rajan in 2004, which he rejected. Reddy said he explained to Rajan that Ã¢ÂÂwe would require somebody like him...virtually hinting that he could one day be the governorÃ¢ÂÂ. Rajan, who was IMF's Chief Economist then, joined RBI as its 23rd governor in 2013.\n",
      "전처리 후 원문 : former rbi governor reddy revealed offered position deputy governor raghuram rajan rejected reddy said explained rajan would require somebody like virtually hinting could one day governor rajan imf chief economist joined rbi rd governor \n",
      "실제 요약 : Raghuram Rajan refused to be RBI Deputy Governor in 2004\n",
      "전처리 후 실제 요약 : rajan refused to be rbi deputy governor in \n",
      "(Abstractive 추출)예측 요약 :  rajya sabha rajan joins rbi governor resignation\n",
      "Extractive 추출 요약 : Former RBI Governor YV Reddy has revealed that he offered the position of deputy governor to Raghuram Rajan in 2004, which he rejected.\n",
      "\n",
      "\n",
      "원문 : The US Consumer Financial Protection Bureau has ordered US banking major JPMorgan Chase to pay $4.6 million (about Ã¢ÂÂ¹29 crore) for allegedly failing to provide accurate screening reports. The information from the reports is used to determine who can open a bank account. The company also allegedly \"kept consumers in the dark about reporting disputes and application denials\".\n",
      "전처리 후 원문 : us consumer financial protection bureau ordered us banking major jpmorgan chase pay million allegedly failing provide accurate screening reports information reports used determine open bank account company also allegedly kept consumers dark reporting disputes application \n",
      "실제 요약 : JPMorgan to pay Ã¢ÂÂ¹29 crore for not giving correct reports\n",
      "전처리 후 실제 요약 : to pay crore for not giving correct reports \n",
      "(Abstractive 추출)예측 요약 :  lakh crore to buy payment of\n",
      "Extractive 추출 요약 : The US Consumer Financial Protection Bureau has ordered US banking major JPMorgan Chase to pay $4.6 million (about Ã¢ÂÂ¹29 crore) for allegedly failing to provide accurate screening reports.\n",
      "\n",
      "\n",
      "원문 : The European Union has approved a $6.1-billion (over Ã¢ÂÂ¹39,000 crore) state bailout for Italy's fourth largest lender, Monte dei Paschi di Siena. This came after the bank agreed to a drastic overhaul including a salary cap for senior managers. Monte dei Paschi, the world's oldest bank, earlier failed to raise $5.68 billion in the market to expand its capital.\n",
      "전처리 후 원문 : european union approved billion state bailout italy fourth largest lender di came bank agreed drastic overhaul including salary cap senior managers world oldest bank earlier failed raise billion market expand capital \n",
      "실제 요약 : EU clears $6-billion bailout for Italy's fourth largest bank\n",
      "전처리 후 실제 요약 : clears billion bailout for italy fourth largest bank \n",
      "(Abstractive 추출)예측 요약 :  what is the biggest rupee imf\n",
      "Extractive 추출 요약 : Monte dei Paschi, the world's oldest bank, earlier failed to raise $5.68 billion in the market to expand its capital.\n",
      "\n",
      "\n",
      "원문 : Harbhajan Singh, who represented Mumbai Indians in all the first 10 IPL seasons, was bought by Chennai Super Kings at his base price of Ã¢ÂÂ¹2 crore in the IPL auction on Saturday. CSK also secured Dwayne Bravo and Faf du Plessis for Ã¢ÂÂ¹6.4 crore and Ã¢ÂÂ¹1.6 crore respectively. Meanwhile, Bangladesh's Shakib Al Hasan was bought for Ã¢ÂÂ¹2 crore by SRH.\n",
      "전처리 후 원문 : harbhajan singh represented mumbai indians first ipl seasons bought chennai super kings base price crore ipl auction saturday csk also secured dwayne bravo faf du plessis crore crore respectively meanwhile bangladesh shakib al hasan bought crore srh \n",
      "실제 요약 : Harbhajan bought by CSK for Ã¢ÂÂ¹2 crore after 10 years with MI\n",
      "전처리 후 실제 요약 : by csk for crore after years with mi \n",
      "(Abstractive 추출)예측 요약 :  kxip payments ipl team buys ipl auction\n",
      "Extractive 추출 요약 : Meanwhile, Bangladesh's Shakib Al Hasan was bought for Ã¢ÂÂ¹2 crore by SRH.\n",
      "\n",
      "\n",
      "원문 : Sachin Tendulkar's son Arjun Tendulkar trained with Virat Kohli-led Team India in England ahead of their T20I series against Ireland. Arjun, who has been picked in India Under-19 squad for Sri Lanka tour, was seen bowling to Indian batsmen in the nets. The BCCI took to Twitter to share pictures of the 18-year-old getting tips from coach Ravi Shastri. \n",
      "전처리 후 원문 : sachin tendulkar son arjun tendulkar trained virat kohli led team india england ahead series ireland arjun picked india squad sri lanka tour seen bowling indian batsmen nets bcci took twitter share pictures year old getting tips coach ravi shastri \n",
      "실제 요약 : Arjun Tendulkar trains with Team India ahead of Ireland T20I\n",
      "전처리 후 실제 요약 : tendulkar trains with team india ahead of ireland \n",
      "(Abstractive 추출)예측 요약 :  sachin tendulkar to make india series reports\n",
      "Extractive 추출 요약 : Sachin Tendulkar's son Arjun Tendulkar trained with Virat Kohli-led Team India in England ahead of their T20I series against Ireland.\n",
      "\n",
      "\n",
      "원문 : Six French soldiers were injured on Wednesday after a BMW car deliberately drove into them in the Paris suburb of Levallois-Perret, according to reports. \"It's without doubt a deliberate act... this vehicle was waiting for them,\" officials said. Authorities have launched an investigation into the incident and are searching for the vehicle and the driver involved.\n",
      "전처리 후 원문 : six french soldiers injured wednesday bmw car deliberately drove paris according reports without doubt deliberate act vehicle waiting officials said authorities launched investigation incident searching vehicle driver involved \n",
      "실제 요약 : Car 'deliberately' drives into French soldiers, injures six\n",
      "전처리 후 실제 요약 : car deliberately drives into french soldiers injures six \n",
      "(Abstractive 추출)예측 요약 :  killed injured in explosion at brazil\n",
      "Extractive 추출 요약 : Six French soldiers were injured on Wednesday after a BMW car deliberately drove into them in the Paris suburb of Levallois-Perret, according to reports.\n",
      "\"It's without doubt a deliberate act...\n",
      "\n",
      "\n",
      "원문 : On the occasion of the 69th Republic Day, the Indian Railways renamed Fairy Queen, the world's oldest working steam engine, as '69 Ganrajya Express'. The engine, constructed in the UK and inducted to the then East Indian Railway in 1855, was christened as 'Fairy Queen' in 1895. The engine was retired from active service in 1908.\n",
      "전처리 후 원문 : occasion th republic day indian railways renamed queen world oldest working steam engine express engine constructed uk inducted east indian railway queen engine retired active service \n",
      "실제 요약 : Oldest working steam engine renamed '69 Ganrajya Express'\n",
      "전처리 후 실제 요약 : oldest working engine renamed express \n",
      "(Abstractive 추출)예측 요약 :  mumbai to host th time of\n",
      "Extractive 추출 요약 : The engine, constructed in the UK and inducted to the then East Indian Railway in 1855, was christened as 'Fairy Queen' in 1895.\n",
      "\n",
      "\n",
      "원문 : Actor Kamal Haasan has said that he is not anti-Hindu and that he viewed Christianity and Islam in a \"similar\" manner. Stating that his brother and daughter were religious, he added how could he be anti-Hindu. \"Some are making efforts to create an appearance as if I am against some and favourably disposed towards others,\" he further said.\n",
      "전처리 후 원문 : actor kamal haasan said anti hindu viewed islam similar manner stating brother daughter religious added could anti hindu making efforts create appearance disposed towards others said \n",
      "실제 요약 : I'm not anti-Hindu: Kamal Haasan post Hindu extremism remark\n",
      "전처리 후 실제 요약 : anti hindu kamal haasan post hindu extremism remark \n"
     ]
    },
    {
     "name": "stdout",
     "output_type": "stream",
     "text": [
      "(Abstractive 추출)예측 요약 :  haasan denies rajinikanth on his daughter remark\n",
      "Extractive 추출 요약 : Actor Kamal Haasan has said that he is not anti-Hindu and that he viewed Christianity and Islam in a \"similar\" manner.\n",
      "\n",
      "\n",
      "원문 : Actor Akshay Kumar has said that if a guy touches a girl inappropriately, she should not panic and hit back. He added, \"Unfortunately, because of some dirty people, girls have to learn self-defence.\" Akshay further said that ideally, girls should be free to be anywhere and at any time. \n",
      "전처리 후 원문 : actor akshay kumar said guy touches girl inappropriately panic hit back added unfortunately dirty people girls learn self defence akshay said girls free anywhere time \n",
      "실제 요약 : Girls should hit back if touched inappropriately: Akshay\n",
      "전처리 후 실제 요약 : girls should hit back if touched akshay \n",
      "(Abstractive 추출)예측 요약 :  akshay kumar was the of akshay kumar\n",
      "Extractive 추출 요약 : Actor Akshay Kumar has said that if a guy touches a girl inappropriately, she should not panic and hit back.\n",
      "\n",
      "\n",
      "원문 : At least 16 students on Saturday sustained burn injuries when an LPG cylinder of a school van exploded in Uttar Pradesh's Bhadohi, an official said. Students, aged between 5-8 years, suffered 30-90% burns, District Magistrate Rajendra Prasad said. Two others who tried to save the students also suffered burn injuries, he added.\n",
      "전처리 후 원문 : least students saturday sustained burn injuries lpg cylinder school van exploded uttar pradesh official said students aged years suffered burns district magistrate rajendra prasad said two others tried save students also suffered burn injuries added \n",
      "실제 요약 : 16 kids injured after LPG cylinder of UP school van explodes\n",
      "전처리 후 실제 요약 : after lpg cylinder of up school van explodes \n",
      "(Abstractive 추출)예측 요약 :  killed in gurugram\n",
      "Extractive 추출 요약 : Two others who tried to save the students also suffered burn injuries, he added.\n",
      "\n",
      "\n",
      "원문 : Filmmaker Rakeysh Omprakash Mehra has shared pictures from the sets of his upcoming film Mere Pyare Prime Minister. The film revolves around the friendship of four kids living a Mumbai slum. \"My film is not so much about comparisons as it is a story of people and relationships, survival and not giving up,\" said Rakeysh.\n",
      "전처리 후 원문 : filmmaker rakeysh omprakash mehra shared pictures sets upcoming film mere prime minister film revolves around friendship four kids living mumbai slum film much comparisons story people relationships survival giving said rakeysh \n",
      "실제 요약 : Rakeysh shares pics from film Mere Pyare Prime Minister \n",
      "전처리 후 실제 요약 : shares pics from film mere prime minister \n",
      "(Abstractive 추출)예측 요약 :  deepika to play in film\n",
      "Extractive 추출 요약 : \"My film is not so much about comparisons as it is a story of people and relationships, survival and not giving up,\" said Rakeysh.\n",
      "\n",
      "\n",
      "원문 : The new Ã¢ÂÂ¹200 currency note might be available in the market before the previously reported date of 15 August 2017, according to reports. The Reserve Bank of India (RBI) is reportedly in the final stages of introducing the currency note. It was also earlier reported that the note will not be available through ATMs, but only through bank branches.\n",
      "전처리 후 원문 : new currency note might available market previously reported date august according reports reserve bank india reportedly final stages introducing currency note also earlier reported note available atms bank branches \n",
      "실제 요약 : Ã¢ÂÂ¹200 currency note to be available before 15 Aug: Reports\n",
      "전처리 후 실제 요약 : currency note to be available before aug reports \n",
      "(Abstractive 추출)예측 요약 :  average of average rupee in fy report\n",
      "Extractive 추출 요약 : It was also earlier reported that the note will not be available through ATMs, but only through bank branches.\n",
      "\n",
      "\n",
      "원문 : Ummul Kher, a 28-year-old girl, who suffers from fragile bone disorder since she was a kid, has cleared UPSC Civil Services Examination with an All India Rank of 420. Kher was disowned by her parents as she wanted to study beyond Class 8. She had taken admission in  a Delhi University college and later entered JNU for her master's degree.\n",
      "전처리 후 원문 : kher year old girl suffers fragile bone disorder since kid cleared upsc civil services examination india rank kher parents wanted study beyond class taken admission delhi university college later entered jnu master degree \n",
      "실제 요약 : Disabled girl disowned by parents cracks Civil Services Exam\n",
      "전처리 후 실제 요약 : disabled girl by parents cracks civil services exam \n",
      "(Abstractive 추출)예측 요약 :  what were the youngest person to contest\n",
      "Extractive 추출 요약 : Ummul Kher, a 28-year-old girl, who suffers from fragile bone disorder since she was a kid, has cleared UPSC Civil Services Examination with an All India Rank of 420.\n",
      "\n",
      "\n",
      "원문 : At least 27 people have been killed and around 100 others have been injured in two bomb blasts in Pakistan's Parachinar, according to reports. The blasts follow a car bomb attack near the office of the provincial police chief in Quetta which killed at least 13 people. No militant group has claimed responsibility for the blasts yet.\n",
      "전처리 후 원문 : least people killed around others injured two bomb blasts pakistan according reports blasts follow car bomb attack near office provincial police chief quetta killed least people militant group claimed responsibility blasts yet \n",
      "실제 요약 : 27 killed, 100 injured in twin blasts in Pakistan\n",
      "전처리 후 실제 요약 : killed injured in twin blasts in pakistan \n",
      "(Abstractive 추출)예측 요약 :  killed injured in blast in blast\n",
      "Extractive 추출 요약 : At least 27 people have been killed and around 100 others have been injured in two bomb blasts in Pakistan's Parachinar, according to reports.\n",
      "\n",
      "\n",
      "원문 : South Africa defeated Bangladesh by an innings and 254 runs in the second Test in Bloemfontein, their biggest margin of victory in their 128-year Test history. South Africa surpassed their previous biggest margin of an innings and 229 runs achieved against Sri Lanka in 2001. With the victory, South Africa whitewashed Bangladesh 2-0 in the Test series.\n",
      "전처리 후 원문 : south africa defeated bangladesh innings runs second test biggest margin victory year test history south africa surpassed previous biggest margin innings runs achieved sri lanka victory south africa bangladesh test series \n",
      "실제 요약 : SA record their biggest victory in 128-year Test history \n",
      "전처리 후 실제 요약 : record their biggest victory in year test history \n",
      "(Abstractive 추출)예측 요약 :  india win their first ever test series\n",
      "Extractive 추출 요약 : South Africa defeated Bangladesh by an innings and 254 runs in the second Test in Bloemfontein, their biggest margin of victory in their 128-year Test history.\n",
      "\n",
      "\n",
      "원문 : Union Minister Uma Bharti on Thursday said that the Congress had gained the maximum benefit from Mahatma Gandhi's assassination, as Mahatma Gandhi had plans to disperse the Congress. She further said that the Rashtriya Swayamsevak Sangh (RSS) had suffered most due to Mahatma Gandhi's killing. Notably, a petition has been filed in Supreme Court urging to reopen Gandhi's assassination case.\n",
      "전처리 후 원문 : union minister uma bharti thursday said congress gained maximum benefit mahatma gandhi assassination mahatma gandhi plans disperse congress said rashtriya swayamsevak sangh suffered due mahatma gandhi killing notably petition filed supreme court urging reopen gandhi assassination case \n",
      "실제 요약 : Mahatma Gandhi's assassination benefited Congress: Bharti \n",
      "전처리 후 실제 요약 : mahatma gandhi assassination congress bharti \n",
      "(Abstractive 추출)예측 요약 :  congress is not freedom congress chief\n",
      "Extractive 추출 요약 : Union Minister Uma Bharti on Thursday said that the Congress had gained the maximum benefit from Mahatma Gandhi's assassination, as Mahatma Gandhi had plans to disperse the Congress.\n",
      "\n",
      "\n",
      "원문 : United States Defence Secretary James Mattis on Friday said that the Syrian government has retained an unspecified amount of chemical weapons and dispersed its aircraft after the US cruise-missile attack on the Shayrat airbase this month. \"It is a violation of the United Nations Security Council resolutions, and it is going to have to be taken up diplomatically,\" Mattis added.\n",
      "전처리 후 원문 : united states defence secretary james mattis friday said syrian government retained unspecified amount chemical weapons aircraft us cruise missile attack airbase month violation united nations security council resolutions going taken mattis added \n",
      "실제 요약 : Syria still has chemical weapons: US Defence Secy\n",
      "전처리 후 실제 요약 : syria still has chemical weapons us defence secy \n"
     ]
    },
    {
     "name": "stdout",
     "output_type": "stream",
     "text": [
      "(Abstractive 추출)예측 요약 :  us missile tests its new missile\n",
      "Extractive 추출 요약 : United States Defence Secretary James Mattis on Friday said that the Syrian government has retained an unspecified amount of chemical weapons and dispersed its aircraft after the US cruise-missile attack on the Shayrat airbase this month.\n",
      "\n",
      "\n",
      "원문 : In a first for Russia, two electric power stations have been sold to a private investor who plans to use them to power his cryptocurrency mining operations, according to reports. They were reportedly sold for about $3 million to businessman Aleksey Kolesnik. However, Kolesnik said mining will be possible only after Russia adopts relevant legislation, reports added.\n",
      "전처리 후 원문 : first russia two electric power stations sold private investor plans use power cryptocurrency mining operations according reports reportedly sold million businessman however said mining possible russia relevant legislation reports added \n",
      "실제 요약 : Investor buys Russian power stations to mine cryptocurrency\n",
      "전처리 후 실제 요약 : investor buys russian power stations to mine cryptocurrency \n",
      "(Abstractive 추출)예측 요약 :  bitcoin mining launches its own cryptocurrency\n",
      "Extractive 추출 요약 : However, Kolesnik said mining will be possible only after Russia adopts relevant legislation, reports added.\n",
      "\n",
      "\n",
      "원문 : The US dollar on Tuesday sank to a 10-month low against a basket of major currencies. This came after two Republican senators announced opposition to President Donald Trump's healthcare bill which led to speculation that the bill was likely to be withdrawn. Since hitting a 14-year peak of 103.82 on January 3, the dollar index was down 8.8% at 94.83.\n",
      "전처리 후 원문 : us dollar tuesday sank month low basket major currencies came two republican senators announced opposition president donald trump healthcare bill led speculation bill likely withdrawn since hitting year peak january dollar index \n",
      "실제 요약 : Dollar hits 10-month low as Trump's healthcare bill fails\n",
      "전처리 후 실제 요약 : hits month low as trump healthcare bill fails \n",
      "(Abstractive 추출)예측 요약 :  us us president calls us trump\n",
      "Extractive 추출 요약 : The US dollar on Tuesday sank to a 10-month low against a basket of major currencies.\n",
      "\n",
      "\n",
      "원문 : Gujarat Assembly speaker Ramanlal Vohra on Sunday slammed Congress legislators who have been staying at a Bengaluru resort amid the ongoing Gujarat floods. \"I don't know what MLAs are doing there in Karnataka. In such situations we should pay more attention to improve situation and not to play politics,\" he said. Over 120 people have been killed in Gujarat floods. \n",
      "전처리 후 원문 : gujarat assembly speaker vohra sunday slammed congress legislators staying bengaluru resort amid ongoing gujarat floods know mlas karnataka situations pay attention improve situation play politics said people killed gujarat floods \n",
      "실제 요약 : Gujarat Assembly speaker slams Cong MLAs over B'luru retreat\n",
      "전처리 후 실제 요약 : gujarat assembly speaker slams cong mlas over luru \n",
      "(Abstractive 추출)예측 요약 :  bjp mlas remove in bengaluru assembly\n",
      "Extractive 추출 요약 : Gujarat Assembly speaker Ramanlal Vohra on Sunday slammed Congress legislators who have been staying at a Bengaluru resort amid the ongoing Gujarat floods.\n",
      "\n",
      "\n",
      "원문 : The Islamabad High Court on Thursday allowed the Election Commission to register Milli Muslim League (MML), the political party formed by 26/11 Mumbai terror attacks mastermind Hafiz Saeed. The Election Commission had last year decided not to register the MML over objections from the Interior Ministry. Earlier, the Lahore High Court extended stay against the possible arrest of Saeed.\n",
      "전처리 후 원문 : islamabad high court thursday allowed election commission register milli muslim league political party formed mumbai terror attacks mastermind hafiz saeed election commission last year decided register objections interior ministry earlier lahore high court extended stay possible arrest saeed \n",
      "실제 요약 : Pak court allows registration of Saeed's political party\n",
      "전처리 후 실제 요약 : pak court allows registration of saeed political party \n",
      "(Abstractive 추출)예측 요약 :  pak polls elected chief chief resigns\n",
      "Extractive 추출 요약 : The Islamabad High Court on Thursday allowed the Election Commission to register Milli Muslim League (MML), the political party formed by 26/11 Mumbai terror attacks mastermind Hafiz Saeed.\n",
      "\n",
      "\n",
      "원문 : Finance Minister Arun Jaitley has said that former PM Jawaharlal Nehru had written to RBI stating that economic policy is determined by government, while RBI has autonomy over monetary policy. \"We are the sovereign government... the most important stakeholder [in managing] economy,\" he added. He also questioned how a discussion on RBI's functioning could be deemed the institution's \"destruction\". \n",
      "전처리 후 원문 : finance minister arun jaitley said former pm jawaharlal nehru written rbi stating economic policy determined government rbi autonomy monetary policy sovereign government important stakeholder managing economy added also questioned discussion rbi functioning could deemed institution destruction \n",
      "실제 요약 : Nehru said RBI controls monetary policy, govt economic policy: FM\n",
      "전처리 후 실제 요약 : nehru said rbi policy govt economic policy fm \n",
      "(Abstractive 추출)예측 요약 :  jaitley jaitley jaitley to implement economy jaitley\n",
      "Extractive 추출 요약 : Finance Minister Arun Jaitley has said that former PM Jawaharlal Nehru had written to RBI stating that economic policy is determined by government, while RBI has autonomy over monetary policy.\n",
      "\n",
      "\n",
      "원문 : A woman was reportedly shot dead inside a police station following an alleged land dispute in Uttar Pradesh's Mainpuri on Monday. As per reports, policemen failed to stop the shooter from firing at the woman inside the police station. The accused tried to escape but was caught and beaten up by locals before being arrested.\n",
      "전처리 후 원문 : woman reportedly shot dead inside police station following alleged land dispute uttar pradesh monday per reports policemen failed stop shooter firing woman inside police station accused tried escape caught beaten locals arrested \n",
      "실제 요약 : Woman shot dead inside a police station in Uttar Pradesh\n",
      "전처리 후 실제 요약 : shot dead inside police station in uttar pradesh \n",
      "(Abstractive 추출)예측 요약 :  woman shot dead by police in delhi\n",
      "Extractive 추출 요약 : A woman was reportedly shot dead inside a police station following an alleged land dispute in Uttar Pradesh's Mainpuri on Monday.\n",
      "\n",
      "\n",
      "원문 : Pakistani cricketer-turned-politician Imran Khan's stepdaughter Mehrunnisa Hayat has joined his Pakistan Tehreek-e-Insaf (PTI) party. Mehrunnisa Hayat is the daughter of Khan's wife Bushra Maneka. Imran Khan, whose PTI emerged as the single-largest party in the general elections, was officially nominated as the party's Prime Ministerial candidate on Monday.\n",
      "전처리 후 원문 : pakistani cricketer turned politician imran khan stepdaughter hayat joined pakistan tehreek insaf party hayat daughter khan wife maneka imran khan whose pti emerged single largest party general elections officially nominated party prime ministerial candidate monday \n",
      "실제 요약 : Imran Khan's stepdaughter joins his political party\n",
      "전처리 후 실제 요약 : imran khan joins his political party \n",
      "(Abstractive 추출)예측 요약 :  wife wife imran khan wife wife\n",
      "Extractive 추출 요약 : Pakistani cricketer-turned-politician Imran Khan's stepdaughter Mehrunnisa Hayat has joined his Pakistan Tehreek-e-Insaf (PTI) party.\n",
      "\n",
      "\n",
      "원문 : Clara Harris, a 60-year-old dentist from Texas, was released from prison after serving a 15-year sentence for running over her cheating husband three times in a parking lot in 2002. During the time of the crime, Clara's then 17-year-old daughter was in the passenger's seat and a private investigator hired to spy on her husband was filming the act.\n",
      "전처리 후 원문 : harris year old texas released prison serving year sentence running cheating husband three times parking lot time crime year old daughter passenger seat private investigator hired spy husband filming act \n",
      "실제 요약 : Woman who ran over cheating husband 3 times freed from jail\n",
      "전처리 후 실제 요약 : ran over cheating husband times freed from jail \n",
      "(Abstractive 추출)예측 요약 :  woman gets married in years after years\n",
      "Extractive 추출 요약 : Clara Harris, a 60-year-old dentist from Texas, was released from prison after serving a 15-year sentence for running over her cheating husband three times in a parking lot in 2002.\n",
      "\n",
      "\n",
      "원문 : Filmmaker Anurag Kashyap's lawyer Venkatesh Dhond has said director Vikas Bahl broke down, confirmed that he sexually harassed an ex-employee and promised to go forÃ¢ÂÂ rehabilitation after being confronted by his business partners, including Kashyap. \"This man has a drinking problem...He had promised to go to rehab as he cannot control his actions when he is drunk,\" Dhond added.\n",
      "전처리 후 원문 : filmmaker anurag kashyap lawyer venkatesh said director vikas bahl broke confirmed sexually harassed ex employee promised go rehabilitation confronted business partners including kashyap man drinking problem promised go rehab cannot control actions drunk added \n",
      "실제 요약 : Vikas cried, confessed, promised to go to rehab: Kashyap's lawyer\n",
      "전처리 후 실제 요약 : cried promised to go to rehab kashyap lawyer \n"
     ]
    },
    {
     "name": "stdout",
     "output_type": "stream",
     "text": [
      "(Abstractive 추출)예측 요약 :  anurag kashyap denies reports of sexual harassment\n",
      "Extractive 추출 요약 : Filmmaker Anurag Kashyap's lawyer Venkatesh Dhond has said director Vikas Bahl broke down, confirmed that he sexually harassed an ex-employee and promised to go forÃ¢ÂÂ rehabilitation after being confronted by his business partners, including Kashyap.\n",
      "\n",
      "\n",
      "원문 : A man in Uttar Pradesh's Lalitpur, has been arrested for allegedly killing his three daughters by smashing their heads with a hammer and setting them ablaze using LPG cylinder gas on Tuesday, police said. Adding that the accused was a habitual alcoholic, police said they suspect the man killed the girls, aged between four and ten years, out of frustration.\n",
      "전처리 후 원문 : man uttar pradesh arrested allegedly killing three daughters smashing heads hammer setting ablaze using lpg cylinder gas tuesday police said adding accused alcoholic police said suspect man killed girls aged four ten years frustration \n",
      "실제 요약 : Man smashes 3 daughters' head with hammer, sets them on fire\n",
      "전처리 후 실제 요약 : daughters head with hammer sets them on fire \n",
      "(Abstractive 추출)예측 요약 :  bengaluru man arrested for stealing over death\n",
      "Extractive 추출 요약 : A man in Uttar Pradesh's Lalitpur, has been arrested for allegedly killing his three daughters by smashing their heads with a hammer and setting them ablaze using LPG cylinder gas on Tuesday, police said.\n",
      "\n",
      "\n",
      "원문 : US President Donald Trump has slipped 222 places in the Forbes billionaires list after losing $400 million (over Ã¢ÂÂ¹2,500 crore) from last year. He is now ranked 766 in the world with $3.1 billion net worth. The magazine said the drop was partially due to a fall in the value of his properties and falling revenues at his golf courses.\n",
      "전처리 후 원문 : us president donald trump slipped places forbes billionaires list losing million last year ranked world billion net worth magazine said drop partially due fall value properties falling revenues golf courses \n",
      "실제 요약 : Trump loses $400 mn, slips 222 ranks on Forbes rich list\n",
      "전처리 후 실제 요약 : loses mn slips ranks on forbes rich list \n",
      "(Abstractive 추출)예측 요약 :  trump wealth wealth by billionaires on forbes\n",
      "Extractive 추출 요약 : US President Donald Trump has slipped 222 places in the Forbes billionaires list after losing $400 million (over Ã¢ÂÂ¹2,500 crore) from last year.\n",
      "\n",
      "\n",
      "원문 : With earnings of Ã¢ÂÂ¹33.75 crore on its first day, Salman Khan and Katrina Kaif's 'Tiger Zinda Hai' has become the second-highest Hindi opening grosser of 2017. It beat the record of 'Golmaal Again', which earned Ã¢ÂÂ¹30.14 crore on its first day. Meanwhile, the Hindi version of 'Baahubali 2', with opening day collection of Ã¢ÂÂ¹41 crore, remains 2017's highest opening grosser.\n",
      "전처리 후 원문 : earnings crore first day salman khan katrina kaif tiger zinda hai become second highest hindi opening grosser beat record golmaal earned crore first day meanwhile hindi version baahubali opening day collection crore remains highest opening grosser \n",
      "실제 요약 : 'Tiger Zinda Hai' 2nd highest Hindi opening grosser of 2017\n",
      "전처리 후 실제 요약 : zinda hai nd highest hindi opening grosser of \n",
      "(Abstractive 추출)예측 요약 :  padmaavat becomes highest grossing film in years\n",
      "Extractive 추출 요약 : With earnings of Ã¢ÂÂ¹33.75 crore on its first day, Salman Khan and Katrina Kaif's 'Tiger Zinda Hai' has become the second-highest Hindi opening grosser of 2017.\n",
      "\n",
      "\n",
      "원문 : Reacting to the recent reunion of the BJP and the JD(U) in Bihar, former Jammu and Kashmir CM Omar Abdullah tweeted, \"Rishta mubarak. Khush raho, aabaad raho, ab saat raho.\" Notably, Nitish Kumar had left the NDA before 2014 general elections to form Grand Alliance and has now returned to join hands with the BJP to form government in Bihar. \n",
      "전처리 후 원문 : reacting recent reunion bjp jd bihar former jammu kashmir cm omar abdullah tweeted mubarak ab notably nitish kumar left nda general elections form grand alliance returned join hands bjp form government bihar \n",
      "실제 요약 : Rishta mubarak, tweets Omar Abdullah on BJP-JD(U) alliance\n",
      "전처리 후 실제 요약 : tweets omar abdullah on bjp jd alliance \n",
      "(Abstractive 추출)예측 요약 :  will have no contest polls bjp leader\n",
      "Extractive 추출 요약 : Reacting to the recent reunion of the BJP and the JD(U) in Bihar, former Jammu and Kashmir CM Omar Abdullah tweeted, \"Rishta mubarak.\n",
      "\n",
      "\n",
      "원문 : Pooja Bedi's daughter Aalia Furniturewalla is set to make her Bollywood debut with Saif Ali Khan's film 'Jawaani Jaaneman'. Saif launched a new production house named 'Black Knight Films' and announced the film under the banner last month. Saif will reportedly also star in the film, which is said to be a comedy centred on a father-daughter relationship.  \n",
      "전처리 후 원문 : pooja bedi daughter set make bollywood debut saif ali khan film saif launched new production house named black knight films announced film banner last month saif reportedly also star film said comedy centred father daughter relationship \n",
      "실제 요약 : Pooja Bedi's daughter to debut in Saif's production: Report \n",
      "전처리 후 실제 요약 : bedi daughter to debut in saif production report \n",
      "(Abstractive 추출)예측 요약 :  aishwarya to make debut debut with karan\n",
      "Extractive 추출 요약 : Saif will reportedly also star in the film, which is said to be a comedy centred on a father-daughter relationship.\n",
      "\n",
      "\n",
      "원문 : National Mathematics Day is celebrated on December 22, since 2012, after former Prime Minister Manmohan Singh made the declaration to pay tribute to Srinivasa Ramanujan on his birth anniversary. Born into a Tamil family in Erode in 1887, the self-taught mathematician mastered Trigonometry by the age of 12 and independently compiled over 3,900 results before succumbing to ill-health, aged 32.\n",
      "전처리 후 원문 : national mathematics day celebrated december since former prime minister manmohan singh made declaration pay tribute ramanujan birth anniversary born tamil family erode self taught mathematician age independently compiled results succumbing ill health aged \n",
      "실제 요약 : India marks National Mathematics Day in memory of Ramanujan\n",
      "전처리 후 실제 요약 : india marks national day in memory of \n",
      "(Abstractive 추출)예측 요약 :  padma shri to be in padma\n",
      "Extractive 추출 요약 : National Mathematics Day is celebrated on December 22, since 2012, after former Prime Minister Manmohan Singh made the declaration to pay tribute to Srinivasa Ramanujan on his birth anniversary.\n",
      "\n",
      "\n",
      "원문 : Former world number one tennis player Ana Ivanovic and World Cup-winning German footballer Bastian Schweinsteiger took to Twitter to announce the birth of their first child, a baby boy. The couple had got married in July 2016. \"Welcome to the world our little boy. Words can not describe the joy and the happiness we feel in our hearts!\" tweeted Ivanovic.\n",
      "전처리 후 원문 : former world number one tennis player world cup winning german footballer took twitter announce birth first child baby boy couple got married july welcome world little boy words describe joy happiness feel hearts tweeted \n",
      "실제 요약 : Ana Ivanovic and Schweinsteiger welcome baby boy\n",
      "전처리 후 실제 요약 : and welcome baby boy \n",
      "(Abstractive 추출)예측 요약 :  serena williams names newborn baby at tennis\n",
      "Extractive 추출 요약 : Former world number one tennis player Ana Ivanovic and World Cup-winning German footballer Bastian Schweinsteiger took to Twitter to announce the birth of their first child, a baby boy.\n",
      "\n",
      "\n",
      "원문 : 'Transformers: The Last Knight', \"[is] full of VFX explosions, goofy bro-humour and stereotypical female characters\", wrote Times of India. Hindustan Times said, \"A monumentally overblown film that constantly threatens to crumble under its own weight.\" Koimoi wrote, \"It fails to impress...it'll appeal only to action or sci-fi loving teenagers.\" It was rated 2.5/5 (TOI), 1.5/5 (HT), 1/5 (Koimoi).\n",
      "전처리 후 원문 : transformers last knight full explosions bro humour female characters wrote times india hindustan times said film constantly threatens weight koimoi wrote fails impress appeal action fi loving teenagers rated \n",
      "실제 요약 : Transformers: The Last Knight hits the theatres\n",
      "전처리 후 실제 요약 : the last hits the theatres \n",
      "(Abstractive 추출)예측 요약 :  sushant singh starrer hits the theatres\n",
      "Extractive 추출 요약 : 'Transformers: The Last Knight', \"[is] full of VFX explosions, goofy bro-humour and stereotypical female characters\", wrote Times of India.\n",
      "\n",
      "\n",
      "원문 : The Ministry of Women and Child Development (WCD) has recommended that mothers should be the natural guardian of children, instead of fathers. Courts often hand over the custody of the child to the father simply because he earns more, an official said. WCD Minister Maneka Gandhi has said the ministry is also considering giving parents joint custody. \n",
      "전처리 후 원문 : ministry women child development recommended mothers natural guardian children instead fathers courts often hand custody child father simply earns official said minister maneka gandhi said ministry also considering giving parents joint custody \n",
      "실제 요약 : Mother should be natural guardian, not father: Govt \n",
      "전처리 후 실제 요약 : mother should be natural guardian not father govt \n"
     ]
    },
    {
     "name": "stdout",
     "output_type": "stream",
     "text": [
      "(Abstractive 추출)예측 요약 :  marriage is not to be\n",
      "Extractive 추출 요약 : Courts often hand over the custody of the child to the father simply because he earns more, an official said.\n",
      "\n",
      "\n",
      "원문 : A railway track has been designed to run through a 19-storey residential building in the city of Chongqing, China. The Liziba Station, located between the building's sixth and eighth floor, was built to combat the lack of space in the city. The station has a noise insulation system, and the trains reportedly run on rubber tyres with air suspension units.\n",
      "전처리 후 원문 : railway track designed run storey residential building city chongqing china station located building sixth eighth floor built combat lack space city station noise system trains reportedly run rubber tyres air suspension units \n",
      "실제 요약 : China has a train track passing through an apartment\n",
      "전처리 후 실제 요약 : china has train track passing through an apartment \n",
      "(Abstractive 추출)예측 요약 :  mumbai station to hit international station reports\n",
      "Extractive 추출 요약 : A railway track has been designed to run through a 19-storey residential building in the city of Chongqing, China.\n",
      "\n",
      "\n",
      "원문 : While addressing a Sunday congregation in Sydney, Anglican Archbishop Glenn Davies asked for forgiveness for Steve Smith, David Warner and Cameron Bancroft, the players who were involved in the ball-tampering incident. Earlier on Friday, former captain Steve Smith broke down in tears and urged the nation for forgiveness during a press conference at Sydney airport.\n",
      "전처리 후 원문 : addressing sunday congregation sydney archbishop glenn asked forgiveness steve smith david warner cameron bancroft players involved ball tampering incident earlier friday former captain steve smith broke tears urged nation forgiveness press conference sydney airport \n",
      "실제 요약 : Australian sermons urge forgiveness for Smith, Warner\n",
      "전처리 후 실제 요약 : australian urge for smith warner \n",
      "(Abstractive 추출)예측 요약 :  smith warner slammed for running\n",
      "Extractive 추출 요약 : While addressing a Sunday congregation in Sydney, Anglican Archbishop Glenn Davies asked for forgiveness for Steve Smith, David Warner and Cameron Bancroft, the players who were involved in the ball-tampering incident.\n",
      "\n",
      "\n",
      "원문 : 'Rayichapalu', a regular catch for fishermen in Andhra Pradesh's Visakhapatnam, has been declared as one of the rarest species of fish in the world by Marine Living Resources Department, Andhra University. It has a unique colour pattern with diamond shaped bands and is around 97 mm in length. It is reportedly the only fifth fish in this category of size.\n",
      "전처리 후 원문 : regular catch fishermen andhra pradesh visakhapatnam declared one rarest species fish world marine living resources department andhra university unique colour pattern diamond shaped bands around mm length reportedly fifth fish category size \n",
      "실제 요약 : Vizag's Rayichapalu declared one of the rarest fish in world\n",
      "전처리 후 실제 요약 : declared one of the fish in world \n",
      "(Abstractive 추출)예측 요약 :  kg of human in india\n",
      "Extractive 추출 요약 : 'Rayichapalu', a regular catch for fishermen in Andhra Pradesh's Visakhapatnam, has been declared as one of the rarest species of fish in the world by Marine Living Resources Department, Andhra University.\n",
      "\n",
      "\n",
      "원문 : Saudi Arabia has reportedly released 23 of the 200 princes and senior officials, who were arrested in November on corruption charges, after they reached deals with the government. The detainees were reportedly told to hand over assets and cash for their release as the authorities see the settlements as the detainees' obligation to reimburse money taken illegally from the Kingdom.n\n",
      "전처리 후 원문 : saudi arabia reportedly released princes senior officials arrested november corruption charges reached deals government detainees reportedly told hand assets cash release authorities see settlements detainees reimburse money taken illegally kingdom \n",
      "실제 요약 : Saudi frees 23 corruption detainees after govt deal: Reports\n",
      "전처리 후 실제 요약 : saudi corruption detainees after govt deal reports \n",
      "(Abstractive 추출)예측 요약 :  saudi arabia arrests for reports of\n",
      "Extractive 추출 요약 : Saudi Arabia has reportedly released 23 of the 200 princes and senior officials, who were arrested in November on corruption charges, after they reached deals with the government.\n",
      "\n",
      "\n",
      "원문 : The coldest day of the season in Delhi was recorded on Saturday with minimum temperature touching 7.4ÃÂ°C, India Meteorological Department officials said. This was also the second coldest December 2 in seven years. \"On Tuesday, there is prediction of drizzle in Delhi and the surrounding areas. After that it might get colder,\" officials added. \n",
      "전처리 후 원문 : coldest day season delhi recorded saturday minimum temperature touching india meteorological department officials said also second coldest december seven years tuesday prediction delhi surrounding areas might get officials added \n",
      "실제 요약 : Delhi records its coldest day with temperature touching 7ÃÂ°C\n",
      "전처리 후 실제 요약 : delhi records its coldest day with temperature touching \n",
      "(Abstractive 추출)예측 요약 :  mumbai witnesses its first time in years\n",
      "Extractive 추출 요약 : The coldest day of the season in Delhi was recorded on Saturday with minimum temperature touching 7.4ÃÂ°C, India Meteorological Department officials said.\n",
      "\n",
      "\n"
     ]
    }
   ],
   "source": [
    "for i in range(0, 50):\n",
    "    print(\"원문 :\", temp_data.iloc[i, 1])\n",
    "    print(\"전처리 후 원문 :\", seq2text(encoder_input_test[i]))\n",
    "    print(\"실제 요약 :\", temp_data.iloc[i, 0])\n",
    "    print(\"전처리 후 실제 요약 :\", seq2summary(decoder_input_test[i]))\n",
    "    print(\"(Abstractive 추출)예측 요약 :\", decode_sequence(encoder_input_test[i].reshape(1, text_max_len)))\n",
    "    print(\"Extractive 추출 요약 :\", summarize(temp_data.iloc[i, 1], words=20))\n",
    "    print(\"\\n\")"
   ]
  },
  {
   "cell_type": "code",
   "execution_count": null,
   "id": "78243e69",
   "metadata": {},
   "outputs": [],
   "source": []
  }
 ],
 "metadata": {
  "kernelspec": {
   "display_name": "Python 3 (ipykernel)",
   "language": "python",
   "name": "python3"
  },
  "language_info": {
   "codemirror_mode": {
    "name": "ipython",
    "version": 3
   },
   "file_extension": ".py",
   "mimetype": "text/x-python",
   "name": "python",
   "nbconvert_exporter": "python",
   "pygments_lexer": "ipython3",
   "version": "3.9.7"
  }
 },
 "nbformat": 4,
 "nbformat_minor": 5
}
