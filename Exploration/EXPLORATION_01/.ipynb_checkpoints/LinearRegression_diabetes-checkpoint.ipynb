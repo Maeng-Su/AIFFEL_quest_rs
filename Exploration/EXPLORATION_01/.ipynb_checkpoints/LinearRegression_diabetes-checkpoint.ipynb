{
 "cells": [
  {
   "cell_type": "code",
   "execution_count": 11,
   "metadata": {},
   "outputs": [
    {
     "name": "stdout",
     "output_type": "stream",
     "text": [
      "(442, 10) (442,)\n"
     ]
    }
   ],
   "source": [
    "# (1) 데이터 가져오기\n",
    "# sklearn.datasets의 load_diabetes에서 데이터를 가져와주세요.\n",
    "# diabetes의 data를 df_X에, target을 df_y에 저장해주세요.\n",
    "from sklearn.datasets import load_diabetes\n",
    "\n",
    "diabets = load_diabetes()\n",
    "df_X = diabets['data']\n",
    "df_y = diabets['target']\n",
    "\n",
    "print(df_X.shape, df_y.shape)"
   ]
  },
  {
   "cell_type": "code",
   "execution_count": 12,
   "metadata": {},
   "outputs": [
    {
     "name": "stdout",
     "output_type": "stream",
     "text": [
      "<class 'numpy.ndarray'> <class 'numpy.ndarray'>\n",
      "(442, 10) (442,)\n",
      "<class 'numpy.ndarray'> <class 'numpy.ndarray'>\n"
     ]
    }
   ],
   "source": [
    "# (2) 모델에 입력할 데이터 X 준비하기\n",
    "# df_X에 있는 값들을 numpy array로 변환해서 저장해주세요.\n",
    "\n",
    "# (3) 모델에 예측할 데이터 y 준비하기\n",
    "# df_y에 있는 값들을 numpy array로 변환해서 저장해주세요.\n",
    "\n",
    "import numpy as np\n",
    "\n",
    "print(type(df_X), type(df_y))\n",
    "\n",
    "X = np.array(df_X)\n",
    "y = np.array(df_y)\n",
    "\n",
    "print(X.shape, y.shape)\n",
    "print(type(X), type(y))"
   ]
  },
  {
   "cell_type": "code",
   "execution_count": 13,
   "metadata": {},
   "outputs": [
    {
     "data": {
      "text/plain": [
       "((353, 10), (89, 10), (353,), (89,))"
      ]
     },
     "execution_count": 13,
     "metadata": {},
     "output_type": "execute_result"
    }
   ],
   "source": [
    "# (4) train 데이터와 test 데이터로 분리하기\n",
    "# X와 y 데이터를 각각 train 데이터와 test 데이터로 분리해주세요.\n",
    "from sklearn.model_selection import train_test_split\n",
    "\n",
    "X_train, X_test, y_train, y_test = train_test_split(X, y, test_size=0.2, random_state=980417)\n",
    "X_train.shape, X_test.shape, y_train.shape, y_test.shape"
   ]
  },
  {
   "cell_type": "code",
   "execution_count": 14,
   "metadata": {},
   "outputs": [
    {
     "data": {
      "text/plain": [
       "array([ 0.31369271,  0.136227  ,  0.20755694, -0.05574581,  0.12213048,\n",
       "        0.16053855, -0.13675989, -0.34115955,  0.3048683 , -0.01354474,\n",
       "        0.14443881, -0.08081675, -0.1046118 ,  0.1173764 ,  0.23240431,\n",
       "        0.19145365, -0.34670857,  0.25365353,  0.03415023,  0.14690887,\n",
       "        0.14561109,  0.17457721, -0.49774087, -0.00532923, -0.07323506,\n",
       "        0.13677629,  0.27302971, -0.44087274,  0.33067064, -0.0497337 ,\n",
       "        0.16488269,  0.3493321 , -0.40385245, -0.17230902, -0.33604013,\n",
       "        0.19650588, -0.15599486, -0.47237452, -0.51496675, -0.28416118,\n",
       "       -0.10428125,  0.38684948,  0.03015376, -0.04402088,  0.33014298,\n",
       "        0.04954861, -0.11447257,  0.19929515, -0.26283791, -0.31814748,\n",
       "        0.2097097 , -0.2267392 , -0.49948537, -0.03944107, -0.23007767,\n",
       "        0.00176495, -0.05732353,  0.08218236,  0.11961625,  0.29874097,\n",
       "       -0.29285848, -0.16543086, -0.50030931, -0.04873298,  0.39686265,\n",
       "       -0.04393841,  0.46349286, -0.21370652,  0.21852554,  0.19248523,\n",
       "       -0.14873772, -0.25386892,  0.25724929,  0.17362754, -0.08517206,\n",
       "       -0.05926537, -0.25857584, -0.51593771, -0.02411055, -0.13769359,\n",
       "       -0.26334926, -0.26527263,  0.24677012, -0.03731484,  0.23487788,\n",
       "        0.28397141,  0.27126732, -0.23240307,  0.36962719])"
      ]
     },
     "execution_count": 14,
     "metadata": {},
     "output_type": "execute_result"
    }
   ],
   "source": [
    "# (5) 모델 준비하기\n",
    "# 입력 데이터 개수에 맞는 가중치 W와 b를 준비해주세요.\n",
    "# 모델 함수를 구현해주세요.\n",
    "from sklearn.linear_model import LinearRegression\n",
    "\n",
    "W = np.ones(shape=(10, ))\n",
    "b = 0\n",
    "\n",
    "def model_forward(X):\n",
    "    y_pred = np.sum(X * W.T, axis=1) + b\n",
    "    return y_pred\n",
    "\n",
    "model_forward(X_test)"
   ]
  },
  {
   "cell_type": "code",
   "execution_count": 15,
   "metadata": {},
   "outputs": [
    {
     "data": {
      "text/plain": [
       "24429.247454052216"
      ]
     },
     "execution_count": 15,
     "metadata": {},
     "output_type": "execute_result"
    }
   ],
   "source": [
    "# (6) 손실함수 loss 정의하기\n",
    "# 손실함수를 MSE 함수로 정의해주세요.\n",
    "def mse_loss(X, y):\n",
    "    y_pred = model_forward(X)\n",
    "    mse = np.mean((y_pred - y)**2)\n",
    "\n",
    "    return mse\n",
    "\n",
    "mse_loss(X_test, y_test)"
   ]
  },
  {
   "cell_type": "code",
   "execution_count": 16,
   "metadata": {},
   "outputs": [
    {
     "data": {
      "text/plain": [
       "(array([-2.52440971,  0.43658055, -0.09532442, -0.64975677, -3.37891198,\n",
       "        -3.22777777, -0.12395944, -1.71581098, -1.97456849, -1.51430246]),\n",
       " -277.4376610338638)"
      ]
     },
     "execution_count": 16,
     "metadata": {},
     "output_type": "execute_result"
    }
   ],
   "source": [
    "# (7) 기울기를 구하는 gradient 함수 구현하기\n",
    "# 기울기를 계산하는 gradient 함수를 구현해주세요.\n",
    "\n",
    "def gradient(X, y):\n",
    "    y_pred = model_forward(X)\n",
    "    W_grad = 2*X.T.dot(y_pred - y) / len(y)\n",
    "    b_grad = np.mean(2*(y_pred-y))\n",
    "\n",
    "    return W_grad, b_grad\n",
    "\n",
    "gradient(X_test, y_test)"
   ]
  },
  {
   "cell_type": "code",
   "execution_count": 17,
   "metadata": {},
   "outputs": [],
   "source": [
    "# (8) 하이퍼 파라미터인 학습률 설정하기\n",
    "# 학습률, learning rate 를 설정해주세요\n",
    "# 만약 학습이 잘 되지 않는다면 learning rate 값을 한번 여러 가지로 설정하며 실험해 보세요.\n",
    "\n",
    "lr = 0.5"
   ]
  },
  {
   "cell_type": "code",
   "execution_count": 18,
   "metadata": {},
   "outputs": [
    {
     "name": "stdout",
     "output_type": "stream",
     "text": [
      "epoch (100) ===> loss : 3978.699397874098\n",
      "epoch (200) ===> loss : 3451.194434690152\n",
      "epoch (300) ===> loss : 3242.5742477258173\n",
      "epoch (400) ===> loss : 3131.648544488699\n",
      "epoch (500) ===> loss : 3065.1044400836363\n",
      "epoch (600) ===> loss : 3023.4545495366774\n",
      "epoch (700) ===> loss : 2996.8942638486387\n",
      "epoch (800) ===> loss : 2979.744563616237\n",
      "epoch (900) ===> loss : 2968.547244016317\n",
      "epoch (1000) ===> loss : 2961.15326490486\n",
      "epoch (1100) ===> loss : 2956.2114759292103\n",
      "epoch (1200) ===> loss : 2952.864639822877\n",
      "epoch (1300) ===> loss : 2950.5644075168843\n",
      "epoch (1400) ===> loss : 2948.957236350372\n",
      "epoch (1500) ===> loss : 2947.8133831043233\n",
      "epoch (1600) ===> loss : 2946.9823517377886\n",
      "epoch (1700) ===> loss : 2946.3647360872574\n",
      "epoch (1800) ===> loss : 2945.8943030772753\n",
      "epoch (1900) ===> loss : 2945.5265175192676\n",
      "epoch (2000) ===> loss : 2945.2311452062763\n",
      "epoch (2100) ===> loss : 2944.9874538402883\n",
      "epoch (2200) ===> loss : 2944.781078501161\n",
      "epoch (2300) ===> loss : 2944.6019598751964\n",
      "epoch (2400) ===> loss : 2944.4429779441084\n",
      "epoch (2500) ===> loss : 2944.299039304115\n",
      "epoch (2600) ===> loss : 2944.166462295933\n",
      "epoch (2700) ===> loss : 2944.042559005802\n",
      "epoch (2800) ===> loss : 2943.925348381285\n",
      "epoch (2900) ===> loss : 2943.8133573698333\n",
      "epoch (3000) ===> loss : 2943.7054816593673\n",
      "epoch (3100) ===> loss : 2943.6008871460085\n",
      "epoch (3200) ===> loss : 2943.498939499315\n",
      "epoch (3300) ===> loss : 2943.3991533054295\n",
      "epoch (3400) ===> loss : 2943.3011549909434\n",
      "epoch (3500) ===> loss : 2943.204655546235\n",
      "epoch (3600) ===> loss : 2943.1094302876763\n",
      "epoch (3700) ===> loss : 2943.01530372537\n",
      "epoch (3800) ===> loss : 2942.922138168717\n",
      "epoch (3900) ===> loss : 2942.8298250925063\n",
      "epoch (4000) ===> loss : 2942.738278558235\n",
      "epoch (4100) ===> loss : 2942.6474301768717\n",
      "epoch (4200) ===> loss : 2942.557225235365\n",
      "epoch (4300) ===> loss : 2942.46761970695\n",
      "epoch (4400) ===> loss : 2942.3785779361115\n",
      "epoch (4500) ===> loss : 2942.2900708409325\n",
      "epoch (4600) ===> loss : 2942.2020745137534\n",
      "epoch (4700) ===> loss : 2942.1145691295537\n",
      "epoch (4800) ===> loss : 2942.027538092753\n",
      "epoch (4900) ===> loss : 2941.940967369213\n",
      "epoch (5000) ===> loss : 2941.854844962428\n",
      "epoch (5100) ===> loss : 2941.769160502173\n",
      "epoch (5200) ===> loss : 2941.68390492102\n",
      "epoch (5300) ===> loss : 2941.599070199598\n",
      "epoch (5400) ===> loss : 2941.5146491657106\n",
      "epoch (5500) ===> loss : 2941.4306353356956\n",
      "epoch (5600) ===> loss : 2941.347022788949\n",
      "epoch (5700) ===> loss : 2941.263806068515\n",
      "epoch (5800) ===> loss : 2941.180980102167\n",
      "epoch (5900) ===> loss : 2941.098540139637\n",
      "epoch (6000) ===> loss : 2941.0164817025557\n",
      "epoch (6100) ===> loss : 2940.9348005444213\n",
      "epoch (6200) ===> loss : 2940.8534926184816\n",
      "epoch (6300) ===> loss : 2940.772554051868\n",
      "epoch (6400) ===> loss : 2940.6919811246776\n",
      "epoch (6500) ===> loss : 2940.611770252965\n",
      "epoch (6600) ===> loss : 2940.531917974839\n",
      "epoch (6700) ===> loss : 2940.4524209390224\n",
      "epoch (6800) ===> loss : 2940.3732758953743\n",
      "epoch (6900) ===> loss : 2940.2944796869633\n",
      "epoch (7000) ===> loss : 2940.216029243401\n",
      "epoch (7100) ===> loss : 2940.1379215751576\n",
      "epoch (7200) ===> loss : 2940.0601537686903\n",
      "epoch (7300) ===> loss : 2939.9827229822126\n",
      "epoch (7400) ===> loss : 2939.9056264419864\n",
      "epoch (7500) ===> loss : 2939.8288614390376\n",
      "epoch (7600) ===> loss : 2939.7524253262236\n",
      "epoch (7700) ===> loss : 2939.676315515582\n",
      "epoch (7800) ===> loss : 2939.6005294759166\n",
      "epoch (7900) ===> loss : 2939.5250647305843\n",
      "epoch (8000) ===> loss : 2939.4499188554446\n",
      "epoch (8100) ===> loss : 2939.3750894769514\n",
      "epoch (8200) ===> loss : 2939.3005742703704\n",
      "epoch (8300) ===> loss : 2939.2263709580916\n",
      "epoch (8400) ===> loss : 2939.152477308046\n",
      "epoch (8500) ===> loss : 2939.0788911321943\n",
      "epoch (8600) ===> loss : 2939.0056102850926\n",
      "epoch (8700) ===> loss : 2938.932632662521\n",
      "epoch (8800) ===> loss : 2938.8599562001727\n",
      "epoch (8900) ===> loss : 2938.787578872402\n",
      "epoch (9000) ===> loss : 2938.7154986910105\n",
      "epoch (9100) ===> loss : 2938.643713704096\n",
      "epoch (9200) ===> loss : 2938.572221994931\n",
      "epoch (9300) ===> loss : 2938.501021680891\n",
      "epoch (9400) ===> loss : 2938.4301109124194\n",
      "epoch (9500) ===> loss : 2938.3594878720264\n",
      "epoch (9600) ===> loss : 2938.2891507733284\n",
      "epoch (9700) ===> loss : 2938.2190978601134\n",
      "epoch (9800) ===> loss : 2938.149327405447\n",
      "epoch (9900) ===> loss : 2938.0798377108017\n",
      "epoch (10000) ===> loss : 2938.01062710522\n"
     ]
    }
   ],
   "source": [
    "# (9) 모델 학습하기\n",
    "# 정의된 손실함수와 기울기 함수로 모델을 학습해주세요.\n",
    "# loss값이 충분히 떨어질 때까지 학습을 진행해주세요.\n",
    "# 입력하는 데이터인 X에 들어가는 특성 컬럼들을 몇 개 빼도 괜찮습니다. 다양한 데이터로 실험해 보세요.\n",
    "loss_history = list()\n",
    "weight_history =  list()\n",
    "bias_history = list()\n",
    "\n",
    "epochs = 10000\n",
    "\n",
    "for epoch in range(epochs):\n",
    "    W_grad, b_grad = gradient(X_train, y_train)\n",
    "\n",
    "    W = W - lr*W_grad\n",
    "    b = b - lr*b_grad\n",
    "\n",
    "    loss = mse_loss(X_train, y_train)\n",
    "\n",
    "    loss_history.append(loss)\n",
    "    weight_history.append(W)\n",
    "    bias_history.append(b)\n",
    "\n",
    "    if ((epoch+1) % 100) == 0:\n",
    "        print(f'epoch ({epoch+1}) ===> loss : {loss}')"
   ]
  },
  {
   "cell_type": "code",
   "execution_count": 19,
   "metadata": {},
   "outputs": [
    {
     "data": {
      "text/plain": [
       "2670.6728519651747"
      ]
     },
     "execution_count": 19,
     "metadata": {},
     "output_type": "execute_result"
    }
   ],
   "source": [
    "# (10) test 데이터에 대한 성능 확인하기\n",
    "# test 데이터에 대한 성능을 확인해주세요.\n",
    "\n",
    "mse_loss(X_test, y_test)"
   ]
  },
  {
   "cell_type": "code",
   "execution_count": 20,
   "metadata": {},
   "outputs": [
    {
     "data": {
      "image/png": "[encoded data removed]",
      "text/plain": [
       "<Figure size 640x480 with 1 Axes>"
      ]
     },
     "metadata": {},
     "output_type": "display_data"
    }
   ],
   "source": [
    "# (11) 정답 데이터와 예측한 데이터 시각화하기\n",
    "# x축에는 X 데이터의 첫 번째 컬럼을, y축에는 정답인 target 데이터를 넣어서 모델이 예측한 데이터를 시각화해 주세요.\n",
    "import matplotlib.pyplot as plt\n",
    "\n",
    "y_pred = model_forward(X_test)\n",
    "\n",
    "plt.scatter(x=X_test[:, 0], y=y_test, label='y_true')\n",
    "plt.scatter(x=X_test[:, 0], y=y_pred, label='y_pred')\n",
    "\n",
    "plt.legend()\n",
    "plt.show()"
   ]
  },
  {
   "cell_type": "code",
   "execution_count": null,
   "metadata": {},
   "outputs": [],
   "source": []
  }
 ],
 "metadata": {
  "kernelspec": {
   "display_name": "base",
   "language": "python",
   "name": "python3"
  },
  "language_info": {
   "codemirror_mode": {
    "name": "ipython",
    "version": 3
   },
   "file_extension": ".py",
   "mimetype": "text/x-python",
   "name": "python",
   "nbconvert_exporter": "python",
   "pygments_lexer": "ipython3",
   "version": "3.11.5"
  }
 },
 "nbformat": 4,
 "nbformat_minor": 2
}
